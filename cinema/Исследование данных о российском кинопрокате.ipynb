{
 "cells": [
  {
   "cell_type": "markdown",
   "metadata": {
    "id": "sIfNaMOxgFyK"
   },
   "source": [
    "# Исследование данных о российском кинопрокате\n"
   ]
  },
  {
   "cell_type": "markdown",
   "metadata": {},
   "source": [
    "**Содержание исследования**\n",
    "1. [Первичное ознакомление с данными](#start)\n",
    "2. [Предобработка данных](#preprocessing)\n",
    "    * [Проверка типов данных](#type) \n",
    "    * [Обработка пропущенных значений](#null)\n",
    "    * [Обработка дубликатов](#duplicates)\n",
    "    * [Обработка категориальных значений](#category)\n",
    "    * [Проверка количественных значений](#number)\n",
    "    * [Создание новых столбцов](#column) \n",
    "3. [Анализ данных](#analyses)\n",
    "    * [Распределение данных по годам](#years)\n",
    "    * [Динамика проката данных по годам](#rental)\n",
    "    * [Возрастное ограничение аудитории и сборы в прокате](#age)\n",
    " \n",
    " 4. [Исследование фильмов, которые получили государственную поддержку](#goverment)\n",
    "     \n",
    " 5. [Общий вывод](#conclusion)"
   ]
  },
  {
   "cell_type": "markdown",
   "metadata": {
    "id": "3bSlkCsbgFyL"
   },
   "source": [
    "<a id=\"start\"></a> \n",
    "## Первичное ознакомление с данными. "
   ]
  },
  {
   "cell_type": "markdown",
   "metadata": {},
   "source": [
    "**Заказчик этого исследования — Министерство культуры Российской Федерации.**\n",
    "\n",
    "Нужно изучить рынок российского кинопроката и выявить текущие тренды. Уделить внимание фильмам, которые получили государственную поддержку и ответить на вопрос, насколько такие фильмы интересны зрителю. \n",
    "\n",
    "**Описание данных**\n",
    "\n",
    "**Таблица `mkrf_movies` содержит информацию из реестра прокатных удостоверений. У одного фильма может быть несколько прокатных удостоверений.**\n",
    "\n",
    "`title` — название фильма;\n",
    "\n",
    "`puNumber` — номер прокатного удостоверения;\n",
    "\n",
    "`show_start_date` — дата премьеры фильма;\n",
    "\n",
    "`type` — тип фильма;\n",
    "\n",
    "`film_studio` — студия-производитель;\n",
    "\n",
    "`production_country` — страна-производитель;\n",
    "\n",
    "`director` — режиссёр;\n",
    "\n",
    "`producer` — продюсер;\n",
    "\n",
    "`age_restriction` — возрастная категория;\n",
    "\n",
    "`refundable_support` — объём возвратных средств государственной поддержки;\n",
    "\n",
    "`nonrefundable_support` — объём невозвратных средств государственной поддержки;\n",
    "\n",
    "`financing_source` — источник государственного финансирования;\n",
    "\n",
    "`budget` — общий бюджет фильма;\n",
    "\n",
    "`ratings` — рейтинг фильма на КиноПоиске;\n",
    "\n",
    "`genres` — жанр фильма.\n",
    "Обратите внимание, что столбец budget уже включает в себя полный объём государственной поддержки. Данные в этом столбце указаны только для тех фильмов, которые получили государственную поддержку. \n",
    "\n",
    "\n",
    "**Таблица `mkrf_shows` содержит сведения о показах фильмов в российских кинотеатрах.**\n",
    "\n",
    "`uNumber` — номер прокатного удостоверения;\n",
    "\n",
    "`box_office` — сборы в рублях."
   ]
  },
  {
   "cell_type": "code",
   "execution_count": 1,
   "metadata": {
    "id": "dw87FlzMgFyM"
   },
   "outputs": [],
   "source": [
    "import pandas as pd\n",
    "import matplotlib.pyplot as plt\n",
    "import seaborn as sns\n",
    "import numpy as np"
   ]
  },
  {
   "cell_type": "code",
   "execution_count": 2,
   "metadata": {},
   "outputs": [],
   "source": [
    "mkrf_shows = pd.read_csv('/datasets/mkrf_shows.csv') #сохраняем в переменную mkrf_shows сведения о показах фильмов в российских кинотеатрах\n",
    "pd.options.display.float_format = '{:,.2f}'.format\n",
    "pd.set_option('display.max_columns', None)\n",
    "pd.options.mode.chained_assignment = None"
   ]
  },
  {
   "cell_type": "code",
   "execution_count": 3,
   "metadata": {},
   "outputs": [
    {
     "name": "stdout",
     "output_type": "stream",
     "text": [
      "<class 'pandas.core.frame.DataFrame'>\n",
      "RangeIndex: 7486 entries, 0 to 7485\n",
      "Data columns (total 15 columns):\n",
      " #   Column                 Non-Null Count  Dtype  \n",
      "---  ------                 --------------  -----  \n",
      " 0   title                  7486 non-null   object \n",
      " 1   puNumber               7486 non-null   object \n",
      " 2   show_start_date        7486 non-null   object \n",
      " 3   type                   7486 non-null   object \n",
      " 4   film_studio            7468 non-null   object \n",
      " 5   production_country     7484 non-null   object \n",
      " 6   director               7477 non-null   object \n",
      " 7   producer               6918 non-null   object \n",
      " 8   age_restriction        7486 non-null   object \n",
      " 9   refundable_support     332 non-null    float64\n",
      " 10  nonrefundable_support  332 non-null    float64\n",
      " 11  budget                 332 non-null    float64\n",
      " 12  financing_source       332 non-null    object \n",
      " 13  ratings                6519 non-null   object \n",
      " 14  genres                 6510 non-null   object \n",
      "dtypes: float64(3), object(12)\n",
      "memory usage: 877.4+ KB\n"
     ]
    },
    {
     "data": {
      "text/html": [
       "<div>\n",
       "<style scoped>\n",
       "    .dataframe tbody tr th:only-of-type {\n",
       "        vertical-align: middle;\n",
       "    }\n",
       "\n",
       "    .dataframe tbody tr th {\n",
       "        vertical-align: top;\n",
       "    }\n",
       "\n",
       "    .dataframe thead th {\n",
       "        text-align: right;\n",
       "    }\n",
       "</style>\n",
       "<table border=\"1\" class=\"dataframe\">\n",
       "  <thead>\n",
       "    <tr style=\"text-align: right;\">\n",
       "      <th></th>\n",
       "      <th>title</th>\n",
       "      <th>puNumber</th>\n",
       "      <th>show_start_date</th>\n",
       "      <th>type</th>\n",
       "      <th>film_studio</th>\n",
       "      <th>production_country</th>\n",
       "      <th>director</th>\n",
       "      <th>producer</th>\n",
       "      <th>age_restriction</th>\n",
       "      <th>refundable_support</th>\n",
       "      <th>nonrefundable_support</th>\n",
       "      <th>budget</th>\n",
       "      <th>financing_source</th>\n",
       "      <th>ratings</th>\n",
       "      <th>genres</th>\n",
       "    </tr>\n",
       "  </thead>\n",
       "  <tbody>\n",
       "    <tr>\n",
       "      <th>0</th>\n",
       "      <td>Открытый простор</td>\n",
       "      <td>221048915</td>\n",
       "      <td>2015-11-27T12:00:00.000Z</td>\n",
       "      <td>Художественный</td>\n",
       "      <td>Тачстоун Пикчерз, Кобальт Пикчерз, Бикон Пикче...</td>\n",
       "      <td>США</td>\n",
       "      <td>Кевин Костнер</td>\n",
       "      <td>Дэвид Валдес, Кевин Костнер, Джейк Эбертс</td>\n",
       "      <td>«18+» - запрещено для детей</td>\n",
       "      <td>NaN</td>\n",
       "      <td>NaN</td>\n",
       "      <td>NaN</td>\n",
       "      <td>NaN</td>\n",
       "      <td>7.2</td>\n",
       "      <td>боевик,драма,мелодрама</td>\n",
       "    </tr>\n",
       "    <tr>\n",
       "      <th>1</th>\n",
       "      <td>Особо важное задание</td>\n",
       "      <td>111013716</td>\n",
       "      <td>2016-09-13T12:00:00.000Z</td>\n",
       "      <td>Художественный</td>\n",
       "      <td>Киностудия \"Мосфильм\"</td>\n",
       "      <td>СССР</td>\n",
       "      <td>Е.Матвеев</td>\n",
       "      <td>NaN</td>\n",
       "      <td>«6+» - для детей старше 6 лет</td>\n",
       "      <td>NaN</td>\n",
       "      <td>NaN</td>\n",
       "      <td>NaN</td>\n",
       "      <td>NaN</td>\n",
       "      <td>6.6</td>\n",
       "      <td>драма,военный</td>\n",
       "    </tr>\n",
       "    <tr>\n",
       "      <th>2</th>\n",
       "      <td>Особо опасен</td>\n",
       "      <td>221038416</td>\n",
       "      <td>2016-10-10T12:00:00.000Z</td>\n",
       "      <td>Художественный</td>\n",
       "      <td>Юниверсал Пикчерз, Кикстарт Продакшнз, Марк Пл...</td>\n",
       "      <td>США</td>\n",
       "      <td>Тимур Бекмамбетов</td>\n",
       "      <td>Джим Лемли, Джейсон Нетер, Марк Е.Платт, Яйн Смит</td>\n",
       "      <td>«18+» - запрещено для детей</td>\n",
       "      <td>NaN</td>\n",
       "      <td>NaN</td>\n",
       "      <td>NaN</td>\n",
       "      <td>NaN</td>\n",
       "      <td>6.8</td>\n",
       "      <td>фантастика,боевик,триллер</td>\n",
       "    </tr>\n",
       "    <tr>\n",
       "      <th>3</th>\n",
       "      <td>Особо опасен</td>\n",
       "      <td>221026916</td>\n",
       "      <td>2016-06-10T12:00:00.000Z</td>\n",
       "      <td>Художественный</td>\n",
       "      <td>Юниверсал Пикчерз, Кикстарт Продакшнз, Марк Пл...</td>\n",
       "      <td>США</td>\n",
       "      <td>Тимур Бекмамбетов</td>\n",
       "      <td>Джим Лемли, Джейсон Нетер, Марк Е.Платт, Яйн Смит</td>\n",
       "      <td>«18+» - запрещено для детей</td>\n",
       "      <td>NaN</td>\n",
       "      <td>NaN</td>\n",
       "      <td>NaN</td>\n",
       "      <td>NaN</td>\n",
       "      <td>6.8</td>\n",
       "      <td>фантастика,боевик,триллер</td>\n",
       "    </tr>\n",
       "    <tr>\n",
       "      <th>4</th>\n",
       "      <td>Особо опасен</td>\n",
       "      <td>221030815</td>\n",
       "      <td>2015-07-29T12:00:00.000Z</td>\n",
       "      <td>Художественный</td>\n",
       "      <td>Юниверсал Пикчерз, Кикстарт Продакшнз, Марк Пл...</td>\n",
       "      <td>США</td>\n",
       "      <td>Тимур Бекмамбетов</td>\n",
       "      <td>Джим Лемли, Джейсон Нетер, Марк Е.Платт, Яйн Смит</td>\n",
       "      <td>«18+» - запрещено для детей</td>\n",
       "      <td>NaN</td>\n",
       "      <td>NaN</td>\n",
       "      <td>NaN</td>\n",
       "      <td>NaN</td>\n",
       "      <td>6.8</td>\n",
       "      <td>фантастика,боевик,триллер</td>\n",
       "    </tr>\n",
       "  </tbody>\n",
       "</table>\n",
       "</div>"
      ],
      "text/plain": [
       "                  title   puNumber           show_start_date            type  \\\n",
       "0      Открытый простор  221048915  2015-11-27T12:00:00.000Z  Художественный   \n",
       "1  Особо важное задание  111013716  2016-09-13T12:00:00.000Z  Художественный   \n",
       "2          Особо опасен  221038416  2016-10-10T12:00:00.000Z  Художественный   \n",
       "3          Особо опасен  221026916  2016-06-10T12:00:00.000Z  Художественный   \n",
       "4          Особо опасен  221030815  2015-07-29T12:00:00.000Z  Художественный   \n",
       "\n",
       "                                         film_studio production_country  \\\n",
       "0  Тачстоун Пикчерз, Кобальт Пикчерз, Бикон Пикче...                США   \n",
       "1                              Киностудия \"Мосфильм\"               СССР   \n",
       "2  Юниверсал Пикчерз, Кикстарт Продакшнз, Марк Пл...                США   \n",
       "3  Юниверсал Пикчерз, Кикстарт Продакшнз, Марк Пл...                США   \n",
       "4  Юниверсал Пикчерз, Кикстарт Продакшнз, Марк Пл...                США   \n",
       "\n",
       "            director                                           producer  \\\n",
       "0      Кевин Костнер          Дэвид Валдес, Кевин Костнер, Джейк Эбертс   \n",
       "1          Е.Матвеев                                                NaN   \n",
       "2  Тимур Бекмамбетов  Джим Лемли, Джейсон Нетер, Марк Е.Платт, Яйн Смит   \n",
       "3  Тимур Бекмамбетов  Джим Лемли, Джейсон Нетер, Марк Е.Платт, Яйн Смит   \n",
       "4  Тимур Бекмамбетов  Джим Лемли, Джейсон Нетер, Марк Е.Платт, Яйн Смит   \n",
       "\n",
       "                 age_restriction  refundable_support  nonrefundable_support  \\\n",
       "0    «18+» - запрещено для детей                 NaN                    NaN   \n",
       "1  «6+» - для детей старше 6 лет                 NaN                    NaN   \n",
       "2    «18+» - запрещено для детей                 NaN                    NaN   \n",
       "3    «18+» - запрещено для детей                 NaN                    NaN   \n",
       "4    «18+» - запрещено для детей                 NaN                    NaN   \n",
       "\n",
       "   budget financing_source ratings                     genres  \n",
       "0     NaN              NaN     7.2     боевик,драма,мелодрама  \n",
       "1     NaN              NaN     6.6              драма,военный  \n",
       "2     NaN              NaN     6.8  фантастика,боевик,триллер  \n",
       "3     NaN              NaN     6.8  фантастика,боевик,триллер  \n",
       "4     NaN              NaN     6.8  фантастика,боевик,триллер  "
      ]
     },
     "execution_count": 3,
     "metadata": {},
     "output_type": "execute_result"
    }
   ],
   "source": [
    "mkrf_movies.info()\n",
    "mkrf_movies.head()"
   ]
  },
  {
   "cell_type": "code",
   "execution_count": 4,
   "metadata": {},
   "outputs": [
    {
     "name": "stdout",
     "output_type": "stream",
     "text": [
      "<class 'pandas.core.frame.DataFrame'>\n",
      "RangeIndex: 3158 entries, 0 to 3157\n",
      "Data columns (total 2 columns):\n",
      " #   Column      Non-Null Count  Dtype  \n",
      "---  ------      --------------  -----  \n",
      " 0   puNumber    3158 non-null   int64  \n",
      " 1   box_office  3158 non-null   float64\n",
      "dtypes: float64(1), int64(1)\n",
      "memory usage: 49.5 KB\n"
     ]
    },
    {
     "data": {
      "text/html": [
       "<div>\n",
       "<style scoped>\n",
       "    .dataframe tbody tr th:only-of-type {\n",
       "        vertical-align: middle;\n",
       "    }\n",
       "\n",
       "    .dataframe tbody tr th {\n",
       "        vertical-align: top;\n",
       "    }\n",
       "\n",
       "    .dataframe thead th {\n",
       "        text-align: right;\n",
       "    }\n",
       "</style>\n",
       "<table border=\"1\" class=\"dataframe\">\n",
       "  <thead>\n",
       "    <tr style=\"text-align: right;\">\n",
       "      <th></th>\n",
       "      <th>puNumber</th>\n",
       "      <th>box_office</th>\n",
       "    </tr>\n",
       "  </thead>\n",
       "  <tbody>\n",
       "    <tr>\n",
       "      <th>0</th>\n",
       "      <td>111000113</td>\n",
       "      <td>2,450.00</td>\n",
       "    </tr>\n",
       "    <tr>\n",
       "      <th>1</th>\n",
       "      <td>111000115</td>\n",
       "      <td>61,040.00</td>\n",
       "    </tr>\n",
       "    <tr>\n",
       "      <th>2</th>\n",
       "      <td>111000116</td>\n",
       "      <td>153,030,013.40</td>\n",
       "    </tr>\n",
       "    <tr>\n",
       "      <th>3</th>\n",
       "      <td>111000117</td>\n",
       "      <td>12,260,956.00</td>\n",
       "    </tr>\n",
       "    <tr>\n",
       "      <th>4</th>\n",
       "      <td>111000118</td>\n",
       "      <td>163,684,057.79</td>\n",
       "    </tr>\n",
       "  </tbody>\n",
       "</table>\n",
       "</div>"
      ],
      "text/plain": [
       "    puNumber     box_office\n",
       "0  111000113       2,450.00\n",
       "1  111000115      61,040.00\n",
       "2  111000116 153,030,013.40\n",
       "3  111000117  12,260,956.00\n",
       "4  111000118 163,684,057.79"
      ]
     },
     "execution_count": 4,
     "metadata": {},
     "output_type": "execute_result"
    }
   ],
   "source": [
    "mkrf_shows.info()\n",
    "mkrf_shows.head()"
   ]
  },
  {
   "cell_type": "code",
   "execution_count": 5,
   "metadata": {},
   "outputs": [
    {
     "name": "stdout",
     "output_type": "stream",
     "text": [
      "1797    нет\n",
      "Name: puNumber, dtype: object\n"
     ]
    }
   ],
   "source": [
    "# В таблице mkrf_movies есть нечисловые значения в столбце ['pu_number']. Найдём их и удалим\n",
    "non_numeric_pu_numbers = mkrf_movies['puNumber'].apply(pd.to_numeric, errors='coerce').isna()\n",
    "filtered_mkrf_movies = mkrf_movies[non_numeric_pu_numbers]\n",
    "\n",
    "print(filtered_mkrf_movies['puNumber'])"
   ]
  },
  {
   "cell_type": "code",
   "execution_count": 6,
   "metadata": {},
   "outputs": [],
   "source": [
    "mkrf_movies.drop(mkrf_movies[mkrf_movies['puNumber'] == 'нет'].index, inplace=True)"
   ]
  },
  {
   "cell_type": "code",
   "execution_count": 7,
   "metadata": {},
   "outputs": [],
   "source": [
    "mkrf_movies['puNumber'] = mkrf_movies['puNumber'].astype(int) # превращаем тип данных в целые значения для того, чтобы соединить таблицы"
   ]
  },
  {
   "cell_type": "code",
   "execution_count": 8,
   "metadata": {},
   "outputs": [
    {
     "name": "stdout",
     "output_type": "stream",
     "text": [
      "<class 'pandas.core.frame.DataFrame'>\n",
      "Int64Index: 7485 entries, 0 to 7484\n",
      "Data columns (total 16 columns):\n",
      " #   Column                 Non-Null Count  Dtype  \n",
      "---  ------                 --------------  -----  \n",
      " 0   title                  7485 non-null   object \n",
      " 1   puNumber               7485 non-null   int64  \n",
      " 2   show_start_date        7485 non-null   object \n",
      " 3   type                   7485 non-null   object \n",
      " 4   film_studio            7467 non-null   object \n",
      " 5   production_country     7483 non-null   object \n",
      " 6   director               7476 non-null   object \n",
      " 7   producer               6917 non-null   object \n",
      " 8   age_restriction        7485 non-null   object \n",
      " 9   refundable_support     332 non-null    float64\n",
      " 10  nonrefundable_support  332 non-null    float64\n",
      " 11  budget                 332 non-null    float64\n",
      " 12  financing_source       332 non-null    object \n",
      " 13  ratings                6519 non-null   object \n",
      " 14  genres                 6510 non-null   object \n",
      " 15  box_office             3158 non-null   float64\n",
      "dtypes: float64(4), int64(1), object(11)\n",
      "memory usage: 994.1+ KB\n"
     ]
    },
    {
     "data": {
      "text/html": [
       "<div>\n",
       "<style scoped>\n",
       "    .dataframe tbody tr th:only-of-type {\n",
       "        vertical-align: middle;\n",
       "    }\n",
       "\n",
       "    .dataframe tbody tr th {\n",
       "        vertical-align: top;\n",
       "    }\n",
       "\n",
       "    .dataframe thead th {\n",
       "        text-align: right;\n",
       "    }\n",
       "</style>\n",
       "<table border=\"1\" class=\"dataframe\">\n",
       "  <thead>\n",
       "    <tr style=\"text-align: right;\">\n",
       "      <th></th>\n",
       "      <th>title</th>\n",
       "      <th>puNumber</th>\n",
       "      <th>show_start_date</th>\n",
       "      <th>type</th>\n",
       "      <th>film_studio</th>\n",
       "      <th>production_country</th>\n",
       "      <th>director</th>\n",
       "      <th>producer</th>\n",
       "      <th>age_restriction</th>\n",
       "      <th>refundable_support</th>\n",
       "      <th>nonrefundable_support</th>\n",
       "      <th>budget</th>\n",
       "      <th>financing_source</th>\n",
       "      <th>ratings</th>\n",
       "      <th>genres</th>\n",
       "      <th>box_office</th>\n",
       "    </tr>\n",
       "  </thead>\n",
       "  <tbody>\n",
       "    <tr>\n",
       "      <th>0</th>\n",
       "      <td>Открытый простор</td>\n",
       "      <td>221048915</td>\n",
       "      <td>2015-11-27T12:00:00.000Z</td>\n",
       "      <td>Художественный</td>\n",
       "      <td>Тачстоун Пикчерз, Кобальт Пикчерз, Бикон Пикче...</td>\n",
       "      <td>США</td>\n",
       "      <td>Кевин Костнер</td>\n",
       "      <td>Дэвид Валдес, Кевин Костнер, Джейк Эбертс</td>\n",
       "      <td>«18+» - запрещено для детей</td>\n",
       "      <td>NaN</td>\n",
       "      <td>NaN</td>\n",
       "      <td>NaN</td>\n",
       "      <td>NaN</td>\n",
       "      <td>7.2</td>\n",
       "      <td>боевик,драма,мелодрама</td>\n",
       "      <td>NaN</td>\n",
       "    </tr>\n",
       "    <tr>\n",
       "      <th>1</th>\n",
       "      <td>Особо важное задание</td>\n",
       "      <td>111013716</td>\n",
       "      <td>2016-09-13T12:00:00.000Z</td>\n",
       "      <td>Художественный</td>\n",
       "      <td>Киностудия \"Мосфильм\"</td>\n",
       "      <td>СССР</td>\n",
       "      <td>Е.Матвеев</td>\n",
       "      <td>NaN</td>\n",
       "      <td>«6+» - для детей старше 6 лет</td>\n",
       "      <td>NaN</td>\n",
       "      <td>NaN</td>\n",
       "      <td>NaN</td>\n",
       "      <td>NaN</td>\n",
       "      <td>6.6</td>\n",
       "      <td>драма,военный</td>\n",
       "      <td>NaN</td>\n",
       "    </tr>\n",
       "    <tr>\n",
       "      <th>2</th>\n",
       "      <td>Особо опасен</td>\n",
       "      <td>221038416</td>\n",
       "      <td>2016-10-10T12:00:00.000Z</td>\n",
       "      <td>Художественный</td>\n",
       "      <td>Юниверсал Пикчерз, Кикстарт Продакшнз, Марк Пл...</td>\n",
       "      <td>США</td>\n",
       "      <td>Тимур Бекмамбетов</td>\n",
       "      <td>Джим Лемли, Джейсон Нетер, Марк Е.Платт, Яйн Смит</td>\n",
       "      <td>«18+» - запрещено для детей</td>\n",
       "      <td>NaN</td>\n",
       "      <td>NaN</td>\n",
       "      <td>NaN</td>\n",
       "      <td>NaN</td>\n",
       "      <td>6.8</td>\n",
       "      <td>фантастика,боевик,триллер</td>\n",
       "      <td>NaN</td>\n",
       "    </tr>\n",
       "    <tr>\n",
       "      <th>3</th>\n",
       "      <td>Особо опасен</td>\n",
       "      <td>221026916</td>\n",
       "      <td>2016-06-10T12:00:00.000Z</td>\n",
       "      <td>Художественный</td>\n",
       "      <td>Юниверсал Пикчерз, Кикстарт Продакшнз, Марк Пл...</td>\n",
       "      <td>США</td>\n",
       "      <td>Тимур Бекмамбетов</td>\n",
       "      <td>Джим Лемли, Джейсон Нетер, Марк Е.Платт, Яйн Смит</td>\n",
       "      <td>«18+» - запрещено для детей</td>\n",
       "      <td>NaN</td>\n",
       "      <td>NaN</td>\n",
       "      <td>NaN</td>\n",
       "      <td>NaN</td>\n",
       "      <td>6.8</td>\n",
       "      <td>фантастика,боевик,триллер</td>\n",
       "      <td>NaN</td>\n",
       "    </tr>\n",
       "    <tr>\n",
       "      <th>4</th>\n",
       "      <td>Особо опасен</td>\n",
       "      <td>221030815</td>\n",
       "      <td>2015-07-29T12:00:00.000Z</td>\n",
       "      <td>Художественный</td>\n",
       "      <td>Юниверсал Пикчерз, Кикстарт Продакшнз, Марк Пл...</td>\n",
       "      <td>США</td>\n",
       "      <td>Тимур Бекмамбетов</td>\n",
       "      <td>Джим Лемли, Джейсон Нетер, Марк Е.Платт, Яйн Смит</td>\n",
       "      <td>«18+» - запрещено для детей</td>\n",
       "      <td>NaN</td>\n",
       "      <td>NaN</td>\n",
       "      <td>NaN</td>\n",
       "      <td>NaN</td>\n",
       "      <td>6.8</td>\n",
       "      <td>фантастика,боевик,триллер</td>\n",
       "      <td>NaN</td>\n",
       "    </tr>\n",
       "  </tbody>\n",
       "</table>\n",
       "</div>"
      ],
      "text/plain": [
       "                  title   puNumber           show_start_date            type  \\\n",
       "0      Открытый простор  221048915  2015-11-27T12:00:00.000Z  Художественный   \n",
       "1  Особо важное задание  111013716  2016-09-13T12:00:00.000Z  Художественный   \n",
       "2          Особо опасен  221038416  2016-10-10T12:00:00.000Z  Художественный   \n",
       "3          Особо опасен  221026916  2016-06-10T12:00:00.000Z  Художественный   \n",
       "4          Особо опасен  221030815  2015-07-29T12:00:00.000Z  Художественный   \n",
       "\n",
       "                                         film_studio production_country  \\\n",
       "0  Тачстоун Пикчерз, Кобальт Пикчерз, Бикон Пикче...                США   \n",
       "1                              Киностудия \"Мосфильм\"               СССР   \n",
       "2  Юниверсал Пикчерз, Кикстарт Продакшнз, Марк Пл...                США   \n",
       "3  Юниверсал Пикчерз, Кикстарт Продакшнз, Марк Пл...                США   \n",
       "4  Юниверсал Пикчерз, Кикстарт Продакшнз, Марк Пл...                США   \n",
       "\n",
       "            director                                           producer  \\\n",
       "0      Кевин Костнер          Дэвид Валдес, Кевин Костнер, Джейк Эбертс   \n",
       "1          Е.Матвеев                                                NaN   \n",
       "2  Тимур Бекмамбетов  Джим Лемли, Джейсон Нетер, Марк Е.Платт, Яйн Смит   \n",
       "3  Тимур Бекмамбетов  Джим Лемли, Джейсон Нетер, Марк Е.Платт, Яйн Смит   \n",
       "4  Тимур Бекмамбетов  Джим Лемли, Джейсон Нетер, Марк Е.Платт, Яйн Смит   \n",
       "\n",
       "                 age_restriction  refundable_support  nonrefundable_support  \\\n",
       "0    «18+» - запрещено для детей                 NaN                    NaN   \n",
       "1  «6+» - для детей старше 6 лет                 NaN                    NaN   \n",
       "2    «18+» - запрещено для детей                 NaN                    NaN   \n",
       "3    «18+» - запрещено для детей                 NaN                    NaN   \n",
       "4    «18+» - запрещено для детей                 NaN                    NaN   \n",
       "\n",
       "   budget financing_source ratings                     genres  box_office  \n",
       "0     NaN              NaN     7.2     боевик,драма,мелодрама         NaN  \n",
       "1     NaN              NaN     6.6              драма,военный         NaN  \n",
       "2     NaN              NaN     6.8  фантастика,боевик,триллер         NaN  \n",
       "3     NaN              NaN     6.8  фантастика,боевик,триллер         NaN  \n",
       "4     NaN              NaN     6.8  фантастика,боевик,триллер         NaN  "
      ]
     },
     "execution_count": 8,
     "metadata": {},
     "output_type": "execute_result"
    }
   ],
   "source": [
    "#объединим данные в один датафрейм\n",
    "movies = mkrf_movies.merge(mkrf_shows, on='puNumber', how='outer')\n",
    "movies.info()\n",
    "movies.head()"
   ]
  },
  {
   "cell_type": "code",
   "execution_count": 9,
   "metadata": {},
   "outputs": [],
   "source": [
    "movies.rename(columns={'puNumber': 'pu_number'}, inplace=True) #переименуем столбец, приведя его к змеиному регистру"
   ]
  },
  {
   "cell_type": "markdown",
   "metadata": {
    "id": "KLDGpPG0gFyM"
   },
   "source": [
    "<a id=\"preprocessing\"></a> \n",
    "## Шаг. Предобработка данных"
   ]
  },
  {
   "cell_type": "markdown",
   "metadata": {
    "id": "ssWwKXsxgFyO"
   },
   "source": [
    "<a id=\"type\"></a> \n",
    "### Проверка типов данных"
   ]
  },
  {
   "cell_type": "code",
   "execution_count": 10,
   "metadata": {
    "id": "kVGSplJOgFyO"
   },
   "outputs": [
    {
     "name": "stdout",
     "output_type": "stream",
     "text": [
      "<class 'pandas.core.frame.DataFrame'>\n",
      "Int64Index: 7485 entries, 0 to 7484\n",
      "Data columns (total 16 columns):\n",
      " #   Column                 Non-Null Count  Dtype              \n",
      "---  ------                 --------------  -----              \n",
      " 0   title                  7485 non-null   object             \n",
      " 1   pu_number              7485 non-null   int64              \n",
      " 2   show_start_date        7485 non-null   datetime64[ns, UTC]\n",
      " 3   type                   7485 non-null   object             \n",
      " 4   film_studio            7467 non-null   object             \n",
      " 5   production_country     7483 non-null   object             \n",
      " 6   director               7476 non-null   object             \n",
      " 7   producer               6917 non-null   object             \n",
      " 8   age_restriction        7485 non-null   object             \n",
      " 9   refundable_support     332 non-null    float64            \n",
      " 10  nonrefundable_support  332 non-null    float64            \n",
      " 11  budget                 332 non-null    float64            \n",
      " 12  financing_source       332 non-null    object             \n",
      " 13  ratings                6519 non-null   object             \n",
      " 14  genres                 6510 non-null   object             \n",
      " 15  box_office             3158 non-null   float64            \n",
      "dtypes: datetime64[ns, UTC](1), float64(4), int64(1), object(10)\n",
      "memory usage: 994.1+ KB\n"
     ]
    },
    {
     "data": {
      "text/html": [
       "<div>\n",
       "<style scoped>\n",
       "    .dataframe tbody tr th:only-of-type {\n",
       "        vertical-align: middle;\n",
       "    }\n",
       "\n",
       "    .dataframe tbody tr th {\n",
       "        vertical-align: top;\n",
       "    }\n",
       "\n",
       "    .dataframe thead th {\n",
       "        text-align: right;\n",
       "    }\n",
       "</style>\n",
       "<table border=\"1\" class=\"dataframe\">\n",
       "  <thead>\n",
       "    <tr style=\"text-align: right;\">\n",
       "      <th></th>\n",
       "      <th>title</th>\n",
       "      <th>pu_number</th>\n",
       "      <th>show_start_date</th>\n",
       "      <th>type</th>\n",
       "      <th>film_studio</th>\n",
       "      <th>production_country</th>\n",
       "      <th>director</th>\n",
       "      <th>producer</th>\n",
       "      <th>age_restriction</th>\n",
       "      <th>refundable_support</th>\n",
       "      <th>nonrefundable_support</th>\n",
       "      <th>budget</th>\n",
       "      <th>financing_source</th>\n",
       "      <th>ratings</th>\n",
       "      <th>genres</th>\n",
       "      <th>box_office</th>\n",
       "    </tr>\n",
       "  </thead>\n",
       "  <tbody>\n",
       "    <tr>\n",
       "      <th>0</th>\n",
       "      <td>Открытый простор</td>\n",
       "      <td>221048915</td>\n",
       "      <td>2015-11-27 12:00:00+00:00</td>\n",
       "      <td>Художественный</td>\n",
       "      <td>Тачстоун Пикчерз, Кобальт Пикчерз, Бикон Пикче...</td>\n",
       "      <td>США</td>\n",
       "      <td>Кевин Костнер</td>\n",
       "      <td>Дэвид Валдес, Кевин Костнер, Джейк Эбертс</td>\n",
       "      <td>«18+» - запрещено для детей</td>\n",
       "      <td>NaN</td>\n",
       "      <td>NaN</td>\n",
       "      <td>NaN</td>\n",
       "      <td>NaN</td>\n",
       "      <td>7.2</td>\n",
       "      <td>боевик,драма,мелодрама</td>\n",
       "      <td>NaN</td>\n",
       "    </tr>\n",
       "    <tr>\n",
       "      <th>1</th>\n",
       "      <td>Особо важное задание</td>\n",
       "      <td>111013716</td>\n",
       "      <td>2016-09-13 12:00:00+00:00</td>\n",
       "      <td>Художественный</td>\n",
       "      <td>Киностудия \"Мосфильм\"</td>\n",
       "      <td>СССР</td>\n",
       "      <td>Е.Матвеев</td>\n",
       "      <td>NaN</td>\n",
       "      <td>«6+» - для детей старше 6 лет</td>\n",
       "      <td>NaN</td>\n",
       "      <td>NaN</td>\n",
       "      <td>NaN</td>\n",
       "      <td>NaN</td>\n",
       "      <td>6.6</td>\n",
       "      <td>драма,военный</td>\n",
       "      <td>NaN</td>\n",
       "    </tr>\n",
       "    <tr>\n",
       "      <th>2</th>\n",
       "      <td>Особо опасен</td>\n",
       "      <td>221038416</td>\n",
       "      <td>2016-10-10 12:00:00+00:00</td>\n",
       "      <td>Художественный</td>\n",
       "      <td>Юниверсал Пикчерз, Кикстарт Продакшнз, Марк Пл...</td>\n",
       "      <td>США</td>\n",
       "      <td>Тимур Бекмамбетов</td>\n",
       "      <td>Джим Лемли, Джейсон Нетер, Марк Е.Платт, Яйн Смит</td>\n",
       "      <td>«18+» - запрещено для детей</td>\n",
       "      <td>NaN</td>\n",
       "      <td>NaN</td>\n",
       "      <td>NaN</td>\n",
       "      <td>NaN</td>\n",
       "      <td>6.8</td>\n",
       "      <td>фантастика,боевик,триллер</td>\n",
       "      <td>NaN</td>\n",
       "    </tr>\n",
       "    <tr>\n",
       "      <th>3</th>\n",
       "      <td>Особо опасен</td>\n",
       "      <td>221026916</td>\n",
       "      <td>2016-06-10 12:00:00+00:00</td>\n",
       "      <td>Художественный</td>\n",
       "      <td>Юниверсал Пикчерз, Кикстарт Продакшнз, Марк Пл...</td>\n",
       "      <td>США</td>\n",
       "      <td>Тимур Бекмамбетов</td>\n",
       "      <td>Джим Лемли, Джейсон Нетер, Марк Е.Платт, Яйн Смит</td>\n",
       "      <td>«18+» - запрещено для детей</td>\n",
       "      <td>NaN</td>\n",
       "      <td>NaN</td>\n",
       "      <td>NaN</td>\n",
       "      <td>NaN</td>\n",
       "      <td>6.8</td>\n",
       "      <td>фантастика,боевик,триллер</td>\n",
       "      <td>NaN</td>\n",
       "    </tr>\n",
       "    <tr>\n",
       "      <th>4</th>\n",
       "      <td>Особо опасен</td>\n",
       "      <td>221030815</td>\n",
       "      <td>2015-07-29 12:00:00+00:00</td>\n",
       "      <td>Художественный</td>\n",
       "      <td>Юниверсал Пикчерз, Кикстарт Продакшнз, Марк Пл...</td>\n",
       "      <td>США</td>\n",
       "      <td>Тимур Бекмамбетов</td>\n",
       "      <td>Джим Лемли, Джейсон Нетер, Марк Е.Платт, Яйн Смит</td>\n",
       "      <td>«18+» - запрещено для детей</td>\n",
       "      <td>NaN</td>\n",
       "      <td>NaN</td>\n",
       "      <td>NaN</td>\n",
       "      <td>NaN</td>\n",
       "      <td>6.8</td>\n",
       "      <td>фантастика,боевик,триллер</td>\n",
       "      <td>NaN</td>\n",
       "    </tr>\n",
       "  </tbody>\n",
       "</table>\n",
       "</div>"
      ],
      "text/plain": [
       "                  title  pu_number           show_start_date            type  \\\n",
       "0      Открытый простор  221048915 2015-11-27 12:00:00+00:00  Художественный   \n",
       "1  Особо важное задание  111013716 2016-09-13 12:00:00+00:00  Художественный   \n",
       "2          Особо опасен  221038416 2016-10-10 12:00:00+00:00  Художественный   \n",
       "3          Особо опасен  221026916 2016-06-10 12:00:00+00:00  Художественный   \n",
       "4          Особо опасен  221030815 2015-07-29 12:00:00+00:00  Художественный   \n",
       "\n",
       "                                         film_studio production_country  \\\n",
       "0  Тачстоун Пикчерз, Кобальт Пикчерз, Бикон Пикче...                США   \n",
       "1                              Киностудия \"Мосфильм\"               СССР   \n",
       "2  Юниверсал Пикчерз, Кикстарт Продакшнз, Марк Пл...                США   \n",
       "3  Юниверсал Пикчерз, Кикстарт Продакшнз, Марк Пл...                США   \n",
       "4  Юниверсал Пикчерз, Кикстарт Продакшнз, Марк Пл...                США   \n",
       "\n",
       "            director                                           producer  \\\n",
       "0      Кевин Костнер          Дэвид Валдес, Кевин Костнер, Джейк Эбертс   \n",
       "1          Е.Матвеев                                                NaN   \n",
       "2  Тимур Бекмамбетов  Джим Лемли, Джейсон Нетер, Марк Е.Платт, Яйн Смит   \n",
       "3  Тимур Бекмамбетов  Джим Лемли, Джейсон Нетер, Марк Е.Платт, Яйн Смит   \n",
       "4  Тимур Бекмамбетов  Джим Лемли, Джейсон Нетер, Марк Е.Платт, Яйн Смит   \n",
       "\n",
       "                 age_restriction  refundable_support  nonrefundable_support  \\\n",
       "0    «18+» - запрещено для детей                 NaN                    NaN   \n",
       "1  «6+» - для детей старше 6 лет                 NaN                    NaN   \n",
       "2    «18+» - запрещено для детей                 NaN                    NaN   \n",
       "3    «18+» - запрещено для детей                 NaN                    NaN   \n",
       "4    «18+» - запрещено для детей                 NaN                    NaN   \n",
       "\n",
       "   budget financing_source ratings                     genres  box_office  \n",
       "0     NaN              NaN     7.2     боевик,драма,мелодрама         NaN  \n",
       "1     NaN              NaN     6.6              драма,военный         NaN  \n",
       "2     NaN              NaN     6.8  фантастика,боевик,триллер         NaN  \n",
       "3     NaN              NaN     6.8  фантастика,боевик,триллер         NaN  \n",
       "4     NaN              NaN     6.8  фантастика,боевик,триллер         NaN  "
      ]
     },
     "execution_count": 10,
     "metadata": {},
     "output_type": "execute_result"
    }
   ],
   "source": [
    "#Преобразуем столбец show_start_date из float64 в datetime64[\n",
    "movies['show_start_date'] = pd.to_datetime(movies['show_start_date'], format='%Y-%m-%d') \n",
    "movies.info()\n",
    "movies.head()"
   ]
  },
  {
   "cell_type": "code",
   "execution_count": 11,
   "metadata": {},
   "outputs": [
    {
     "name": "stdout",
     "output_type": "stream",
     "text": [
      "259     99%\n",
      "811     28%\n",
      "1053    97%\n",
      "1341    99%\n",
      "1804    99%\n",
      "1873    83%\n",
      "1898    64%\n",
      "2125    91%\n",
      "2145    94%\n",
      "2437    62%\n",
      "2679    79%\n",
      "3138    90%\n",
      "3430    19%\n",
      "3438    88%\n",
      "3445    83%\n",
      "3513    91%\n",
      "3584    97%\n",
      "3785    89%\n",
      "3947    97%\n",
      "5331    88%\n",
      "5454    83%\n",
      "5820    94%\n",
      "5909    94%\n",
      "6425    91%\n",
      "6615    98%\n",
      "6736    98%\n",
      "6881    99%\n",
      "7158    79%\n",
      "7276    88%\n",
      "Name: ratings, dtype: object\n"
     ]
    }
   ],
   "source": [
    "# Попытка преобразования значений столбца 'ratings' в числовой формат\n",
    "numeric_ratings = pd.to_numeric(movies['ratings'], errors='coerce')\n",
    "\n",
    "# Выбор только тех значений, которые не удалось преобразовать в числа\n",
    "non_numeric_ratings = movies.loc[numeric_ratings.isna() & movies['ratings'].notna(), 'ratings']\n",
    "\n",
    "# Вывод нечисловых значений из столбца 'ratings'\n",
    "print(non_numeric_ratings)"
   ]
  },
  {
   "cell_type": "code",
   "execution_count": 12,
   "metadata": {},
   "outputs": [
    {
     "name": "stdout",
     "output_type": "stream",
     "text": [
      "0       7.2\n",
      "1       6.6\n",
      "2       6.8\n",
      "3       6.8\n",
      "4       6.8\n",
      "       ... \n",
      "7480    NaN\n",
      "7481    5.4\n",
      "7482    NaN\n",
      "7483    NaN\n",
      "7484    6.3\n",
      "Name: ratings, Length: 7485, dtype: object\n"
     ]
    }
   ],
   "source": [
    "# Создаем маску для ячеек, содержащих проценты\n",
    "mask = movies['ratings'].str.contains('%', na=False)\n",
    "\n",
    "# Удаляем проценты из значений столбца 'ratings' и преобразуем их в числа\n",
    "movies.loc[mask, 'ratings'] = movies.loc[mask, 'ratings'].str.replace('%', '').astype(float) / 10\n",
    "\n",
    "# Выводим обновленные значения столбца 'ratings'\n",
    "print(movies['ratings'])"
   ]
  },
  {
   "cell_type": "code",
   "execution_count": 13,
   "metadata": {},
   "outputs": [
    {
     "name": "stdout",
     "output_type": "stream",
     "text": [
      "<class 'pandas.core.frame.DataFrame'>\n",
      "Int64Index: 7485 entries, 0 to 7484\n",
      "Data columns (total 16 columns):\n",
      " #   Column                 Non-Null Count  Dtype              \n",
      "---  ------                 --------------  -----              \n",
      " 0   title                  7485 non-null   object             \n",
      " 1   pu_number              7485 non-null   int64              \n",
      " 2   show_start_date        7485 non-null   datetime64[ns, UTC]\n",
      " 3   type                   7485 non-null   object             \n",
      " 4   film_studio            7467 non-null   object             \n",
      " 5   production_country     7483 non-null   object             \n",
      " 6   director               7476 non-null   object             \n",
      " 7   producer               6917 non-null   object             \n",
      " 8   age_restriction        7485 non-null   object             \n",
      " 9   refundable_support     332 non-null    float64            \n",
      " 10  nonrefundable_support  332 non-null    float64            \n",
      " 11  budget                 332 non-null    float64            \n",
      " 12  financing_source       332 non-null    object             \n",
      " 13  ratings                6519 non-null   float64            \n",
      " 14  genres                 6510 non-null   object             \n",
      " 15  box_office             3158 non-null   float64            \n",
      "dtypes: datetime64[ns, UTC](1), float64(5), int64(1), object(9)\n",
      "memory usage: 994.1+ KB\n"
     ]
    }
   ],
   "source": [
    "movies['ratings'] = movies['ratings'].astype(float) # превращаем тип данных в числовые значения\n",
    "movies.info()"
   ]
  },
  {
   "cell_type": "markdown",
   "metadata": {
    "id": "i0MOLbF-gFyP"
   },
   "source": [
    "<a id=\"null\"></a> \n",
    "### Обработка пропущенных значений \n",
    "\n",
    "В таблице `movies` есть пропуски столбцах `film_studio`,  `production_country`(2), `director`, `producer`, `refundable_support`, `nonrefundable_support`,`budget`, `financing_source`, `ratings`, `genres`,`box_office` \n",
    "\n",
    "2 пропуска в столбце `production_country` можно заменить вручную данными из интернета"
   ]
  },
  {
   "cell_type": "code",
   "execution_count": 14,
   "metadata": {
    "id": "8MJD_lkngFyP"
   },
   "outputs": [
    {
     "data": {
      "text/html": [
       "<div>\n",
       "<style scoped>\n",
       "    .dataframe tbody tr th:only-of-type {\n",
       "        vertical-align: middle;\n",
       "    }\n",
       "\n",
       "    .dataframe tbody tr th {\n",
       "        vertical-align: top;\n",
       "    }\n",
       "\n",
       "    .dataframe thead th {\n",
       "        text-align: right;\n",
       "    }\n",
       "</style>\n",
       "<table border=\"1\" class=\"dataframe\">\n",
       "  <thead>\n",
       "    <tr style=\"text-align: right;\">\n",
       "      <th></th>\n",
       "      <th>title</th>\n",
       "      <th>pu_number</th>\n",
       "      <th>show_start_date</th>\n",
       "      <th>type</th>\n",
       "      <th>film_studio</th>\n",
       "      <th>production_country</th>\n",
       "      <th>director</th>\n",
       "      <th>producer</th>\n",
       "      <th>age_restriction</th>\n",
       "      <th>refundable_support</th>\n",
       "      <th>nonrefundable_support</th>\n",
       "      <th>budget</th>\n",
       "      <th>financing_source</th>\n",
       "      <th>ratings</th>\n",
       "      <th>genres</th>\n",
       "      <th>box_office</th>\n",
       "    </tr>\n",
       "  </thead>\n",
       "  <tbody>\n",
       "    <tr>\n",
       "      <th>3185</th>\n",
       "      <td>Детский юмористический киножурнал \"Ералаш. Ну ...</td>\n",
       "      <td>111001216</td>\n",
       "      <td>2016-02-09 12:00:00+00:00</td>\n",
       "      <td>Художественный</td>\n",
       "      <td>ООО \"Продюсерский центр ЕРАЛАШ\"</td>\n",
       "      <td>NaN</td>\n",
       "      <td>Р.Светлов, И.Магитон, А.Арутюнян, Л.Мирский, А...</td>\n",
       "      <td>ООО \"Продюсерский центр ЕРАЛАШ\"</td>\n",
       "      <td>«0+» - для любой зрительской аудитории</td>\n",
       "      <td>NaN</td>\n",
       "      <td>NaN</td>\n",
       "      <td>NaN</td>\n",
       "      <td>NaN</td>\n",
       "      <td>7.20</td>\n",
       "      <td>детский,комедия</td>\n",
       "      <td>194,527.00</td>\n",
       "    </tr>\n",
       "    <tr>\n",
       "      <th>4440</th>\n",
       "      <td>Мульт личности. Выпуск 5</td>\n",
       "      <td>214000410</td>\n",
       "      <td>2010-01-25 12:00:00+00:00</td>\n",
       "      <td>Художественный</td>\n",
       "      <td>NaN</td>\n",
       "      <td>NaN</td>\n",
       "      <td>NaN</td>\n",
       "      <td>NaN</td>\n",
       "      <td>«0+» - для любой зрительской аудитории</td>\n",
       "      <td>NaN</td>\n",
       "      <td>NaN</td>\n",
       "      <td>NaN</td>\n",
       "      <td>NaN</td>\n",
       "      <td>4.00</td>\n",
       "      <td>мультфильм,комедия</td>\n",
       "      <td>NaN</td>\n",
       "    </tr>\n",
       "  </tbody>\n",
       "</table>\n",
       "</div>"
      ],
      "text/plain": [
       "                                                  title  pu_number  \\\n",
       "3185  Детский юмористический киножурнал \"Ералаш. Ну ...  111001216   \n",
       "4440                           Мульт личности. Выпуск 5  214000410   \n",
       "\n",
       "               show_start_date            type  \\\n",
       "3185 2016-02-09 12:00:00+00:00  Художественный   \n",
       "4440 2010-01-25 12:00:00+00:00  Художественный   \n",
       "\n",
       "                          film_studio production_country  \\\n",
       "3185  ООО \"Продюсерский центр ЕРАЛАШ\"                NaN   \n",
       "4440                              NaN                NaN   \n",
       "\n",
       "                                               director  \\\n",
       "3185  Р.Светлов, И.Магитон, А.Арутюнян, Л.Мирский, А...   \n",
       "4440                                                NaN   \n",
       "\n",
       "                             producer                         age_restriction  \\\n",
       "3185  ООО \"Продюсерский центр ЕРАЛАШ\"  «0+» - для любой зрительской аудитории   \n",
       "4440                              NaN  «0+» - для любой зрительской аудитории   \n",
       "\n",
       "      refundable_support  nonrefundable_support  budget financing_source  \\\n",
       "3185                 NaN                    NaN     NaN              NaN   \n",
       "4440                 NaN                    NaN     NaN              NaN   \n",
       "\n",
       "      ratings              genres  box_office  \n",
       "3185     7.20     детский,комедия  194,527.00  \n",
       "4440     4.00  мультфильм,комедия         NaN  "
      ]
     },
     "execution_count": 14,
     "metadata": {},
     "output_type": "execute_result"
    }
   ],
   "source": [
    "movies[movies['production_country'].isna()==True]"
   ]
  },
  {
   "cell_type": "code",
   "execution_count": 15,
   "metadata": {},
   "outputs": [
    {
     "data": {
      "text/html": [
       "<div>\n",
       "<style scoped>\n",
       "    .dataframe tbody tr th:only-of-type {\n",
       "        vertical-align: middle;\n",
       "    }\n",
       "\n",
       "    .dataframe tbody tr th {\n",
       "        vertical-align: top;\n",
       "    }\n",
       "\n",
       "    .dataframe thead th {\n",
       "        text-align: right;\n",
       "    }\n",
       "</style>\n",
       "<table border=\"1\" class=\"dataframe\">\n",
       "  <thead>\n",
       "    <tr style=\"text-align: right;\">\n",
       "      <th></th>\n",
       "      <th>title</th>\n",
       "      <th>pu_number</th>\n",
       "      <th>show_start_date</th>\n",
       "      <th>type</th>\n",
       "      <th>film_studio</th>\n",
       "      <th>production_country</th>\n",
       "      <th>director</th>\n",
       "      <th>producer</th>\n",
       "      <th>age_restriction</th>\n",
       "      <th>refundable_support</th>\n",
       "      <th>nonrefundable_support</th>\n",
       "      <th>budget</th>\n",
       "      <th>financing_source</th>\n",
       "      <th>ratings</th>\n",
       "      <th>genres</th>\n",
       "      <th>box_office</th>\n",
       "    </tr>\n",
       "  </thead>\n",
       "  <tbody>\n",
       "    <tr>\n",
       "      <th>729</th>\n",
       "      <td>Детский юмористический киножурнал \"Ералаш\", вы...</td>\n",
       "      <td>111000112</td>\n",
       "      <td>2012-01-16 12:00:00+00:00</td>\n",
       "      <td>Художественный</td>\n",
       "      <td>ООО \"Ералаш\"</td>\n",
       "      <td>Россия</td>\n",
       "      <td>В.Панжев, Г.Курлаев, И.Белостоцкий, М.Сулейман...</td>\n",
       "      <td>ООО \"Ералаш\"</td>\n",
       "      <td>«0+» - для любой зрительской аудитории</td>\n",
       "      <td>NaN</td>\n",
       "      <td>NaN</td>\n",
       "      <td>NaN</td>\n",
       "      <td>NaN</td>\n",
       "      <td>7.20</td>\n",
       "      <td>детский,комедия</td>\n",
       "      <td>NaN</td>\n",
       "    </tr>\n",
       "    <tr>\n",
       "      <th>1010</th>\n",
       "      <td>Детский юмористический киножурнал \"Ералаш\", вы...</td>\n",
       "      <td>111001613</td>\n",
       "      <td>2013-05-16 12:00:00+00:00</td>\n",
       "      <td>Художественный</td>\n",
       "      <td>ООО \"Продюсерский центр ЕРАЛАШ\"</td>\n",
       "      <td>Россия</td>\n",
       "      <td>Г.Курлаев, С.Морозов, В.Панжев, Н.Репина, К.Се...</td>\n",
       "      <td>ООО \"Продюсерский центр ЕРАЛАШ\"</td>\n",
       "      <td>«6+» - для детей старше 6 лет</td>\n",
       "      <td>NaN</td>\n",
       "      <td>NaN</td>\n",
       "      <td>NaN</td>\n",
       "      <td>NaN</td>\n",
       "      <td>7.20</td>\n",
       "      <td>детский,комедия</td>\n",
       "      <td>3,545.00</td>\n",
       "    </tr>\n",
       "    <tr>\n",
       "      <th>1282</th>\n",
       "      <td>Детский юмористический киножурнал \"Ералаш\", вы...</td>\n",
       "      <td>111008613</td>\n",
       "      <td>2013-10-18 12:00:00+00:00</td>\n",
       "      <td>Художественный</td>\n",
       "      <td>ООО \"Продюсерский центр ЕРАЛАШ\"</td>\n",
       "      <td>Россия</td>\n",
       "      <td>И.Белостоцкий, В.Панжев, А.Щеглов, Н.Хлопецкая...</td>\n",
       "      <td>ООО \"Продюсерский центр ЕРАЛАШ\"</td>\n",
       "      <td>«0+» - для любой зрительской аудитории</td>\n",
       "      <td>NaN</td>\n",
       "      <td>NaN</td>\n",
       "      <td>NaN</td>\n",
       "      <td>NaN</td>\n",
       "      <td>7.20</td>\n",
       "      <td>детский,комедия</td>\n",
       "      <td>3,580.00</td>\n",
       "    </tr>\n",
       "    <tr>\n",
       "      <th>2000</th>\n",
       "      <td>Детский юмористический киножурнал \"Ералаш\", вы...</td>\n",
       "      <td>111006314</td>\n",
       "      <td>2014-06-19 12:00:00+00:00</td>\n",
       "      <td>Художественный</td>\n",
       "      <td>ООО \"Продюсерский центр ЕРАЛАШ\"</td>\n",
       "      <td>Россия</td>\n",
       "      <td>Г.Курлаев, С.Морозов, В.Панжев, Н.Репина, К.Се...</td>\n",
       "      <td>ООО \"Продюсерский центр ЕРАЛАШ\"</td>\n",
       "      <td>«0+» - для любой зрительской аудитории</td>\n",
       "      <td>NaN</td>\n",
       "      <td>NaN</td>\n",
       "      <td>NaN</td>\n",
       "      <td>NaN</td>\n",
       "      <td>7.20</td>\n",
       "      <td>детский,комедия</td>\n",
       "      <td>NaN</td>\n",
       "    </tr>\n",
       "    <tr>\n",
       "      <th>2143</th>\n",
       "      <td>Детский юмористический киножурнал \"Ералаш\", вы...</td>\n",
       "      <td>111002515</td>\n",
       "      <td>2015-03-12 12:00:00+00:00</td>\n",
       "      <td>Художественный</td>\n",
       "      <td>ООО \"Продюсерский центр ЕРАЛАШ\"</td>\n",
       "      <td>Россия</td>\n",
       "      <td>В.Панжев, Е.Соколов, А.Щеглов, Г.Курлаев, Н.Ре...</td>\n",
       "      <td>ООО \"Продюсерский центр ЕРАЛАШ\"</td>\n",
       "      <td>«0+» - для любой зрительской аудитории</td>\n",
       "      <td>NaN</td>\n",
       "      <td>NaN</td>\n",
       "      <td>NaN</td>\n",
       "      <td>NaN</td>\n",
       "      <td>7.20</td>\n",
       "      <td>детский,комедия</td>\n",
       "      <td>NaN</td>\n",
       "    </tr>\n",
       "    <tr>\n",
       "      <th>2359</th>\n",
       "      <td>Детский юмористический киножурнал \"Ералаш\", вы...</td>\n",
       "      <td>111014014</td>\n",
       "      <td>2014-10-10 12:00:00+00:00</td>\n",
       "      <td>Художественный</td>\n",
       "      <td>ООО \"Продюсерский центр ЕРАЛАШ\"</td>\n",
       "      <td>Россия</td>\n",
       "      <td>И.Белостоцкий, Р.Фрунтов, А.Зеленков, Е.Юликов...</td>\n",
       "      <td>ООО \"Продюсерский центр ЕРАЛАШ\"</td>\n",
       "      <td>«0+» - для любой зрительской аудитории</td>\n",
       "      <td>NaN</td>\n",
       "      <td>NaN</td>\n",
       "      <td>NaN</td>\n",
       "      <td>NaN</td>\n",
       "      <td>7.20</td>\n",
       "      <td>детский,комедия</td>\n",
       "      <td>165.00</td>\n",
       "    </tr>\n",
       "    <tr>\n",
       "      <th>3119</th>\n",
       "      <td>Детский юмористический киножурнал \"Ералаш\", вы...</td>\n",
       "      <td>111021215</td>\n",
       "      <td>2015-12-22 12:00:00+00:00</td>\n",
       "      <td>Художественный</td>\n",
       "      <td>ООО \"Продюсерский центр ЕРАЛАШ\"</td>\n",
       "      <td>Россия</td>\n",
       "      <td>Г.Курлаев, В.Панжев, Е.Соколов, С.Морозов и др.</td>\n",
       "      <td>ООО \"Продюсерский центр ЕРАЛАШ\"</td>\n",
       "      <td>«6+» - для детей старше 6 лет</td>\n",
       "      <td>NaN</td>\n",
       "      <td>NaN</td>\n",
       "      <td>NaN</td>\n",
       "      <td>NaN</td>\n",
       "      <td>7.20</td>\n",
       "      <td>детский,комедия</td>\n",
       "      <td>NaN</td>\n",
       "    </tr>\n",
       "    <tr>\n",
       "      <th>3185</th>\n",
       "      <td>Детский юмористический киножурнал \"Ералаш. Ну ...</td>\n",
       "      <td>111001216</td>\n",
       "      <td>2016-02-09 12:00:00+00:00</td>\n",
       "      <td>Художественный</td>\n",
       "      <td>ООО \"Продюсерский центр ЕРАЛАШ\"</td>\n",
       "      <td>NaN</td>\n",
       "      <td>Р.Светлов, И.Магитон, А.Арутюнян, Л.Мирский, А...</td>\n",
       "      <td>ООО \"Продюсерский центр ЕРАЛАШ\"</td>\n",
       "      <td>«0+» - для любой зрительской аудитории</td>\n",
       "      <td>NaN</td>\n",
       "      <td>NaN</td>\n",
       "      <td>NaN</td>\n",
       "      <td>NaN</td>\n",
       "      <td>7.20</td>\n",
       "      <td>детский,комедия</td>\n",
       "      <td>194,527.00</td>\n",
       "    </tr>\n",
       "    <tr>\n",
       "      <th>3213</th>\n",
       "      <td>Детский юмористический киножурнал \"Ералаш\", вы...</td>\n",
       "      <td>111012816</td>\n",
       "      <td>2016-08-17 12:00:00+00:00</td>\n",
       "      <td>Художественный</td>\n",
       "      <td>ООО \"Продюсерский центр ЕРАЛАШ\"</td>\n",
       "      <td>Россия</td>\n",
       "      <td>Е.Соколов, Е.Морозова, В.Панжев, Г.Курлаев и др.</td>\n",
       "      <td>ООО \"Продюсерский центр ЕРАЛАШ\"</td>\n",
       "      <td>«0+» - для любой зрительской аудитории</td>\n",
       "      <td>NaN</td>\n",
       "      <td>NaN</td>\n",
       "      <td>NaN</td>\n",
       "      <td>NaN</td>\n",
       "      <td>7.20</td>\n",
       "      <td>детский,комедия</td>\n",
       "      <td>457,576.00</td>\n",
       "    </tr>\n",
       "    <tr>\n",
       "      <th>4016</th>\n",
       "      <td>Детский юмористический киножурнал \"Ералаш\".  В...</td>\n",
       "      <td>111002011</td>\n",
       "      <td>2011-03-10 12:00:00+00:00</td>\n",
       "      <td>Художественный</td>\n",
       "      <td>ООО \"Ералаш\"</td>\n",
       "      <td>Россия</td>\n",
       "      <td>М.Рязанова, В.Панжев, Г.Курлаев, М.Сулейманова...</td>\n",
       "      <td>ООО \"Ералаш\"</td>\n",
       "      <td>«0+» - для любой зрительской аудитории</td>\n",
       "      <td>NaN</td>\n",
       "      <td>NaN</td>\n",
       "      <td>NaN</td>\n",
       "      <td>NaN</td>\n",
       "      <td>7.20</td>\n",
       "      <td>детский,комедия</td>\n",
       "      <td>2,325.00</td>\n",
       "    </tr>\n",
       "    <tr>\n",
       "      <th>4059</th>\n",
       "      <td>Ералаш №№ 234 - 239</td>\n",
       "      <td>111001210</td>\n",
       "      <td>2010-02-01 12:00:00+00:00</td>\n",
       "      <td>Художественный</td>\n",
       "      <td>ООО \"Ералаш\"</td>\n",
       "      <td>Россия</td>\n",
       "      <td>М.Рязанова, Н.Репина, В.Панжев, Д.Никулин и др.</td>\n",
       "      <td>Б.Грачевский</td>\n",
       "      <td>«0+» - для любой зрительской аудитории</td>\n",
       "      <td>NaN</td>\n",
       "      <td>NaN</td>\n",
       "      <td>NaN</td>\n",
       "      <td>NaN</td>\n",
       "      <td>NaN</td>\n",
       "      <td>NaN</td>\n",
       "      <td>NaN</td>\n",
       "    </tr>\n",
       "    <tr>\n",
       "      <th>5043</th>\n",
       "      <td>Детский юмористический киножурнал \"Ералаш\". Вы...</td>\n",
       "      <td>111005311</td>\n",
       "      <td>2011-08-08 12:00:00+00:00</td>\n",
       "      <td>Художественный</td>\n",
       "      <td>ООО \"Ералаш\"</td>\n",
       "      <td>Россия</td>\n",
       "      <td>В.Панжев, Г.Курлаев, Ф.Кривошеев, М.Сулейманов...</td>\n",
       "      <td>ООО \"Ералаш\"</td>\n",
       "      <td>«0+» - для любой зрительской аудитории</td>\n",
       "      <td>NaN</td>\n",
       "      <td>NaN</td>\n",
       "      <td>NaN</td>\n",
       "      <td>NaN</td>\n",
       "      <td>7.20</td>\n",
       "      <td>детский,комедия</td>\n",
       "      <td>1,290.00</td>\n",
       "    </tr>\n",
       "    <tr>\n",
       "      <th>5367</th>\n",
       "      <td>Детский юмористический киножурнал \"Ералаш\". Вы...</td>\n",
       "      <td>111009611</td>\n",
       "      <td>2011-12-16 12:00:00+00:00</td>\n",
       "      <td>Художественный</td>\n",
       "      <td>ООО \"Ералаш\"</td>\n",
       "      <td>Россия</td>\n",
       "      <td>В.Панжев, Г.Курлаев, И.Белостоцкий, М.Сулейман...</td>\n",
       "      <td>ООО \"Ералаш\"</td>\n",
       "      <td>«0+» - для любой зрительской аудитории</td>\n",
       "      <td>NaN</td>\n",
       "      <td>NaN</td>\n",
       "      <td>NaN</td>\n",
       "      <td>NaN</td>\n",
       "      <td>7.20</td>\n",
       "      <td>детский,комедия</td>\n",
       "      <td>30,160.00</td>\n",
       "    </tr>\n",
       "    <tr>\n",
       "      <th>6643</th>\n",
       "      <td>Детский юмористический киножурнал \"Ералаш\", вы...</td>\n",
       "      <td>114000419</td>\n",
       "      <td>2018-02-16 12:00:00+00:00</td>\n",
       "      <td>Художественный</td>\n",
       "      <td>ООО \"Продюсерский центр ЕРАЛАШ\"</td>\n",
       "      <td>Россия</td>\n",
       "      <td>Г.Курлаев, И.Ситников, А.Щеглов, В.Панжев и др.</td>\n",
       "      <td>ООО \"Продюсерский центр ЕРАЛАШ\"</td>\n",
       "      <td>«0+» - для любой зрительской аудитории</td>\n",
       "      <td>NaN</td>\n",
       "      <td>NaN</td>\n",
       "      <td>NaN</td>\n",
       "      <td>NaN</td>\n",
       "      <td>7.20</td>\n",
       "      <td>детский,комедия</td>\n",
       "      <td>NaN</td>\n",
       "    </tr>\n",
       "  </tbody>\n",
       "</table>\n",
       "</div>"
      ],
      "text/plain": [
       "                                                  title  pu_number  \\\n",
       "729   Детский юмористический киножурнал \"Ералаш\", вы...  111000112   \n",
       "1010  Детский юмористический киножурнал \"Ералаш\", вы...  111001613   \n",
       "1282  Детский юмористический киножурнал \"Ералаш\", вы...  111008613   \n",
       "2000  Детский юмористический киножурнал \"Ералаш\", вы...  111006314   \n",
       "2143  Детский юмористический киножурнал \"Ералаш\", вы...  111002515   \n",
       "2359  Детский юмористический киножурнал \"Ералаш\", вы...  111014014   \n",
       "3119  Детский юмористический киножурнал \"Ералаш\", вы...  111021215   \n",
       "3185  Детский юмористический киножурнал \"Ералаш. Ну ...  111001216   \n",
       "3213  Детский юмористический киножурнал \"Ералаш\", вы...  111012816   \n",
       "4016  Детский юмористический киножурнал \"Ералаш\".  В...  111002011   \n",
       "4059                                Ералаш №№ 234 - 239  111001210   \n",
       "5043  Детский юмористический киножурнал \"Ералаш\". Вы...  111005311   \n",
       "5367  Детский юмористический киножурнал \"Ералаш\". Вы...  111009611   \n",
       "6643  Детский юмористический киножурнал \"Ералаш\", вы...  114000419   \n",
       "\n",
       "               show_start_date             type  \\\n",
       "729  2012-01-16 12:00:00+00:00   Художественный   \n",
       "1010 2013-05-16 12:00:00+00:00   Художественный   \n",
       "1282 2013-10-18 12:00:00+00:00   Художественный   \n",
       "2000 2014-06-19 12:00:00+00:00   Художественный   \n",
       "2143 2015-03-12 12:00:00+00:00   Художественный   \n",
       "2359 2014-10-10 12:00:00+00:00   Художественный   \n",
       "3119 2015-12-22 12:00:00+00:00   Художественный   \n",
       "3185 2016-02-09 12:00:00+00:00   Художественный   \n",
       "3213 2016-08-17 12:00:00+00:00   Художественный   \n",
       "4016 2011-03-10 12:00:00+00:00   Художественный   \n",
       "4059 2010-02-01 12:00:00+00:00   Художественный   \n",
       "5043 2011-08-08 12:00:00+00:00   Художественный   \n",
       "5367 2011-12-16 12:00:00+00:00   Художественный   \n",
       "6643 2018-02-16 12:00:00+00:00   Художественный   \n",
       "\n",
       "                          film_studio production_country  \\\n",
       "729                      ООО \"Ералаш\"             Россия   \n",
       "1010  ООО \"Продюсерский центр ЕРАЛАШ\"             Россия   \n",
       "1282  ООО \"Продюсерский центр ЕРАЛАШ\"             Россия   \n",
       "2000  ООО \"Продюсерский центр ЕРАЛАШ\"             Россия   \n",
       "2143  ООО \"Продюсерский центр ЕРАЛАШ\"             Россия   \n",
       "2359  ООО \"Продюсерский центр ЕРАЛАШ\"             Россия   \n",
       "3119  ООО \"Продюсерский центр ЕРАЛАШ\"             Россия   \n",
       "3185  ООО \"Продюсерский центр ЕРАЛАШ\"                NaN   \n",
       "3213  ООО \"Продюсерский центр ЕРАЛАШ\"             Россия   \n",
       "4016                     ООО \"Ералаш\"             Россия   \n",
       "4059                     ООО \"Ералаш\"             Россия   \n",
       "5043                     ООО \"Ералаш\"             Россия   \n",
       "5367                     ООО \"Ералаш\"             Россия   \n",
       "6643  ООО \"Продюсерский центр ЕРАЛАШ\"             Россия   \n",
       "\n",
       "                                               director  \\\n",
       "729   В.Панжев, Г.Курлаев, И.Белостоцкий, М.Сулейман...   \n",
       "1010  Г.Курлаев, С.Морозов, В.Панжев, Н.Репина, К.Се...   \n",
       "1282  И.Белостоцкий, В.Панжев, А.Щеглов, Н.Хлопецкая...   \n",
       "2000  Г.Курлаев, С.Морозов, В.Панжев, Н.Репина, К.Се...   \n",
       "2143  В.Панжев, Е.Соколов, А.Щеглов, Г.Курлаев, Н.Ре...   \n",
       "2359  И.Белостоцкий, Р.Фрунтов, А.Зеленков, Е.Юликов...   \n",
       "3119    Г.Курлаев, В.Панжев, Е.Соколов, С.Морозов и др.   \n",
       "3185  Р.Светлов, И.Магитон, А.Арутюнян, Л.Мирский, А...   \n",
       "3213   Е.Соколов, Е.Морозова, В.Панжев, Г.Курлаев и др.   \n",
       "4016  М.Рязанова, В.Панжев, Г.Курлаев, М.Сулейманова...   \n",
       "4059    М.Рязанова, Н.Репина, В.Панжев, Д.Никулин и др.   \n",
       "5043  В.Панжев, Г.Курлаев, Ф.Кривошеев, М.Сулейманов...   \n",
       "5367  В.Панжев, Г.Курлаев, И.Белостоцкий, М.Сулейман...   \n",
       "6643    Г.Курлаев, И.Ситников, А.Щеглов, В.Панжев и др.   \n",
       "\n",
       "                             producer                         age_restriction  \\\n",
       "729                      ООО \"Ералаш\"  «0+» - для любой зрительской аудитории   \n",
       "1010  ООО \"Продюсерский центр ЕРАЛАШ\"           «6+» - для детей старше 6 лет   \n",
       "1282  ООО \"Продюсерский центр ЕРАЛАШ\"  «0+» - для любой зрительской аудитории   \n",
       "2000  ООО \"Продюсерский центр ЕРАЛАШ\"  «0+» - для любой зрительской аудитории   \n",
       "2143  ООО \"Продюсерский центр ЕРАЛАШ\"  «0+» - для любой зрительской аудитории   \n",
       "2359  ООО \"Продюсерский центр ЕРАЛАШ\"  «0+» - для любой зрительской аудитории   \n",
       "3119  ООО \"Продюсерский центр ЕРАЛАШ\"           «6+» - для детей старше 6 лет   \n",
       "3185  ООО \"Продюсерский центр ЕРАЛАШ\"  «0+» - для любой зрительской аудитории   \n",
       "3213  ООО \"Продюсерский центр ЕРАЛАШ\"  «0+» - для любой зрительской аудитории   \n",
       "4016                     ООО \"Ералаш\"  «0+» - для любой зрительской аудитории   \n",
       "4059                     Б.Грачевский  «0+» - для любой зрительской аудитории   \n",
       "5043                     ООО \"Ералаш\"  «0+» - для любой зрительской аудитории   \n",
       "5367                     ООО \"Ералаш\"  «0+» - для любой зрительской аудитории   \n",
       "6643  ООО \"Продюсерский центр ЕРАЛАШ\"  «0+» - для любой зрительской аудитории   \n",
       "\n",
       "      refundable_support  nonrefundable_support  budget financing_source  \\\n",
       "729                  NaN                    NaN     NaN              NaN   \n",
       "1010                 NaN                    NaN     NaN              NaN   \n",
       "1282                 NaN                    NaN     NaN              NaN   \n",
       "2000                 NaN                    NaN     NaN              NaN   \n",
       "2143                 NaN                    NaN     NaN              NaN   \n",
       "2359                 NaN                    NaN     NaN              NaN   \n",
       "3119                 NaN                    NaN     NaN              NaN   \n",
       "3185                 NaN                    NaN     NaN              NaN   \n",
       "3213                 NaN                    NaN     NaN              NaN   \n",
       "4016                 NaN                    NaN     NaN              NaN   \n",
       "4059                 NaN                    NaN     NaN              NaN   \n",
       "5043                 NaN                    NaN     NaN              NaN   \n",
       "5367                 NaN                    NaN     NaN              NaN   \n",
       "6643                 NaN                    NaN     NaN              NaN   \n",
       "\n",
       "      ratings           genres  box_office  \n",
       "729      7.20  детский,комедия         NaN  \n",
       "1010     7.20  детский,комедия    3,545.00  \n",
       "1282     7.20  детский,комедия    3,580.00  \n",
       "2000     7.20  детский,комедия         NaN  \n",
       "2143     7.20  детский,комедия         NaN  \n",
       "2359     7.20  детский,комедия      165.00  \n",
       "3119     7.20  детский,комедия         NaN  \n",
       "3185     7.20  детский,комедия  194,527.00  \n",
       "3213     7.20  детский,комедия  457,576.00  \n",
       "4016     7.20  детский,комедия    2,325.00  \n",
       "4059      NaN              NaN         NaN  \n",
       "5043     7.20  детский,комедия    1,290.00  \n",
       "5367     7.20  детский,комедия   30,160.00  \n",
       "6643     7.20  детский,комедия         NaN  "
      ]
     },
     "execution_count": 15,
     "metadata": {},
     "output_type": "execute_result"
    }
   ],
   "source": [
    "movies[movies['title'].str.contains('Ералаш')] #проверим есть ли ещё Ералаши"
   ]
  },
  {
   "cell_type": "code",
   "execution_count": 16,
   "metadata": {},
   "outputs": [],
   "source": [
    "movies.loc[movies['title'].str.contains('Ералаш'), 'production_country'] = 'Россия' #убедимся, чтобы все Ералаши были помечены, как произведённые в России\n",
    "#в случае со строкой 4400 с Мультом личности слишком много пропусков, удалим эту строку\n",
    "movies.drop(movies[movies['production_country'].isna()==True].index, inplace=True)"
   ]
  },
  {
   "cell_type": "markdown",
   "metadata": {},
   "source": [
    "Заодно нашли неочевидные дубликаты. Удалим их"
   ]
  },
  {
   "cell_type": "code",
   "execution_count": 17,
   "metadata": {},
   "outputs": [
    {
     "data": {
      "text/html": [
       "<div>\n",
       "<style scoped>\n",
       "    .dataframe tbody tr th:only-of-type {\n",
       "        vertical-align: middle;\n",
       "    }\n",
       "\n",
       "    .dataframe tbody tr th {\n",
       "        vertical-align: top;\n",
       "    }\n",
       "\n",
       "    .dataframe thead th {\n",
       "        text-align: right;\n",
       "    }\n",
       "</style>\n",
       "<table border=\"1\" class=\"dataframe\">\n",
       "  <thead>\n",
       "    <tr style=\"text-align: right;\">\n",
       "      <th></th>\n",
       "      <th>title</th>\n",
       "      <th>pu_number</th>\n",
       "      <th>show_start_date</th>\n",
       "      <th>type</th>\n",
       "      <th>film_studio</th>\n",
       "      <th>production_country</th>\n",
       "      <th>director</th>\n",
       "      <th>producer</th>\n",
       "      <th>age_restriction</th>\n",
       "      <th>refundable_support</th>\n",
       "      <th>nonrefundable_support</th>\n",
       "      <th>budget</th>\n",
       "      <th>financing_source</th>\n",
       "      <th>ratings</th>\n",
       "      <th>genres</th>\n",
       "      <th>box_office</th>\n",
       "    </tr>\n",
       "  </thead>\n",
       "  <tbody>\n",
       "    <tr>\n",
       "      <th>1293</th>\n",
       "      <td>Stars in Shorts</td>\n",
       "      <td>121011114</td>\n",
       "      <td>2014-06-03 12:00:00+00:00</td>\n",
       "      <td>Художественный</td>\n",
       "      <td>NaN</td>\n",
       "      <td>США, Великобритания</td>\n",
       "      <td>Роберт Фестингер, Руперт Френд, Джей Камен, Ни...</td>\n",
       "      <td>Татьяна Келли, Роберта Мунро, Руперт Френд, До...</td>\n",
       "      <td>«16+» - для детей старше 16 лет</td>\n",
       "      <td>NaN</td>\n",
       "      <td>NaN</td>\n",
       "      <td>NaN</td>\n",
       "      <td>NaN</td>\n",
       "      <td>7.30</td>\n",
       "      <td>комедия</td>\n",
       "      <td>NaN</td>\n",
       "    </tr>\n",
       "    <tr>\n",
       "      <th>6104</th>\n",
       "      <td>Значит любит</td>\n",
       "      <td>111013818</td>\n",
       "      <td>2018-08-10 12:00:00+00:00</td>\n",
       "      <td>Художественный</td>\n",
       "      <td>NaN</td>\n",
       "      <td>Россия</td>\n",
       "      <td>А.Краевский</td>\n",
       "      <td>Е.Щербакова</td>\n",
       "      <td>«18+» - запрещено для детей</td>\n",
       "      <td>NaN</td>\n",
       "      <td>NaN</td>\n",
       "      <td>NaN</td>\n",
       "      <td>NaN</td>\n",
       "      <td>NaN</td>\n",
       "      <td>NaN</td>\n",
       "      <td>NaN</td>\n",
       "    </tr>\n",
       "    <tr>\n",
       "      <th>6180</th>\n",
       "      <td>Несейка. Младшая дочь</td>\n",
       "      <td>112007018</td>\n",
       "      <td>2018-09-01 12:00:00+00:00</td>\n",
       "      <td>Документальный</td>\n",
       "      <td>NaN</td>\n",
       "      <td>Россия</td>\n",
       "      <td>В.Марин</td>\n",
       "      <td>Д.Якунин, Ф.Абрютин, О.Филонова</td>\n",
       "      <td>«6+» - для детей старше 6 лет</td>\n",
       "      <td>NaN</td>\n",
       "      <td>NaN</td>\n",
       "      <td>NaN</td>\n",
       "      <td>NaN</td>\n",
       "      <td>NaN</td>\n",
       "      <td>NaN</td>\n",
       "      <td>NaN</td>\n",
       "    </tr>\n",
       "    <tr>\n",
       "      <th>6378</th>\n",
       "      <td>Ян Антонышев</td>\n",
       "      <td>112011818</td>\n",
       "      <td>2018-11-15 12:00:00+00:00</td>\n",
       "      <td>Документальный</td>\n",
       "      <td>NaN</td>\n",
       "      <td>Россия</td>\n",
       "      <td>Е.Окопная</td>\n",
       "      <td>Е.Герасимов</td>\n",
       "      <td>«12+» - для детей старше 12 лет</td>\n",
       "      <td>NaN</td>\n",
       "      <td>NaN</td>\n",
       "      <td>NaN</td>\n",
       "      <td>NaN</td>\n",
       "      <td>NaN</td>\n",
       "      <td>NaN</td>\n",
       "      <td>NaN</td>\n",
       "    </tr>\n",
       "    <tr>\n",
       "      <th>6379</th>\n",
       "      <td>Ян Антонышев</td>\n",
       "      <td>112011918</td>\n",
       "      <td>2018-11-15 12:00:00+00:00</td>\n",
       "      <td>Документальный</td>\n",
       "      <td>NaN</td>\n",
       "      <td>Россия</td>\n",
       "      <td>Е.Окопная</td>\n",
       "      <td>Е.Герасимов</td>\n",
       "      <td>«12+» - для детей старше 12 лет</td>\n",
       "      <td>NaN</td>\n",
       "      <td>NaN</td>\n",
       "      <td>NaN</td>\n",
       "      <td>NaN</td>\n",
       "      <td>NaN</td>\n",
       "      <td>NaN</td>\n",
       "      <td>NaN</td>\n",
       "    </tr>\n",
       "    <tr>\n",
       "      <th>6398</th>\n",
       "      <td>Доживем до каникул?..</td>\n",
       "      <td>111021918</td>\n",
       "      <td>2018-11-15 12:00:00+00:00</td>\n",
       "      <td>Художественный</td>\n",
       "      <td>NaN</td>\n",
       "      <td>Россия</td>\n",
       "      <td>Я.Хальпукова (псевдоним Яна Мартынец)</td>\n",
       "      <td>Я.Хальпукова (псевдоним Яна Мартынец)</td>\n",
       "      <td>«12+» - для детей старше 12 лет</td>\n",
       "      <td>NaN</td>\n",
       "      <td>NaN</td>\n",
       "      <td>NaN</td>\n",
       "      <td>NaN</td>\n",
       "      <td>NaN</td>\n",
       "      <td>NaN</td>\n",
       "      <td>41,225.00</td>\n",
       "    </tr>\n",
       "    <tr>\n",
       "      <th>6484</th>\n",
       "      <td>До и После</td>\n",
       "      <td>112014418</td>\n",
       "      <td>2018-12-05 12:00:00+00:00</td>\n",
       "      <td>Документальный</td>\n",
       "      <td>NaN</td>\n",
       "      <td>Россия</td>\n",
       "      <td>А.Новокреповская</td>\n",
       "      <td>А.Новокреповская</td>\n",
       "      <td>«6+» - для детей старше 6 лет</td>\n",
       "      <td>NaN</td>\n",
       "      <td>NaN</td>\n",
       "      <td>NaN</td>\n",
       "      <td>NaN</td>\n",
       "      <td>6.90</td>\n",
       "      <td>драма,криминал,детектив</td>\n",
       "      <td>NaN</td>\n",
       "    </tr>\n",
       "    <tr>\n",
       "      <th>6493</th>\n",
       "      <td>Калмыцкий геше Нгаванг Вангьял</td>\n",
       "      <td>113002018</td>\n",
       "      <td>2018-12-05 12:00:00+00:00</td>\n",
       "      <td>Научно-популярный</td>\n",
       "      <td>NaN</td>\n",
       "      <td>Россия</td>\n",
       "      <td>И.Долгина</td>\n",
       "      <td>И.Долгина</td>\n",
       "      <td>«12+» - для детей старше 12 лет</td>\n",
       "      <td>NaN</td>\n",
       "      <td>NaN</td>\n",
       "      <td>NaN</td>\n",
       "      <td>NaN</td>\n",
       "      <td>NaN</td>\n",
       "      <td>NaN</td>\n",
       "      <td>NaN</td>\n",
       "    </tr>\n",
       "    <tr>\n",
       "      <th>6496</th>\n",
       "      <td>Мой папа Чингисхан</td>\n",
       "      <td>112014918</td>\n",
       "      <td>2018-12-06 12:00:00+00:00</td>\n",
       "      <td>Документальный</td>\n",
       "      <td>NaN</td>\n",
       "      <td>Россия</td>\n",
       "      <td>А.Сайфуллина</td>\n",
       "      <td>А.Сайфуллина</td>\n",
       "      <td>«12+» - для детей старше 12 лет</td>\n",
       "      <td>NaN</td>\n",
       "      <td>NaN</td>\n",
       "      <td>NaN</td>\n",
       "      <td>NaN</td>\n",
       "      <td>NaN</td>\n",
       "      <td>NaN</td>\n",
       "      <td>NaN</td>\n",
       "    </tr>\n",
       "    <tr>\n",
       "      <th>6497</th>\n",
       "      <td>В плену города грёз</td>\n",
       "      <td>112014818</td>\n",
       "      <td>2018-12-06 12:00:00+00:00</td>\n",
       "      <td>Документальный</td>\n",
       "      <td>NaN</td>\n",
       "      <td>Россия</td>\n",
       "      <td>В.Витовцев</td>\n",
       "      <td>О.Мичи</td>\n",
       "      <td>«18+» - запрещено для детей</td>\n",
       "      <td>NaN</td>\n",
       "      <td>NaN</td>\n",
       "      <td>NaN</td>\n",
       "      <td>NaN</td>\n",
       "      <td>7.90</td>\n",
       "      <td>фантастика,боевик,триллер</td>\n",
       "      <td>NaN</td>\n",
       "    </tr>\n",
       "    <tr>\n",
       "      <th>6498</th>\n",
       "      <td>Последнее фото</td>\n",
       "      <td>112014518</td>\n",
       "      <td>2018-12-06 12:00:00+00:00</td>\n",
       "      <td>Документальный</td>\n",
       "      <td>NaN</td>\n",
       "      <td>Россия</td>\n",
       "      <td>Е.Севастьянов</td>\n",
       "      <td>Е.Севастьянов</td>\n",
       "      <td>«18+» - запрещено для детей</td>\n",
       "      <td>NaN</td>\n",
       "      <td>NaN</td>\n",
       "      <td>NaN</td>\n",
       "      <td>NaN</td>\n",
       "      <td>NaN</td>\n",
       "      <td>NaN</td>\n",
       "      <td>NaN</td>\n",
       "    </tr>\n",
       "    <tr>\n",
       "      <th>6506</th>\n",
       "      <td>Мой селфхарм</td>\n",
       "      <td>113001918</td>\n",
       "      <td>2018-12-06 12:00:00+00:00</td>\n",
       "      <td>Научно-популярный</td>\n",
       "      <td>NaN</td>\n",
       "      <td>Россия</td>\n",
       "      <td>Я.Лаптев (псевдоним Яков Раскалов)</td>\n",
       "      <td>Я.Лаптев (псевдоним Яков Раскалов)</td>\n",
       "      <td>«18+» - запрещено для детей</td>\n",
       "      <td>NaN</td>\n",
       "      <td>NaN</td>\n",
       "      <td>NaN</td>\n",
       "      <td>NaN</td>\n",
       "      <td>NaN</td>\n",
       "      <td>NaN</td>\n",
       "      <td>NaN</td>\n",
       "    </tr>\n",
       "    <tr>\n",
       "      <th>6510</th>\n",
       "      <td>Обстоятельства места и времени</td>\n",
       "      <td>112015018</td>\n",
       "      <td>2018-12-12 12:00:00+00:00</td>\n",
       "      <td>Документальный</td>\n",
       "      <td>NaN</td>\n",
       "      <td>Россия</td>\n",
       "      <td>Д.Кабаков</td>\n",
       "      <td>Д.Кабаков</td>\n",
       "      <td>«12+» - для детей старше 12 лет</td>\n",
       "      <td>NaN</td>\n",
       "      <td>NaN</td>\n",
       "      <td>NaN</td>\n",
       "      <td>NaN</td>\n",
       "      <td>NaN</td>\n",
       "      <td>NaN</td>\n",
       "      <td>NaN</td>\n",
       "    </tr>\n",
       "    <tr>\n",
       "      <th>6637</th>\n",
       "      <td>Эрик Булатов. Моя Третьяковка, серии 1-2</td>\n",
       "      <td>113000319</td>\n",
       "      <td>2019-01-28 12:00:00+00:00</td>\n",
       "      <td>Научно-популярный</td>\n",
       "      <td>NaN</td>\n",
       "      <td>Россия</td>\n",
       "      <td>С.Гарькавый</td>\n",
       "      <td>Т.Пинская</td>\n",
       "      <td>«6+» - для детей старше 6 лет</td>\n",
       "      <td>NaN</td>\n",
       "      <td>NaN</td>\n",
       "      <td>NaN</td>\n",
       "      <td>NaN</td>\n",
       "      <td>NaN</td>\n",
       "      <td>NaN</td>\n",
       "      <td>NaN</td>\n",
       "    </tr>\n",
       "    <tr>\n",
       "      <th>6638</th>\n",
       "      <td>Брови</td>\n",
       "      <td>111000719</td>\n",
       "      <td>2019-03-01 12:00:00+00:00</td>\n",
       "      <td>Художественный</td>\n",
       "      <td>NaN</td>\n",
       "      <td>Россия</td>\n",
       "      <td>О.Штром</td>\n",
       "      <td>В.Максимов, В.Степанов, Г.Киракосян, О.Штром</td>\n",
       "      <td>«16+» - для детей старше 16 лет</td>\n",
       "      <td>NaN</td>\n",
       "      <td>NaN</td>\n",
       "      <td>NaN</td>\n",
       "      <td>NaN</td>\n",
       "      <td>NaN</td>\n",
       "      <td>NaN</td>\n",
       "      <td>NaN</td>\n",
       "    </tr>\n",
       "    <tr>\n",
       "      <th>6661</th>\n",
       "      <td>Топливо</td>\n",
       "      <td>111001419</td>\n",
       "      <td>2019-02-12 12:00:00+00:00</td>\n",
       "      <td>Художественный</td>\n",
       "      <td>NaN</td>\n",
       "      <td>Россия</td>\n",
       "      <td>М.Архипов</td>\n",
       "      <td>М.Архипов</td>\n",
       "      <td>«12+» - для детей старше 12 лет</td>\n",
       "      <td>NaN</td>\n",
       "      <td>NaN</td>\n",
       "      <td>NaN</td>\n",
       "      <td>NaN</td>\n",
       "      <td>6.10</td>\n",
       "      <td>короткометражка,фантастика</td>\n",
       "      <td>NaN</td>\n",
       "    </tr>\n",
       "    <tr>\n",
       "      <th>6721</th>\n",
       "      <td>Путешествие в Париж</td>\n",
       "      <td>111002919</td>\n",
       "      <td>2019-03-01 12:00:00+00:00</td>\n",
       "      <td>Художественный</td>\n",
       "      <td>NaN</td>\n",
       "      <td>Россия</td>\n",
       "      <td>М.Олейник (псевдоним - Мария Полякова)</td>\n",
       "      <td>Н.Савко</td>\n",
       "      <td>«16+» - для детей старше 16 лет</td>\n",
       "      <td>NaN</td>\n",
       "      <td>NaN</td>\n",
       "      <td>NaN</td>\n",
       "      <td>NaN</td>\n",
       "      <td>NaN</td>\n",
       "      <td>NaN</td>\n",
       "      <td>NaN</td>\n",
       "    </tr>\n",
       "  </tbody>\n",
       "</table>\n",
       "</div>"
      ],
      "text/plain": [
       "                                         title  pu_number  \\\n",
       "1293                           Stars in Shorts  121011114   \n",
       "6104                              Значит любит  111013818   \n",
       "6180                     Несейка. Младшая дочь  112007018   \n",
       "6378                              Ян Антонышев  112011818   \n",
       "6379                              Ян Антонышев  112011918   \n",
       "6398                     Доживем до каникул?..  111021918   \n",
       "6484                                До и После  112014418   \n",
       "6493            Калмыцкий геше Нгаванг Вангьял  113002018   \n",
       "6496                        Мой папа Чингисхан  112014918   \n",
       "6497                       В плену города грёз  112014818   \n",
       "6498                            Последнее фото  112014518   \n",
       "6506                              Мой селфхарм  113001918   \n",
       "6510            Обстоятельства места и времени  112015018   \n",
       "6637  Эрик Булатов. Моя Третьяковка, серии 1-2  113000319   \n",
       "6638                                     Брови  111000719   \n",
       "6661                                   Топливо  111001419   \n",
       "6721                       Путешествие в Париж  111002919   \n",
       "\n",
       "               show_start_date               type film_studio  \\\n",
       "1293 2014-06-03 12:00:00+00:00     Художественный         NaN   \n",
       "6104 2018-08-10 12:00:00+00:00     Художественный         NaN   \n",
       "6180 2018-09-01 12:00:00+00:00     Документальный         NaN   \n",
       "6378 2018-11-15 12:00:00+00:00     Документальный         NaN   \n",
       "6379 2018-11-15 12:00:00+00:00     Документальный         NaN   \n",
       "6398 2018-11-15 12:00:00+00:00     Художественный         NaN   \n",
       "6484 2018-12-05 12:00:00+00:00     Документальный         NaN   \n",
       "6493 2018-12-05 12:00:00+00:00  Научно-популярный         NaN   \n",
       "6496 2018-12-06 12:00:00+00:00     Документальный         NaN   \n",
       "6497 2018-12-06 12:00:00+00:00     Документальный         NaN   \n",
       "6498 2018-12-06 12:00:00+00:00     Документальный         NaN   \n",
       "6506 2018-12-06 12:00:00+00:00  Научно-популярный         NaN   \n",
       "6510 2018-12-12 12:00:00+00:00     Документальный         NaN   \n",
       "6637 2019-01-28 12:00:00+00:00  Научно-популярный         NaN   \n",
       "6638 2019-03-01 12:00:00+00:00     Художественный         NaN   \n",
       "6661 2019-02-12 12:00:00+00:00     Художественный         NaN   \n",
       "6721 2019-03-01 12:00:00+00:00     Художественный         NaN   \n",
       "\n",
       "       production_country                                           director  \\\n",
       "1293  США, Великобритания  Роберт Фестингер, Руперт Френд, Джей Камен, Ни...   \n",
       "6104               Россия                                        А.Краевский   \n",
       "6180               Россия                                            В.Марин   \n",
       "6378               Россия                                          Е.Окопная   \n",
       "6379               Россия                                          Е.Окопная   \n",
       "6398               Россия              Я.Хальпукова (псевдоним Яна Мартынец)   \n",
       "6484               Россия                                   А.Новокреповская   \n",
       "6493               Россия                                          И.Долгина   \n",
       "6496               Россия                                       А.Сайфуллина   \n",
       "6497               Россия                                         В.Витовцев   \n",
       "6498               Россия                                      Е.Севастьянов   \n",
       "6506               Россия                 Я.Лаптев (псевдоним Яков Раскалов)   \n",
       "6510               Россия                                          Д.Кабаков   \n",
       "6637               Россия                                        С.Гарькавый   \n",
       "6638               Россия                                            О.Штром   \n",
       "6661               Россия                                          М.Архипов   \n",
       "6721               Россия             М.Олейник (псевдоним - Мария Полякова)   \n",
       "\n",
       "                                               producer  \\\n",
       "1293  Татьяна Келли, Роберта Мунро, Руперт Френд, До...   \n",
       "6104                                        Е.Щербакова   \n",
       "6180                    Д.Якунин, Ф.Абрютин, О.Филонова   \n",
       "6378                                        Е.Герасимов   \n",
       "6379                                        Е.Герасимов   \n",
       "6398              Я.Хальпукова (псевдоним Яна Мартынец)   \n",
       "6484                                   А.Новокреповская   \n",
       "6493                                          И.Долгина   \n",
       "6496                                       А.Сайфуллина   \n",
       "6497                                             О.Мичи   \n",
       "6498                                      Е.Севастьянов   \n",
       "6506                 Я.Лаптев (псевдоним Яков Раскалов)   \n",
       "6510                                          Д.Кабаков   \n",
       "6637                                          Т.Пинская   \n",
       "6638       В.Максимов, В.Степанов, Г.Киракосян, О.Штром   \n",
       "6661                                          М.Архипов   \n",
       "6721                                            Н.Савко   \n",
       "\n",
       "                      age_restriction  refundable_support  \\\n",
       "1293  «16+» - для детей старше 16 лет                 NaN   \n",
       "6104      «18+» - запрещено для детей                 NaN   \n",
       "6180    «6+» - для детей старше 6 лет                 NaN   \n",
       "6378  «12+» - для детей старше 12 лет                 NaN   \n",
       "6379  «12+» - для детей старше 12 лет                 NaN   \n",
       "6398  «12+» - для детей старше 12 лет                 NaN   \n",
       "6484    «6+» - для детей старше 6 лет                 NaN   \n",
       "6493  «12+» - для детей старше 12 лет                 NaN   \n",
       "6496  «12+» - для детей старше 12 лет                 NaN   \n",
       "6497      «18+» - запрещено для детей                 NaN   \n",
       "6498      «18+» - запрещено для детей                 NaN   \n",
       "6506      «18+» - запрещено для детей                 NaN   \n",
       "6510  «12+» - для детей старше 12 лет                 NaN   \n",
       "6637    «6+» - для детей старше 6 лет                 NaN   \n",
       "6638  «16+» - для детей старше 16 лет                 NaN   \n",
       "6661  «12+» - для детей старше 12 лет                 NaN   \n",
       "6721  «16+» - для детей старше 16 лет                 NaN   \n",
       "\n",
       "      nonrefundable_support  budget financing_source  ratings  \\\n",
       "1293                    NaN     NaN              NaN     7.30   \n",
       "6104                    NaN     NaN              NaN      NaN   \n",
       "6180                    NaN     NaN              NaN      NaN   \n",
       "6378                    NaN     NaN              NaN      NaN   \n",
       "6379                    NaN     NaN              NaN      NaN   \n",
       "6398                    NaN     NaN              NaN      NaN   \n",
       "6484                    NaN     NaN              NaN     6.90   \n",
       "6493                    NaN     NaN              NaN      NaN   \n",
       "6496                    NaN     NaN              NaN      NaN   \n",
       "6497                    NaN     NaN              NaN     7.90   \n",
       "6498                    NaN     NaN              NaN      NaN   \n",
       "6506                    NaN     NaN              NaN      NaN   \n",
       "6510                    NaN     NaN              NaN      NaN   \n",
       "6637                    NaN     NaN              NaN      NaN   \n",
       "6638                    NaN     NaN              NaN      NaN   \n",
       "6661                    NaN     NaN              NaN     6.10   \n",
       "6721                    NaN     NaN              NaN      NaN   \n",
       "\n",
       "                          genres  box_office  \n",
       "1293                     комедия         NaN  \n",
       "6104                         NaN         NaN  \n",
       "6180                         NaN         NaN  \n",
       "6378                         NaN         NaN  \n",
       "6379                         NaN         NaN  \n",
       "6398                         NaN   41,225.00  \n",
       "6484     драма,криминал,детектив         NaN  \n",
       "6493                         NaN         NaN  \n",
       "6496                         NaN         NaN  \n",
       "6497   фантастика,боевик,триллер         NaN  \n",
       "6498                         NaN         NaN  \n",
       "6506                         NaN         NaN  \n",
       "6510                         NaN         NaN  \n",
       "6637                         NaN         NaN  \n",
       "6638                         NaN         NaN  \n",
       "6661  короткометражка,фантастика         NaN  \n",
       "6721                         NaN         NaN  "
      ]
     },
     "execution_count": 17,
     "metadata": {},
     "output_type": "execute_result"
    }
   ],
   "source": [
    "movies [movies ['film_studio'].isna() == True] #познакомимся с пропусками в столбце 'film_studio'"
   ]
  },
  {
   "cell_type": "code",
   "execution_count": 18,
   "metadata": {},
   "outputs": [],
   "source": [
    "movies['film_studio'] = movies['film_studio'].fillna('Неизвестна') #заменим пропуски в студиях на категорию «Неизвестна»"
   ]
  },
  {
   "cell_type": "code",
   "execution_count": 19,
   "metadata": {},
   "outputs": [],
   "source": [
    "movies.loc[movies['film_studio'].str.contains('Ералаш'), 'film_studio'] = 'ООО \"Продюсерский центр ЕРАЛАШ\"'"
   ]
  },
  {
   "cell_type": "code",
   "execution_count": 20,
   "metadata": {},
   "outputs": [
    {
     "data": {
      "text/html": [
       "<div>\n",
       "<style scoped>\n",
       "    .dataframe tbody tr th:only-of-type {\n",
       "        vertical-align: middle;\n",
       "    }\n",
       "\n",
       "    .dataframe tbody tr th {\n",
       "        vertical-align: top;\n",
       "    }\n",
       "\n",
       "    .dataframe thead th {\n",
       "        text-align: right;\n",
       "    }\n",
       "</style>\n",
       "<table border=\"1\" class=\"dataframe\">\n",
       "  <thead>\n",
       "    <tr style=\"text-align: right;\">\n",
       "      <th></th>\n",
       "      <th>title</th>\n",
       "      <th>pu_number</th>\n",
       "      <th>show_start_date</th>\n",
       "      <th>type</th>\n",
       "      <th>film_studio</th>\n",
       "      <th>production_country</th>\n",
       "      <th>director</th>\n",
       "      <th>producer</th>\n",
       "      <th>age_restriction</th>\n",
       "      <th>refundable_support</th>\n",
       "      <th>nonrefundable_support</th>\n",
       "      <th>budget</th>\n",
       "      <th>financing_source</th>\n",
       "      <th>ratings</th>\n",
       "      <th>genres</th>\n",
       "      <th>box_office</th>\n",
       "    </tr>\n",
       "  </thead>\n",
       "  <tbody>\n",
       "    <tr>\n",
       "      <th>764</th>\n",
       "      <td>Три звезды. Концерт в Waldbuhne Theater, Берли...</td>\n",
       "      <td>126003512</td>\n",
       "      <td>2012-12-04 12:00:00+00:00</td>\n",
       "      <td>Прочие</td>\n",
       "      <td>Райзинг Алтернатив</td>\n",
       "      <td>Великобритания</td>\n",
       "      <td>NaN</td>\n",
       "      <td>Вальдбюне Театр</td>\n",
       "      <td>«0+» - для любой зрительской аудитории</td>\n",
       "      <td>NaN</td>\n",
       "      <td>NaN</td>\n",
       "      <td>NaN</td>\n",
       "      <td>NaN</td>\n",
       "      <td>NaN</td>\n",
       "      <td>NaN</td>\n",
       "      <td>44,350.00</td>\n",
       "    </tr>\n",
       "    <tr>\n",
       "      <th>1735</th>\n",
       "      <td>Помпеи. Британский музей</td>\n",
       "      <td>126003413</td>\n",
       "      <td>2013-09-11 12:00:00+00:00</td>\n",
       "      <td>Прочие</td>\n",
       "      <td>МортуСкрин, Британский музей</td>\n",
       "      <td>Великобритания</td>\n",
       "      <td>NaN</td>\n",
       "      <td>Британский музей</td>\n",
       "      <td>«0+» - для любой зрительской аудитории</td>\n",
       "      <td>NaN</td>\n",
       "      <td>NaN</td>\n",
       "      <td>NaN</td>\n",
       "      <td>NaN</td>\n",
       "      <td>NaN</td>\n",
       "      <td>NaN</td>\n",
       "      <td>NaN</td>\n",
       "    </tr>\n",
       "    <tr>\n",
       "      <th>3839</th>\n",
       "      <td>Зур концерт (Большой концерт).</td>\n",
       "      <td>217027010</td>\n",
       "      <td>2010-06-24 12:00:00+00:00</td>\n",
       "      <td>Художественный</td>\n",
       "      <td>ООО \"Барс Рекордс\"</td>\n",
       "      <td>Россия</td>\n",
       "      <td>NaN</td>\n",
       "      <td>NaN</td>\n",
       "      <td>«12+» - для детей старше 12 лет</td>\n",
       "      <td>NaN</td>\n",
       "      <td>NaN</td>\n",
       "      <td>NaN</td>\n",
       "      <td>NaN</td>\n",
       "      <td>NaN</td>\n",
       "      <td>NaN</td>\n",
       "      <td>NaN</td>\n",
       "    </tr>\n",
       "    <tr>\n",
       "      <th>4051</th>\n",
       "      <td>Ганс Сэйфуллин \"Авылым чишмэлэре. Ганс Сэйфулл...</td>\n",
       "      <td>217017310</td>\n",
       "      <td>2010-04-22 12:00:00+00:00</td>\n",
       "      <td>Художественный</td>\n",
       "      <td>ООО \"Барс-Рекордс\"</td>\n",
       "      <td>Россия</td>\n",
       "      <td>NaN</td>\n",
       "      <td>NaN</td>\n",
       "      <td>«0+» - для любой зрительской аудитории</td>\n",
       "      <td>NaN</td>\n",
       "      <td>NaN</td>\n",
       "      <td>NaN</td>\n",
       "      <td>NaN</td>\n",
       "      <td>NaN</td>\n",
       "      <td>NaN</td>\n",
       "      <td>NaN</td>\n",
       "    </tr>\n",
       "    <tr>\n",
       "      <th>4297</th>\n",
       "      <td>Изге Вэли (Святой Валентин)</td>\n",
       "      <td>217020610</td>\n",
       "      <td>2010-05-20 12:00:00+00:00</td>\n",
       "      <td>Художественный</td>\n",
       "      <td>ООО \"Барс Рекордс\"</td>\n",
       "      <td>Россия</td>\n",
       "      <td>NaN</td>\n",
       "      <td>NaN</td>\n",
       "      <td>«12+» - для детей старше 12 лет</td>\n",
       "      <td>NaN</td>\n",
       "      <td>NaN</td>\n",
       "      <td>NaN</td>\n",
       "      <td>NaN</td>\n",
       "      <td>NaN</td>\n",
       "      <td>NaN</td>\n",
       "      <td>NaN</td>\n",
       "    </tr>\n",
       "    <tr>\n",
       "      <th>4414</th>\n",
       "      <td>Bon Jovi. The Circle Tour</td>\n",
       "      <td>126001710</td>\n",
       "      <td>2010-11-11 12:00:00+00:00</td>\n",
       "      <td>Прочие</td>\n",
       "      <td>Эншутц Интертейнмент Груп</td>\n",
       "      <td>США</td>\n",
       "      <td>NaN</td>\n",
       "      <td>Эншутц Интертейнмент Груп</td>\n",
       "      <td>«0+» - для любой зрительской аудитории</td>\n",
       "      <td>NaN</td>\n",
       "      <td>NaN</td>\n",
       "      <td>NaN</td>\n",
       "      <td>NaN</td>\n",
       "      <td>7.90</td>\n",
       "      <td>концерт,музыка</td>\n",
       "      <td>NaN</td>\n",
       "    </tr>\n",
       "    <tr>\n",
       "      <th>4922</th>\n",
       "      <td>Георг Фридрих Гендель. Мессия. Оратория. Корол...</td>\n",
       "      <td>126001111</td>\n",
       "      <td>2011-04-25 12:00:00+00:00</td>\n",
       "      <td>Прочие</td>\n",
       "      <td>Опус Арт</td>\n",
       "      <td>Великобритания</td>\n",
       "      <td>NaN</td>\n",
       "      <td>Короевский колледж Кембриджа</td>\n",
       "      <td>«0+» - для любой зрительской аудитории</td>\n",
       "      <td>NaN</td>\n",
       "      <td>NaN</td>\n",
       "      <td>NaN</td>\n",
       "      <td>NaN</td>\n",
       "      <td>NaN</td>\n",
       "      <td>NaN</td>\n",
       "      <td>NaN</td>\n",
       "    </tr>\n",
       "    <tr>\n",
       "      <th>4941</th>\n",
       "      <td>Питер Гэбриэл и New Blood Orchestra 3D</td>\n",
       "      <td>126002711</td>\n",
       "      <td>2011-11-11 12:00:00+00:00</td>\n",
       "      <td>Прочие</td>\n",
       "      <td>Омниверс Визион</td>\n",
       "      <td>Великобритания</td>\n",
       "      <td>NaN</td>\n",
       "      <td>Омниверс Визион</td>\n",
       "      <td>«0+» - для любой зрительской аудитории</td>\n",
       "      <td>NaN</td>\n",
       "      <td>NaN</td>\n",
       "      <td>NaN</td>\n",
       "      <td>NaN</td>\n",
       "      <td>6.70</td>\n",
       "      <td>концерт,музыка</td>\n",
       "      <td>NaN</td>\n",
       "    </tr>\n",
       "  </tbody>\n",
       "</table>\n",
       "</div>"
      ],
      "text/plain": [
       "                                                  title  pu_number  \\\n",
       "764   Три звезды. Концерт в Waldbuhne Theater, Берли...  126003512   \n",
       "1735                           Помпеи. Британский музей  126003413   \n",
       "3839                     Зур концерт (Большой концерт).  217027010   \n",
       "4051  Ганс Сэйфуллин \"Авылым чишмэлэре. Ганс Сэйфулл...  217017310   \n",
       "4297                        Изге Вэли (Святой Валентин)  217020610   \n",
       "4414                          Bon Jovi. The Circle Tour  126001710   \n",
       "4922  Георг Фридрих Гендель. Мессия. Оратория. Корол...  126001111   \n",
       "4941             Питер Гэбриэл и New Blood Orchestra 3D  126002711   \n",
       "\n",
       "               show_start_date            type                   film_studio  \\\n",
       "764  2012-12-04 12:00:00+00:00          Прочие            Райзинг Алтернатив   \n",
       "1735 2013-09-11 12:00:00+00:00          Прочие  МортуСкрин, Британский музей   \n",
       "3839 2010-06-24 12:00:00+00:00  Художественный            ООО \"Барс Рекордс\"   \n",
       "4051 2010-04-22 12:00:00+00:00  Художественный            ООО \"Барс-Рекордс\"   \n",
       "4297 2010-05-20 12:00:00+00:00  Художественный            ООО \"Барс Рекордс\"   \n",
       "4414 2010-11-11 12:00:00+00:00          Прочие     Эншутц Интертейнмент Груп   \n",
       "4922 2011-04-25 12:00:00+00:00          Прочие                      Опус Арт   \n",
       "4941 2011-11-11 12:00:00+00:00          Прочие               Омниверс Визион   \n",
       "\n",
       "     production_country director                      producer  \\\n",
       "764      Великобритания      NaN               Вальдбюне Театр   \n",
       "1735     Великобритания      NaN              Британский музей   \n",
       "3839             Россия      NaN                           NaN   \n",
       "4051             Россия      NaN                           NaN   \n",
       "4297             Россия      NaN                           NaN   \n",
       "4414                США      NaN     Эншутц Интертейнмент Груп   \n",
       "4922     Великобритания      NaN  Короевский колледж Кембриджа   \n",
       "4941     Великобритания      NaN               Омниверс Визион   \n",
       "\n",
       "                             age_restriction  refundable_support  \\\n",
       "764   «0+» - для любой зрительской аудитории                 NaN   \n",
       "1735  «0+» - для любой зрительской аудитории                 NaN   \n",
       "3839         «12+» - для детей старше 12 лет                 NaN   \n",
       "4051  «0+» - для любой зрительской аудитории                 NaN   \n",
       "4297         «12+» - для детей старше 12 лет                 NaN   \n",
       "4414  «0+» - для любой зрительской аудитории                 NaN   \n",
       "4922  «0+» - для любой зрительской аудитории                 NaN   \n",
       "4941  «0+» - для любой зрительской аудитории                 NaN   \n",
       "\n",
       "      nonrefundable_support  budget financing_source  ratings          genres  \\\n",
       "764                     NaN     NaN              NaN      NaN             NaN   \n",
       "1735                    NaN     NaN              NaN      NaN             NaN   \n",
       "3839                    NaN     NaN              NaN      NaN             NaN   \n",
       "4051                    NaN     NaN              NaN      NaN             NaN   \n",
       "4297                    NaN     NaN              NaN      NaN             NaN   \n",
       "4414                    NaN     NaN              NaN     7.90  концерт,музыка   \n",
       "4922                    NaN     NaN              NaN      NaN             NaN   \n",
       "4941                    NaN     NaN              NaN     6.70  концерт,музыка   \n",
       "\n",
       "      box_office  \n",
       "764    44,350.00  \n",
       "1735         NaN  \n",
       "3839         NaN  \n",
       "4051         NaN  \n",
       "4297         NaN  \n",
       "4414         NaN  \n",
       "4922         NaN  \n",
       "4941         NaN  "
      ]
     },
     "execution_count": 20,
     "metadata": {},
     "output_type": "execute_result"
    }
   ],
   "source": [
    "movies [movies ['director'].isna() == True]#познакомимся с пропусками в столбце 'director' "
   ]
  },
  {
   "cell_type": "code",
   "execution_count": 21,
   "metadata": {},
   "outputs": [],
   "source": [
    "movies['director'] = movies['director'].fillna('Неизвестен') #заменим пропуски в студиях на категорию «Неизвестен»"
   ]
  },
  {
   "cell_type": "code",
   "execution_count": 22,
   "metadata": {},
   "outputs": [
    {
     "data": {
      "text/html": [
       "<div>\n",
       "<style scoped>\n",
       "    .dataframe tbody tr th:only-of-type {\n",
       "        vertical-align: middle;\n",
       "    }\n",
       "\n",
       "    .dataframe tbody tr th {\n",
       "        vertical-align: top;\n",
       "    }\n",
       "\n",
       "    .dataframe thead th {\n",
       "        text-align: right;\n",
       "    }\n",
       "</style>\n",
       "<table border=\"1\" class=\"dataframe\">\n",
       "  <thead>\n",
       "    <tr style=\"text-align: right;\">\n",
       "      <th></th>\n",
       "      <th>title</th>\n",
       "      <th>pu_number</th>\n",
       "      <th>show_start_date</th>\n",
       "      <th>type</th>\n",
       "      <th>film_studio</th>\n",
       "      <th>production_country</th>\n",
       "      <th>director</th>\n",
       "      <th>producer</th>\n",
       "      <th>age_restriction</th>\n",
       "      <th>refundable_support</th>\n",
       "      <th>nonrefundable_support</th>\n",
       "      <th>budget</th>\n",
       "      <th>financing_source</th>\n",
       "      <th>ratings</th>\n",
       "      <th>genres</th>\n",
       "      <th>box_office</th>\n",
       "    </tr>\n",
       "  </thead>\n",
       "  <tbody>\n",
       "    <tr>\n",
       "      <th>1</th>\n",
       "      <td>Особо важное задание</td>\n",
       "      <td>111013716</td>\n",
       "      <td>2016-09-13 12:00:00+00:00</td>\n",
       "      <td>Художественный</td>\n",
       "      <td>Киностудия \"Мосфильм\"</td>\n",
       "      <td>СССР</td>\n",
       "      <td>Е.Матвеев</td>\n",
       "      <td>NaN</td>\n",
       "      <td>«6+» - для детей старше 6 лет</td>\n",
       "      <td>NaN</td>\n",
       "      <td>NaN</td>\n",
       "      <td>NaN</td>\n",
       "      <td>NaN</td>\n",
       "      <td>6.60</td>\n",
       "      <td>драма,военный</td>\n",
       "      <td>NaN</td>\n",
       "    </tr>\n",
       "    <tr>\n",
       "      <th>5</th>\n",
       "      <td>Остановился поезд</td>\n",
       "      <td>111013816</td>\n",
       "      <td>2016-09-13 12:00:00+00:00</td>\n",
       "      <td>Художественный</td>\n",
       "      <td>Киностудия \"Мосфильм\"</td>\n",
       "      <td>СССР</td>\n",
       "      <td>В.Абдрашитов</td>\n",
       "      <td>NaN</td>\n",
       "      <td>«6+» - для детей старше 6 лет</td>\n",
       "      <td>NaN</td>\n",
       "      <td>NaN</td>\n",
       "      <td>NaN</td>\n",
       "      <td>NaN</td>\n",
       "      <td>7.70</td>\n",
       "      <td>драма</td>\n",
       "      <td>NaN</td>\n",
       "    </tr>\n",
       "    <tr>\n",
       "      <th>6</th>\n",
       "      <td>Любовь и голуби</td>\n",
       "      <td>111007013</td>\n",
       "      <td>2013-10-18 12:00:00+00:00</td>\n",
       "      <td>Художественный</td>\n",
       "      <td>Киностудия \"Мосфильм\"</td>\n",
       "      <td>СССР</td>\n",
       "      <td>В.Меньшов</td>\n",
       "      <td>NaN</td>\n",
       "      <td>«12+» - для детей старше 12 лет</td>\n",
       "      <td>NaN</td>\n",
       "      <td>NaN</td>\n",
       "      <td>NaN</td>\n",
       "      <td>NaN</td>\n",
       "      <td>8.30</td>\n",
       "      <td>мелодрама,комедия</td>\n",
       "      <td>2,700.00</td>\n",
       "    </tr>\n",
       "    <tr>\n",
       "      <th>9</th>\n",
       "      <td>Отпуск за свой счет</td>\n",
       "      <td>111019114</td>\n",
       "      <td>2014-12-01 12:00:00+00:00</td>\n",
       "      <td>Художественный</td>\n",
       "      <td>Киностудия \"Мосфильм\", Телевидение ВНР</td>\n",
       "      <td>СССР, Венгрия</td>\n",
       "      <td>В.Титов</td>\n",
       "      <td>NaN</td>\n",
       "      <td>«12+» - для детей старше 12 лет</td>\n",
       "      <td>NaN</td>\n",
       "      <td>NaN</td>\n",
       "      <td>NaN</td>\n",
       "      <td>NaN</td>\n",
       "      <td>7.80</td>\n",
       "      <td>мелодрама,комедия</td>\n",
       "      <td>NaN</td>\n",
       "    </tr>\n",
       "    <tr>\n",
       "      <th>11</th>\n",
       "      <td>Ответный ход</td>\n",
       "      <td>111019014</td>\n",
       "      <td>2014-12-01 12:00:00+00:00</td>\n",
       "      <td>Художественный</td>\n",
       "      <td>Киностудия \"Мосфильм\"</td>\n",
       "      <td>СССР</td>\n",
       "      <td>М.Туманишвили</td>\n",
       "      <td>NaN</td>\n",
       "      <td>«12+» - для детей старше 12 лет</td>\n",
       "      <td>NaN</td>\n",
       "      <td>NaN</td>\n",
       "      <td>NaN</td>\n",
       "      <td>NaN</td>\n",
       "      <td>7.80</td>\n",
       "      <td>боевик,драма,приключения</td>\n",
       "      <td>NaN</td>\n",
       "    </tr>\n",
       "    <tr>\n",
       "      <th>...</th>\n",
       "      <td>...</td>\n",
       "      <td>...</td>\n",
       "      <td>...</td>\n",
       "      <td>...</td>\n",
       "      <td>...</td>\n",
       "      <td>...</td>\n",
       "      <td>...</td>\n",
       "      <td>...</td>\n",
       "      <td>...</td>\n",
       "      <td>...</td>\n",
       "      <td>...</td>\n",
       "      <td>...</td>\n",
       "      <td>...</td>\n",
       "      <td>...</td>\n",
       "      <td>...</td>\n",
       "      <td>...</td>\n",
       "    </tr>\n",
       "    <tr>\n",
       "      <th>7404</th>\n",
       "      <td>Отряд специального назначения</td>\n",
       "      <td>111020419</td>\n",
       "      <td>2019-12-01 12:00:00+00:00</td>\n",
       "      <td>Художественный</td>\n",
       "      <td>Свердловская киностудия</td>\n",
       "      <td>СССР</td>\n",
       "      <td>Г.Кузнецов</td>\n",
       "      <td>NaN</td>\n",
       "      <td>«6+» - для детей старше 6 лет</td>\n",
       "      <td>NaN</td>\n",
       "      <td>NaN</td>\n",
       "      <td>NaN</td>\n",
       "      <td>NaN</td>\n",
       "      <td>7.00</td>\n",
       "      <td>приключения,военный</td>\n",
       "      <td>NaN</td>\n",
       "    </tr>\n",
       "    <tr>\n",
       "      <th>7405</th>\n",
       "      <td>Назначаешься внучкой</td>\n",
       "      <td>111020519</td>\n",
       "      <td>2019-12-01 12:00:00+00:00</td>\n",
       "      <td>Художественный</td>\n",
       "      <td>Свердловская киностудия</td>\n",
       "      <td>СССР</td>\n",
       "      <td>Я.Лапшин</td>\n",
       "      <td>NaN</td>\n",
       "      <td>«12+» - для детей старше 12 лет</td>\n",
       "      <td>NaN</td>\n",
       "      <td>NaN</td>\n",
       "      <td>NaN</td>\n",
       "      <td>NaN</td>\n",
       "      <td>7.00</td>\n",
       "      <td>военный</td>\n",
       "      <td>NaN</td>\n",
       "    </tr>\n",
       "    <tr>\n",
       "      <th>7406</th>\n",
       "      <td>Перед рассветом</td>\n",
       "      <td>111020619</td>\n",
       "      <td>2019-12-01 12:00:00+00:00</td>\n",
       "      <td>Художественный</td>\n",
       "      <td>Свердловская киностудия</td>\n",
       "      <td>СССР</td>\n",
       "      <td>Я.Лапшин</td>\n",
       "      <td>NaN</td>\n",
       "      <td>«16+» - для детей старше 16 лет</td>\n",
       "      <td>NaN</td>\n",
       "      <td>NaN</td>\n",
       "      <td>NaN</td>\n",
       "      <td>NaN</td>\n",
       "      <td>7.90</td>\n",
       "      <td>драма,мелодрама</td>\n",
       "      <td>NaN</td>\n",
       "    </tr>\n",
       "    <tr>\n",
       "      <th>7407</th>\n",
       "      <td>Ты помнишь</td>\n",
       "      <td>111020719</td>\n",
       "      <td>2019-12-01 12:00:00+00:00</td>\n",
       "      <td>Художественный</td>\n",
       "      <td>Свердловская киностудия</td>\n",
       "      <td>СССР</td>\n",
       "      <td>О.Николаевский</td>\n",
       "      <td>NaN</td>\n",
       "      <td>«12+» - для детей старше 12 лет</td>\n",
       "      <td>NaN</td>\n",
       "      <td>NaN</td>\n",
       "      <td>NaN</td>\n",
       "      <td>NaN</td>\n",
       "      <td>7.00</td>\n",
       "      <td>драма,мелодрама,военный</td>\n",
       "      <td>NaN</td>\n",
       "    </tr>\n",
       "    <tr>\n",
       "      <th>7408</th>\n",
       "      <td>Здесь твой фронт</td>\n",
       "      <td>111020819</td>\n",
       "      <td>2019-12-01 12:00:00+00:00</td>\n",
       "      <td>Художественный</td>\n",
       "      <td>Свердловская киностудия</td>\n",
       "      <td>СССР</td>\n",
       "      <td>Э.Гаврилов</td>\n",
       "      <td>NaN</td>\n",
       "      <td>«16+» - для детей старше 16 лет</td>\n",
       "      <td>NaN</td>\n",
       "      <td>NaN</td>\n",
       "      <td>NaN</td>\n",
       "      <td>NaN</td>\n",
       "      <td>5.80</td>\n",
       "      <td>драма,военный</td>\n",
       "      <td>NaN</td>\n",
       "    </tr>\n",
       "  </tbody>\n",
       "</table>\n",
       "<p>567 rows × 16 columns</p>\n",
       "</div>"
      ],
      "text/plain": [
       "                              title  pu_number           show_start_date  \\\n",
       "1              Особо важное задание  111013716 2016-09-13 12:00:00+00:00   \n",
       "5                 Остановился поезд  111013816 2016-09-13 12:00:00+00:00   \n",
       "6                   Любовь и голуби  111007013 2013-10-18 12:00:00+00:00   \n",
       "9               Отпуск за свой счет  111019114 2014-12-01 12:00:00+00:00   \n",
       "11                     Ответный ход  111019014 2014-12-01 12:00:00+00:00   \n",
       "...                             ...        ...                       ...   \n",
       "7404  Отряд специального назначения  111020419 2019-12-01 12:00:00+00:00   \n",
       "7405           Назначаешься внучкой  111020519 2019-12-01 12:00:00+00:00   \n",
       "7406                Перед рассветом  111020619 2019-12-01 12:00:00+00:00   \n",
       "7407                     Ты помнишь  111020719 2019-12-01 12:00:00+00:00   \n",
       "7408               Здесь твой фронт  111020819 2019-12-01 12:00:00+00:00   \n",
       "\n",
       "                 type                             film_studio  \\\n",
       "1      Художественный                   Киностудия \"Мосфильм\"   \n",
       "5      Художественный                   Киностудия \"Мосфильм\"   \n",
       "6      Художественный                   Киностудия \"Мосфильм\"   \n",
       "9      Художественный  Киностудия \"Мосфильм\", Телевидение ВНР   \n",
       "11     Художественный                   Киностудия \"Мосфильм\"   \n",
       "...               ...                                     ...   \n",
       "7404   Художественный                 Свердловская киностудия   \n",
       "7405   Художественный                 Свердловская киностудия   \n",
       "7406   Художественный                 Свердловская киностудия   \n",
       "7407   Художественный                 Свердловская киностудия   \n",
       "7408   Художественный                 Свердловская киностудия   \n",
       "\n",
       "     production_country        director producer  \\\n",
       "1                  СССР       Е.Матвеев      NaN   \n",
       "5                  СССР    В.Абдрашитов      NaN   \n",
       "6                  СССР       В.Меньшов      NaN   \n",
       "9         СССР, Венгрия         В.Титов      NaN   \n",
       "11                 СССР   М.Туманишвили      NaN   \n",
       "...                 ...             ...      ...   \n",
       "7404               СССР      Г.Кузнецов      NaN   \n",
       "7405               СССР        Я.Лапшин      NaN   \n",
       "7406               СССР        Я.Лапшин      NaN   \n",
       "7407               СССР  О.Николаевский      NaN   \n",
       "7408               СССР      Э.Гаврилов      NaN   \n",
       "\n",
       "                      age_restriction  refundable_support  \\\n",
       "1       «6+» - для детей старше 6 лет                 NaN   \n",
       "5       «6+» - для детей старше 6 лет                 NaN   \n",
       "6     «12+» - для детей старше 12 лет                 NaN   \n",
       "9     «12+» - для детей старше 12 лет                 NaN   \n",
       "11    «12+» - для детей старше 12 лет                 NaN   \n",
       "...                               ...                 ...   \n",
       "7404    «6+» - для детей старше 6 лет                 NaN   \n",
       "7405  «12+» - для детей старше 12 лет                 NaN   \n",
       "7406  «16+» - для детей старше 16 лет                 NaN   \n",
       "7407  «12+» - для детей старше 12 лет                 NaN   \n",
       "7408  «16+» - для детей старше 16 лет                 NaN   \n",
       "\n",
       "      nonrefundable_support  budget financing_source  ratings  \\\n",
       "1                       NaN     NaN              NaN     6.60   \n",
       "5                       NaN     NaN              NaN     7.70   \n",
       "6                       NaN     NaN              NaN     8.30   \n",
       "9                       NaN     NaN              NaN     7.80   \n",
       "11                      NaN     NaN              NaN     7.80   \n",
       "...                     ...     ...              ...      ...   \n",
       "7404                    NaN     NaN              NaN     7.00   \n",
       "7405                    NaN     NaN              NaN     7.00   \n",
       "7406                    NaN     NaN              NaN     7.90   \n",
       "7407                    NaN     NaN              NaN     7.00   \n",
       "7408                    NaN     NaN              NaN     5.80   \n",
       "\n",
       "                        genres  box_office  \n",
       "1                драма,военный         NaN  \n",
       "5                        драма         NaN  \n",
       "6            мелодрама,комедия    2,700.00  \n",
       "9            мелодрама,комедия         NaN  \n",
       "11    боевик,драма,приключения         NaN  \n",
       "...                        ...         ...  \n",
       "7404       приключения,военный         NaN  \n",
       "7405                   военный         NaN  \n",
       "7406           драма,мелодрама         NaN  \n",
       "7407   драма,мелодрама,военный         NaN  \n",
       "7408             драма,военный         NaN  \n",
       "\n",
       "[567 rows x 16 columns]"
      ]
     },
     "execution_count": 22,
     "metadata": {},
     "output_type": "execute_result"
    }
   ],
   "source": [
    "movies [movies ['producer'].isna() == True] #познакомимся с пропусками в столбце 'producer' "
   ]
  },
  {
   "cell_type": "markdown",
   "metadata": {},
   "source": [
    "Большинство строк — это фильмы СССР. В СССР Продюссеров не было. Заменим в таких строках имя продюсера именем киностудии"
   ]
  },
  {
   "cell_type": "code",
   "execution_count": 23,
   "metadata": {
    "scrolled": true
   },
   "outputs": [],
   "source": [
    "# Заменяем значения в столбце producer на значения из столбца film_studio, используя маску и условие по столбцу production_country\n",
    "mask = movies['producer'].isna()\n",
    "movies.loc[mask & movies['production_country'].str.contains('СССР'), 'producer'] = movies['film_studio']\n",
    "movies['producer'] = movies['producer'].fillna('Неизвестен') #в остальных пропусках заменим на «Неизвестен»"
   ]
  },
  {
   "cell_type": "code",
   "execution_count": 24,
   "metadata": {},
   "outputs": [
    {
     "data": {
      "text/html": [
       "<div>\n",
       "<style scoped>\n",
       "    .dataframe tbody tr th:only-of-type {\n",
       "        vertical-align: middle;\n",
       "    }\n",
       "\n",
       "    .dataframe tbody tr th {\n",
       "        vertical-align: top;\n",
       "    }\n",
       "\n",
       "    .dataframe thead th {\n",
       "        text-align: right;\n",
       "    }\n",
       "</style>\n",
       "<table border=\"1\" class=\"dataframe\">\n",
       "  <thead>\n",
       "    <tr style=\"text-align: right;\">\n",
       "      <th></th>\n",
       "      <th>title</th>\n",
       "      <th>pu_number</th>\n",
       "      <th>show_start_date</th>\n",
       "      <th>type</th>\n",
       "      <th>film_studio</th>\n",
       "      <th>production_country</th>\n",
       "      <th>director</th>\n",
       "      <th>producer</th>\n",
       "      <th>age_restriction</th>\n",
       "      <th>refundable_support</th>\n",
       "      <th>nonrefundable_support</th>\n",
       "      <th>budget</th>\n",
       "      <th>financing_source</th>\n",
       "      <th>ratings</th>\n",
       "      <th>genres</th>\n",
       "      <th>box_office</th>\n",
       "    </tr>\n",
       "  </thead>\n",
       "  <tbody>\n",
       "    <tr>\n",
       "      <th>43</th>\n",
       "      <td>Мемуары гейши (по роману Артура Голдена)</td>\n",
       "      <td>121000606</td>\n",
       "      <td>2012-12-14 12:00:00+00:00</td>\n",
       "      <td>Художественный</td>\n",
       "      <td>Коламбия Пикчерз Корпорейшн, ДримУоркс ЭсКейДж...</td>\n",
       "      <td>США</td>\n",
       "      <td>Роб Маршалл</td>\n",
       "      <td>Стивен Спилберг, Люси Фишер, Дуглас Уик, Джон ...</td>\n",
       "      <td>«12+» - для детей старше 12 лет</td>\n",
       "      <td>NaN</td>\n",
       "      <td>NaN</td>\n",
       "      <td>NaN</td>\n",
       "      <td>NaN</td>\n",
       "      <td>NaN</td>\n",
       "      <td>NaN</td>\n",
       "      <td>NaN</td>\n",
       "    </tr>\n",
       "    <tr>\n",
       "      <th>150</th>\n",
       "      <td>Жди меня</td>\n",
       "      <td>111013615</td>\n",
       "      <td>2015-08-25 12:00:00+00:00</td>\n",
       "      <td>Художественный</td>\n",
       "      <td>Киностудия \"Мосфильм\"</td>\n",
       "      <td>СССР</td>\n",
       "      <td>А.Столпер, Б.Иванов</td>\n",
       "      <td>Киностудия \"Мосфильм\"</td>\n",
       "      <td>«6+» - для детей старше 6 лет</td>\n",
       "      <td>NaN</td>\n",
       "      <td>NaN</td>\n",
       "      <td>NaN</td>\n",
       "      <td>NaN</td>\n",
       "      <td>NaN</td>\n",
       "      <td>NaN</td>\n",
       "      <td>NaN</td>\n",
       "    </tr>\n",
       "    <tr>\n",
       "      <th>154</th>\n",
       "      <td>Дом из песка и тумана (по книге Андре Дюбуи III)</td>\n",
       "      <td>221037813</td>\n",
       "      <td>2013-10-25 12:00:00+00:00</td>\n",
       "      <td>Художественный</td>\n",
       "      <td>Кобальт Пикчерз</td>\n",
       "      <td>США</td>\n",
       "      <td>Вадим Перельман</td>\n",
       "      <td>Майкл Лондон</td>\n",
       "      <td>«16+» - для детей старше 16 лет</td>\n",
       "      <td>NaN</td>\n",
       "      <td>NaN</td>\n",
       "      <td>NaN</td>\n",
       "      <td>NaN</td>\n",
       "      <td>NaN</td>\n",
       "      <td>NaN</td>\n",
       "      <td>NaN</td>\n",
       "    </tr>\n",
       "    <tr>\n",
       "      <th>159</th>\n",
       "      <td>Жемчужная девушка</td>\n",
       "      <td>224011014</td>\n",
       "      <td>2014-08-28 12:00:00+00:00</td>\n",
       "      <td>Художественный</td>\n",
       "      <td>Чешское телевидение,Студия \"Три брата\" агентск...</td>\n",
       "      <td>Чехия</td>\n",
       "      <td>Владимир Дрга</td>\n",
       "      <td>Неизвестен</td>\n",
       "      <td>«0+» - для любой зрительской аудитории</td>\n",
       "      <td>NaN</td>\n",
       "      <td>NaN</td>\n",
       "      <td>NaN</td>\n",
       "      <td>NaN</td>\n",
       "      <td>NaN</td>\n",
       "      <td>NaN</td>\n",
       "      <td>NaN</td>\n",
       "    </tr>\n",
       "    <tr>\n",
       "      <th>227</th>\n",
       "      <td>Полустанок</td>\n",
       "      <td>111026714</td>\n",
       "      <td>2014-12-24 12:00:00+00:00</td>\n",
       "      <td>Художественный</td>\n",
       "      <td>Киностудия \"Мосфильм\"</td>\n",
       "      <td>СССР</td>\n",
       "      <td>Б.Барнет</td>\n",
       "      <td>Киностудия \"Мосфильм\"</td>\n",
       "      <td>«12+» - для детей старше 12 лет</td>\n",
       "      <td>NaN</td>\n",
       "      <td>NaN</td>\n",
       "      <td>NaN</td>\n",
       "      <td>NaN</td>\n",
       "      <td>NaN</td>\n",
       "      <td>NaN</td>\n",
       "      <td>NaN</td>\n",
       "    </tr>\n",
       "    <tr>\n",
       "      <th>...</th>\n",
       "      <td>...</td>\n",
       "      <td>...</td>\n",
       "      <td>...</td>\n",
       "      <td>...</td>\n",
       "      <td>...</td>\n",
       "      <td>...</td>\n",
       "      <td>...</td>\n",
       "      <td>...</td>\n",
       "      <td>...</td>\n",
       "      <td>...</td>\n",
       "      <td>...</td>\n",
       "      <td>...</td>\n",
       "      <td>...</td>\n",
       "      <td>...</td>\n",
       "      <td>...</td>\n",
       "      <td>...</td>\n",
       "    </tr>\n",
       "    <tr>\n",
       "      <th>7478</th>\n",
       "      <td>Эколав</td>\n",
       "      <td>111023219</td>\n",
       "      <td>2019-12-26 12:00:00+00:00</td>\n",
       "      <td>Художественный</td>\n",
       "      <td>ВГИК</td>\n",
       "      <td>Россия</td>\n",
       "      <td>Д.Григорьев</td>\n",
       "      <td>ВГИК</td>\n",
       "      <td>«18+» - запрещено для детей</td>\n",
       "      <td>NaN</td>\n",
       "      <td>NaN</td>\n",
       "      <td>NaN</td>\n",
       "      <td>NaN</td>\n",
       "      <td>NaN</td>\n",
       "      <td>NaN</td>\n",
       "      <td>NaN</td>\n",
       "    </tr>\n",
       "    <tr>\n",
       "      <th>7479</th>\n",
       "      <td>Акрам Хан: Родом из Карри Хауса</td>\n",
       "      <td>126007919</td>\n",
       "      <td>2019-12-23 12:00:00+00:00</td>\n",
       "      <td>Прочие</td>\n",
       "      <td>Свон Филмз</td>\n",
       "      <td>Великобритания</td>\n",
       "      <td>Ник Пойнц</td>\n",
       "      <td>Поппи Бегум, Ник Пойнц</td>\n",
       "      <td>«12+» - для детей старше 12 лет</td>\n",
       "      <td>NaN</td>\n",
       "      <td>NaN</td>\n",
       "      <td>NaN</td>\n",
       "      <td>NaN</td>\n",
       "      <td>NaN</td>\n",
       "      <td>NaN</td>\n",
       "      <td>219,569.00</td>\n",
       "    </tr>\n",
       "    <tr>\n",
       "      <th>7480</th>\n",
       "      <td>Сад художника: Американский импрессионизм</td>\n",
       "      <td>126008019</td>\n",
       "      <td>2019-12-23 12:00:00+00:00</td>\n",
       "      <td>Прочие</td>\n",
       "      <td>Севен Артс Продакшнз</td>\n",
       "      <td>Великобритания</td>\n",
       "      <td>Фил Грабски</td>\n",
       "      <td>Фил Грабски</td>\n",
       "      <td>«12+» - для детей старше 12 лет</td>\n",
       "      <td>NaN</td>\n",
       "      <td>NaN</td>\n",
       "      <td>NaN</td>\n",
       "      <td>NaN</td>\n",
       "      <td>NaN</td>\n",
       "      <td>NaN</td>\n",
       "      <td>NaN</td>\n",
       "    </tr>\n",
       "    <tr>\n",
       "      <th>7482</th>\n",
       "      <td>Щенячий патруль: Скорей спешим на помощь!</td>\n",
       "      <td>124010819</td>\n",
       "      <td>2019-12-28 12:00:00+00:00</td>\n",
       "      <td>Художественный</td>\n",
       "      <td>Никелодеон Анимейшн Студиос, Спин Мастер</td>\n",
       "      <td>США - Канада</td>\n",
       "      <td>Чарльз Е.Бастьен</td>\n",
       "      <td>Дженнифер Додж</td>\n",
       "      <td>«0+» - для любой зрительской аудитории</td>\n",
       "      <td>NaN</td>\n",
       "      <td>NaN</td>\n",
       "      <td>NaN</td>\n",
       "      <td>NaN</td>\n",
       "      <td>NaN</td>\n",
       "      <td>NaN</td>\n",
       "      <td>NaN</td>\n",
       "    </tr>\n",
       "    <tr>\n",
       "      <th>7483</th>\n",
       "      <td>Машины песенки. Серия \"Испанские мотивы\"</td>\n",
       "      <td>124010619</td>\n",
       "      <td>2019-12-30 12:00:00+00:00</td>\n",
       "      <td>Анимационный</td>\n",
       "      <td>Анимаккорд Лтд., ООО Студия \"АНИМАККОРД\"</td>\n",
       "      <td>Республика Кипр, Россия</td>\n",
       "      <td>А.Беляев</td>\n",
       "      <td>Д.Ловейко</td>\n",
       "      <td>«0+» - для любой зрительской аудитории</td>\n",
       "      <td>NaN</td>\n",
       "      <td>NaN</td>\n",
       "      <td>NaN</td>\n",
       "      <td>NaN</td>\n",
       "      <td>NaN</td>\n",
       "      <td>NaN</td>\n",
       "      <td>NaN</td>\n",
       "    </tr>\n",
       "  </tbody>\n",
       "</table>\n",
       "<p>975 rows × 16 columns</p>\n",
       "</div>"
      ],
      "text/plain": [
       "                                                 title  pu_number  \\\n",
       "43            Мемуары гейши (по роману Артура Голдена)  121000606   \n",
       "150                                           Жди меня  111013615   \n",
       "154   Дом из песка и тумана (по книге Андре Дюбуи III)  221037813   \n",
       "159                                  Жемчужная девушка  224011014   \n",
       "227                                         Полустанок  111026714   \n",
       "...                                                ...        ...   \n",
       "7478                                            Эколав  111023219   \n",
       "7479                   Акрам Хан: Родом из Карри Хауса  126007919   \n",
       "7480         Сад художника: Американский импрессионизм  126008019   \n",
       "7482         Щенячий патруль: Скорей спешим на помощь!  124010819   \n",
       "7483          Машины песенки. Серия \"Испанские мотивы\"  124010619   \n",
       "\n",
       "               show_start_date             type  \\\n",
       "43   2012-12-14 12:00:00+00:00   Художественный   \n",
       "150  2015-08-25 12:00:00+00:00   Художественный   \n",
       "154  2013-10-25 12:00:00+00:00   Художественный   \n",
       "159  2014-08-28 12:00:00+00:00   Художественный   \n",
       "227  2014-12-24 12:00:00+00:00   Художественный   \n",
       "...                        ...              ...   \n",
       "7478 2019-12-26 12:00:00+00:00   Художественный   \n",
       "7479 2019-12-23 12:00:00+00:00           Прочие   \n",
       "7480 2019-12-23 12:00:00+00:00           Прочие   \n",
       "7482 2019-12-28 12:00:00+00:00   Художественный   \n",
       "7483 2019-12-30 12:00:00+00:00     Анимационный   \n",
       "\n",
       "                                            film_studio  \\\n",
       "43    Коламбия Пикчерз Корпорейшн, ДримУоркс ЭсКейДж...   \n",
       "150                               Киностудия \"Мосфильм\"   \n",
       "154                                     Кобальт Пикчерз   \n",
       "159   Чешское телевидение,Студия \"Три брата\" агентск...   \n",
       "227                               Киностудия \"Мосфильм\"   \n",
       "...                                                 ...   \n",
       "7478                                               ВГИК   \n",
       "7479                                         Свон Филмз   \n",
       "7480                               Севен Артс Продакшнз   \n",
       "7482           Никелодеон Анимейшн Студиос, Спин Мастер   \n",
       "7483           Анимаккорд Лтд., ООО Студия \"АНИМАККОРД\"   \n",
       "\n",
       "           production_country             director  \\\n",
       "43                        США          Роб Маршалл   \n",
       "150                      СССР  А.Столпер, Б.Иванов   \n",
       "154                       США      Вадим Перельман   \n",
       "159                     Чехия        Владимир Дрга   \n",
       "227                      СССР             Б.Барнет   \n",
       "...                       ...                  ...   \n",
       "7478                   Россия          Д.Григорьев   \n",
       "7479           Великобритания            Ник Пойнц   \n",
       "7480           Великобритания          Фил Грабски   \n",
       "7482             США - Канада     Чарльз Е.Бастьен   \n",
       "7483  Республика Кипр, Россия             А.Беляев   \n",
       "\n",
       "                                               producer  \\\n",
       "43    Стивен Спилберг, Люси Фишер, Дуглас Уик, Джон ...   \n",
       "150                               Киностудия \"Мосфильм\"   \n",
       "154                                        Майкл Лондон   \n",
       "159                                          Неизвестен   \n",
       "227                               Киностудия \"Мосфильм\"   \n",
       "...                                                 ...   \n",
       "7478                                               ВГИК   \n",
       "7479                             Поппи Бегум, Ник Пойнц   \n",
       "7480                                        Фил Грабски   \n",
       "7482                                     Дженнифер Додж   \n",
       "7483                                          Д.Ловейко   \n",
       "\n",
       "                             age_restriction  refundable_support  \\\n",
       "43           «12+» - для детей старше 12 лет                 NaN   \n",
       "150            «6+» - для детей старше 6 лет                 NaN   \n",
       "154          «16+» - для детей старше 16 лет                 NaN   \n",
       "159   «0+» - для любой зрительской аудитории                 NaN   \n",
       "227          «12+» - для детей старше 12 лет                 NaN   \n",
       "...                                      ...                 ...   \n",
       "7478             «18+» - запрещено для детей                 NaN   \n",
       "7479         «12+» - для детей старше 12 лет                 NaN   \n",
       "7480         «12+» - для детей старше 12 лет                 NaN   \n",
       "7482  «0+» - для любой зрительской аудитории                 NaN   \n",
       "7483  «0+» - для любой зрительской аудитории                 NaN   \n",
       "\n",
       "      nonrefundable_support  budget financing_source  ratings genres  \\\n",
       "43                      NaN     NaN              NaN      NaN    NaN   \n",
       "150                     NaN     NaN              NaN      NaN    NaN   \n",
       "154                     NaN     NaN              NaN      NaN    NaN   \n",
       "159                     NaN     NaN              NaN      NaN    NaN   \n",
       "227                     NaN     NaN              NaN      NaN    NaN   \n",
       "...                     ...     ...              ...      ...    ...   \n",
       "7478                    NaN     NaN              NaN      NaN    NaN   \n",
       "7479                    NaN     NaN              NaN      NaN    NaN   \n",
       "7480                    NaN     NaN              NaN      NaN    NaN   \n",
       "7482                    NaN     NaN              NaN      NaN    NaN   \n",
       "7483                    NaN     NaN              NaN      NaN    NaN   \n",
       "\n",
       "      box_office  \n",
       "43           NaN  \n",
       "150          NaN  \n",
       "154          NaN  \n",
       "159          NaN  \n",
       "227          NaN  \n",
       "...          ...  \n",
       "7478         NaN  \n",
       "7479  219,569.00  \n",
       "7480         NaN  \n",
       "7482         NaN  \n",
       "7483         NaN  \n",
       "\n",
       "[975 rows x 16 columns]"
      ]
     },
     "execution_count": 24,
     "metadata": {},
     "output_type": "execute_result"
    }
   ],
   "source": [
    "movies [movies ['genres'].isna() == True] #познакомимся с пропусками в жанрах"
   ]
  },
  {
   "cell_type": "markdown",
   "metadata": {},
   "source": [
    "Пропуски жанров в категории `age_restriction` '«0+» - для любой зрительской аудитории' можно заменить на мультфильм"
   ]
  },
  {
   "cell_type": "code",
   "execution_count": 25,
   "metadata": {},
   "outputs": [],
   "source": [
    "movies.loc[(movies['genres'].isna()) & (movies['age_restriction'] == '«0+» - для любой зрительской аудитории'), 'genres'] = 'мультфильм'\n",
    "#Остальные заменим на «Неизвестен»\n",
    "movies['genres'] = movies['genres'].fillna('Неизвестен') "
   ]
  },
  {
   "cell_type": "code",
   "execution_count": 26,
   "metadata": {
    "id": "aKck8RIdgFyQ"
   },
   "outputs": [
    {
     "name": "stdout",
     "output_type": "stream",
     "text": [
      "<class 'pandas.core.frame.DataFrame'>\n",
      "Int64Index: 7484 entries, 0 to 7484\n",
      "Data columns (total 16 columns):\n",
      " #   Column                 Non-Null Count  Dtype              \n",
      "---  ------                 --------------  -----              \n",
      " 0   title                  7484 non-null   object             \n",
      " 1   pu_number              7484 non-null   int64              \n",
      " 2   show_start_date        7484 non-null   datetime64[ns, UTC]\n",
      " 3   type                   7484 non-null   object             \n",
      " 4   film_studio            7484 non-null   object             \n",
      " 5   production_country     7484 non-null   object             \n",
      " 6   director               7484 non-null   object             \n",
      " 7   producer               7484 non-null   object             \n",
      " 8   age_restriction        7484 non-null   object             \n",
      " 9   refundable_support     332 non-null    float64            \n",
      " 10  nonrefundable_support  332 non-null    float64            \n",
      " 11  budget                 332 non-null    float64            \n",
      " 12  financing_source       332 non-null    object             \n",
      " 13  ratings                6518 non-null   float64            \n",
      " 14  genres                 7484 non-null   object             \n",
      " 15  box_office             3158 non-null   float64            \n",
      "dtypes: datetime64[ns, UTC](1), float64(5), int64(1), object(9)\n",
      "memory usage: 1.2+ MB\n"
     ]
    }
   ],
   "source": [
    "movies.info()"
   ]
  },
  {
   "cell_type": "markdown",
   "metadata": {},
   "source": [
    "Остальные пропуски не будем заполнять, так как у нас нет достоверных данных для этого.\n",
    "Причина возникновения пропусков:\n",
    "1. Человекская ошибка.\n",
    "2. Нет системы, но этой системы и не будет. Ведь если о популярных фильмах у нас будет много данных, то о маленьких проектах информации может не хвататать. Точно так же как и о старых проектах."
   ]
  },
  {
   "cell_type": "markdown",
   "metadata": {
    "id": "4c6k1t9ygFyQ"
   },
   "source": [
    "<a id=\"duplicates\"></a> \n",
    "### Обработка дубликатов\n",
    "- Проверьте, есть ли в данных дубликаты. Опишите причины, которые могли повлиять на появление дублей."
   ]
  },
  {
   "cell_type": "code",
   "execution_count": 27,
   "metadata": {},
   "outputs": [
    {
     "data": {
      "text/plain": [
       "0"
      ]
     },
     "execution_count": 27,
     "metadata": {},
     "output_type": "execute_result"
    }
   ],
   "source": [
    "movies.duplicated().sum()"
   ]
  },
  {
   "cell_type": "code",
   "execution_count": 28,
   "metadata": {},
   "outputs": [
    {
     "data": {
      "text/html": [
       "<div>\n",
       "<style scoped>\n",
       "    .dataframe tbody tr th:only-of-type {\n",
       "        vertical-align: middle;\n",
       "    }\n",
       "\n",
       "    .dataframe tbody tr th {\n",
       "        vertical-align: top;\n",
       "    }\n",
       "\n",
       "    .dataframe thead th {\n",
       "        text-align: right;\n",
       "    }\n",
       "</style>\n",
       "<table border=\"1\" class=\"dataframe\">\n",
       "  <thead>\n",
       "    <tr style=\"text-align: right;\">\n",
       "      <th></th>\n",
       "      <th>title</th>\n",
       "      <th>pu_number</th>\n",
       "      <th>show_start_date</th>\n",
       "      <th>type</th>\n",
       "      <th>film_studio</th>\n",
       "      <th>production_country</th>\n",
       "      <th>director</th>\n",
       "      <th>producer</th>\n",
       "      <th>age_restriction</th>\n",
       "      <th>refundable_support</th>\n",
       "      <th>nonrefundable_support</th>\n",
       "      <th>budget</th>\n",
       "      <th>financing_source</th>\n",
       "      <th>ratings</th>\n",
       "      <th>genres</th>\n",
       "      <th>box_office</th>\n",
       "    </tr>\n",
       "  </thead>\n",
       "  <tbody>\n",
       "    <tr>\n",
       "      <th>455</th>\n",
       "      <td>100 миллионов евро</td>\n",
       "      <td>121013712</td>\n",
       "      <td>2012-06-06 12:00:00+00:00</td>\n",
       "      <td>Художественный</td>\n",
       "      <td>Патэ, Эсквуд, Серенити Фильм, ТФ1 Фильм Продюк...</td>\n",
       "      <td>Франция</td>\n",
       "      <td>Оливер Барру</td>\n",
       "      <td>Ричард Грандпьерр</td>\n",
       "      <td>«16+» - для детей старше 16 лет</td>\n",
       "      <td>NaN</td>\n",
       "      <td>NaN</td>\n",
       "      <td>NaN</td>\n",
       "      <td>NaN</td>\n",
       "      <td>6.10</td>\n",
       "      <td>комедия</td>\n",
       "      <td>NaN</td>\n",
       "    </tr>\n",
       "    <tr>\n",
       "      <th>454</th>\n",
       "      <td>100 миллионов евро</td>\n",
       "      <td>221024616</td>\n",
       "      <td>2016-05-25 12:00:00+00:00</td>\n",
       "      <td>Художественный</td>\n",
       "      <td>Патэ, Эсквуд, Серенити Фильм, ТФ1 Фильм Продюк...</td>\n",
       "      <td>Франция</td>\n",
       "      <td>Оливер Барру</td>\n",
       "      <td>Ричард Грандпьерр</td>\n",
       "      <td>«16+» - для детей старше 16 лет</td>\n",
       "      <td>NaN</td>\n",
       "      <td>NaN</td>\n",
       "      <td>NaN</td>\n",
       "      <td>NaN</td>\n",
       "      <td>6.10</td>\n",
       "      <td>комедия</td>\n",
       "      <td>NaN</td>\n",
       "    </tr>\n",
       "    <tr>\n",
       "      <th>4851</th>\n",
       "      <td>127 часов</td>\n",
       "      <td>121000811</td>\n",
       "      <td>2011-01-27 12:00:00+00:00</td>\n",
       "      <td>Художественный</td>\n",
       "      <td>Фокс Серчлайт Пикчерз, Клод Эйт Филмз, Филм Фо...</td>\n",
       "      <td>США - Великобритания</td>\n",
       "      <td>Дэнни Бойл</td>\n",
       "      <td>Бернард Беллью, Тесса Росс, Гаррет Смит</td>\n",
       "      <td>«16+» - для детей старше 16 лет</td>\n",
       "      <td>NaN</td>\n",
       "      <td>NaN</td>\n",
       "      <td>NaN</td>\n",
       "      <td>NaN</td>\n",
       "      <td>7.70</td>\n",
       "      <td>триллер,биография,драма</td>\n",
       "      <td>NaN</td>\n",
       "    </tr>\n",
       "    <tr>\n",
       "      <th>5057</th>\n",
       "      <td>127 часов</td>\n",
       "      <td>221069011</td>\n",
       "      <td>2011-05-18 12:00:00+00:00</td>\n",
       "      <td>Художественный</td>\n",
       "      <td>Фокс Серчлайт Пикчерз, Клод Эйт Филмз, Филм Фо...</td>\n",
       "      <td>США - Великобритания</td>\n",
       "      <td>Дэнни Бойл</td>\n",
       "      <td>Бернард Беллью, Тесса Росс, Гаррет Смит</td>\n",
       "      <td>«16+» - для детей старше 16 лет</td>\n",
       "      <td>NaN</td>\n",
       "      <td>NaN</td>\n",
       "      <td>NaN</td>\n",
       "      <td>NaN</td>\n",
       "      <td>7.70</td>\n",
       "      <td>триллер,биография,драма</td>\n",
       "      <td>NaN</td>\n",
       "    </tr>\n",
       "    <tr>\n",
       "      <th>3128</th>\n",
       "      <td>13 часов: Тайные солдаты Бенгази</td>\n",
       "      <td>221019616</td>\n",
       "      <td>2016-04-19 12:00:00+00:00</td>\n",
       "      <td>Художественный</td>\n",
       "      <td>Парамаунт, Дан Филмз, Латина Пикчарз,3 Арт Инт...</td>\n",
       "      <td>США</td>\n",
       "      <td>Майкл Бэй</td>\n",
       "      <td>Майкл Бэй, Эрвин Стофф</td>\n",
       "      <td>«18+» - запрещено для детей</td>\n",
       "      <td>NaN</td>\n",
       "      <td>NaN</td>\n",
       "      <td>NaN</td>\n",
       "      <td>NaN</td>\n",
       "      <td>6.70</td>\n",
       "      <td>боевик,триллер,драма</td>\n",
       "      <td>NaN</td>\n",
       "    </tr>\n",
       "    <tr>\n",
       "      <th>...</th>\n",
       "      <td>...</td>\n",
       "      <td>...</td>\n",
       "      <td>...</td>\n",
       "      <td>...</td>\n",
       "      <td>...</td>\n",
       "      <td>...</td>\n",
       "      <td>...</td>\n",
       "      <td>...</td>\n",
       "      <td>...</td>\n",
       "      <td>...</td>\n",
       "      <td>...</td>\n",
       "      <td>...</td>\n",
       "      <td>...</td>\n",
       "      <td>...</td>\n",
       "      <td>...</td>\n",
       "      <td>...</td>\n",
       "    </tr>\n",
       "    <tr>\n",
       "      <th>4504</th>\n",
       "      <td>Я ненавижу день святого Валентина</td>\n",
       "      <td>221139210</td>\n",
       "      <td>2010-12-03 12:00:00+00:00</td>\n",
       "      <td>Художественный</td>\n",
       "      <td>Блю Стар Пикчерз, Ай Хэйт Вдэй Продакшнз, Ай С...</td>\n",
       "      <td>США</td>\n",
       "      <td>Ниа Вардалос</td>\n",
       "      <td>Доминик Йанно, Мэдлейн Шерак, Уильям Шерак</td>\n",
       "      <td>«16+» - для детей старше 16 лет</td>\n",
       "      <td>NaN</td>\n",
       "      <td>NaN</td>\n",
       "      <td>NaN</td>\n",
       "      <td>NaN</td>\n",
       "      <td>5.00</td>\n",
       "      <td>мелодрама,комедия</td>\n",
       "      <td>NaN</td>\n",
       "    </tr>\n",
       "    <tr>\n",
       "      <th>1704</th>\n",
       "      <td>Я, снова я и мама</td>\n",
       "      <td>121030213</td>\n",
       "      <td>2013-11-21 12:00:00+00:00</td>\n",
       "      <td>Художественный</td>\n",
       "      <td>Гомон, Эль Джи Эм Продакшнз, Ректанль Продюксь...</td>\n",
       "      <td>Франция - Бельгия</td>\n",
       "      <td>Гийом Гальенн</td>\n",
       "      <td>Жан-Батист Дюпон, Алис Жирар, Сирил Кольбо-Жюстен</td>\n",
       "      <td>«16+» - для детей старше 16 лет</td>\n",
       "      <td>NaN</td>\n",
       "      <td>NaN</td>\n",
       "      <td>NaN</td>\n",
       "      <td>NaN</td>\n",
       "      <td>6.30</td>\n",
       "      <td>комедия,мелодрама,драма</td>\n",
       "      <td>NaN</td>\n",
       "    </tr>\n",
       "    <tr>\n",
       "      <th>1703</th>\n",
       "      <td>Я, снова я и мама</td>\n",
       "      <td>121013116</td>\n",
       "      <td>2016-05-23 12:00:00+00:00</td>\n",
       "      <td>Художественный</td>\n",
       "      <td>Гомон, Эль Джи Эм Продакшнз, Ректанль Продюксь...</td>\n",
       "      <td>Франция - Бельгия</td>\n",
       "      <td>Гийом Гальенн</td>\n",
       "      <td>Жан-Батист Дюпон, Алис Жирар, Сирил Кольбо-Жюстен</td>\n",
       "      <td>«16+» - для детей старше 16 лет</td>\n",
       "      <td>NaN</td>\n",
       "      <td>NaN</td>\n",
       "      <td>NaN</td>\n",
       "      <td>NaN</td>\n",
       "      <td>6.30</td>\n",
       "      <td>комедия,мелодрама,драма</td>\n",
       "      <td>NaN</td>\n",
       "    </tr>\n",
       "    <tr>\n",
       "      <th>6378</th>\n",
       "      <td>Ян Антонышев</td>\n",
       "      <td>112011818</td>\n",
       "      <td>2018-11-15 12:00:00+00:00</td>\n",
       "      <td>Документальный</td>\n",
       "      <td>Неизвестна</td>\n",
       "      <td>Россия</td>\n",
       "      <td>Е.Окопная</td>\n",
       "      <td>Е.Герасимов</td>\n",
       "      <td>«12+» - для детей старше 12 лет</td>\n",
       "      <td>NaN</td>\n",
       "      <td>NaN</td>\n",
       "      <td>NaN</td>\n",
       "      <td>NaN</td>\n",
       "      <td>NaN</td>\n",
       "      <td>Неизвестен</td>\n",
       "      <td>NaN</td>\n",
       "    </tr>\n",
       "    <tr>\n",
       "      <th>6379</th>\n",
       "      <td>Ян Антонышев</td>\n",
       "      <td>112011918</td>\n",
       "      <td>2018-11-15 12:00:00+00:00</td>\n",
       "      <td>Документальный</td>\n",
       "      <td>Неизвестна</td>\n",
       "      <td>Россия</td>\n",
       "      <td>Е.Окопная</td>\n",
       "      <td>Е.Герасимов</td>\n",
       "      <td>«12+» - для детей старше 12 лет</td>\n",
       "      <td>NaN</td>\n",
       "      <td>NaN</td>\n",
       "      <td>NaN</td>\n",
       "      <td>NaN</td>\n",
       "      <td>NaN</td>\n",
       "      <td>Неизвестен</td>\n",
       "      <td>NaN</td>\n",
       "    </tr>\n",
       "  </tbody>\n",
       "</table>\n",
       "<p>1272 rows × 16 columns</p>\n",
       "</div>"
      ],
      "text/plain": [
       "                                  title  pu_number           show_start_date  \\\n",
       "455                  100 миллионов евро  121013712 2012-06-06 12:00:00+00:00   \n",
       "454                  100 миллионов евро  221024616 2016-05-25 12:00:00+00:00   \n",
       "4851                          127 часов  121000811 2011-01-27 12:00:00+00:00   \n",
       "5057                          127 часов  221069011 2011-05-18 12:00:00+00:00   \n",
       "3128   13 часов: Тайные солдаты Бенгази  221019616 2016-04-19 12:00:00+00:00   \n",
       "...                                 ...        ...                       ...   \n",
       "4504  Я ненавижу день святого Валентина  221139210 2010-12-03 12:00:00+00:00   \n",
       "1704                  Я, снова я и мама  121030213 2013-11-21 12:00:00+00:00   \n",
       "1703                  Я, снова я и мама  121013116 2016-05-23 12:00:00+00:00   \n",
       "6378                       Ян Антонышев  112011818 2018-11-15 12:00:00+00:00   \n",
       "6379                       Ян Антонышев  112011918 2018-11-15 12:00:00+00:00   \n",
       "\n",
       "                type                                        film_studio  \\\n",
       "455   Художественный  Патэ, Эсквуд, Серенити Фильм, ТФ1 Фильм Продюк...   \n",
       "454   Художественный  Патэ, Эсквуд, Серенити Фильм, ТФ1 Фильм Продюк...   \n",
       "4851  Художественный  Фокс Серчлайт Пикчерз, Клод Эйт Филмз, Филм Фо...   \n",
       "5057  Художественный  Фокс Серчлайт Пикчерз, Клод Эйт Филмз, Филм Фо...   \n",
       "3128  Художественный  Парамаунт, Дан Филмз, Латина Пикчарз,3 Арт Инт...   \n",
       "...              ...                                                ...   \n",
       "4504  Художественный  Блю Стар Пикчерз, Ай Хэйт Вдэй Продакшнз, Ай С...   \n",
       "1704  Художественный  Гомон, Эль Джи Эм Продакшнз, Ректанль Продюксь...   \n",
       "1703  Художественный  Гомон, Эль Джи Эм Продакшнз, Ректанль Продюксь...   \n",
       "6378  Документальный                                         Неизвестна   \n",
       "6379  Документальный                                         Неизвестна   \n",
       "\n",
       "        production_country       director  \\\n",
       "455                Франция   Оливер Барру   \n",
       "454                Франция   Оливер Барру   \n",
       "4851  США - Великобритания     Дэнни Бойл   \n",
       "5057  США - Великобритания     Дэнни Бойл   \n",
       "3128                   США      Майкл Бэй   \n",
       "...                    ...            ...   \n",
       "4504                   США   Ниа Вардалос   \n",
       "1704     Франция - Бельгия  Гийом Гальенн   \n",
       "1703     Франция - Бельгия  Гийом Гальенн   \n",
       "6378                Россия      Е.Окопная   \n",
       "6379                Россия      Е.Окопная   \n",
       "\n",
       "                                               producer  \\\n",
       "455                                   Ричард Грандпьерр   \n",
       "454                                   Ричард Грандпьерр   \n",
       "4851            Бернард Беллью, Тесса Росс, Гаррет Смит   \n",
       "5057            Бернард Беллью, Тесса Росс, Гаррет Смит   \n",
       "3128                             Майкл Бэй, Эрвин Стофф   \n",
       "...                                                 ...   \n",
       "4504         Доминик Йанно, Мэдлейн Шерак, Уильям Шерак   \n",
       "1704  Жан-Батист Дюпон, Алис Жирар, Сирил Кольбо-Жюстен   \n",
       "1703  Жан-Батист Дюпон, Алис Жирар, Сирил Кольбо-Жюстен   \n",
       "6378                                        Е.Герасимов   \n",
       "6379                                        Е.Герасимов   \n",
       "\n",
       "                      age_restriction  refundable_support  \\\n",
       "455   «16+» - для детей старше 16 лет                 NaN   \n",
       "454   «16+» - для детей старше 16 лет                 NaN   \n",
       "4851  «16+» - для детей старше 16 лет                 NaN   \n",
       "5057  «16+» - для детей старше 16 лет                 NaN   \n",
       "3128      «18+» - запрещено для детей                 NaN   \n",
       "...                               ...                 ...   \n",
       "4504  «16+» - для детей старше 16 лет                 NaN   \n",
       "1704  «16+» - для детей старше 16 лет                 NaN   \n",
       "1703  «16+» - для детей старше 16 лет                 NaN   \n",
       "6378  «12+» - для детей старше 12 лет                 NaN   \n",
       "6379  «12+» - для детей старше 12 лет                 NaN   \n",
       "\n",
       "      nonrefundable_support  budget financing_source  ratings  \\\n",
       "455                     NaN     NaN              NaN     6.10   \n",
       "454                     NaN     NaN              NaN     6.10   \n",
       "4851                    NaN     NaN              NaN     7.70   \n",
       "5057                    NaN     NaN              NaN     7.70   \n",
       "3128                    NaN     NaN              NaN     6.70   \n",
       "...                     ...     ...              ...      ...   \n",
       "4504                    NaN     NaN              NaN     5.00   \n",
       "1704                    NaN     NaN              NaN     6.30   \n",
       "1703                    NaN     NaN              NaN     6.30   \n",
       "6378                    NaN     NaN              NaN      NaN   \n",
       "6379                    NaN     NaN              NaN      NaN   \n",
       "\n",
       "                       genres  box_office  \n",
       "455                   комедия         NaN  \n",
       "454                   комедия         NaN  \n",
       "4851  триллер,биография,драма         NaN  \n",
       "5057  триллер,биография,драма         NaN  \n",
       "3128     боевик,триллер,драма         NaN  \n",
       "...                       ...         ...  \n",
       "4504        мелодрама,комедия         NaN  \n",
       "1704  комедия,мелодрама,драма         NaN  \n",
       "1703  комедия,мелодрама,драма         NaN  \n",
       "6378               Неизвестен         NaN  \n",
       "6379               Неизвестен         NaN  \n",
       "\n",
       "[1272 rows x 16 columns]"
      ]
     },
     "execution_count": 28,
     "metadata": {},
     "output_type": "execute_result"
    }
   ],
   "source": [
    "movies[movies['title'].duplicated(keep=False)].sort_values(by='title')"
   ]
  },
  {
   "cell_type": "code",
   "execution_count": 29,
   "metadata": {},
   "outputs": [],
   "source": [
    "movies = movies.sort_values(by='box_office', ascending=True)\n",
    "# Указываем все столбцы, кроме тех, которые не должны учитываться при проверке на дубликаты\n",
    "subset_columns = movies.columns.difference(['pu_number', 'show_start_date', 'box_office'])\n",
    "\n",
    "# Удаляем дубликаты, оставляя только первое вхождение каждого уникального набора значений\n",
    "movies = movies.drop_duplicates(subset=subset_columns, keep='first', inplace=False)"
   ]
  },
  {
   "cell_type": "code",
   "execution_count": 30,
   "metadata": {},
   "outputs": [
    {
     "data": {
      "text/html": [
       "<div>\n",
       "<style scoped>\n",
       "    .dataframe tbody tr th:only-of-type {\n",
       "        vertical-align: middle;\n",
       "    }\n",
       "\n",
       "    .dataframe tbody tr th {\n",
       "        vertical-align: top;\n",
       "    }\n",
       "\n",
       "    .dataframe thead th {\n",
       "        text-align: right;\n",
       "    }\n",
       "</style>\n",
       "<table border=\"1\" class=\"dataframe\">\n",
       "  <thead>\n",
       "    <tr style=\"text-align: right;\">\n",
       "      <th></th>\n",
       "      <th>title</th>\n",
       "      <th>pu_number</th>\n",
       "      <th>show_start_date</th>\n",
       "      <th>type</th>\n",
       "      <th>film_studio</th>\n",
       "      <th>production_country</th>\n",
       "      <th>director</th>\n",
       "      <th>producer</th>\n",
       "      <th>age_restriction</th>\n",
       "      <th>refundable_support</th>\n",
       "      <th>nonrefundable_support</th>\n",
       "      <th>budget</th>\n",
       "      <th>financing_source</th>\n",
       "      <th>ratings</th>\n",
       "      <th>genres</th>\n",
       "      <th>box_office</th>\n",
       "    </tr>\n",
       "  </thead>\n",
       "  <tbody>\n",
       "    <tr>\n",
       "      <th>7264</th>\n",
       "      <td>Альдабра: Путешествие по таинственному острову</td>\n",
       "      <td>126003719</td>\n",
       "      <td>2019-09-30 12:00:00+00:00</td>\n",
       "      <td>Прочие</td>\n",
       "      <td>Старлайт Пикчерз</td>\n",
       "      <td>Чехия</td>\n",
       "      <td>Стив Лихтаг</td>\n",
       "      <td>Петр Келлер, Роберт Шнайдер, Леопольдо Гоут</td>\n",
       "      <td>«6+» - для детей старше 6 лет</td>\n",
       "      <td>NaN</td>\n",
       "      <td>NaN</td>\n",
       "      <td>NaN</td>\n",
       "      <td>NaN</td>\n",
       "      <td>6.80</td>\n",
       "      <td>семейный,приключения,документальный</td>\n",
       "      <td>NaN</td>\n",
       "    </tr>\n",
       "    <tr>\n",
       "      <th>3725</th>\n",
       "      <td>Альдабра: Путешествие по таинственному острову</td>\n",
       "      <td>126005616</td>\n",
       "      <td>2016-10-19 12:00:00+00:00</td>\n",
       "      <td>Прочие</td>\n",
       "      <td>Старлайт Пикчерз</td>\n",
       "      <td>Чехия</td>\n",
       "      <td>Стив Лихтаг</td>\n",
       "      <td>Леопольдо Гоут, Петр Келлер, Роберт Шнайдер</td>\n",
       "      <td>«6+» - для детей старше 6 лет</td>\n",
       "      <td>NaN</td>\n",
       "      <td>NaN</td>\n",
       "      <td>NaN</td>\n",
       "      <td>NaN</td>\n",
       "      <td>6.80</td>\n",
       "      <td>семейный,приключения,документальный</td>\n",
       "      <td>5,484,100.40</td>\n",
       "    </tr>\n",
       "    <tr>\n",
       "      <th>6551</th>\n",
       "      <td>Аниматор</td>\n",
       "      <td>111024818</td>\n",
       "      <td>2018-12-26 12:00:00+00:00</td>\n",
       "      <td>Художественный</td>\n",
       "      <td>ООО \"ФАВОРИТ МЕДИА\"</td>\n",
       "      <td>Россия</td>\n",
       "      <td>А.Чижиков, И.Чижиков</td>\n",
       "      <td>А.Чижиков, Н.Чижикова</td>\n",
       "      <td>«12+» - для детей старше 12 лет</td>\n",
       "      <td>NaN</td>\n",
       "      <td>NaN</td>\n",
       "      <td>NaN</td>\n",
       "      <td>NaN</td>\n",
       "      <td>NaN</td>\n",
       "      <td>Неизвестен</td>\n",
       "      <td>NaN</td>\n",
       "    </tr>\n",
       "    <tr>\n",
       "      <th>5835</th>\n",
       "      <td>Аниматор</td>\n",
       "      <td>111003818</td>\n",
       "      <td>2018-04-29 12:00:00+00:00</td>\n",
       "      <td>Художественный</td>\n",
       "      <td>ЗАО \"Кинокомпания ФаворитФильм\" по заказу ООО...</td>\n",
       "      <td>Россия</td>\n",
       "      <td>А.Чижиков, И.Чижиков</td>\n",
       "      <td>А.Чижиков, Н.Чижикова</td>\n",
       "      <td>«12+» - для детей старше 12 лет</td>\n",
       "      <td>NaN</td>\n",
       "      <td>NaN</td>\n",
       "      <td>NaN</td>\n",
       "      <td>NaN</td>\n",
       "      <td>NaN</td>\n",
       "      <td>Неизвестен</td>\n",
       "      <td>NaN</td>\n",
       "    </tr>\n",
       "    <tr>\n",
       "      <th>7312</th>\n",
       "      <td>Безумный Макс: Дорога ярости</td>\n",
       "      <td>121030019</td>\n",
       "      <td>2019-12-06 12:00:00+00:00</td>\n",
       "      <td>Художественный</td>\n",
       "      <td>Уорнер Бразерс Пикчерс</td>\n",
       "      <td>Австралия, США</td>\n",
       "      <td>Джордж Миллер</td>\n",
       "      <td>Джордж Миллер, Даг Митчелл, Брюс Берман</td>\n",
       "      <td>«18+» - запрещено для детей</td>\n",
       "      <td>NaN</td>\n",
       "      <td>NaN</td>\n",
       "      <td>NaN</td>\n",
       "      <td>NaN</td>\n",
       "      <td>7.80</td>\n",
       "      <td>боевик,фантастика,приключения</td>\n",
       "      <td>NaN</td>\n",
       "    </tr>\n",
       "    <tr>\n",
       "      <th>...</th>\n",
       "      <td>...</td>\n",
       "      <td>...</td>\n",
       "      <td>...</td>\n",
       "      <td>...</td>\n",
       "      <td>...</td>\n",
       "      <td>...</td>\n",
       "      <td>...</td>\n",
       "      <td>...</td>\n",
       "      <td>...</td>\n",
       "      <td>...</td>\n",
       "      <td>...</td>\n",
       "      <td>...</td>\n",
       "      <td>...</td>\n",
       "      <td>...</td>\n",
       "      <td>...</td>\n",
       "      <td>...</td>\n",
       "    </tr>\n",
       "    <tr>\n",
       "      <th>7321</th>\n",
       "      <td>Успех</td>\n",
       "      <td>111018519</td>\n",
       "      <td>2019-11-04 12:00:00+00:00</td>\n",
       "      <td>Художественный</td>\n",
       "      <td>ООО \"Кинодом\"</td>\n",
       "      <td>Россия</td>\n",
       "      <td>П.Руминов</td>\n",
       "      <td>С.Бобза, Г.Малков, В.Поляков, М.Кучмент</td>\n",
       "      <td>«12+» - для детей старше 12 лет</td>\n",
       "      <td>5,000,000.00</td>\n",
       "      <td>20,000,000.00</td>\n",
       "      <td>75,000,000.00</td>\n",
       "      <td>Фонд кино</td>\n",
       "      <td>7.80</td>\n",
       "      <td>драма</td>\n",
       "      <td>3,181,218.00</td>\n",
       "    </tr>\n",
       "    <tr>\n",
       "      <th>6599</th>\n",
       "      <td>Химера</td>\n",
       "      <td>121032118</td>\n",
       "      <td>2019-01-10 12:00:00+00:00</td>\n",
       "      <td>Художественный</td>\n",
       "      <td>Вандеринг Бард, Сомниа Продакшнз</td>\n",
       "      <td>США</td>\n",
       "      <td>Митци Пейроне</td>\n",
       "      <td>Ариэль Элвис, Логан Стейнхардт, Али Дзазаери</td>\n",
       "      <td>«18+» - запрещено для детей</td>\n",
       "      <td>NaN</td>\n",
       "      <td>NaN</td>\n",
       "      <td>NaN</td>\n",
       "      <td>NaN</td>\n",
       "      <td>5.70</td>\n",
       "      <td>ужасы,фантастика,драма</td>\n",
       "      <td>5,054,311.03</td>\n",
       "    </tr>\n",
       "    <tr>\n",
       "      <th>4005</th>\n",
       "      <td>Химера</td>\n",
       "      <td>121010510</td>\n",
       "      <td>2010-06-07 12:00:00+00:00</td>\n",
       "      <td>Художественный</td>\n",
       "      <td>Гомон, Коперхет Интертейнмент, Дак Кастл Интер...</td>\n",
       "      <td>США-Франция-Канада</td>\n",
       "      <td>Винченцо Натали</td>\n",
       "      <td>Стивен Хобан</td>\n",
       "      <td>«16+» - для детей старше 16 лет</td>\n",
       "      <td>NaN</td>\n",
       "      <td>NaN</td>\n",
       "      <td>NaN</td>\n",
       "      <td>NaN</td>\n",
       "      <td>5.70</td>\n",
       "      <td>ужасы,фантастика,драма</td>\n",
       "      <td>NaN</td>\n",
       "    </tr>\n",
       "    <tr>\n",
       "      <th>4335</th>\n",
       "      <td>Шпион по соседству</td>\n",
       "      <td>121000710</td>\n",
       "      <td>2010-01-20 12:00:00+00:00</td>\n",
       "      <td>Художественный</td>\n",
       "      <td>Релативити Медиа, Лайонсгейт Филмз, Роберт Сай...</td>\n",
       "      <td>США</td>\n",
       "      <td>Браян Левант</td>\n",
       "      <td>Роберт Саймондс</td>\n",
       "      <td>«12+» - для детей старше 12 лет</td>\n",
       "      <td>NaN</td>\n",
       "      <td>NaN</td>\n",
       "      <td>NaN</td>\n",
       "      <td>NaN</td>\n",
       "      <td>6.10</td>\n",
       "      <td>боевик,комедия,семейный</td>\n",
       "      <td>NaN</td>\n",
       "    </tr>\n",
       "    <tr>\n",
       "      <th>6879</th>\n",
       "      <td>Шпион по соседству</td>\n",
       "      <td>124002419</td>\n",
       "      <td>2019-04-26 12:00:00+00:00</td>\n",
       "      <td>Анимационный</td>\n",
       "      <td>Копенгаген Бомбей Продакшн 1</td>\n",
       "      <td>Дания</td>\n",
       "      <td>Карла фон Бенгтсон</td>\n",
       "      <td>Фи Орнсо, Метт Вольбьорн. Скотт</td>\n",
       "      <td>«12+» - для детей старше 12 лет</td>\n",
       "      <td>NaN</td>\n",
       "      <td>NaN</td>\n",
       "      <td>NaN</td>\n",
       "      <td>NaN</td>\n",
       "      <td>6.10</td>\n",
       "      <td>боевик,комедия,семейный</td>\n",
       "      <td>NaN</td>\n",
       "    </tr>\n",
       "  </tbody>\n",
       "</table>\n",
       "<p>101 rows × 16 columns</p>\n",
       "</div>"
      ],
      "text/plain": [
       "                                               title  pu_number  \\\n",
       "7264  Альдабра: Путешествие по таинственному острову  126003719   \n",
       "3725  Альдабра: Путешествие по таинственному острову  126005616   \n",
       "6551                                        Аниматор  111024818   \n",
       "5835                                        Аниматор  111003818   \n",
       "7312                    Безумный Макс: Дорога ярости  121030019   \n",
       "...                                              ...        ...   \n",
       "7321                                           Успех  111018519   \n",
       "6599                                          Химера  121032118   \n",
       "4005                                          Химера  121010510   \n",
       "4335                              Шпион по соседству  121000710   \n",
       "6879                              Шпион по соседству  124002419   \n",
       "\n",
       "               show_start_date             type  \\\n",
       "7264 2019-09-30 12:00:00+00:00           Прочие   \n",
       "3725 2016-10-19 12:00:00+00:00           Прочие   \n",
       "6551 2018-12-26 12:00:00+00:00   Художественный   \n",
       "5835 2018-04-29 12:00:00+00:00   Художественный   \n",
       "7312 2019-12-06 12:00:00+00:00   Художественный   \n",
       "...                        ...              ...   \n",
       "7321 2019-11-04 12:00:00+00:00   Художественный   \n",
       "6599 2019-01-10 12:00:00+00:00   Художественный   \n",
       "4005 2010-06-07 12:00:00+00:00   Художественный   \n",
       "4335 2010-01-20 12:00:00+00:00   Художественный   \n",
       "6879 2019-04-26 12:00:00+00:00     Анимационный   \n",
       "\n",
       "                                            film_studio  production_country  \\\n",
       "7264                                   Старлайт Пикчерз               Чехия   \n",
       "3725                                  Старлайт Пикчерз                Чехия   \n",
       "6551                                ООО \"ФАВОРИТ МЕДИА\"              Россия   \n",
       "5835   ЗАО \"Кинокомпания ФаворитФильм\" по заказу ООО...              Россия   \n",
       "7312                             Уорнер Бразерс Пикчерс      Австралия, США   \n",
       "...                                                 ...                 ...   \n",
       "7321                                      ООО \"Кинодом\"              Россия   \n",
       "6599                   Вандеринг Бард, Сомниа Продакшнз                 США   \n",
       "4005  Гомон, Коперхет Интертейнмент, Дак Кастл Интер...  США-Франция-Канада   \n",
       "4335  Релативити Медиа, Лайонсгейт Филмз, Роберт Сай...                 США   \n",
       "6879                       Копенгаген Бомбей Продакшн 1               Дания   \n",
       "\n",
       "                  director                                      producer  \\\n",
       "7264           Стив Лихтаг   Петр Келлер, Роберт Шнайдер, Леопольдо Гоут   \n",
       "3725           Стив Лихтаг   Леопольдо Гоут, Петр Келлер, Роберт Шнайдер   \n",
       "6551  А.Чижиков, И.Чижиков                         А.Чижиков, Н.Чижикова   \n",
       "5835  А.Чижиков, И.Чижиков                         А.Чижиков, Н.Чижикова   \n",
       "7312         Джордж Миллер       Джордж Миллер, Даг Митчелл, Брюс Берман   \n",
       "...                    ...                                           ...   \n",
       "7321             П.Руминов       С.Бобза, Г.Малков, В.Поляков, М.Кучмент   \n",
       "6599         Митци Пейроне  Ариэль Элвис, Логан Стейнхардт, Али Дзазаери   \n",
       "4005       Винченцо Натали                                  Стивен Хобан   \n",
       "4335          Браян Левант                               Роберт Саймондс   \n",
       "6879    Карла фон Бенгтсон               Фи Орнсо, Метт Вольбьорн. Скотт   \n",
       "\n",
       "                      age_restriction  refundable_support  \\\n",
       "7264    «6+» - для детей старше 6 лет                 NaN   \n",
       "3725    «6+» - для детей старше 6 лет                 NaN   \n",
       "6551  «12+» - для детей старше 12 лет                 NaN   \n",
       "5835  «12+» - для детей старше 12 лет                 NaN   \n",
       "7312      «18+» - запрещено для детей                 NaN   \n",
       "...                               ...                 ...   \n",
       "7321  «12+» - для детей старше 12 лет        5,000,000.00   \n",
       "6599      «18+» - запрещено для детей                 NaN   \n",
       "4005  «16+» - для детей старше 16 лет                 NaN   \n",
       "4335  «12+» - для детей старше 12 лет                 NaN   \n",
       "6879  «12+» - для детей старше 12 лет                 NaN   \n",
       "\n",
       "      nonrefundable_support        budget financing_source  ratings  \\\n",
       "7264                    NaN           NaN              NaN     6.80   \n",
       "3725                    NaN           NaN              NaN     6.80   \n",
       "6551                    NaN           NaN              NaN      NaN   \n",
       "5835                    NaN           NaN              NaN      NaN   \n",
       "7312                    NaN           NaN              NaN     7.80   \n",
       "...                     ...           ...              ...      ...   \n",
       "7321          20,000,000.00 75,000,000.00        Фонд кино     7.80   \n",
       "6599                    NaN           NaN              NaN     5.70   \n",
       "4005                    NaN           NaN              NaN     5.70   \n",
       "4335                    NaN           NaN              NaN     6.10   \n",
       "6879                    NaN           NaN              NaN     6.10   \n",
       "\n",
       "                                   genres   box_office  \n",
       "7264  семейный,приключения,документальный          NaN  \n",
       "3725  семейный,приключения,документальный 5,484,100.40  \n",
       "6551                           Неизвестен          NaN  \n",
       "5835                           Неизвестен          NaN  \n",
       "7312        боевик,фантастика,приключения          NaN  \n",
       "...                                   ...          ...  \n",
       "7321                                драма 3,181,218.00  \n",
       "6599               ужасы,фантастика,драма 5,054,311.03  \n",
       "4005               ужасы,фантастика,драма          NaN  \n",
       "4335              боевик,комедия,семейный          NaN  \n",
       "6879              боевик,комедия,семейный          NaN  \n",
       "\n",
       "[101 rows x 16 columns]"
      ]
     },
     "execution_count": 30,
     "metadata": {},
     "output_type": "execute_result"
    }
   ],
   "source": [
    "movies[movies['title'].duplicated(keep=False)].sort_values(by='title')"
   ]
  },
  {
   "cell_type": "code",
   "execution_count": 31,
   "metadata": {},
   "outputs": [
    {
     "data": {
      "text/plain": [
       "3691"
      ]
     },
     "execution_count": 31,
     "metadata": {},
     "output_type": "execute_result"
    }
   ],
   "source": [
    "movies['box_office'].isna().sum()"
   ]
  },
  {
   "cell_type": "markdown",
   "metadata": {},
   "source": [
    "Проанализировав дубликаты по названию мы увидели, что есть много столбцов, в которых различаются\n",
    "1) Прокатные удостоверения\n",
    "\n",
    "2) Дата премьеры фильма\n",
    "\n",
    "3) Сборы в рублях\n",
    "\n",
    "Один фильм может иметь несколько прокатных удостоверений, если прокатное удостоверение выдавалось в разные сроки и для разных прокатных целей. Фильм мог поменять правообладателя, название или даже быть немного изменён для каких-либо творческих или коммерческих целей. Поэтому в Минестерстве культуры стоит ввести единый идентификационный номер, которые может объединять такие фильмы, чтобы данные не дублировались при анализе."
   ]
  },
  {
   "cell_type": "markdown",
   "metadata": {
    "id": "52fOPrEBgFyQ"
   },
   "source": [
    "<a id=\"category\"></a> \n",
    "### Обработка категориальных значений"
   ]
  },
  {
   "cell_type": "code",
   "execution_count": 32,
   "metadata": {
    "id": "PnXKIVdFgFyR"
   },
   "outputs": [
    {
     "data": {
      "text/plain": [
       "Художественный                3928\n",
       " Художественный               1388\n",
       "Анимационный                   774\n",
       "Прочие                         395\n",
       "Документальный                 283\n",
       "Научно-популярный               52\n",
       "Музыкально-развлекательный       1\n",
       " Анимационный                    1\n",
       "Name: type, dtype: int64"
      ]
     },
     "execution_count": 32,
     "metadata": {},
     "output_type": "execute_result"
    }
   ],
   "source": [
    "movies['type'].value_counts()"
   ]
  },
  {
   "cell_type": "code",
   "execution_count": 33,
   "metadata": {},
   "outputs": [
    {
     "data": {
      "text/plain": [
       "Художественный                5316\n",
       "Анимационный                   775\n",
       "Прочие                         395\n",
       "Документальный                 283\n",
       "Научно-популярный               52\n",
       "Музыкально-развлекательный       1\n",
       "Name: type, dtype: int64"
      ]
     },
     "execution_count": 33,
     "metadata": {},
     "output_type": "execute_result"
    }
   ],
   "source": [
    "#Исправляем проблемные значения в поле type\n",
    "movies['type'] = movies['type'].str.strip()\n",
    "movies['type'].value_counts()"
   ]
  },
  {
   "cell_type": "code",
   "execution_count": 34,
   "metadata": {},
   "outputs": [
    {
     "data": {
      "text/plain": [
       "«16+» - для детей старше 16 лет           2526\n",
       "«12+» - для детей старше 12 лет           1495\n",
       "«18+» - запрещено для детей               1444\n",
       "«0+» - для любой зрительской аудитории     748\n",
       "«6+» - для детей старше 6 лет              609\n",
       "Name: age_restriction, dtype: int64"
      ]
     },
     "execution_count": 34,
     "metadata": {},
     "output_type": "execute_result"
    }
   ],
   "source": [
    "movies['age_restriction'].value_counts()"
   ]
  },
  {
   "cell_type": "code",
   "execution_count": 35,
   "metadata": {},
   "outputs": [
    {
     "data": {
      "text/plain": [
       "Министерство культуры               164\n",
       "Фонд кино                           146\n",
       "Министерство культуры, Фонд кино     22\n",
       "Name: financing_source, dtype: int64"
      ]
     },
     "execution_count": 35,
     "metadata": {},
     "output_type": "execute_result"
    }
   ],
   "source": [
    "movies['financing_source'].value_counts()"
   ]
  },
  {
   "cell_type": "markdown",
   "metadata": {},
   "source": [
    "В остальных категориальных столбцах много перечеслений через запятую или тире: жанр, студия-производитель, страна-производитель."
   ]
  },
  {
   "cell_type": "markdown",
   "metadata": {
    "id": "XFSN5lrEgFyR"
   },
   "source": [
    "<a id=\"number\"></a> \n",
    "\n",
    "### Проверка количественных значений"
   ]
  },
  {
   "cell_type": "code",
   "execution_count": 36,
   "metadata": {},
   "outputs": [
    {
     "data": {
      "text/html": [
       "<div>\n",
       "<style scoped>\n",
       "    .dataframe tbody tr th:only-of-type {\n",
       "        vertical-align: middle;\n",
       "    }\n",
       "\n",
       "    .dataframe tbody tr th {\n",
       "        vertical-align: top;\n",
       "    }\n",
       "\n",
       "    .dataframe thead th {\n",
       "        text-align: right;\n",
       "    }\n",
       "</style>\n",
       "<table border=\"1\" class=\"dataframe\">\n",
       "  <thead>\n",
       "    <tr style=\"text-align: right;\">\n",
       "      <th></th>\n",
       "      <th>refundable_support</th>\n",
       "      <th>nonrefundable_support</th>\n",
       "      <th>budget</th>\n",
       "    </tr>\n",
       "  </thead>\n",
       "  <tbody>\n",
       "    <tr>\n",
       "      <th>6322</th>\n",
       "      <td>0.00</td>\n",
       "      <td>138,969,465.00</td>\n",
       "      <td>0.00</td>\n",
       "    </tr>\n",
       "    <tr>\n",
       "      <th>2683</th>\n",
       "      <td>0.00</td>\n",
       "      <td>59,000,000.00</td>\n",
       "      <td>0.00</td>\n",
       "    </tr>\n",
       "    <tr>\n",
       "      <th>2052</th>\n",
       "      <td>0.00</td>\n",
       "      <td>23,000,000.00</td>\n",
       "      <td>0.00</td>\n",
       "    </tr>\n",
       "    <tr>\n",
       "      <th>2873</th>\n",
       "      <td>0.00</td>\n",
       "      <td>6,000,000.00</td>\n",
       "      <td>0.00</td>\n",
       "    </tr>\n",
       "    <tr>\n",
       "      <th>3738</th>\n",
       "      <td>25,000,000.00</td>\n",
       "      <td>20,000,000.00</td>\n",
       "      <td>0.00</td>\n",
       "    </tr>\n",
       "    <tr>\n",
       "      <th>3674</th>\n",
       "      <td>20,000,000.00</td>\n",
       "      <td>20,000,000.00</td>\n",
       "      <td>0.00</td>\n",
       "    </tr>\n",
       "    <tr>\n",
       "      <th>2531</th>\n",
       "      <td>20,000,000.00</td>\n",
       "      <td>0.00</td>\n",
       "      <td>0.00</td>\n",
       "    </tr>\n",
       "    <tr>\n",
       "      <th>3046</th>\n",
       "      <td>19,000,000.00</td>\n",
       "      <td>51,000,000.00</td>\n",
       "      <td>0.00</td>\n",
       "    </tr>\n",
       "    <tr>\n",
       "      <th>2787</th>\n",
       "      <td>0.00</td>\n",
       "      <td>35,000,000.00</td>\n",
       "      <td>0.00</td>\n",
       "    </tr>\n",
       "    <tr>\n",
       "      <th>6007</th>\n",
       "      <td>40,000,000.00</td>\n",
       "      <td>40,000,000.00</td>\n",
       "      <td>0.00</td>\n",
       "    </tr>\n",
       "    <tr>\n",
       "      <th>5805</th>\n",
       "      <td>10,000,000.00</td>\n",
       "      <td>60,000,000.00</td>\n",
       "      <td>0.00</td>\n",
       "    </tr>\n",
       "    <tr>\n",
       "      <th>6822</th>\n",
       "      <td>60,000,000.00</td>\n",
       "      <td>120,000,000.00</td>\n",
       "      <td>0.00</td>\n",
       "    </tr>\n",
       "    <tr>\n",
       "      <th>2614</th>\n",
       "      <td>60,000,000.00</td>\n",
       "      <td>100,000,000.00</td>\n",
       "      <td>0.00</td>\n",
       "    </tr>\n",
       "    <tr>\n",
       "      <th>2471</th>\n",
       "      <td>10,000,000.00</td>\n",
       "      <td>70,000,000.00</td>\n",
       "      <td>0.00</td>\n",
       "    </tr>\n",
       "    <tr>\n",
       "      <th>5672</th>\n",
       "      <td>20,000,000.00</td>\n",
       "      <td>40,000,000.00</td>\n",
       "      <td>0.00</td>\n",
       "    </tr>\n",
       "    <tr>\n",
       "      <th>2057</th>\n",
       "      <td>0.00</td>\n",
       "      <td>75,000,000.00</td>\n",
       "      <td>0.00</td>\n",
       "    </tr>\n",
       "    <tr>\n",
       "      <th>3564</th>\n",
       "      <td>0.00</td>\n",
       "      <td>250,000,000.00</td>\n",
       "      <td>0.00</td>\n",
       "    </tr>\n",
       "  </tbody>\n",
       "</table>\n",
       "</div>"
      ],
      "text/plain": [
       "      refundable_support  nonrefundable_support  budget\n",
       "6322                0.00         138,969,465.00    0.00\n",
       "2683                0.00          59,000,000.00    0.00\n",
       "2052                0.00          23,000,000.00    0.00\n",
       "2873                0.00           6,000,000.00    0.00\n",
       "3738       25,000,000.00          20,000,000.00    0.00\n",
       "3674       20,000,000.00          20,000,000.00    0.00\n",
       "2531       20,000,000.00                   0.00    0.00\n",
       "3046       19,000,000.00          51,000,000.00    0.00\n",
       "2787                0.00          35,000,000.00    0.00\n",
       "6007       40,000,000.00          40,000,000.00    0.00\n",
       "5805       10,000,000.00          60,000,000.00    0.00\n",
       "6822       60,000,000.00         120,000,000.00    0.00\n",
       "2614       60,000,000.00         100,000,000.00    0.00\n",
       "2471       10,000,000.00          70,000,000.00    0.00\n",
       "5672       20,000,000.00          40,000,000.00    0.00\n",
       "2057                0.00          75,000,000.00    0.00\n",
       "3564                0.00         250,000,000.00    0.00"
      ]
     },
     "execution_count": 36,
     "metadata": {},
     "output_type": "execute_result"
    }
   ],
   "source": [
    "filtered_data = movies[(movies['refundable_support']+movies['nonrefundable_support'])>movies['budget']]\n",
    "filtered_data [['refundable_support', 'nonrefundable_support', 'budget']]"
   ]
  },
  {
   "cell_type": "code",
   "execution_count": 37,
   "metadata": {
    "id": "YbzClBxagFyS"
   },
   "outputs": [],
   "source": [
    "mask = (movies['refundable_support'] + movies['nonrefundable_support']) > movies['budget']\n",
    "\n",
    "# Заменяем значения в столбце budget на сумму refundable_support и nonrefundable_support, где условие выполняется\n",
    "movies.loc[mask, 'budget'] = movies['refundable_support'] + movies['nonrefundable_support']"
   ]
  },
  {
   "cell_type": "markdown",
   "metadata": {
    "id": "Eu6oWp2CgFyS"
   },
   "source": [
    "<a id=\"column\"></a> \n",
    "### Cоздание новых столбцов\n"
   ]
  },
  {
   "cell_type": "markdown",
   "metadata": {
    "id": "7GgW-UpAgFyS"
   },
   "source": [
    "- Столбец с информацией о годе проката. Выделяем год из даты премьеры фильма."
   ]
  },
  {
   "cell_type": "code",
   "execution_count": 38,
   "metadata": {
    "id": "I-yd1DkWgFyT"
   },
   "outputs": [
    {
     "data": {
      "text/plain": [
       "1782    2013\n",
       "933     2012\n",
       "914     2012\n",
       "1126    2012\n",
       "2218    2014\n",
       "        ... \n",
       "7480    2019\n",
       "7481    2019\n",
       "7482    2019\n",
       "7483    2019\n",
       "7484    2019\n",
       "Name: year, Length: 6822, dtype: int64"
      ]
     },
     "execution_count": 38,
     "metadata": {},
     "output_type": "execute_result"
    }
   ],
   "source": [
    "movies['year'] = movies['show_start_date'].dt.year\n",
    "movies['year']"
   ]
  },
  {
   "cell_type": "markdown",
   "metadata": {
    "id": "nFTDLDYOgFyT"
   },
   "source": [
    "- 2 столбца: с именем и фамилией главного режиссёра и основным жанром фильма. В столбцы войдут первые значения из списка режиссёров и жанров соответственно."
   ]
  },
  {
   "cell_type": "code",
   "execution_count": 39,
   "metadata": {
    "id": "LSbRZKbMgFyU"
   },
   "outputs": [
    {
     "data": {
      "text/plain": [
       "1782       Ариэль Зейтун\n",
       "933        Мамору Хосода\n",
       "914       Сергей Лозница\n",
       "1126          К.Оганесян\n",
       "2218          Макс Джива\n",
       "              ...       \n",
       "7480         Фил Грабски\n",
       "7481          Ник Пауэлл\n",
       "7482    Чарльз Е.Бастьен\n",
       "7483            А.Беляев\n",
       "7484            И.Трусов\n",
       "Name: main_director, Length: 6822, dtype: object"
      ]
     },
     "execution_count": 39,
     "metadata": {},
     "output_type": "execute_result"
    }
   ],
   "source": [
    "movies['main_director'] = movies['director'].str.split(',').str[0]\n",
    "movies['main_director']"
   ]
  },
  {
   "cell_type": "code",
   "execution_count": 40,
   "metadata": {
    "id": "LV6qFuZLgFyV"
   },
   "outputs": [
    {
     "data": {
      "text/plain": [
       "1782         драма\n",
       "933          аниме\n",
       "914          драма\n",
       "1126       комедия\n",
       "2218        мюзикл\n",
       "           ...    \n",
       "7480    Неизвестен\n",
       "7481        боевик\n",
       "7482    мультфильм\n",
       "7483    мультфильм\n",
       "7484       комедия\n",
       "Name: main_genre, Length: 6822, dtype: object"
      ]
     },
     "execution_count": 40,
     "metadata": {},
     "output_type": "execute_result"
    }
   ],
   "source": [
    "movies['main_genre'] = movies['genres'].str.split(',').str[0]\n",
    "movies['main_genre']"
   ]
  },
  {
   "cell_type": "markdown",
   "metadata": {
    "id": "1FsCXHwdgFyU"
   },
   "source": [
    "- Какую долю от общего бюджета фильма составляет государственная поддержка."
   ]
  },
  {
   "cell_type": "code",
   "execution_count": 41,
   "metadata": {},
   "outputs": [
    {
     "data": {
      "text/plain": [
       "1782   NaN\n",
       "933    NaN\n",
       "914    NaN\n",
       "1126   NaN\n",
       "2218   NaN\n",
       "        ..\n",
       "7480   NaN\n",
       "7481   NaN\n",
       "7482   NaN\n",
       "7483   NaN\n",
       "7484   NaN\n",
       "Name: goverment_part, Length: 6822, dtype: float64"
      ]
     },
     "execution_count": 41,
     "metadata": {},
     "output_type": "execute_result"
    }
   ],
   "source": [
    "movies['goverment_part'] = (movies['refundable_support']+movies['nonrefundable_support'])/ movies ['budget']\n",
    "movies['goverment_part']"
   ]
  },
  {
   "cell_type": "markdown",
   "metadata": {},
   "source": [
    "**<font color=\"maroon\">Промежуточный вывод предобработки</font>**\n",
    "1. В данных очень много дублей по названию. Один фильм может иметь несколько прокатных удостоверений, если прокатное удостоверение выдавалось в разные сроки и для разных прокатных целей. Фильм мог поменять правообладателя, название или даже быть немного изменён для каких-либо творческих или коммерческих целей. Поэтому в Минестерстве культуры стоит ввести единый идентификационный номер, которые может объединять такие фильмы, чтобы данные не дублировались при анализе.\n",
    "\n",
    "2. Данные в столбцах даты старта показа и рейтинга в неправильном формате. Первый нужно сразу правильно записывать, а во втором случае ошибка возникает из-за каких-то процентов. Рейтинг должен быть приведён к единому формату.\n",
    "\n",
    "3. В  категориальных столбцах много перечеслений через запятую или тире: жанр, студия-производитель, страна-производитель. Поэтому для анализа были созданы стобцы 'main_director' и 'main_genre', чтобы упростить процесс анализа. Так же много пропусков. Причины возникновения пропусков: Человекская ошибка и нет системы, но этой системы и не будет. Ведь если о популярных фильмах у нас будет много данных, то о маленьких проектах информации может не хвататать. Точно так же как и о старых проектах."
   ]
  },
  {
   "cell_type": "markdown",
   "metadata": {
    "id": "6t4EukPLgFyV"
   },
   "source": [
    "<a id=\"analyses\"></a> \n",
    "\n",
    "## Шаг . Исследовательский анализ данных"
   ]
  },
  {
   "cell_type": "markdown",
   "metadata": {},
   "source": [
    "<a id=\"years\"></a> \n",
    "### Распределение данных по годам"
   ]
  },
  {
   "cell_type": "markdown",
   "metadata": {
    "id": "vAH8WCzugFyV"
   },
   "source": [
    "- Изучим, сколько фильмов выходило в прокат каждый год. Посчитаем, какую долю составляют фильмы с указанной информацией о прокате в кинотеатрах. Проанализируем, как эта доля менялась по годам. Сделаем вывод о том, какой период полнее всего представлен в данных."
   ]
  },
  {
   "cell_type": "code",
   "execution_count": 42,
   "metadata": {
    "id": "ABeV47y7gFyW"
   },
   "outputs": [
    {
     "data": {
      "text/plain": [
       "year\n",
       "2010    765\n",
       "2011    484\n",
       "2012    523\n",
       "2013    590\n",
       "2014    737\n",
       "2015    668\n",
       "2016    739\n",
       "2017    500\n",
       "2018    887\n",
       "2019    929\n",
       "dtype: int64"
      ]
     },
     "execution_count": 42,
     "metadata": {},
     "output_type": "execute_result"
    }
   ],
   "source": [
    "movies.groupby('year').size()"
   ]
  },
  {
   "cell_type": "code",
   "execution_count": 43,
   "metadata": {},
   "outputs": [
    {
     "name": "stdout",
     "output_type": "stream",
     "text": [
      "Доля фильмов с информацией о прокате в кинотеатрах: 45.90%\n",
      "\n",
      "Средняя доля фильмов с информацией о прокате в кинотеатрах по годам:\n",
      "year\n",
      "2010   0.13\n",
      "2011   0.22\n",
      "2012   0.24\n",
      "2013   0.31\n",
      "2014   0.37\n",
      "2015   0.69\n",
      "2016   0.70\n",
      "2017   0.71\n",
      "2018   0.54\n",
      "2019   0.57\n",
      "dtype: float64\n",
      "\n",
      "Год с наибольшей долей фильмов с информацией о прокате в кинотеатрах: 2017\n"
     ]
    }
   ],
   "source": [
    "mask = ~movies['box_office'].isna()\n",
    "\n",
    "# Рассчитываем долю таких фильмов от общего числа фильмов\n",
    "share_with_budget = movies[mask].shape[0] / movies.shape[0]\n",
    "\n",
    "print(f\"Доля фильмов с информацией о прокате в кинотеатрах: {share_with_budget:.2%}\")\n",
    "\n",
    "# Группируем по годам и вычисляем среднюю долю фильмов с информацией о прокате в кинотеатрах для каждого года\n",
    "filtered_movies = movies[mask]\n",
    "average_share_by_year = filtered_movies.groupby('year').size() / movies.groupby('year').size()\n",
    "print(\"\\nСредняя доля фильмов с информацией о прокате в кинотеатрах по годам:\")\n",
    "print(average_share_by_year)\n",
    "\n",
    "# Находим год с максимальной долей фильмов с информацией о прокате в кинотеатрах\n",
    "max_share_year = average_share_by_year.idxmax()\n",
    "\n",
    "print(f\"\\nГод с наибольшей долей фильмов с информацией о прокате в кинотеатрах: {max_share_year}\")"
   ]
  },
  {
   "cell_type": "code",
   "execution_count": 44,
   "metadata": {},
   "outputs": [
    {
     "data": {
      "image/png": "[encoded data removed]",
      "text/plain": [
       "<Figure size 720x432 with 1 Axes>"
      ]
     },
     "metadata": {
      "needs_background": "light"
     },
     "output_type": "display_data"
    }
   ],
   "source": [
    "plt.figure(figsize=(10, 6))\n",
    "plt.plot(average_share_by_year, marker='o', linestyle='-', color='b');\n",
    "plt.title('Средняя доля фильмов с информацией о прокате в кинотеатрах по годам:')\n",
    "plt.xlabel('Год')\n",
    "plt.ylabel('Средняя доля фильмов');"
   ]
  },
  {
   "cell_type": "markdown",
   "metadata": {},
   "source": [
    "Доля данных росла до 2017, а в 2018 вновь снизилась"
   ]
  },
  {
   "cell_type": "markdown",
   "metadata": {
    "id": "BEOdcIrIgFyW"
   },
   "source": [
    "<a id=\"rental\"></a> \n",
    "### Динамика проката данных по годам\n",
    "- Изучите, как менялась динамика проката по годам. В каком году сумма сборов была минимальной? А максимальной?"
   ]
  },
  {
   "cell_type": "code",
   "execution_count": 45,
   "metadata": {
    "id": "tfEhofYvgFyX"
   },
   "outputs": [
    {
     "name": "stdout",
     "output_type": "stream",
     "text": [
      "\n",
      "Общая сумма сборов по годам:\n",
      "year\n",
      "2010        2,148,764.00\n",
      "2011       13,997,065.00\n",
      "2012        6,842,683.00\n",
      "2013       29,775,666.20\n",
      "2014    7,444,140,111.20\n",
      "2015   38,263,253,872.11\n",
      "2016   44,932,686,064.30\n",
      "2017   48,563,707,217.51\n",
      "2018   49,668,403,134.32\n",
      "2019   48,425,708,779.59\n",
      "Name: box_office, dtype: float64\n",
      "\n",
      "Год с наименьшей cуммой сборой: 2010\n",
      "\n",
      "Год с наибольшей cуммой сборой: 2018\n"
     ]
    }
   ],
   "source": [
    "# Группируем по годам и вычисляем общую сумму сбора для каждого года\n",
    "total_box = movies.groupby('year')['box_office'].sum()\n",
    "print(\"\\nОбщая сумма сборов по годам:\")\n",
    "print(total_box)\n",
    "\n",
    "# Находим год с минимальной суммой сборов\n",
    "min_box = total_box.idxmin()\n",
    "\n",
    "print(f\"\\nГод с наименьшей cуммой сборой: {min_box}\")\n",
    "\n",
    "# Находим год с максимальной суммой сборов\n",
    "max_box = total_box.idxmax()\n",
    "\n",
    "print(f\"\\nГод с наибольшей cуммой сборой: {max_box}\")"
   ]
  },
  {
   "cell_type": "code",
   "execution_count": 46,
   "metadata": {},
   "outputs": [
    {
     "data": {
      "image/png": "[encoded data removed]",
      "text/plain": [
       "<Figure size 720x720 with 1 Axes>"
      ]
     },
     "metadata": {
      "needs_background": "light"
     },
     "output_type": "display_data"
    }
   ],
   "source": [
    "plt.figure(figsize=(10, 10))\n",
    "plt.plot(total_box, marker='o', linestyle='-', color='b');\n",
    "plt.title('Общая сумма сборов по годам:')\n",
    "plt.xlabel('Год')  \n",
    "plt.ylabel('Общая сумма сборов');"
   ]
  },
  {
   "cell_type": "markdown",
   "metadata": {
    "id": "G-7qS-N-gFyY"
   },
   "source": [
    "- С помощью сводной таблицы посчитайте среднюю и медианную сумму сборов для каждого года."
   ]
  },
  {
   "cell_type": "code",
   "execution_count": 47,
   "metadata": {},
   "outputs": [
    {
     "name": "stdout",
     "output_type": "stream",
     "text": [
      "Cредняя сумма сборов по годам:\n",
      "year\n",
      "2010        21,274.89\n",
      "2011       129,602.45\n",
      "2012        54,307.01\n",
      "2013       163,602.56\n",
      "2014    27,069,600.40\n",
      "2015    83,544,222.43\n",
      "2016    86,575,503.01\n",
      "2017   136,032,793.33\n",
      "2018   104,565,059.23\n",
      "2019    91,369,261.85\n",
      "Name: box_office, dtype: float64\n"
     ]
    },
    {
     "data": {
      "image/png": "[encoded data removed]",
      "text/plain": [
       "<Figure size 720x432 with 1 Axes>"
      ]
     },
     "metadata": {
      "needs_background": "light"
     },
     "output_type": "display_data"
    }
   ],
   "source": [
    "average_box= movies.groupby('year')['box_office'].mean()\n",
    "plt.figure(figsize=(10, 6))\n",
    "plt.title('Cредняя сумма сборов по годам:')\n",
    "plt.xlabel('Год')  \n",
    "plt.ylabel('Cредняя сумма сборов');\n",
    "plt.plot(average_box, marker='o', linestyle='-', color='b');\n",
    "print(\"Cредняя сумма сборов по годам:\")\n",
    "print(average_box)"
   ]
  },
  {
   "cell_type": "code",
   "execution_count": 48,
   "metadata": {},
   "outputs": [
    {
     "name": "stdout",
     "output_type": "stream",
     "text": [
      "Медианная сумма сборов по годам:\n",
      "year\n",
      "2010       1,590.00\n",
      "2011       2,952.50\n",
      "2012       5,260.00\n",
      "2013       3,475.00\n",
      "2014      18,160.00\n",
      "2015   4,777,096.17\n",
      "2016   3,778,317.80\n",
      "2017   9,968,340.00\n",
      "2018   8,891,102.21\n",
      "2019   4,627,798.34\n",
      "Name: box_office, dtype: float64\n"
     ]
    },
    {
     "data": {
      "image/png": "[encoded data removed]",
      "text/plain": [
       "<Figure size 720x432 with 1 Axes>"
      ]
     },
     "metadata": {
      "needs_background": "light"
     },
     "output_type": "display_data"
    }
   ],
   "source": [
    "median_box= movies.groupby('year')['box_office'].median()\n",
    "plt.figure(figsize=(10, 6))\n",
    "plt.plot(median_box, marker='o', linestyle='-', color='b');\n",
    "plt.title('Медианная сумма сборов по годам::')\n",
    "plt.xlabel('Год')  \n",
    "plt.ylabel('Медианная сумма сборов');\n",
    "print(\"Медианная сумма сборов по годам:\")\n",
    "print(median_box)"
   ]
  },
  {
   "cell_type": "markdown",
   "metadata": {
    "id": "jmp-rgg9gFyY"
   },
   "source": [
    "При анализе медианы и среднего значения видно, что были падения в 2016 и после пика в 2017. В Медианных значениях скачки более заметны."
   ]
  },
  {
   "cell_type": "markdown",
   "metadata": {
    "id": "Ok89WFwJgFyZ"
   },
   "source": [
    "<a id=\"age\"></a> \n",
    "### Возрастное ограничение аудитории и сборы в прокате\n",
    "- Определим, влияет ли возрастное ограничение аудитории («6+», «12+», «16+», «18+» и т. д.) на сборы фильма в прокате в период с 2015 по 2019 год? Фильмы с каким возрастным ограничением собрали больше всего денег в прокате? Меняется ли картина в зависимости от года? "
   ]
  },
  {
   "cell_type": "code",
   "execution_count": 49,
   "metadata": {
    "id": "jsSbEqfjgFya"
   },
   "outputs": [
    {
     "name": "stdout",
     "output_type": "stream",
     "text": [
      "age_restriction  «0+» - для любой зрительской аудитории  \\\n",
      "year                                                      \n",
      "2015                                     273,367,887.78   \n",
      "2016                                     150,228,848.67   \n",
      "2017                                     229,598,930.00   \n",
      "2018                                      32,449,002.11   \n",
      "2019                                      17,746,066.82   \n",
      "\n",
      "age_restriction  «12+» - для детей старше 12 лет  \\\n",
      "year                                               \n",
      "2015                           13,616,082,008.91   \n",
      "2016                           12,179,462,355.01   \n",
      "2017                            7,851,427,660.67   \n",
      "2018                           14,267,291,660.69   \n",
      "2019                           12,680,198,773.67   \n",
      "\n",
      "age_restriction  «16+» - для детей старше 16 лет  «18+» - запрещено для детей  \\\n",
      "year                                                                            \n",
      "2015                           10,537,061,602.57             5,137,465,401.44   \n",
      "2016                           16,628,961,166.61             6,793,929,818.87   \n",
      "2017                           18,745,042,900.06             9,651,495,581.02   \n",
      "2018                           16,503,602,346.96             8,760,085,501.15   \n",
      "2019                           12,753,418,984.60            10,121,796,303.64   \n",
      "\n",
      "age_restriction  «6+» - для детей старше 6 лет  \n",
      "year                                            \n",
      "2015                          8,699,276,971.41  \n",
      "2016                          9,180,103,875.14  \n",
      "2017                         12,086,142,145.76  \n",
      "2018                         10,104,974,623.41  \n",
      "2019                         12,852,548,650.86  \n"
     ]
    }
   ],
   "source": [
    "movies_2015 = movies[movies['year']>2014]\n",
    "grouped_data = movies_2015.groupby(['age_restriction', 'year'])['box_office'].sum()\n",
    "# Преобразуем результат в сводную таблицу, чтобы столбцы age_restriction стали индексами, а годы - столбцами\n",
    "pivot_table = grouped_data.reset_index().pivot_table(index='year', columns='age_restriction', values='box_office')\n",
    "\n",
    "# Выводим полученную сводную таблицу\n",
    "print(pivot_table)"
   ]
  },
  {
   "cell_type": "code",
   "execution_count": 50,
   "metadata": {},
   "outputs": [
    {
     "data": {
      "image/png": "[encoded data removed]",
      "text/plain": [
       "<Figure size 720x720 with 1 Axes>"
      ]
     },
     "metadata": {
      "needs_background": "light"
     },
     "output_type": "display_data"
    }
   ],
   "source": [
    "pivot_table.plot(kind='line', figsize=(10, 10))\n",
    "\n",
    "# Добавление заголовка и меток осей\n",
    "plt.xticks(pivot_table.index) \n",
    "plt.title('Изменения сборов по возрастным ограничениям (2015+)')\n",
    "plt.xlabel('Год')\n",
    "plt.ylabel('Сумма сборов')\n",
    "\n",
    "# Отображение легенды\n",
    "plt.legend(title='Возрастное ограничение', bbox_to_anchor=(1.5, 0.5), loc='lower right')\n",
    "\n",
    "# Отображение графика\n",
    "plt.show()"
   ]
  },
  {
   "cell_type": "markdown",
   "metadata": {},
   "source": [
    "Самые низкие сборы и категории «0+».\n",
    "Этого не видно на графике, но видно из таблицы (эти сборы резко снизилист после 2017)\n",
    "В 2017 была просадка категории 12+ но потом она вновь пошла вверх.\n",
    "В 2017 был пик для категории 16+ после этого у неё был спад.\n",
    "Категории 6+ и 18 + практически повторяют траекторию роста друг друга."
   ]
  },
  {
   "cell_type": "markdown",
   "metadata": {
    "id": "l_Kg6Ku4gFya"
   },
   "source": [
    "<a id=\"goverment\"></a> \n",
    "\n",
    "## Исследование фильмов, которые получили государственную поддержку"
   ]
  },
  {
   "cell_type": "code",
   "execution_count": 51,
   "metadata": {
    "id": "W9QKpjUdgFyb"
   },
   "outputs": [
    {
     "data": {
      "text/html": [
       "<div>\n",
       "<style scoped>\n",
       "    .dataframe tbody tr th:only-of-type {\n",
       "        vertical-align: middle;\n",
       "    }\n",
       "\n",
       "    .dataframe tbody tr th {\n",
       "        vertical-align: top;\n",
       "    }\n",
       "\n",
       "    .dataframe thead th {\n",
       "        text-align: right;\n",
       "    }\n",
       "</style>\n",
       "<table border=\"1\" class=\"dataframe\">\n",
       "  <thead>\n",
       "    <tr style=\"text-align: right;\">\n",
       "      <th></th>\n",
       "      <th>title</th>\n",
       "      <th>pu_number</th>\n",
       "      <th>show_start_date</th>\n",
       "      <th>type</th>\n",
       "      <th>film_studio</th>\n",
       "      <th>production_country</th>\n",
       "      <th>director</th>\n",
       "      <th>producer</th>\n",
       "      <th>age_restriction</th>\n",
       "      <th>refundable_support</th>\n",
       "      <th>nonrefundable_support</th>\n",
       "      <th>budget</th>\n",
       "      <th>financing_source</th>\n",
       "      <th>ratings</th>\n",
       "      <th>genres</th>\n",
       "      <th>box_office</th>\n",
       "      <th>year</th>\n",
       "      <th>main_director</th>\n",
       "      <th>main_genre</th>\n",
       "      <th>goverment_part</th>\n",
       "    </tr>\n",
       "  </thead>\n",
       "  <tbody>\n",
       "    <tr>\n",
       "      <th>3148</th>\n",
       "      <td>Я-Учитель</td>\n",
       "      <td>111019715</td>\n",
       "      <td>2015-12-02 12:00:00+00:00</td>\n",
       "      <td>Художественный</td>\n",
       "      <td>НП Киностудия детских и юношеских фильмов \"Иль...</td>\n",
       "      <td>Россия</td>\n",
       "      <td>С.Мокрицкий</td>\n",
       "      <td>А.Ковтунец</td>\n",
       "      <td>«12+» - для детей старше 12 лет</td>\n",
       "      <td>0.00</td>\n",
       "      <td>35,000,000.00</td>\n",
       "      <td>91,000,000.00</td>\n",
       "      <td>Министерство культуры</td>\n",
       "      <td>7.40</td>\n",
       "      <td>мелодрама,комедия</td>\n",
       "      <td>1,550.00</td>\n",
       "      <td>2015</td>\n",
       "      <td>С.Мокрицкий</td>\n",
       "      <td>мелодрама</td>\n",
       "      <td>0.38</td>\n",
       "    </tr>\n",
       "    <tr>\n",
       "      <th>2526</th>\n",
       "      <td>Вдвоем на льдине.</td>\n",
       "      <td>111011015</td>\n",
       "      <td>2015-06-25 12:00:00+00:00</td>\n",
       "      <td>Художественный</td>\n",
       "      <td>ООО \"Первое творческое объединение\"</td>\n",
       "      <td>Россия</td>\n",
       "      <td>Н.Джорджадзе, В.Игнатьев</td>\n",
       "      <td>П.Поляков, И.Букреев</td>\n",
       "      <td>«12+» - для детей старше 12 лет</td>\n",
       "      <td>0.00</td>\n",
       "      <td>26,500,000.00</td>\n",
       "      <td>37,943,652.00</td>\n",
       "      <td>Министерство культуры</td>\n",
       "      <td>6.60</td>\n",
       "      <td>мелодрама</td>\n",
       "      <td>4,450.00</td>\n",
       "      <td>2015</td>\n",
       "      <td>Н.Джорджадзе</td>\n",
       "      <td>мелодрама</td>\n",
       "      <td>0.70</td>\n",
       "    </tr>\n",
       "    <tr>\n",
       "      <th>2802</th>\n",
       "      <td>Битва с экстрасенсами</td>\n",
       "      <td>111011315</td>\n",
       "      <td>2015-07-20 12:00:00+00:00</td>\n",
       "      <td>Художественный</td>\n",
       "      <td>ООО \"КИНОДАНЦ\", ООО \"КИНОБАЙТ\"</td>\n",
       "      <td>Россия</td>\n",
       "      <td>И.Кордзаия</td>\n",
       "      <td>Е.Мелентьев</td>\n",
       "      <td>«12+» - для детей старше 12 лет</td>\n",
       "      <td>0.00</td>\n",
       "      <td>25,900,000.00</td>\n",
       "      <td>59,560,746.00</td>\n",
       "      <td>Министерство культуры, Фонд кино</td>\n",
       "      <td>5.40</td>\n",
       "      <td>фэнтези,приключения</td>\n",
       "      <td>6,000.00</td>\n",
       "      <td>2015</td>\n",
       "      <td>И.Кордзаия</td>\n",
       "      <td>фэнтези</td>\n",
       "      <td>0.43</td>\n",
       "    </tr>\n",
       "    <tr>\n",
       "      <th>3503</th>\n",
       "      <td>День До</td>\n",
       "      <td>111010916</td>\n",
       "      <td>2016-07-06 12:00:00+00:00</td>\n",
       "      <td>Художественный</td>\n",
       "      <td>ООО \"Кинобюро\" по заказу ООО \"Среда и Ко\"</td>\n",
       "      <td>Россия</td>\n",
       "      <td>А.Котт, В.Котт, А.Карпиловский, Б.Хлебников</td>\n",
       "      <td>А.Цекало, А.Котт</td>\n",
       "      <td>«18+» - запрещено для детей</td>\n",
       "      <td>25,000,000.00</td>\n",
       "      <td>25,000,000.00</td>\n",
       "      <td>90,822,766.00</td>\n",
       "      <td>Фонд кино</td>\n",
       "      <td>4.80</td>\n",
       "      <td>драма,фантастика</td>\n",
       "      <td>9,000.00</td>\n",
       "      <td>2016</td>\n",
       "      <td>А.Котт</td>\n",
       "      <td>драма</td>\n",
       "      <td>0.55</td>\n",
       "    </tr>\n",
       "    <tr>\n",
       "      <th>2149</th>\n",
       "      <td>РЕВЕРБЕРАЦИЯ</td>\n",
       "      <td>111003515</td>\n",
       "      <td>2015-03-30 12:00:00+00:00</td>\n",
       "      <td>Художественный</td>\n",
       "      <td>ООО \"Артлайт\"</td>\n",
       "      <td>Россия</td>\n",
       "      <td>К.Сухарьков</td>\n",
       "      <td>А.Новиков</td>\n",
       "      <td>«18+» - запрещено для детей</td>\n",
       "      <td>0.00</td>\n",
       "      <td>25,000,000.00</td>\n",
       "      <td>37,371,262.00</td>\n",
       "      <td>Министерство культуры</td>\n",
       "      <td>NaN</td>\n",
       "      <td>Неизвестен</td>\n",
       "      <td>19,820.00</td>\n",
       "      <td>2015</td>\n",
       "      <td>К.Сухарьков</td>\n",
       "      <td>Неизвестен</td>\n",
       "      <td>0.67</td>\n",
       "    </tr>\n",
       "    <tr>\n",
       "      <th>...</th>\n",
       "      <td>...</td>\n",
       "      <td>...</td>\n",
       "      <td>...</td>\n",
       "      <td>...</td>\n",
       "      <td>...</td>\n",
       "      <td>...</td>\n",
       "      <td>...</td>\n",
       "      <td>...</td>\n",
       "      <td>...</td>\n",
       "      <td>...</td>\n",
       "      <td>...</td>\n",
       "      <td>...</td>\n",
       "      <td>...</td>\n",
       "      <td>...</td>\n",
       "      <td>...</td>\n",
       "      <td>...</td>\n",
       "      <td>...</td>\n",
       "      <td>...</td>\n",
       "      <td>...</td>\n",
       "      <td>...</td>\n",
       "    </tr>\n",
       "    <tr>\n",
       "      <th>7228</th>\n",
       "      <td>На Луне</td>\n",
       "      <td>111015519</td>\n",
       "      <td>2019-11-01 12:00:00+00:00</td>\n",
       "      <td>Художественный</td>\n",
       "      <td>ООО \"Киностудия \"ВЕРТИКАЛЬ\"</td>\n",
       "      <td>Россия</td>\n",
       "      <td>Е.Михалков-Кончаловский</td>\n",
       "      <td>С.Говорухин, Е.Маскина</td>\n",
       "      <td>«16+» - для детей старше 16 лет</td>\n",
       "      <td>0.00</td>\n",
       "      <td>35,000,000.00</td>\n",
       "      <td>57,876,000.00</td>\n",
       "      <td>Министерство культуры</td>\n",
       "      <td>6.60</td>\n",
       "      <td>приключения,триллер</td>\n",
       "      <td>NaN</td>\n",
       "      <td>2019</td>\n",
       "      <td>Е.Михалков-Кончаловский</td>\n",
       "      <td>приключения</td>\n",
       "      <td>0.60</td>\n",
       "    </tr>\n",
       "    <tr>\n",
       "      <th>7343</th>\n",
       "      <td>Кроличья лапа</td>\n",
       "      <td>111018919</td>\n",
       "      <td>2019-11-20 12:00:00+00:00</td>\n",
       "      <td>Художественный</td>\n",
       "      <td>ООО \"Зебра\", \"Артемис\", \"Гринлит\"</td>\n",
       "      <td>Россия, Бельгия, Финляндия</td>\n",
       "      <td>Н.Джорджадзе</td>\n",
       "      <td>Ю.Соболевская</td>\n",
       "      <td>«16+» - для детей старше 16 лет</td>\n",
       "      <td>0.00</td>\n",
       "      <td>30,000,000.00</td>\n",
       "      <td>47,734,050.00</td>\n",
       "      <td>Министерство культуры</td>\n",
       "      <td>NaN</td>\n",
       "      <td>Неизвестен</td>\n",
       "      <td>NaN</td>\n",
       "      <td>2019</td>\n",
       "      <td>Н.Джорджадзе</td>\n",
       "      <td>Неизвестен</td>\n",
       "      <td>0.63</td>\n",
       "    </tr>\n",
       "    <tr>\n",
       "      <th>7473</th>\n",
       "      <td>Вторжение</td>\n",
       "      <td>111022519</td>\n",
       "      <td>2019-12-23 12:00:00+00:00</td>\n",
       "      <td>Художественный</td>\n",
       "      <td>ООО \"Арт Пикчерс Студия\", ООО \"Водород 2011\"</td>\n",
       "      <td>Россия</td>\n",
       "      <td>Ф.Бондарчук</td>\n",
       "      <td>Ф.Бондарчук, М.Врубель, А.Андрющенко, Д.Рудовский</td>\n",
       "      <td>«12+» - для детей старше 12 лет</td>\n",
       "      <td>100,000,000.00</td>\n",
       "      <td>400,000,000.00</td>\n",
       "      <td>944,000,000.00</td>\n",
       "      <td>Фонд кино</td>\n",
       "      <td>5.70</td>\n",
       "      <td>фантастика,боевик</td>\n",
       "      <td>NaN</td>\n",
       "      <td>2019</td>\n",
       "      <td>Ф.Бондарчук</td>\n",
       "      <td>фантастика</td>\n",
       "      <td>0.53</td>\n",
       "    </tr>\n",
       "    <tr>\n",
       "      <th>7475</th>\n",
       "      <td>Я свободен</td>\n",
       "      <td>111023019</td>\n",
       "      <td>2019-12-26 12:00:00+00:00</td>\n",
       "      <td>Художественный</td>\n",
       "      <td>АО \"ТПО \"Киностудия им. М.Горького\"</td>\n",
       "      <td>Россия</td>\n",
       "      <td>И.Северов</td>\n",
       "      <td>С.Зернов</td>\n",
       "      <td>«12+» - для детей старше 12 лет</td>\n",
       "      <td>0.00</td>\n",
       "      <td>30,000,000.00</td>\n",
       "      <td>46,154,000.00</td>\n",
       "      <td>Министерство культуры</td>\n",
       "      <td>5.90</td>\n",
       "      <td>драма</td>\n",
       "      <td>NaN</td>\n",
       "      <td>2019</td>\n",
       "      <td>И.Северов</td>\n",
       "      <td>драма</td>\n",
       "      <td>0.65</td>\n",
       "    </tr>\n",
       "    <tr>\n",
       "      <th>7477</th>\n",
       "      <td>(Не)идеальный мужчина</td>\n",
       "      <td>111023119</td>\n",
       "      <td>2019-12-24 12:00:00+00:00</td>\n",
       "      <td>Художественный</td>\n",
       "      <td>ООО \"Нон-Стоп Продакшн\"</td>\n",
       "      <td>Россия</td>\n",
       "      <td>М.Бальчюнас (псевдоним М.Вайсберг)</td>\n",
       "      <td>С.Мелькумов, А.Роднянский, М.Вайсберг, Р.Минас...</td>\n",
       "      <td>«12+» - для детей старше 12 лет</td>\n",
       "      <td>40,000,000.00</td>\n",
       "      <td>60,000,000.00</td>\n",
       "      <td>150,147,502.00</td>\n",
       "      <td>Фонд кино</td>\n",
       "      <td>4.50</td>\n",
       "      <td>комедия,фантастика,мелодрама</td>\n",
       "      <td>NaN</td>\n",
       "      <td>2019</td>\n",
       "      <td>М.Бальчюнас (псевдоним М.Вайсберг)</td>\n",
       "      <td>комедия</td>\n",
       "      <td>0.67</td>\n",
       "    </tr>\n",
       "  </tbody>\n",
       "</table>\n",
       "<p>314 rows × 20 columns</p>\n",
       "</div>"
      ],
      "text/plain": [
       "                      title  pu_number           show_start_date  \\\n",
       "3148              Я-Учитель  111019715 2015-12-02 12:00:00+00:00   \n",
       "2526      Вдвоем на льдине.  111011015 2015-06-25 12:00:00+00:00   \n",
       "2802  Битва с экстрасенсами  111011315 2015-07-20 12:00:00+00:00   \n",
       "3503                День До  111010916 2016-07-06 12:00:00+00:00   \n",
       "2149           РЕВЕРБЕРАЦИЯ  111003515 2015-03-30 12:00:00+00:00   \n",
       "...                     ...        ...                       ...   \n",
       "7228                На Луне  111015519 2019-11-01 12:00:00+00:00   \n",
       "7343          Кроличья лапа  111018919 2019-11-20 12:00:00+00:00   \n",
       "7473              Вторжение  111022519 2019-12-23 12:00:00+00:00   \n",
       "7475             Я свободен  111023019 2019-12-26 12:00:00+00:00   \n",
       "7477  (Не)идеальный мужчина  111023119 2019-12-24 12:00:00+00:00   \n",
       "\n",
       "                type                                        film_studio  \\\n",
       "3148  Художественный  НП Киностудия детских и юношеских фильмов \"Иль...   \n",
       "2526  Художественный                ООО \"Первое творческое объединение\"   \n",
       "2802  Художественный                     ООО \"КИНОДАНЦ\", ООО \"КИНОБАЙТ\"   \n",
       "3503  Художественный          ООО \"Кинобюро\" по заказу ООО \"Среда и Ко\"   \n",
       "2149  Художественный                                      ООО \"Артлайт\"   \n",
       "...              ...                                                ...   \n",
       "7228  Художественный                        ООО \"Киностудия \"ВЕРТИКАЛЬ\"   \n",
       "7343  Художественный                  ООО \"Зебра\", \"Артемис\", \"Гринлит\"   \n",
       "7473  Художественный       ООО \"Арт Пикчерс Студия\", ООО \"Водород 2011\"   \n",
       "7475  Художественный                АО \"ТПО \"Киностудия им. М.Горького\"   \n",
       "7477  Художественный                           ООО \"Нон-Стоп Продакшн\"    \n",
       "\n",
       "              production_country                                     director  \\\n",
       "3148                      Россия                                  С.Мокрицкий   \n",
       "2526                      Россия                     Н.Джорджадзе, В.Игнатьев   \n",
       "2802                      Россия                                   И.Кордзаия   \n",
       "3503                      Россия  А.Котт, В.Котт, А.Карпиловский, Б.Хлебников   \n",
       "2149                      Россия                                  К.Сухарьков   \n",
       "...                          ...                                          ...   \n",
       "7228                      Россия                      Е.Михалков-Кончаловский   \n",
       "7343  Россия, Бельгия, Финляндия                                 Н.Джорджадзе   \n",
       "7473                      Россия                                  Ф.Бондарчук   \n",
       "7475                      Россия                                    И.Северов   \n",
       "7477                      Россия           М.Бальчюнас (псевдоним М.Вайсберг)   \n",
       "\n",
       "                                               producer  \\\n",
       "3148                                         А.Ковтунец   \n",
       "2526                               П.Поляков, И.Букреев   \n",
       "2802                                        Е.Мелентьев   \n",
       "3503                                   А.Цекало, А.Котт   \n",
       "2149                                          А.Новиков   \n",
       "...                                                 ...   \n",
       "7228                             С.Говорухин, Е.Маскина   \n",
       "7343                                      Ю.Соболевская   \n",
       "7473  Ф.Бондарчук, М.Врубель, А.Андрющенко, Д.Рудовский   \n",
       "7475                                           С.Зернов   \n",
       "7477  С.Мелькумов, А.Роднянский, М.Вайсберг, Р.Минас...   \n",
       "\n",
       "                      age_restriction  refundable_support  \\\n",
       "3148  «12+» - для детей старше 12 лет                0.00   \n",
       "2526  «12+» - для детей старше 12 лет                0.00   \n",
       "2802  «12+» - для детей старше 12 лет                0.00   \n",
       "3503      «18+» - запрещено для детей       25,000,000.00   \n",
       "2149      «18+» - запрещено для детей                0.00   \n",
       "...                               ...                 ...   \n",
       "7228  «16+» - для детей старше 16 лет                0.00   \n",
       "7343  «16+» - для детей старше 16 лет                0.00   \n",
       "7473  «12+» - для детей старше 12 лет      100,000,000.00   \n",
       "7475  «12+» - для детей старше 12 лет                0.00   \n",
       "7477  «12+» - для детей старше 12 лет       40,000,000.00   \n",
       "\n",
       "      nonrefundable_support         budget                  financing_source  \\\n",
       "3148          35,000,000.00  91,000,000.00             Министерство культуры   \n",
       "2526          26,500,000.00  37,943,652.00             Министерство культуры   \n",
       "2802          25,900,000.00  59,560,746.00  Министерство культуры, Фонд кино   \n",
       "3503          25,000,000.00  90,822,766.00                         Фонд кино   \n",
       "2149          25,000,000.00  37,371,262.00             Министерство культуры   \n",
       "...                     ...            ...                               ...   \n",
       "7228          35,000,000.00  57,876,000.00             Министерство культуры   \n",
       "7343          30,000,000.00  47,734,050.00             Министерство культуры   \n",
       "7473         400,000,000.00 944,000,000.00                         Фонд кино   \n",
       "7475          30,000,000.00  46,154,000.00             Министерство культуры   \n",
       "7477          60,000,000.00 150,147,502.00                         Фонд кино   \n",
       "\n",
       "      ratings                        genres  box_office  year  \\\n",
       "3148     7.40             мелодрама,комедия    1,550.00  2015   \n",
       "2526     6.60                     мелодрама    4,450.00  2015   \n",
       "2802     5.40           фэнтези,приключения    6,000.00  2015   \n",
       "3503     4.80              драма,фантастика    9,000.00  2016   \n",
       "2149      NaN                    Неизвестен   19,820.00  2015   \n",
       "...       ...                           ...         ...   ...   \n",
       "7228     6.60           приключения,триллер         NaN  2019   \n",
       "7343      NaN                    Неизвестен         NaN  2019   \n",
       "7473     5.70             фантастика,боевик         NaN  2019   \n",
       "7475     5.90                         драма         NaN  2019   \n",
       "7477     4.50  комедия,фантастика,мелодрама         NaN  2019   \n",
       "\n",
       "                           main_director   main_genre  goverment_part  \n",
       "3148                         С.Мокрицкий    мелодрама            0.38  \n",
       "2526                        Н.Джорджадзе    мелодрама            0.70  \n",
       "2802                          И.Кордзаия      фэнтези            0.43  \n",
       "3503                              А.Котт        драма            0.55  \n",
       "2149                         К.Сухарьков   Неизвестен            0.67  \n",
       "...                                  ...          ...             ...  \n",
       "7228             Е.Михалков-Кончаловский  приключения            0.60  \n",
       "7343                        Н.Джорджадзе   Неизвестен            0.63  \n",
       "7473                         Ф.Бондарчук   фантастика            0.53  \n",
       "7475                           И.Северов        драма            0.65  \n",
       "7477  М.Бальчюнас (псевдоним М.Вайсберг)      комедия            0.67  \n",
       "\n",
       "[314 rows x 20 columns]"
      ]
     },
     "execution_count": 51,
     "metadata": {},
     "output_type": "execute_result"
    }
   ],
   "source": [
    "goverment_support = movies_2015 [movies_2015 ['financing_source'].isna() == False]\n",
    "goverment_support"
   ]
  },
  {
   "cell_type": "code",
   "execution_count": 52,
   "metadata": {},
   "outputs": [
    {
     "name": "stdout",
     "output_type": "stream",
     "text": [
      "Корреляци для группы с «0+» - для любой зрительской аудитории ограничением: -0.9185623717033212\n",
      "Корреляци для группы с «12+» - для детей старше 12 лет ограничением: -0.12415558733431836\n",
      "Корреляци для группы с «16+» - для детей старше 16 лет ограничением: -0.1308315845226726\n",
      "Корреляци для группы с «18+» - запрещено для детей ограничением: -0.3834725547615287\n",
      "Корреляци для группы с «6+» - для детей старше 6 лет ограничением: 0.02385024841048709\n"
     ]
    }
   ],
   "source": [
    "for name, group_data in goverment_support.groupby('age_restriction'):\n",
    "    correlation = group_data['box_office'].corr(group_data['goverment_part'], method='pearson', min_periods=1)\n",
    "    print(f\"Корреляци для группы с {name} ограничением: {correlation}\")"
   ]
  },
  {
   "cell_type": "code",
   "execution_count": 53,
   "metadata": {},
   "outputs": [
    {
     "name": "stdout",
     "output_type": "stream",
     "text": [
      "Корреляци для Неизвестен: -0.16908055056256446\n",
      "Корреляци для биография: -0.6603984315317988\n",
      "Корреляци для боевик: -0.10277028425599541\n",
      "Корреляци для военный: -0.5049845440976136\n",
      "Корреляци для детектив: -0.5674481313019019\n",
      "Корреляци для детский: -0.7835988817794186\n",
      "Корреляци для драма: -0.07813755166440679\n",
      "Корреляци для история: 0.8640665261271631\n",
      "Корреляци для комедия: -0.26154371525687065\n",
      "Корреляци для криминал: 0.011078908010587451\n",
      "Корреляци для мелодрама: -0.38833572188233423\n",
      "Корреляци для мультфильм: -0.14873060951728084\n",
      "Корреляци для мюзикл: 0.3755228674468883\n",
      "Корреляци для приключения: -0.12563499337199985\n",
      "Корреляци для реальное ТВ: nan\n",
      "Корреляци для семейный: 0.08592262156185733\n",
      "Корреляци для спорт: 0.9602920662062306\n",
      "Корреляци для триллер: 0.3061081976379268\n",
      "Корреляци для ужасы: -0.5490368828723478\n",
      "Корреляци для фантастика: 0.7211587348916574\n",
      "Корреляци для фэнтези: -0.6195930131099697\n"
     ]
    },
    {
     "name": "stderr",
     "output_type": "stream",
     "text": [
      "/opt/conda/lib/python3.9/site-packages/numpy/lib/function_base.py:2683: RuntimeWarning: Degrees of freedom <= 0 for slice\n",
      "  c = cov(x, y, rowvar, dtype=dtype)\n",
      "/opt/conda/lib/python3.9/site-packages/numpy/lib/function_base.py:2542: RuntimeWarning: divide by zero encountered in true_divide\n",
      "  c *= np.true_divide(1, fact)\n"
     ]
    }
   ],
   "source": [
    "for name, group_data in goverment_support.groupby('main_genre'):\n",
    "    correlation = group_data['box_office'].corr(group_data['goverment_part'], method='pearson', min_periods=1)\n",
    "    print(f\"Корреляци для {name}: {correlation}\")"
   ]
  },
  {
   "cell_type": "code",
   "execution_count": 54,
   "metadata": {},
   "outputs": [
    {
     "data": {
      "image/png": "[encoded data removed]",
      "text/plain": [
       "<Figure size 432x288 with 1 Axes>"
      ]
     },
     "metadata": {
      "needs_background": "light"
     },
     "output_type": "display_data"
    }
   ],
   "source": [
    "goverment_support.plot(x='budget', y='box_office', kind='scatter');"
   ]
  },
  {
   "cell_type": "code",
   "execution_count": 55,
   "metadata": {},
   "outputs": [
    {
     "name": "stdout",
     "output_type": "stream",
     "text": [
      "Коэффициент коллеряции бюджета фильма и его сборов\n"
     ]
    },
    {
     "data": {
      "text/plain": [
       "0.37297873256683106"
      ]
     },
     "execution_count": 55,
     "metadata": {},
     "output_type": "execute_result"
    }
   ],
   "source": [
    "print('Коэффициент коллеряции бюджета фильма и его сборов')\n",
    "goverment_support['budget'].corr(goverment_support['box_office'])"
   ]
  },
  {
   "cell_type": "code",
   "execution_count": 56,
   "metadata": {},
   "outputs": [],
   "source": [
    "def categorize_goverment(part):\n",
    "    try:\n",
    "        if 0 <= part <= 0.1:\n",
    "            return '<10 %'\n",
    "        elif 0.1 <= part <= 0.3:\n",
    "            return 'от 10 до 30 %'\n",
    "        elif 0.31 <= part <= 0.7:\n",
    "            return 'от 30 до 70 %'\n",
    "        elif 0.71 <= part <= 0.9:\n",
    "            return 'от 70 до 90 %'\n",
    "        elif part >= 0.91:\n",
    "            return 'больше 90%'\n",
    "    except:\n",
    "        pass"
   ]
  },
  {
   "cell_type": "code",
   "execution_count": 57,
   "metadata": {},
   "outputs": [],
   "source": [
    "goverment_support['budget_category'] = goverment_support['goverment_part'].apply(categorize_goverment)"
   ]
  },
  {
   "cell_type": "code",
   "execution_count": 58,
   "metadata": {},
   "outputs": [
    {
     "name": "stdout",
     "output_type": "stream",
     "text": [
      "Корреляци для группе, где государственной поддержки <10 %: -0.7625371434460119\n",
      "Корреляци для группе, где государственной поддержки больше 90%: nan\n",
      "Корреляци для группе, где государственной поддержки от 10 до 30 %: 0.14563826728692666\n",
      "Корреляци для группе, где государственной поддержки от 30 до 70 %: -0.12942731136849833\n",
      "Корреляци для группе, где государственной поддержки от 70 до 90 %: nan\n"
     ]
    }
   ],
   "source": [
    "for name, group_data in goverment_support.groupby('budget_category'):\n",
    "    correlation = group_data['box_office'].corr(group_data['goverment_part'], method='pearson', min_periods=1)\n",
    "    print(f\"Корреляци для группе, где государственной поддержки {name}: {correlation}\")"
   ]
  },
  {
   "cell_type": "code",
   "execution_count": 59,
   "metadata": {},
   "outputs": [
    {
     "name": "stdout",
     "output_type": "stream",
     "text": [
      "Корреляци для группе, где государственной поддержки <10 %: -0.077117919168641\n",
      "Корреляци для группе, где государственной поддержки больше 90%: 0.6803390740824403\n",
      "Корреляци для группе, где государственной поддержки от 10 до 30 %: 0.20593673071310448\n",
      "Корреляци для группе, где государственной поддержки от 30 до 70 %: 0.5449842427091087\n",
      "Корреляци для группе, где государственной поддержки от 70 до 90 %: nan\n"
     ]
    }
   ],
   "source": [
    "for name, group_data in goverment_support.groupby('budget_category'):\n",
    "    correlation = group_data['box_office'].corr(group_data['budget'], method='pearson', min_periods=1)\n",
    "    print(f\"Корреляци для группе, где государственной поддержки {name}: {correlation}\")"
   ]
  },
  {
   "cell_type": "code",
   "execution_count": 60,
   "metadata": {},
   "outputs": [],
   "source": [
    "goverment_support['outcome'] = np.where(goverment_support['budget'] > goverment_support['box_office'], 'провал', 'успех')"
   ]
  },
  {
   "cell_type": "code",
   "execution_count": 61,
   "metadata": {},
   "outputs": [
    {
     "name": "stdout",
     "output_type": "stream",
     "text": [
      "budget_category\n",
      "<10 %            Больше провалов\n",
      "больше 90%        Больше успехов\n",
      "от 10 до 30 %    Больше провалов\n",
      "от 30 до 70 %    Больше провалов\n",
      "от 70 до 90 %    Больше провалов\n",
      "dtype: object\n"
     ]
    }
   ],
   "source": [
    "def compare_outcomes(group):\n",
    "    outcome_counts = group['outcome'].value_counts()\n",
    "    if 'провал' in outcome_counts and 'успех' in outcome_counts:\n",
    "        if outcome_counts['провал'] > outcome_counts['успех']:\n",
    "            return \"Больше провалов\"\n",
    "        elif outcome_counts['провал'] < outcome_counts['успех']:\n",
    "            return \"Больше успехов\"\n",
    "        else:\n",
    "            return \"Одинаковое количество провалов и успехов\"\n",
    "    elif 'провал' in outcome_counts:\n",
    "        return \"Больше провалов\"\n",
    "    elif 'успех' in outcome_counts:\n",
    "        return \"Больше успехов\"\n",
    "    else:\n",
    "        return \"Нет данных о результатах\"\n",
    "\n",
    "result = goverment_support.groupby('budget_category').apply(compare_outcomes)\n",
    "print(result)"
   ]
  },
  {
   "cell_type": "markdown",
   "metadata": {},
   "source": [
    "Можно сделать вывод о том, что государственная поддержка работает только тогда, когда фильм полностью спонсируется государством, в обратных случаях фильмы чаще проваливаются в прокате, чем делают сборы.\n",
    "\n",
    "По жанрам наилучшие сборы у исторических фильмов, спортивных и фантастики."
   ]
  },
  {
   "cell_type": "markdown",
   "metadata": {
    "id": "V2gYwMcPgFyd"
   },
   "source": [
    "<a id=\"conclusion\"></a> \n",
    "\n",
    "## Общий вывод"
   ]
  },
  {
   "cell_type": "markdown",
   "metadata": {},
   "source": [
    "**1. Проанализров дубликаты по названию мы увидели, что есть много столбцов, в которых различаются***\n",
    "1) Прокатные удостоверения\n",
    "\n",
    "2) Дата премьеры фильма\n",
    "\n",
    "3) Сборы в рублях\n",
    "\n",
    "Один фильм может иметь несколько прокатных удостоверений, если прокатное удостоверение выдавалось в разные сроки и для разных прокатных целей. Фильм мог поменять правообладателя, название или даже быть немного изменён для каких-либо творческих или коммерческих целей. Поэтому в Минестерстве культуры стоит ввести единый идентификационный номер, которые может объединять такие фильмы, чтобы данные не дублировались при анализе.\n",
    "\n",
    "**2. В категориальных значениях множество перечислений, поэтому достаточно сложно делать анализ про группам. Так как много вариаций, перечислений. Выделение категория главный или основной — это хороший способ проанализировать значения.\n",
    "\n",
    "**3. Необходимо лучше проверять достоверность данных при анализе. Есть фильмы с нулевыми бюджетами, фильмы с одинаковыми прокатными удостоверениями и так далее. Источников данных много, но всё же их стоит проверять тщательнее.\n",
    "\n",
    "**4. Данные до 2014 недостаточны для анализа** Плюс в этих периодах содержаться данные с очень странными кассовыми сборами (очень низкие). Поэтому в дальнейшей анализе используются только данные после 2015 года\n",
    "\n",
    "**5.Анализ данных по категориям**\n",
    "Самые низкие сборы и категории «0+».\n",
    "Этого не видно на графике, но видно из таблицы (эти сборы резко снизилист после 2017)\n",
    "В 2017 была просадка категории 12+ но потом она вновь пошла вверх.\n",
    "В 2017 был пик для категории 16+ после этого у неё был спад.\n",
    "Категории 6+ и 18 + практически повторяют траекторию роста друг друга.\n",
    "\n",
    "**6. Средние и медианные значения сборов**\n",
    "При анализе медианы и среднего значения видно, что были падения в 2016 и после пика в 2017. Хотя общая сумма продолжала сборов расти. В Медианных значениях скачки более заметны.\n",
    "\n",
    "**7. Государственная поддержка**\n",
    "Государственная поддержка работает только тогда, когда фильм полностью спонсируется государством, в обратных случаях фильмы чаще проваливаются в прокате, чем делают сборы.\n",
    "\n",
    "По жанрам наилучшие сборы у исторических фильмов, спортивных и фантастики."
   ]
  }
 ],
 "metadata": {
  "ExecuteTimeLog": [
   {
    "duration": 537,
    "start_time": "2021-07-07T10:12:08.634Z"
   },
   {
    "duration": 206,
    "start_time": "2021-07-07T10:12:30.191Z"
   },
   {
    "duration": 227,
    "start_time": "2021-07-07T10:12:33.078Z"
   },
   {
    "duration": 153,
    "start_time": "2021-07-07T10:13:42.146Z"
   },
   {
    "duration": 233,
    "start_time": "2021-07-07T10:30:09.252Z"
   },
   {
    "duration": 19,
    "start_time": "2021-07-07T10:30:15.577Z"
   },
   {
    "duration": 18,
    "start_time": "2021-07-07T10:30:57.348Z"
   },
   {
    "duration": 19,
    "start_time": "2021-07-07T10:31:17.452Z"
   },
   {
    "duration": 21,
    "start_time": "2021-07-07T10:31:32.227Z"
   },
   {
    "duration": 27,
    "start_time": "2021-07-07T10:32:06.588Z"
   },
   {
    "duration": 23,
    "start_time": "2021-07-07T10:32:43.645Z"
   },
   {
    "duration": 24,
    "start_time": "2021-07-07T10:33:06.948Z"
   },
   {
    "duration": 7,
    "start_time": "2021-07-07T10:33:28.558Z"
   },
   {
    "duration": 23,
    "start_time": "2021-07-07T10:33:43.761Z"
   },
   {
    "duration": 28,
    "start_time": "2021-07-07T10:34:13.466Z"
   },
   {
    "duration": 23,
    "start_time": "2021-07-07T10:35:56.187Z"
   },
   {
    "duration": 6,
    "start_time": "2021-07-07T10:36:48.182Z"
   },
   {
    "duration": 14,
    "start_time": "2021-07-07T10:37:49.641Z"
   },
   {
    "duration": 6,
    "start_time": "2021-07-07T10:38:06.694Z"
   },
   {
    "duration": 6,
    "start_time": "2021-07-07T10:38:13.493Z"
   },
   {
    "duration": 19,
    "start_time": "2021-07-07T10:38:44.056Z"
   },
   {
    "duration": 186,
    "start_time": "2021-07-07T10:48:35.618Z"
   },
   {
    "duration": 24,
    "start_time": "2021-07-07T10:48:51.498Z"
   },
   {
    "duration": 20,
    "start_time": "2021-07-07T10:48:59.415Z"
   },
   {
    "duration": 20,
    "start_time": "2021-07-07T10:53:02.195Z"
   },
   {
    "duration": 188,
    "start_time": "2021-07-07T10:54:40.486Z"
   },
   {
    "duration": 115,
    "start_time": "2021-07-07T10:54:52.552Z"
   },
   {
    "duration": 214,
    "start_time": "2021-07-07T10:54:56.354Z"
   },
   {
    "duration": 47,
    "start_time": "2021-07-07T10:54:58.282Z"
   },
   {
    "duration": 217,
    "start_time": "2021-07-07T10:59:16.075Z"
   },
   {
    "duration": 51,
    "start_time": "2021-07-07T10:59:16.243Z"
   },
   {
    "duration": 578,
    "start_time": "2021-07-07T10:59:18.774Z"
   },
   {
    "duration": 161,
    "start_time": "2021-07-07T10:59:21.238Z"
   },
   {
    "duration": 59,
    "start_time": "2021-07-07T10:59:21.453Z"
   },
   {
    "duration": 3,
    "start_time": "2021-07-07T11:02:10.786Z"
   },
   {
    "duration": 13,
    "start_time": "2021-07-07T11:07:07.722Z"
   },
   {
    "duration": 26,
    "start_time": "2021-07-07T11:07:17.958Z"
   },
   {
    "duration": 22,
    "start_time": "2021-07-07T11:08:17.939Z"
   },
   {
    "duration": 212,
    "start_time": "2021-07-07T11:08:19.665Z"
   },
   {
    "duration": 21,
    "start_time": "2021-07-07T11:08:29.945Z"
   },
   {
    "duration": 31,
    "start_time": "2021-07-07T11:08:38.899Z"
   },
   {
    "duration": 23,
    "start_time": "2021-07-07T11:08:54.527Z"
   },
   {
    "duration": 8,
    "start_time": "2021-07-07T11:18:55.974Z"
   },
   {
    "duration": 7,
    "start_time": "2021-07-07T11:19:03.639Z"
   },
   {
    "duration": 7,
    "start_time": "2021-07-07T11:19:06.444Z"
   },
   {
    "duration": 578,
    "start_time": "2021-07-07T12:09:59.576Z"
   },
   {
    "duration": 195,
    "start_time": "2021-07-07T12:10:00.156Z"
   },
   {
    "duration": 115,
    "start_time": "2021-07-07T12:10:00.353Z"
   },
   {
    "duration": 3,
    "start_time": "2021-07-07T12:10:00.470Z"
   },
   {
    "duration": 32,
    "start_time": "2021-07-07T12:10:00.474Z"
   },
   {
    "duration": 23,
    "start_time": "2021-07-07T12:10:00.508Z"
   },
   {
    "duration": 19,
    "start_time": "2021-07-07T12:10:00.533Z"
   },
   {
    "duration": 44,
    "start_time": "2021-07-07T12:10:00.553Z"
   },
   {
    "duration": 7,
    "start_time": "2021-07-07T12:10:00.600Z"
   },
   {
    "duration": 7,
    "start_time": "2021-07-07T12:19:45.761Z"
   },
   {
    "duration": 21,
    "start_time": "2021-07-07T12:21:35.482Z"
   },
   {
    "duration": 21,
    "start_time": "2021-07-07T12:29:23.569Z"
   },
   {
    "duration": 525,
    "start_time": "2021-07-07T12:29:44.542Z"
   },
   {
    "duration": 214,
    "start_time": "2021-07-07T12:29:45.069Z"
   },
   {
    "duration": 92,
    "start_time": "2021-07-07T12:29:45.285Z"
   },
   {
    "duration": 3,
    "start_time": "2021-07-07T12:29:45.379Z"
   },
   {
    "duration": 28,
    "start_time": "2021-07-07T12:29:45.384Z"
   },
   {
    "duration": 23,
    "start_time": "2021-07-07T12:29:45.413Z"
   },
   {
    "duration": 21,
    "start_time": "2021-07-07T12:29:45.437Z"
   },
   {
    "duration": 41,
    "start_time": "2021-07-07T12:29:45.460Z"
   },
   {
    "duration": 7,
    "start_time": "2021-07-07T12:29:45.502Z"
   },
   {
    "duration": 20,
    "start_time": "2021-07-07T12:29:45.511Z"
   },
   {
    "duration": 12,
    "start_time": "2021-07-07T12:34:02.800Z"
   },
   {
    "duration": 7,
    "start_time": "2021-07-07T12:35:10.479Z"
   },
   {
    "duration": 8,
    "start_time": "2021-07-07T12:35:22.440Z"
   },
   {
    "duration": 6,
    "start_time": "2021-07-07T12:35:35.649Z"
   },
   {
    "duration": 6,
    "start_time": "2021-07-07T12:35:43.107Z"
   },
   {
    "duration": 22,
    "start_time": "2021-07-07T12:38:03.029Z"
   },
   {
    "duration": 10,
    "start_time": "2021-07-07T12:38:06.592Z"
   },
   {
    "duration": 563,
    "start_time": "2021-07-07T12:38:46.493Z"
   },
   {
    "duration": 265,
    "start_time": "2021-07-07T12:38:47.058Z"
   },
   {
    "duration": 94,
    "start_time": "2021-07-07T12:38:47.325Z"
   },
   {
    "duration": 3,
    "start_time": "2021-07-07T12:38:47.422Z"
   },
   {
    "duration": 30,
    "start_time": "2021-07-07T12:38:47.427Z"
   },
   {
    "duration": 16,
    "start_time": "2021-07-07T12:38:53.305Z"
   },
   {
    "duration": 10,
    "start_time": "2021-07-07T12:38:53.499Z"
   },
   {
    "duration": 8,
    "start_time": "2021-07-07T12:39:48.161Z"
   },
   {
    "duration": 27,
    "start_time": "2021-07-07T12:41:17.629Z"
   },
   {
    "duration": 17,
    "start_time": "2021-07-07T12:41:17.867Z"
   },
   {
    "duration": 21,
    "start_time": "2021-07-07T12:41:19.310Z"
   },
   {
    "duration": 7,
    "start_time": "2021-07-07T12:41:19.544Z"
   },
   {
    "duration": 20,
    "start_time": "2021-07-07T12:41:20.504Z"
   },
   {
    "duration": 554,
    "start_time": "2021-07-07T12:56:23.696Z"
   },
   {
    "duration": 200,
    "start_time": "2021-07-07T12:56:25.234Z"
   },
   {
    "duration": 119,
    "start_time": "2021-07-07T12:56:25.480Z"
   },
   {
    "duration": 4,
    "start_time": "2021-07-07T12:56:25.762Z"
   },
   {
    "duration": 26,
    "start_time": "2021-07-07T12:56:27.172Z"
   },
   {
    "duration": 12,
    "start_time": "2021-07-07T12:56:29.051Z"
   },
   {
    "duration": 10,
    "start_time": "2021-07-07T12:56:29.291Z"
   },
   {
    "duration": 8,
    "start_time": "2021-07-07T12:56:29.623Z"
   },
   {
    "duration": 28,
    "start_time": "2021-07-07T12:56:32.137Z"
   },
   {
    "duration": 19,
    "start_time": "2021-07-07T12:56:39.785Z"
   },
   {
    "duration": 20,
    "start_time": "2021-07-07T12:56:44.297Z"
   },
   {
    "duration": 7,
    "start_time": "2021-07-07T12:56:45.392Z"
   },
   {
    "duration": 23,
    "start_time": "2021-07-07T12:56:46.615Z"
   },
   {
    "duration": 4,
    "start_time": "2021-07-07T12:57:06.625Z"
   },
   {
    "duration": 32,
    "start_time": "2021-07-07T12:57:36.690Z"
   },
   {
    "duration": 18,
    "start_time": "2021-07-07T12:58:00.149Z"
   },
   {
    "duration": 15,
    "start_time": "2021-07-07T12:59:16.793Z"
   },
   {
    "duration": 7,
    "start_time": "2021-07-07T13:19:22.624Z"
   },
   {
    "duration": 6,
    "start_time": "2021-07-07T14:17:33.527Z"
   },
   {
    "duration": 9,
    "start_time": "2021-07-07T14:17:48.409Z"
   },
   {
    "duration": 8,
    "start_time": "2021-07-07T14:20:13.060Z"
   },
   {
    "duration": 8,
    "start_time": "2021-07-07T14:20:37.957Z"
   },
   {
    "duration": 8,
    "start_time": "2021-07-07T14:20:47.470Z"
   },
   {
    "duration": 9,
    "start_time": "2021-07-07T14:20:54.503Z"
   },
   {
    "duration": 10,
    "start_time": "2021-07-07T14:28:57.763Z"
   },
   {
    "duration": 3,
    "start_time": "2021-07-07T14:30:23.377Z"
   },
   {
    "duration": 3,
    "start_time": "2021-07-07T14:30:36.489Z"
   },
   {
    "duration": 103,
    "start_time": "2021-07-07T14:30:52.351Z"
   },
   {
    "duration": 8,
    "start_time": "2021-07-07T14:30:54.763Z"
   },
   {
    "duration": 8,
    "start_time": "2021-07-07T14:31:29.301Z"
   },
   {
    "duration": 13,
    "start_time": "2021-07-07T14:31:44.516Z"
   },
   {
    "duration": 7,
    "start_time": "2021-07-07T14:33:10.972Z"
   },
   {
    "duration": 11,
    "start_time": "2021-07-07T14:33:27.780Z"
   },
   {
    "duration": 8,
    "start_time": "2021-07-07T14:34:44.588Z"
   },
   {
    "duration": 57,
    "start_time": "2021-07-07T14:35:59.042Z"
   },
   {
    "duration": 3,
    "start_time": "2021-07-07T14:36:28.168Z"
   },
   {
    "duration": 5,
    "start_time": "2021-07-07T14:36:46.254Z"
   },
   {
    "duration": 4,
    "start_time": "2021-07-07T14:36:52.714Z"
   },
   {
    "duration": 3,
    "start_time": "2021-07-07T14:36:56.612Z"
   },
   {
    "duration": 4,
    "start_time": "2021-07-07T14:36:57.049Z"
   },
   {
    "duration": 3,
    "start_time": "2021-07-07T14:39:21.214Z"
   },
   {
    "duration": 7,
    "start_time": "2021-07-07T14:39:52.406Z"
   },
   {
    "duration": 11,
    "start_time": "2021-07-07T14:39:58.576Z"
   },
   {
    "duration": 9,
    "start_time": "2021-07-07T14:40:26.301Z"
   },
   {
    "duration": 10,
    "start_time": "2021-07-07T14:40:31.704Z"
   },
   {
    "duration": 11,
    "start_time": "2021-07-07T14:40:36.249Z"
   },
   {
    "duration": 10,
    "start_time": "2021-07-07T14:40:39.783Z"
   },
   {
    "duration": 9,
    "start_time": "2021-07-07T14:40:48.558Z"
   },
   {
    "duration": 10,
    "start_time": "2021-07-07T14:40:57.143Z"
   },
   {
    "duration": 9,
    "start_time": "2021-07-07T14:41:06.074Z"
   },
   {
    "duration": 4324,
    "start_time": "2021-07-07T14:41:22.004Z"
   },
   {
    "duration": 11,
    "start_time": "2021-07-07T14:41:33.392Z"
   },
   {
    "duration": 9,
    "start_time": "2021-07-07T14:41:39.288Z"
   },
   {
    "duration": 569,
    "start_time": "2021-07-07T14:42:14.387Z"
   },
   {
    "duration": 197,
    "start_time": "2021-07-07T14:42:14.959Z"
   },
   {
    "duration": 84,
    "start_time": "2021-07-07T14:42:16.052Z"
   },
   {
    "duration": 4,
    "start_time": "2021-07-07T14:42:16.900Z"
   },
   {
    "duration": 27,
    "start_time": "2021-07-07T14:42:19.898Z"
   },
   {
    "duration": 12,
    "start_time": "2021-07-07T14:42:21.577Z"
   },
   {
    "duration": 9,
    "start_time": "2021-07-07T14:42:21.813Z"
   },
   {
    "duration": 9,
    "start_time": "2021-07-07T14:42:22.569Z"
   },
   {
    "duration": 29,
    "start_time": "2021-07-07T14:42:25.837Z"
   },
   {
    "duration": 20,
    "start_time": "2021-07-07T14:42:27.003Z"
   },
   {
    "duration": 21,
    "start_time": "2021-07-07T14:42:28.767Z"
   },
   {
    "duration": 7,
    "start_time": "2021-07-07T14:42:29.838Z"
   },
   {
    "duration": 4,
    "start_time": "2021-07-07T14:43:25.493Z"
   },
   {
    "duration": 7,
    "start_time": "2021-07-07T14:43:26.573Z"
   },
   {
    "duration": 10,
    "start_time": "2021-07-07T14:43:31.639Z"
   },
   {
    "duration": 9,
    "start_time": "2021-07-07T14:43:32.046Z"
   },
   {
    "duration": 10,
    "start_time": "2021-07-07T14:43:33.301Z"
   },
   {
    "duration": 12,
    "start_time": "2021-07-07T14:43:33.658Z"
   },
   {
    "duration": 8,
    "start_time": "2021-07-07T14:43:34.552Z"
   },
   {
    "duration": 9,
    "start_time": "2021-07-07T14:43:35.058Z"
   },
   {
    "duration": 12,
    "start_time": "2021-07-07T14:43:35.914Z"
   },
   {
    "duration": 17,
    "start_time": "2021-07-07T14:45:34.368Z"
   },
   {
    "duration": 512,
    "start_time": "2021-07-07T14:51:58.236Z"
   },
   {
    "duration": 223,
    "start_time": "2021-07-07T14:51:58.750Z"
   },
   {
    "duration": 93,
    "start_time": "2021-07-07T14:51:58.977Z"
   },
   {
    "duration": 4,
    "start_time": "2021-07-07T14:51:59.071Z"
   },
   {
    "duration": 37,
    "start_time": "2021-07-07T14:51:59.077Z"
   },
   {
    "duration": 18,
    "start_time": "2021-07-07T14:51:59.116Z"
   },
   {
    "duration": 10,
    "start_time": "2021-07-07T14:51:59.137Z"
   },
   {
    "duration": 8,
    "start_time": "2021-07-07T14:51:59.149Z"
   },
   {
    "duration": 54,
    "start_time": "2021-07-07T14:51:59.158Z"
   },
   {
    "duration": 18,
    "start_time": "2021-07-07T14:51:59.213Z"
   },
   {
    "duration": 22,
    "start_time": "2021-07-07T14:51:59.232Z"
   },
   {
    "duration": 36,
    "start_time": "2021-07-07T14:51:59.255Z"
   },
   {
    "duration": 7,
    "start_time": "2021-07-07T14:51:59.293Z"
   },
   {
    "duration": 10,
    "start_time": "2021-07-07T14:51:59.302Z"
   },
   {
    "duration": 9,
    "start_time": "2021-07-07T14:51:59.313Z"
   },
   {
    "duration": 11,
    "start_time": "2021-07-07T14:51:59.324Z"
   },
   {
    "duration": 8,
    "start_time": "2021-07-07T14:51:59.337Z"
   },
   {
    "duration": 46,
    "start_time": "2021-07-07T14:51:59.347Z"
   },
   {
    "duration": 22,
    "start_time": "2021-07-07T14:51:59.395Z"
   },
   {
    "duration": 24,
    "start_time": "2021-07-07T14:57:32.911Z"
   },
   {
    "duration": 7,
    "start_time": "2021-07-07T14:58:22.070Z"
   },
   {
    "duration": 4,
    "start_time": "2021-07-07T14:59:11.239Z"
   },
   {
    "duration": 25,
    "start_time": "2021-07-07T15:07:22.208Z"
   },
   {
    "duration": 16,
    "start_time": "2021-07-07T15:08:25.560Z"
   },
   {
    "duration": 15,
    "start_time": "2021-07-07T15:08:40.647Z"
   },
   {
    "duration": 14,
    "start_time": "2021-07-07T15:08:46.669Z"
   },
   {
    "duration": 533,
    "start_time": "2021-07-07T15:18:07.440Z"
   },
   {
    "duration": 173,
    "start_time": "2021-07-07T15:18:07.974Z"
   },
   {
    "duration": 84,
    "start_time": "2021-07-07T15:18:08.149Z"
   },
   {
    "duration": 3,
    "start_time": "2021-07-07T15:18:08.235Z"
   },
   {
    "duration": 30,
    "start_time": "2021-07-07T15:18:08.240Z"
   },
   {
    "duration": 22,
    "start_time": "2021-07-07T15:18:08.272Z"
   },
   {
    "duration": 11,
    "start_time": "2021-07-07T15:18:08.295Z"
   },
   {
    "duration": 11,
    "start_time": "2021-07-07T15:18:08.309Z"
   },
   {
    "duration": 40,
    "start_time": "2021-07-07T15:18:08.322Z"
   },
   {
    "duration": 42,
    "start_time": "2021-07-07T15:18:08.364Z"
   },
   {
    "duration": 22,
    "start_time": "2021-07-07T15:18:08.408Z"
   },
   {
    "duration": 5,
    "start_time": "2021-07-07T15:18:08.432Z"
   },
   {
    "duration": 13,
    "start_time": "2021-07-07T15:18:08.439Z"
   },
   {
    "duration": 9,
    "start_time": "2021-07-07T15:18:08.454Z"
   },
   {
    "duration": 32,
    "start_time": "2021-07-07T15:18:08.465Z"
   },
   {
    "duration": 10,
    "start_time": "2021-07-07T15:18:08.501Z"
   },
   {
    "duration": 7,
    "start_time": "2021-07-07T15:18:08.513Z"
   },
   {
    "duration": 11,
    "start_time": "2021-07-07T15:18:08.521Z"
   },
   {
    "duration": 17,
    "start_time": "2021-07-07T15:18:08.534Z"
   },
   {
    "duration": 44,
    "start_time": "2021-07-07T15:18:08.553Z"
   },
   {
    "duration": 22,
    "start_time": "2021-07-07T15:18:08.599Z"
   },
   {
    "duration": 61,
    "start_time": "2021-07-07T15:18:08.622Z"
   },
   {
    "duration": 7,
    "start_time": "2021-07-07T15:18:39.457Z"
   },
   {
    "duration": 5,
    "start_time": "2021-07-07T16:05:17.020Z"
   },
   {
    "duration": 5,
    "start_time": "2021-07-07T16:51:28.794Z"
   },
   {
    "duration": 546,
    "start_time": "2021-07-07T16:52:26.306Z"
   },
   {
    "duration": 203,
    "start_time": "2021-07-07T16:52:27.523Z"
   },
   {
    "duration": 85,
    "start_time": "2021-07-07T16:52:27.736Z"
   },
   {
    "duration": 4,
    "start_time": "2021-07-07T16:52:27.899Z"
   },
   {
    "duration": 25,
    "start_time": "2021-07-07T16:52:28.674Z"
   },
   {
    "duration": 8,
    "start_time": "2021-07-07T16:52:32.956Z"
   },
   {
    "duration": 18,
    "start_time": "2021-07-07T16:52:35.616Z"
   },
   {
    "duration": 6,
    "start_time": "2021-07-07T16:52:36.913Z"
   },
   {
    "duration": 11,
    "start_time": "2021-07-07T16:52:40.258Z"
   },
   {
    "duration": 10,
    "start_time": "2021-07-07T16:52:46.251Z"
   },
   {
    "duration": 8,
    "start_time": "2021-07-07T16:52:47.182Z"
   },
   {
    "duration": 27,
    "start_time": "2021-07-07T16:53:20.391Z"
   },
   {
    "duration": 20,
    "start_time": "2021-07-07T16:53:22.022Z"
   },
   {
    "duration": 23,
    "start_time": "2021-07-07T16:53:23.690Z"
   },
   {
    "duration": 8,
    "start_time": "2021-07-07T16:53:24.261Z"
   },
   {
    "duration": 4,
    "start_time": "2021-07-07T16:53:38.733Z"
   },
   {
    "duration": 7,
    "start_time": "2021-07-07T16:53:40.445Z"
   },
   {
    "duration": 11,
    "start_time": "2021-07-07T16:53:41.348Z"
   },
   {
    "duration": 13,
    "start_time": "2021-07-07T16:53:45.250Z"
   },
   {
    "duration": 12,
    "start_time": "2021-07-07T16:53:45.467Z"
   },
   {
    "duration": 4,
    "start_time": "2021-07-07T16:55:32.704Z"
   },
   {
    "duration": 12,
    "start_time": "2021-07-07T16:55:49.012Z"
   },
   {
    "duration": 18,
    "start_time": "2021-07-07T16:55:49.547Z"
   },
   {
    "duration": 611,
    "start_time": "2021-07-07T16:58:35.156Z"
   },
   {
    "duration": 200,
    "start_time": "2021-07-07T16:58:35.770Z"
   },
   {
    "duration": 86,
    "start_time": "2021-07-07T16:58:35.972Z"
   },
   {
    "duration": 3,
    "start_time": "2021-07-07T16:58:36.060Z"
   },
   {
    "duration": 27,
    "start_time": "2021-07-07T16:58:36.065Z"
   },
   {
    "duration": 8,
    "start_time": "2021-07-07T16:58:36.094Z"
   },
   {
    "duration": 17,
    "start_time": "2021-07-07T16:58:36.103Z"
   },
   {
    "duration": 5,
    "start_time": "2021-07-07T16:58:36.123Z"
   },
   {
    "duration": 11,
    "start_time": "2021-07-07T16:58:36.130Z"
   },
   {
    "duration": 7,
    "start_time": "2021-07-07T16:58:36.143Z"
   },
   {
    "duration": 37,
    "start_time": "2021-07-07T16:58:36.152Z"
   },
   {
    "duration": 27,
    "start_time": "2021-07-07T16:58:36.191Z"
   },
   {
    "duration": 19,
    "start_time": "2021-07-07T16:58:36.219Z"
   },
   {
    "duration": 49,
    "start_time": "2021-07-07T16:58:36.240Z"
   },
   {
    "duration": 6,
    "start_time": "2021-07-07T16:58:36.291Z"
   },
   {
    "duration": 3,
    "start_time": "2021-07-07T16:58:36.299Z"
   },
   {
    "duration": 13,
    "start_time": "2021-07-07T16:58:36.304Z"
   },
   {
    "duration": 10,
    "start_time": "2021-07-07T16:58:36.319Z"
   },
   {
    "duration": 10,
    "start_time": "2021-07-07T16:58:36.331Z"
   },
   {
    "duration": 44,
    "start_time": "2021-07-07T16:58:36.343Z"
   },
   {
    "duration": 4,
    "start_time": "2021-07-07T16:58:36.388Z"
   },
   {
    "duration": 13,
    "start_time": "2021-07-07T16:58:36.394Z"
   },
   {
    "duration": 16,
    "start_time": "2021-07-07T16:58:36.410Z"
   },
   {
    "duration": 8,
    "start_time": "2021-07-07T17:02:31.629Z"
   },
   {
    "duration": 8,
    "start_time": "2021-07-07T17:02:34.308Z"
   },
   {
    "duration": 6,
    "start_time": "2021-07-07T17:05:13.483Z"
   },
   {
    "duration": 17,
    "start_time": "2021-07-07T17:05:20.606Z"
   },
   {
    "duration": 7,
    "start_time": "2021-07-07T17:05:34.638Z"
   },
   {
    "duration": 3,
    "start_time": "2021-07-07T17:06:31.883Z"
   },
   {
    "duration": 570,
    "start_time": "2021-07-07T17:06:37.165Z"
   },
   {
    "duration": 174,
    "start_time": "2021-07-07T17:06:37.737Z"
   },
   {
    "duration": 47,
    "start_time": "2021-07-07T17:06:37.913Z"
   },
   {
    "duration": 3,
    "start_time": "2021-07-07T17:06:37.962Z"
   },
   {
    "duration": 27,
    "start_time": "2021-07-07T17:06:37.967Z"
   },
   {
    "duration": 7,
    "start_time": "2021-07-07T17:06:37.996Z"
   },
   {
    "duration": 16,
    "start_time": "2021-07-07T17:06:38.005Z"
   },
   {
    "duration": 6,
    "start_time": "2021-07-07T17:06:38.024Z"
   },
   {
    "duration": 12,
    "start_time": "2021-07-07T17:06:38.031Z"
   },
   {
    "duration": 41,
    "start_time": "2021-07-07T17:06:38.045Z"
   },
   {
    "duration": 8,
    "start_time": "2021-07-07T17:06:38.088Z"
   },
   {
    "duration": 26,
    "start_time": "2021-07-07T17:06:38.098Z"
   },
   {
    "duration": 17,
    "start_time": "2021-07-07T17:06:38.126Z"
   },
   {
    "duration": 43,
    "start_time": "2021-07-07T17:06:38.144Z"
   },
   {
    "duration": 6,
    "start_time": "2021-07-07T17:06:38.188Z"
   },
   {
    "duration": 5,
    "start_time": "2021-07-07T17:06:38.195Z"
   },
   {
    "duration": 9,
    "start_time": "2021-07-07T17:06:38.201Z"
   },
   {
    "duration": 12,
    "start_time": "2021-07-07T17:06:38.212Z"
   },
   {
    "duration": 11,
    "start_time": "2021-07-07T17:06:38.226Z"
   },
   {
    "duration": 47,
    "start_time": "2021-07-07T17:06:38.239Z"
   },
   {
    "duration": 4,
    "start_time": "2021-07-07T17:06:38.288Z"
   },
   {
    "duration": 13,
    "start_time": "2021-07-07T17:06:38.293Z"
   },
   {
    "duration": 5,
    "start_time": "2021-07-07T17:06:38.309Z"
   },
   {
    "duration": 18,
    "start_time": "2021-07-07T17:06:38.325Z"
   },
   {
    "duration": 20,
    "start_time": "2021-07-07T17:07:02.805Z"
   },
   {
    "duration": 19,
    "start_time": "2021-07-07T17:07:08.527Z"
   },
   {
    "duration": 19,
    "start_time": "2021-07-07T17:07:12.758Z"
   },
   {
    "duration": 22,
    "start_time": "2021-07-07T17:07:17.497Z"
   },
   {
    "duration": 19,
    "start_time": "2021-07-07T17:07:19.645Z"
   },
   {
    "duration": 10,
    "start_time": "2021-07-07T17:07:34.239Z"
   },
   {
    "duration": 17,
    "start_time": "2021-07-07T17:07:54.144Z"
   },
   {
    "duration": 14,
    "start_time": "2021-07-07T17:08:14.357Z"
   },
   {
    "duration": 616,
    "start_time": "2021-07-07T17:08:45.254Z"
   },
   {
    "duration": 178,
    "start_time": "2021-07-07T17:08:45.872Z"
   },
   {
    "duration": 60,
    "start_time": "2021-07-07T17:08:46.054Z"
   },
   {
    "duration": 3,
    "start_time": "2021-07-07T17:08:46.116Z"
   },
   {
    "duration": 26,
    "start_time": "2021-07-07T17:08:46.121Z"
   },
   {
    "duration": 7,
    "start_time": "2021-07-07T17:08:46.149Z"
   },
   {
    "duration": 17,
    "start_time": "2021-07-07T17:08:46.158Z"
   },
   {
    "duration": 14,
    "start_time": "2021-07-07T17:08:46.176Z"
   },
   {
    "duration": 17,
    "start_time": "2021-07-07T17:08:46.193Z"
   },
   {
    "duration": 9,
    "start_time": "2021-07-07T17:08:46.211Z"
   },
   {
    "duration": 21,
    "start_time": "2021-07-07T17:08:46.221Z"
   },
   {
    "duration": 49,
    "start_time": "2021-07-07T17:08:46.244Z"
   },
   {
    "duration": 24,
    "start_time": "2021-07-07T17:08:46.295Z"
   },
   {
    "duration": 22,
    "start_time": "2021-07-07T17:08:46.321Z"
   },
   {
    "duration": 6,
    "start_time": "2021-07-07T17:08:46.345Z"
   },
   {
    "duration": 5,
    "start_time": "2021-07-07T17:08:46.353Z"
   },
   {
    "duration": 13,
    "start_time": "2021-07-07T17:08:46.386Z"
   },
   {
    "duration": 12,
    "start_time": "2021-07-07T17:08:46.402Z"
   },
   {
    "duration": 10,
    "start_time": "2021-07-07T17:08:46.415Z"
   },
   {
    "duration": 7,
    "start_time": "2021-07-07T17:08:46.427Z"
   },
   {
    "duration": 8,
    "start_time": "2021-07-07T17:08:46.435Z"
   },
   {
    "duration": 68,
    "start_time": "2021-07-07T17:08:46.446Z"
   },
   {
    "duration": 13,
    "start_time": "2021-07-07T17:08:46.516Z"
   },
   {
    "duration": 78,
    "start_time": "2021-07-07T17:08:46.530Z"
   },
   {
    "duration": 40,
    "start_time": "2021-07-07T17:09:08.185Z"
   },
   {
    "duration": 16,
    "start_time": "2021-07-07T17:09:19.324Z"
   },
   {
    "duration": 21,
    "start_time": "2021-07-07T17:09:23.290Z"
   },
   {
    "duration": 13,
    "start_time": "2021-07-07T17:09:54.812Z"
   },
   {
    "duration": 13,
    "start_time": "2021-07-07T17:10:02.039Z"
   },
   {
    "duration": 10,
    "start_time": "2021-07-07T17:10:29.632Z"
   },
   {
    "duration": 13,
    "start_time": "2021-07-07T17:10:52.372Z"
   },
   {
    "duration": 13,
    "start_time": "2021-07-07T17:11:17.270Z"
   },
   {
    "duration": 13,
    "start_time": "2021-07-07T17:14:59.284Z"
   },
   {
    "duration": 547,
    "start_time": "2021-07-07T17:18:52.403Z"
   },
   {
    "duration": 163,
    "start_time": "2021-07-07T17:18:52.952Z"
   },
   {
    "duration": 44,
    "start_time": "2021-07-07T17:18:53.117Z"
   },
   {
    "duration": 3,
    "start_time": "2021-07-07T17:18:53.162Z"
   },
   {
    "duration": 26,
    "start_time": "2021-07-07T17:18:53.167Z"
   },
   {
    "duration": 6,
    "start_time": "2021-07-07T17:18:53.195Z"
   },
   {
    "duration": 15,
    "start_time": "2021-07-07T17:18:53.203Z"
   },
   {
    "duration": 5,
    "start_time": "2021-07-07T17:18:53.220Z"
   },
   {
    "duration": 11,
    "start_time": "2021-07-07T17:18:53.228Z"
   },
   {
    "duration": 9,
    "start_time": "2021-07-07T17:18:53.241Z"
   },
   {
    "duration": 41,
    "start_time": "2021-07-07T17:18:53.252Z"
   },
   {
    "duration": 33,
    "start_time": "2021-07-07T17:18:53.295Z"
   },
   {
    "duration": 19,
    "start_time": "2021-07-07T17:18:53.330Z"
   },
   {
    "duration": 49,
    "start_time": "2021-07-07T17:18:53.350Z"
   },
   {
    "duration": 5,
    "start_time": "2021-07-07T17:18:53.401Z"
   },
   {
    "duration": 5,
    "start_time": "2021-07-07T17:18:53.408Z"
   },
   {
    "duration": 11,
    "start_time": "2021-07-07T17:18:53.414Z"
   },
   {
    "duration": 9,
    "start_time": "2021-07-07T17:18:53.427Z"
   },
   {
    "duration": 10,
    "start_time": "2021-07-07T17:18:53.437Z"
   },
   {
    "duration": 39,
    "start_time": "2021-07-07T17:18:53.448Z"
   },
   {
    "duration": 26,
    "start_time": "2021-07-07T17:18:55.799Z"
   },
   {
    "duration": 598,
    "start_time": "2021-07-07T17:20:17.862Z"
   },
   {
    "duration": 161,
    "start_time": "2021-07-07T17:20:18.462Z"
   },
   {
    "duration": 45,
    "start_time": "2021-07-07T17:20:18.626Z"
   },
   {
    "duration": 4,
    "start_time": "2021-07-07T17:20:18.673Z"
   },
   {
    "duration": 38,
    "start_time": "2021-07-07T17:20:26.877Z"
   },
   {
    "duration": 7,
    "start_time": "2021-07-07T17:20:37.405Z"
   },
   {
    "duration": 19,
    "start_time": "2021-07-07T17:20:51.534Z"
   },
   {
    "duration": 5,
    "start_time": "2021-07-07T17:20:57.228Z"
   },
   {
    "duration": 7,
    "start_time": "2021-07-07T17:21:08.235Z"
   },
   {
    "duration": 19,
    "start_time": "2021-07-07T17:21:42.158Z"
   },
   {
    "duration": 14,
    "start_time": "2021-07-07T17:21:50.225Z"
   },
   {
    "duration": 22,
    "start_time": "2021-07-07T17:22:54.104Z"
   },
   {
    "duration": 5,
    "start_time": "2021-07-07T17:22:56.371Z"
   },
   {
    "duration": 14,
    "start_time": "2021-07-07T17:22:58.316Z"
   },
   {
    "duration": 5,
    "start_time": "2021-07-07T17:22:58.493Z"
   },
   {
    "duration": 35,
    "start_time": "2021-07-07T17:22:59.666Z"
   },
   {
    "duration": 6,
    "start_time": "2021-07-07T17:23:02.410Z"
   },
   {
    "duration": 611,
    "start_time": "2021-07-07T17:24:59.664Z"
   },
   {
    "duration": 178,
    "start_time": "2021-07-07T17:25:01.945Z"
   },
   {
    "duration": 47,
    "start_time": "2021-07-07T17:25:02.125Z"
   },
   {
    "duration": 2,
    "start_time": "2021-07-07T17:25:07.903Z"
   },
   {
    "duration": 254,
    "start_time": "2021-07-07T17:25:08.232Z"
   },
   {
    "duration": 182,
    "start_time": "2021-07-07T17:25:08.671Z"
   },
   {
    "duration": 6,
    "start_time": "2021-07-07T17:25:13.104Z"
   },
   {
    "duration": 36,
    "start_time": "2021-07-07T17:25:13.662Z"
   },
   {
    "duration": 7,
    "start_time": "2021-07-07T17:25:14.528Z"
   },
   {
    "duration": 24,
    "start_time": "2021-07-07T17:25:27.982Z"
   },
   {
    "duration": 3,
    "start_time": "2021-07-07T17:25:48.982Z"
   },
   {
    "duration": 165,
    "start_time": "2021-07-07T17:25:48.987Z"
   },
   {
    "duration": 50,
    "start_time": "2021-07-07T17:25:49.154Z"
   },
   {
    "duration": 4,
    "start_time": "2021-07-07T17:25:49.206Z"
   },
   {
    "duration": 26,
    "start_time": "2021-07-07T17:25:49.212Z"
   },
   {
    "duration": 7,
    "start_time": "2021-07-07T17:25:49.240Z"
   },
   {
    "duration": 16,
    "start_time": "2021-07-07T17:25:49.249Z"
   },
   {
    "duration": 22,
    "start_time": "2021-07-07T17:25:49.266Z"
   },
   {
    "duration": 16,
    "start_time": "2021-07-07T17:25:49.291Z"
   },
   {
    "duration": 9,
    "start_time": "2021-07-07T17:25:49.309Z"
   },
   {
    "duration": 7,
    "start_time": "2021-07-07T17:25:49.319Z"
   },
   {
    "duration": 28,
    "start_time": "2021-07-07T17:25:49.328Z"
   },
   {
    "duration": 44,
    "start_time": "2021-07-07T17:25:49.357Z"
   },
   {
    "duration": 22,
    "start_time": "2021-07-07T17:25:49.403Z"
   },
   {
    "duration": 7,
    "start_time": "2021-07-07T17:25:49.427Z"
   },
   {
    "duration": 3,
    "start_time": "2021-07-07T17:25:49.436Z"
   },
   {
    "duration": 44,
    "start_time": "2021-07-07T17:25:49.441Z"
   },
   {
    "duration": 12,
    "start_time": "2021-07-07T17:25:49.488Z"
   },
   {
    "duration": 13,
    "start_time": "2021-07-07T17:25:49.502Z"
   },
   {
    "duration": 10,
    "start_time": "2021-07-07T17:25:49.516Z"
   },
   {
    "duration": 62,
    "start_time": "2021-07-07T17:25:49.527Z"
   },
   {
    "duration": 26,
    "start_time": "2021-07-07T17:26:51.809Z"
   },
   {
    "duration": 26,
    "start_time": "2021-07-07T17:26:55.759Z"
   },
   {
    "duration": 26,
    "start_time": "2021-07-07T17:27:04.501Z"
   },
   {
    "duration": 25,
    "start_time": "2021-07-07T17:28:24.859Z"
   },
   {
    "duration": 21,
    "start_time": "2021-07-07T17:28:55.250Z"
   },
   {
    "duration": 21,
    "start_time": "2021-07-07T17:28:58.885Z"
   },
   {
    "duration": 7,
    "start_time": "2021-07-07T17:45:40.972Z"
   },
   {
    "duration": 13,
    "start_time": "2021-07-07T17:45:42.529Z"
   },
   {
    "duration": 27,
    "start_time": "2021-07-07T17:45:51.026Z"
   },
   {
    "duration": 518,
    "start_time": "2021-07-07T17:46:15.532Z"
   },
   {
    "duration": 235,
    "start_time": "2021-07-07T17:46:16.053Z"
   },
   {
    "duration": 80,
    "start_time": "2021-07-07T17:46:16.292Z"
   },
   {
    "duration": 5,
    "start_time": "2021-07-07T17:46:16.373Z"
   },
   {
    "duration": 26,
    "start_time": "2021-07-07T17:46:16.380Z"
   },
   {
    "duration": 7,
    "start_time": "2021-07-07T17:46:16.408Z"
   },
   {
    "duration": 16,
    "start_time": "2021-07-07T17:46:16.418Z"
   },
   {
    "duration": 5,
    "start_time": "2021-07-07T17:46:16.436Z"
   },
   {
    "duration": 13,
    "start_time": "2021-07-07T17:46:16.442Z"
   },
   {
    "duration": 35,
    "start_time": "2021-07-07T17:46:16.456Z"
   },
   {
    "duration": 8,
    "start_time": "2021-07-07T17:46:16.493Z"
   },
   {
    "duration": 28,
    "start_time": "2021-07-07T17:46:16.502Z"
   },
   {
    "duration": 17,
    "start_time": "2021-07-07T17:46:16.532Z"
   },
   {
    "duration": 44,
    "start_time": "2021-07-07T17:46:16.551Z"
   },
   {
    "duration": 6,
    "start_time": "2021-07-07T17:46:16.597Z"
   },
   {
    "duration": 4,
    "start_time": "2021-07-07T17:46:16.605Z"
   },
   {
    "duration": 9,
    "start_time": "2021-07-07T17:46:16.610Z"
   },
   {
    "duration": 9,
    "start_time": "2021-07-07T17:46:16.621Z"
   },
   {
    "duration": 10,
    "start_time": "2021-07-07T17:46:16.632Z"
   },
   {
    "duration": 43,
    "start_time": "2021-07-07T17:46:16.644Z"
   },
   {
    "duration": 26,
    "start_time": "2021-07-07T17:46:16.689Z"
   },
   {
    "duration": 19,
    "start_time": "2021-07-07T17:46:16.718Z"
   },
   {
    "duration": 8,
    "start_time": "2021-07-07T17:46:16.738Z"
   },
   {
    "duration": 43,
    "start_time": "2021-07-07T17:46:16.747Z"
   },
   {
    "duration": 19,
    "start_time": "2021-07-07T17:46:16.791Z"
   },
   {
    "duration": 9,
    "start_time": "2021-07-07T17:46:16.812Z"
   },
   {
    "duration": 60,
    "start_time": "2021-07-07T17:46:16.822Z"
   },
   {
    "duration": -8,
    "start_time": "2021-07-07T17:46:16.892Z"
   },
   {
    "duration": 12,
    "start_time": "2021-07-07T17:48:47.707Z"
   },
   {
    "duration": 553,
    "start_time": "2021-07-07T18:10:09.350Z"
   },
   {
    "duration": 230,
    "start_time": "2021-07-07T18:10:09.905Z"
   },
   {
    "duration": 97,
    "start_time": "2021-07-07T18:10:10.137Z"
   },
   {
    "duration": 5,
    "start_time": "2021-07-07T18:10:10.236Z"
   },
   {
    "duration": 29,
    "start_time": "2021-07-07T18:10:10.242Z"
   },
   {
    "duration": 7,
    "start_time": "2021-07-07T18:10:10.272Z"
   },
   {
    "duration": 15,
    "start_time": "2021-07-07T18:10:10.281Z"
   },
   {
    "duration": 4,
    "start_time": "2021-07-07T18:10:10.299Z"
   },
   {
    "duration": 14,
    "start_time": "2021-07-07T18:10:10.305Z"
   },
   {
    "duration": 8,
    "start_time": "2021-07-07T18:10:10.321Z"
   },
   {
    "duration": 8,
    "start_time": "2021-07-07T18:10:10.331Z"
   },
   {
    "duration": 56,
    "start_time": "2021-07-07T18:10:10.341Z"
   },
   {
    "duration": 19,
    "start_time": "2021-07-07T18:10:10.399Z"
   },
   {
    "duration": 23,
    "start_time": "2021-07-07T18:10:10.419Z"
   },
   {
    "duration": 6,
    "start_time": "2021-07-07T18:10:10.444Z"
   },
   {
    "duration": 9,
    "start_time": "2021-07-07T18:10:10.451Z"
   },
   {
    "duration": 30,
    "start_time": "2021-07-07T18:10:10.462Z"
   },
   {
    "duration": 9,
    "start_time": "2021-07-07T18:10:10.494Z"
   },
   {
    "duration": 14,
    "start_time": "2021-07-07T18:10:10.505Z"
   },
   {
    "duration": 7,
    "start_time": "2021-07-07T18:10:10.521Z"
   },
   {
    "duration": 26,
    "start_time": "2021-07-07T18:10:10.530Z"
   },
   {
    "duration": 44,
    "start_time": "2021-07-07T18:10:10.558Z"
   },
   {
    "duration": 7,
    "start_time": "2021-07-07T18:10:10.605Z"
   },
   {
    "duration": 11,
    "start_time": "2021-07-07T18:10:10.614Z"
   },
   {
    "duration": 19,
    "start_time": "2021-07-07T18:10:10.626Z"
   },
   {
    "duration": 44,
    "start_time": "2021-07-07T18:10:10.646Z"
   },
   {
    "duration": 516,
    "start_time": "2021-07-07T18:14:00.826Z"
   },
   {
    "duration": 230,
    "start_time": "2021-07-07T18:14:01.344Z"
   },
   {
    "duration": 105,
    "start_time": "2021-07-07T18:14:01.576Z"
   },
   {
    "duration": 5,
    "start_time": "2021-07-07T18:14:01.683Z"
   },
   {
    "duration": 46,
    "start_time": "2021-07-07T18:14:01.690Z"
   },
   {
    "duration": 7,
    "start_time": "2021-07-07T18:14:01.738Z"
   },
   {
    "duration": 20,
    "start_time": "2021-07-07T18:14:01.747Z"
   },
   {
    "duration": 16,
    "start_time": "2021-07-07T18:14:01.769Z"
   },
   {
    "duration": 14,
    "start_time": "2021-07-07T18:14:01.787Z"
   },
   {
    "duration": 15,
    "start_time": "2021-07-07T18:14:01.803Z"
   },
   {
    "duration": 12,
    "start_time": "2021-07-07T18:14:01.820Z"
   },
   {
    "duration": 35,
    "start_time": "2021-07-07T18:14:01.833Z"
   },
   {
    "duration": 31,
    "start_time": "2021-07-07T18:14:01.869Z"
   },
   {
    "duration": 37,
    "start_time": "2021-07-07T18:14:01.902Z"
   },
   {
    "duration": 8,
    "start_time": "2021-07-07T18:14:01.942Z"
   },
   {
    "duration": 16,
    "start_time": "2021-07-07T18:14:01.952Z"
   },
   {
    "duration": 13,
    "start_time": "2021-07-07T18:14:01.970Z"
   },
   {
    "duration": 32,
    "start_time": "2021-07-07T18:14:01.985Z"
   },
   {
    "duration": 11,
    "start_time": "2021-07-07T18:14:02.019Z"
   },
   {
    "duration": 22,
    "start_time": "2021-07-07T18:14:02.031Z"
   },
   {
    "duration": 27,
    "start_time": "2021-07-07T18:14:02.055Z"
   },
   {
    "duration": 18,
    "start_time": "2021-07-07T18:14:02.084Z"
   },
   {
    "duration": 18,
    "start_time": "2021-07-07T18:14:02.106Z"
   },
   {
    "duration": 11,
    "start_time": "2021-07-07T18:14:02.126Z"
   },
   {
    "duration": 21,
    "start_time": "2021-07-07T18:14:02.138Z"
   },
   {
    "duration": 32,
    "start_time": "2021-07-07T18:14:02.161Z"
   },
   {
    "duration": 28,
    "start_time": "2021-07-07T18:14:44.295Z"
   },
   {
    "duration": 6,
    "start_time": "2021-07-07T18:15:05.834Z"
   },
   {
    "duration": 511,
    "start_time": "2021-07-07T18:15:41.541Z"
   },
   {
    "duration": 183,
    "start_time": "2021-07-07T18:15:42.054Z"
   },
   {
    "duration": 50,
    "start_time": "2021-07-07T18:15:42.239Z"
   },
   {
    "duration": 5,
    "start_time": "2021-07-07T18:15:42.291Z"
   },
   {
    "duration": 48,
    "start_time": "2021-07-07T18:15:42.297Z"
   },
   {
    "duration": 8,
    "start_time": "2021-07-07T18:15:42.346Z"
   },
   {
    "duration": 17,
    "start_time": "2021-07-07T18:15:42.356Z"
   },
   {
    "duration": 15,
    "start_time": "2021-07-07T18:15:42.375Z"
   },
   {
    "duration": 12,
    "start_time": "2021-07-07T18:15:42.392Z"
   },
   {
    "duration": 7,
    "start_time": "2021-07-07T18:15:42.406Z"
   },
   {
    "duration": 7,
    "start_time": "2021-07-07T18:15:42.415Z"
   },
   {
    "duration": 29,
    "start_time": "2021-07-07T18:15:42.423Z"
   },
   {
    "duration": 43,
    "start_time": "2021-07-07T18:15:42.453Z"
   },
   {
    "duration": 18,
    "start_time": "2021-07-07T18:15:42.497Z"
   },
   {
    "duration": 6,
    "start_time": "2021-07-07T18:15:42.516Z"
   },
   {
    "duration": 3,
    "start_time": "2021-07-07T18:15:42.523Z"
   },
   {
    "duration": 18,
    "start_time": "2021-07-07T18:15:42.528Z"
   },
   {
    "duration": 10,
    "start_time": "2021-07-07T18:15:42.547Z"
   },
   {
    "duration": 36,
    "start_time": "2021-07-07T18:15:42.559Z"
   },
   {
    "duration": 8,
    "start_time": "2021-07-07T18:15:42.597Z"
   },
   {
    "duration": 28,
    "start_time": "2021-07-07T18:15:42.606Z"
   },
   {
    "duration": 52,
    "start_time": "2021-07-07T18:15:42.635Z"
   },
   {
    "duration": 7,
    "start_time": "2021-07-07T18:15:42.690Z"
   },
   {
    "duration": 10,
    "start_time": "2021-07-07T18:15:42.699Z"
   },
   {
    "duration": 19,
    "start_time": "2021-07-07T18:15:42.711Z"
   },
   {
    "duration": 9,
    "start_time": "2021-07-07T18:15:42.732Z"
   },
   {
    "duration": 5,
    "start_time": "2021-07-07T18:15:42.743Z"
   },
   {
    "duration": 1450,
    "start_time": "2021-07-07T18:15:51.984Z"
   },
   {
    "duration": 161,
    "start_time": "2021-07-07T18:15:53.435Z"
   },
   {
    "duration": 124,
    "start_time": "2021-07-07T18:15:53.598Z"
   },
   {
    "duration": 5,
    "start_time": "2021-07-07T18:15:53.724Z"
   },
   {
    "duration": 34,
    "start_time": "2021-07-07T18:15:53.730Z"
   },
   {
    "duration": 7,
    "start_time": "2021-07-07T18:15:53.765Z"
   },
   {
    "duration": 15,
    "start_time": "2021-07-07T18:15:53.773Z"
   },
   {
    "duration": 5,
    "start_time": "2021-07-07T18:15:53.791Z"
   },
   {
    "duration": 19,
    "start_time": "2021-07-07T18:15:53.798Z"
   },
   {
    "duration": 9,
    "start_time": "2021-07-07T18:15:53.818Z"
   },
   {
    "duration": 19,
    "start_time": "2021-07-07T18:15:53.828Z"
   },
   {
    "duration": 27,
    "start_time": "2021-07-07T18:15:53.848Z"
   },
   {
    "duration": 16,
    "start_time": "2021-07-07T18:15:53.884Z"
   },
   {
    "duration": 29,
    "start_time": "2021-07-07T18:15:53.901Z"
   },
   {
    "duration": 5,
    "start_time": "2021-07-07T18:15:53.932Z"
   },
   {
    "duration": 15,
    "start_time": "2021-07-07T18:15:53.939Z"
   },
   {
    "duration": 13,
    "start_time": "2021-07-07T18:15:53.956Z"
   },
   {
    "duration": 20,
    "start_time": "2021-07-07T18:15:53.971Z"
   },
   {
    "duration": 14,
    "start_time": "2021-07-07T18:15:53.992Z"
   },
   {
    "duration": 9,
    "start_time": "2021-07-07T18:15:54.009Z"
   },
   {
    "duration": 28,
    "start_time": "2021-07-07T18:15:54.020Z"
   },
   {
    "duration": 50,
    "start_time": "2021-07-07T18:15:54.051Z"
   },
   {
    "duration": 8,
    "start_time": "2021-07-07T18:15:54.105Z"
   },
   {
    "duration": 11,
    "start_time": "2021-07-07T18:15:54.115Z"
   },
   {
    "duration": 20,
    "start_time": "2021-07-07T18:15:54.128Z"
   },
   {
    "duration": 13,
    "start_time": "2021-07-07T18:15:54.184Z"
   },
   {
    "duration": 7,
    "start_time": "2021-07-07T18:15:54.199Z"
   },
   {
    "duration": 7,
    "start_time": "2021-07-07T18:17:08.042Z"
   },
   {
    "duration": 8,
    "start_time": "2021-07-07T18:17:21.008Z"
   },
   {
    "duration": 7,
    "start_time": "2021-07-07T18:17:29.003Z"
   },
   {
    "duration": 8,
    "start_time": "2021-07-07T18:17:32.492Z"
   },
   {
    "duration": 9,
    "start_time": "2021-07-07T18:17:41.758Z"
   },
   {
    "duration": 255,
    "start_time": "2021-07-07T18:20:20.897Z"
   },
   {
    "duration": 173,
    "start_time": "2021-07-07T18:20:26.636Z"
   },
   {
    "duration": 7,
    "start_time": "2021-07-07T18:21:47.164Z"
   },
   {
    "duration": 254,
    "start_time": "2021-07-07T18:23:08.703Z"
   },
   {
    "duration": 21,
    "start_time": "2021-07-07T18:23:22.506Z"
   },
   {
    "duration": 315,
    "start_time": "2021-07-07T18:25:54.801Z"
   },
   {
    "duration": 34,
    "start_time": "2021-07-07T18:26:51.817Z"
   },
   {
    "duration": 327,
    "start_time": "2021-07-07T18:26:56.147Z"
   },
   {
    "duration": 342,
    "start_time": "2021-07-07T18:27:15.887Z"
   },
   {
    "duration": 302,
    "start_time": "2021-07-07T18:28:18.569Z"
   },
   {
    "duration": 226,
    "start_time": "2021-07-07T18:29:20.879Z"
   },
   {
    "duration": 207,
    "start_time": "2021-07-07T18:29:58.114Z"
   },
   {
    "duration": 140,
    "start_time": "2021-07-07T18:32:04.372Z"
   },
   {
    "duration": 158,
    "start_time": "2021-07-07T18:32:32.508Z"
   },
   {
    "duration": 145,
    "start_time": "2021-07-07T18:32:41.365Z"
   },
   {
    "duration": 132,
    "start_time": "2021-07-07T18:32:45.199Z"
   },
   {
    "duration": 11,
    "start_time": "2021-07-07T18:35:24.679Z"
   },
   {
    "duration": 268,
    "start_time": "2021-07-07T18:36:16.145Z"
   },
   {
    "duration": 227,
    "start_time": "2021-07-07T18:37:04.918Z"
   },
   {
    "duration": 3,
    "start_time": "2021-07-07T18:37:33.012Z"
   },
   {
    "duration": 671,
    "start_time": "2021-07-07T18:37:38.295Z"
   },
   {
    "duration": 54,
    "start_time": "2021-07-07T18:37:53.406Z"
   },
   {
    "duration": 631,
    "start_time": "2021-07-07T18:37:56.463Z"
   },
   {
    "duration": 19,
    "start_time": "2021-07-07T18:39:40.535Z"
   },
   {
    "duration": 20,
    "start_time": "2021-07-07T18:40:12.236Z"
   },
   {
    "duration": 633,
    "start_time": "2021-07-07T18:42:00.398Z"
   },
   {
    "duration": 218,
    "start_time": "2021-07-07T18:42:01.033Z"
   },
   {
    "duration": 49,
    "start_time": "2021-07-07T18:42:01.253Z"
   },
   {
    "duration": 5,
    "start_time": "2021-07-07T18:42:01.303Z"
   },
   {
    "duration": 27,
    "start_time": "2021-07-07T18:42:01.310Z"
   },
   {
    "duration": 8,
    "start_time": "2021-07-07T18:42:01.339Z"
   },
   {
    "duration": 20,
    "start_time": "2021-07-07T18:42:01.348Z"
   },
   {
    "duration": 6,
    "start_time": "2021-07-07T18:42:01.386Z"
   },
   {
    "duration": 16,
    "start_time": "2021-07-07T18:42:01.394Z"
   },
   {
    "duration": 9,
    "start_time": "2021-07-07T18:42:01.411Z"
   },
   {
    "duration": 11,
    "start_time": "2021-07-07T18:42:01.421Z"
   },
   {
    "duration": 31,
    "start_time": "2021-07-07T18:42:01.434Z"
   },
   {
    "duration": 18,
    "start_time": "2021-07-07T18:42:01.485Z"
   },
   {
    "duration": 23,
    "start_time": "2021-07-07T18:42:01.505Z"
   },
   {
    "duration": 6,
    "start_time": "2021-07-07T18:42:01.530Z"
   },
   {
    "duration": 10,
    "start_time": "2021-07-07T18:42:01.538Z"
   },
   {
    "duration": 13,
    "start_time": "2021-07-07T18:42:01.550Z"
   },
   {
    "duration": 24,
    "start_time": "2021-07-07T18:42:01.564Z"
   },
   {
    "duration": 20,
    "start_time": "2021-07-07T18:42:01.590Z"
   },
   {
    "duration": 8,
    "start_time": "2021-07-07T18:42:01.611Z"
   },
   {
    "duration": 31,
    "start_time": "2021-07-07T18:42:01.620Z"
   },
   {
    "duration": 39,
    "start_time": "2021-07-07T18:42:01.653Z"
   },
   {
    "duration": 8,
    "start_time": "2021-07-07T18:42:01.696Z"
   },
   {
    "duration": 13,
    "start_time": "2021-07-07T18:42:01.705Z"
   },
   {
    "duration": 20,
    "start_time": "2021-07-07T18:42:01.720Z"
   },
   {
    "duration": 12,
    "start_time": "2021-07-07T18:42:01.741Z"
   },
   {
    "duration": 35,
    "start_time": "2021-07-07T18:42:01.755Z"
   },
   {
    "duration": 14,
    "start_time": "2021-07-07T18:42:01.792Z"
   },
   {
    "duration": 188,
    "start_time": "2021-07-07T18:42:01.808Z"
   },
   {
    "duration": 19,
    "start_time": "2021-07-07T18:42:01.998Z"
   },
   {
    "duration": 175,
    "start_time": "2021-07-07T18:42:02.019Z"
   },
   {
    "duration": 134,
    "start_time": "2021-07-07T18:42:02.196Z"
   },
   {
    "duration": 10,
    "start_time": "2021-07-07T18:42:02.331Z"
   },
   {
    "duration": 19,
    "start_time": "2021-07-07T18:42:02.343Z"
   },
   {
    "duration": 628,
    "start_time": "2021-07-07T18:46:30.701Z"
   },
   {
    "duration": 183,
    "start_time": "2021-07-07T18:46:31.331Z"
   },
   {
    "duration": 48,
    "start_time": "2021-07-07T18:46:31.516Z"
   },
   {
    "duration": 5,
    "start_time": "2021-07-07T18:46:31.566Z"
   },
   {
    "duration": 28,
    "start_time": "2021-07-07T18:46:31.572Z"
   },
   {
    "duration": 8,
    "start_time": "2021-07-07T18:46:31.602Z"
   },
   {
    "duration": 19,
    "start_time": "2021-07-07T18:46:31.611Z"
   },
   {
    "duration": 6,
    "start_time": "2021-07-07T18:46:31.633Z"
   },
   {
    "duration": 17,
    "start_time": "2021-07-07T18:46:31.642Z"
   },
   {
    "duration": 10,
    "start_time": "2021-07-07T18:46:31.684Z"
   },
   {
    "duration": 9,
    "start_time": "2021-07-07T18:46:31.695Z"
   },
   {
    "duration": 28,
    "start_time": "2021-07-07T18:46:31.705Z"
   },
   {
    "duration": 18,
    "start_time": "2021-07-07T18:46:31.735Z"
   },
   {
    "duration": 48,
    "start_time": "2021-07-07T18:46:31.755Z"
   },
   {
    "duration": 6,
    "start_time": "2021-07-07T18:46:31.804Z"
   },
   {
    "duration": 4,
    "start_time": "2021-07-07T18:46:31.812Z"
   },
   {
    "duration": 9,
    "start_time": "2021-07-07T18:46:31.817Z"
   },
   {
    "duration": 10,
    "start_time": "2021-07-07T18:46:31.827Z"
   },
   {
    "duration": 12,
    "start_time": "2021-07-07T18:46:31.838Z"
   },
   {
    "duration": 39,
    "start_time": "2021-07-07T18:46:31.851Z"
   },
   {
    "duration": 24,
    "start_time": "2021-07-07T18:46:31.892Z"
   },
   {
    "duration": 15,
    "start_time": "2021-07-07T18:46:31.918Z"
   },
   {
    "duration": 7,
    "start_time": "2021-07-07T18:46:31.936Z"
   },
   {
    "duration": 8,
    "start_time": "2021-07-07T18:46:31.944Z"
   },
   {
    "duration": 19,
    "start_time": "2021-07-07T18:46:31.984Z"
   },
   {
    "duration": 10,
    "start_time": "2021-07-07T18:46:32.004Z"
   },
   {
    "duration": 5,
    "start_time": "2021-07-07T18:46:32.016Z"
   },
   {
    "duration": 9,
    "start_time": "2021-07-07T18:46:32.023Z"
   },
   {
    "duration": 199,
    "start_time": "2021-07-07T18:46:32.033Z"
   },
   {
    "duration": 19,
    "start_time": "2021-07-07T18:46:32.234Z"
   },
   {
    "duration": 159,
    "start_time": "2021-07-07T18:46:32.255Z"
   },
   {
    "duration": 134,
    "start_time": "2021-07-07T18:46:32.416Z"
   },
   {
    "duration": 10,
    "start_time": "2021-07-07T18:46:32.552Z"
   },
   {
    "duration": 34,
    "start_time": "2021-07-07T18:46:32.563Z"
   },
   {
    "duration": 1039,
    "start_time": "2021-07-08T08:41:09.419Z"
   },
   {
    "duration": 333,
    "start_time": "2021-07-08T08:41:10.459Z"
   },
   {
    "duration": 173,
    "start_time": "2021-07-08T08:41:10.794Z"
   },
   {
    "duration": 5,
    "start_time": "2021-07-08T08:41:10.968Z"
   },
   {
    "duration": 25,
    "start_time": "2021-07-08T08:41:10.975Z"
   },
   {
    "duration": 9,
    "start_time": "2021-07-08T08:41:11.002Z"
   },
   {
    "duration": 18,
    "start_time": "2021-07-08T08:41:11.013Z"
   },
   {
    "duration": 6,
    "start_time": "2021-07-08T08:41:11.033Z"
   },
   {
    "duration": 44,
    "start_time": "2021-07-08T08:41:11.042Z"
   },
   {
    "duration": 10,
    "start_time": "2021-07-08T08:41:11.088Z"
   },
   {
    "duration": 9,
    "start_time": "2021-07-08T08:41:11.100Z"
   },
   {
    "duration": 27,
    "start_time": "2021-07-08T08:41:11.111Z"
   },
   {
    "duration": 46,
    "start_time": "2021-07-08T08:41:11.140Z"
   },
   {
    "duration": 17,
    "start_time": "2021-07-08T08:41:11.187Z"
   },
   {
    "duration": 6,
    "start_time": "2021-07-08T08:41:11.206Z"
   },
   {
    "duration": 5,
    "start_time": "2021-07-08T08:41:11.213Z"
   },
   {
    "duration": 10,
    "start_time": "2021-07-08T08:41:11.219Z"
   },
   {
    "duration": 9,
    "start_time": "2021-07-08T08:41:11.230Z"
   },
   {
    "duration": 45,
    "start_time": "2021-07-08T08:41:11.241Z"
   },
   {
    "duration": 7,
    "start_time": "2021-07-08T08:41:11.287Z"
   },
   {
    "duration": 24,
    "start_time": "2021-07-08T08:41:11.296Z"
   },
   {
    "duration": 16,
    "start_time": "2021-07-08T08:41:11.322Z"
   },
   {
    "duration": 7,
    "start_time": "2021-07-08T08:41:11.341Z"
   },
   {
    "duration": 41,
    "start_time": "2021-07-08T08:41:11.349Z"
   },
   {
    "duration": 17,
    "start_time": "2021-07-08T08:41:11.391Z"
   },
   {
    "duration": 9,
    "start_time": "2021-07-08T08:41:11.410Z"
   },
   {
    "duration": 5,
    "start_time": "2021-07-08T08:41:11.421Z"
   },
   {
    "duration": 6,
    "start_time": "2021-07-08T08:41:11.428Z"
   },
   {
    "duration": 198,
    "start_time": "2021-07-08T08:41:11.435Z"
   },
   {
    "duration": 18,
    "start_time": "2021-07-08T08:41:11.635Z"
   },
   {
    "duration": 155,
    "start_time": "2021-07-08T08:41:11.655Z"
   },
   {
    "duration": 138,
    "start_time": "2021-07-08T08:41:11.811Z"
   },
   {
    "duration": 10,
    "start_time": "2021-07-08T08:41:11.950Z"
   },
   {
    "duration": 29,
    "start_time": "2021-07-08T08:41:11.961Z"
   },
   {
    "duration": 171,
    "start_time": "2021-07-08T08:47:44.522Z"
   },
   {
    "duration": 124,
    "start_time": "2021-07-08T08:47:46.872Z"
   },
   {
    "duration": 191,
    "start_time": "2021-07-08T08:47:58.148Z"
   },
   {
    "duration": 191,
    "start_time": "2021-07-08T08:48:07.412Z"
   },
   {
    "duration": 261,
    "start_time": "2021-07-08T08:48:10.385Z"
   },
   {
    "duration": 255,
    "start_time": "2021-07-08T08:48:14.494Z"
   },
   {
    "duration": 219,
    "start_time": "2021-07-08T08:48:22.752Z"
   },
   {
    "duration": 173,
    "start_time": "2021-07-08T08:49:06.395Z"
   },
   {
    "duration": 180,
    "start_time": "2021-07-08T08:49:21.011Z"
   },
   {
    "duration": 6,
    "start_time": "2021-07-08T08:50:31.697Z"
   },
   {
    "duration": 10,
    "start_time": "2021-07-08T08:50:47.394Z"
   },
   {
    "duration": 11,
    "start_time": "2021-07-08T08:53:49.332Z"
   },
   {
    "duration": 171,
    "start_time": "2021-07-08T08:54:28.408Z"
   },
   {
    "duration": 636,
    "start_time": "2021-07-08T09:02:48.385Z"
   },
   {
    "duration": 227,
    "start_time": "2021-07-08T09:02:49.023Z"
   },
   {
    "duration": 104,
    "start_time": "2021-07-08T09:02:49.252Z"
   },
   {
    "duration": 5,
    "start_time": "2021-07-08T09:02:49.358Z"
   },
   {
    "duration": 27,
    "start_time": "2021-07-08T09:02:49.365Z"
   },
   {
    "duration": 8,
    "start_time": "2021-07-08T09:02:49.394Z"
   },
   {
    "duration": 18,
    "start_time": "2021-07-08T09:02:49.404Z"
   },
   {
    "duration": 6,
    "start_time": "2021-07-08T09:02:49.424Z"
   },
   {
    "duration": 11,
    "start_time": "2021-07-08T09:02:49.433Z"
   },
   {
    "duration": 13,
    "start_time": "2021-07-08T09:02:49.485Z"
   },
   {
    "duration": 9,
    "start_time": "2021-07-08T09:02:49.500Z"
   },
   {
    "duration": 38,
    "start_time": "2021-07-08T09:02:49.511Z"
   },
   {
    "duration": 42,
    "start_time": "2021-07-08T09:02:49.551Z"
   },
   {
    "duration": 21,
    "start_time": "2021-07-08T09:02:49.594Z"
   },
   {
    "duration": 6,
    "start_time": "2021-07-08T09:02:49.616Z"
   },
   {
    "duration": 3,
    "start_time": "2021-07-08T09:02:49.623Z"
   },
   {
    "duration": 9,
    "start_time": "2021-07-08T09:02:49.628Z"
   },
   {
    "duration": 52,
    "start_time": "2021-07-08T09:02:49.638Z"
   },
   {
    "duration": 11,
    "start_time": "2021-07-08T09:02:49.692Z"
   },
   {
    "duration": 8,
    "start_time": "2021-07-08T09:02:49.704Z"
   },
   {
    "duration": 27,
    "start_time": "2021-07-08T09:02:49.713Z"
   },
   {
    "duration": 59,
    "start_time": "2021-07-08T09:02:49.741Z"
   },
   {
    "duration": 8,
    "start_time": "2021-07-08T09:02:49.803Z"
   },
   {
    "duration": 14,
    "start_time": "2021-07-08T09:02:49.813Z"
   },
   {
    "duration": 20,
    "start_time": "2021-07-08T09:02:49.829Z"
   },
   {
    "duration": 44,
    "start_time": "2021-07-08T09:02:49.851Z"
   },
   {
    "duration": 14,
    "start_time": "2021-07-08T09:02:49.896Z"
   },
   {
    "duration": 221,
    "start_time": "2021-07-08T09:02:49.912Z"
   },
   {
    "duration": 6,
    "start_time": "2021-07-08T09:02:50.134Z"
   },
   {
    "duration": 206,
    "start_time": "2021-07-08T09:02:50.142Z"
   },
   {
    "duration": 19,
    "start_time": "2021-07-08T09:02:50.350Z"
   },
   {
    "duration": 21,
    "start_time": "2021-07-08T09:02:50.370Z"
   },
   {
    "duration": 20,
    "start_time": "2021-07-08T09:02:50.393Z"
   },
   {
    "duration": 5,
    "start_time": "2021-07-08T09:02:50.414Z"
   },
   {
    "duration": 5,
    "start_time": "2021-07-08T09:03:34.173Z"
   },
   {
    "duration": 6,
    "start_time": "2021-07-08T09:04:49.062Z"
   },
   {
    "duration": 9,
    "start_time": "2021-07-08T09:04:50.118Z"
   },
   {
    "duration": 14,
    "start_time": "2021-07-08T09:04:58.512Z"
   },
   {
    "duration": 9,
    "start_time": "2021-07-08T09:05:10.988Z"
   },
   {
    "duration": 11,
    "start_time": "2021-07-08T09:05:11.743Z"
   },
   {
    "duration": 7,
    "start_time": "2021-07-08T09:05:25.677Z"
   },
   {
    "duration": 13,
    "start_time": "2021-07-08T09:05:47.189Z"
   },
   {
    "duration": 13,
    "start_time": "2021-07-08T09:05:54.755Z"
   },
   {
    "duration": 4,
    "start_time": "2021-07-08T09:06:29.189Z"
   },
   {
    "duration": 244,
    "start_time": "2021-07-08T09:06:29.195Z"
   },
   {
    "duration": 91,
    "start_time": "2021-07-08T09:06:29.441Z"
   },
   {
    "duration": 4,
    "start_time": "2021-07-08T09:06:29.534Z"
   },
   {
    "duration": 28,
    "start_time": "2021-07-08T09:06:29.540Z"
   },
   {
    "duration": 6,
    "start_time": "2021-07-08T09:06:29.570Z"
   },
   {
    "duration": 18,
    "start_time": "2021-07-08T09:06:29.578Z"
   },
   {
    "duration": 5,
    "start_time": "2021-07-08T09:06:29.597Z"
   },
   {
    "duration": 13,
    "start_time": "2021-07-08T09:06:29.605Z"
   },
   {
    "duration": 8,
    "start_time": "2021-07-08T09:06:29.620Z"
   },
   {
    "duration": 7,
    "start_time": "2021-07-08T09:06:29.630Z"
   },
   {
    "duration": 63,
    "start_time": "2021-07-08T09:06:29.639Z"
   },
   {
    "duration": 17,
    "start_time": "2021-07-08T09:06:29.704Z"
   },
   {
    "duration": 20,
    "start_time": "2021-07-08T09:06:29.723Z"
   },
   {
    "duration": 6,
    "start_time": "2021-07-08T09:06:29.745Z"
   },
   {
    "duration": 3,
    "start_time": "2021-07-08T09:06:29.752Z"
   },
   {
    "duration": 7,
    "start_time": "2021-07-08T09:06:29.785Z"
   },
   {
    "duration": 11,
    "start_time": "2021-07-08T09:06:29.794Z"
   },
   {
    "duration": 15,
    "start_time": "2021-07-08T09:06:29.807Z"
   },
   {
    "duration": 8,
    "start_time": "2021-07-08T09:06:29.823Z"
   },
   {
    "duration": 70,
    "start_time": "2021-07-08T09:06:29.832Z"
   },
   {
    "duration": 17,
    "start_time": "2021-07-08T09:06:29.903Z"
   },
   {
    "duration": 9,
    "start_time": "2021-07-08T09:06:29.921Z"
   },
   {
    "duration": 9,
    "start_time": "2021-07-08T09:06:29.932Z"
   },
   {
    "duration": 57,
    "start_time": "2021-07-08T09:06:29.942Z"
   },
   {
    "duration": 11,
    "start_time": "2021-07-08T09:06:30.001Z"
   },
   {
    "duration": 19,
    "start_time": "2021-07-08T09:06:30.016Z"
   },
   {
    "duration": 217,
    "start_time": "2021-07-08T09:06:30.037Z"
   },
   {
    "duration": 6,
    "start_time": "2021-07-08T09:06:30.255Z"
   },
   {
    "duration": 205,
    "start_time": "2021-07-08T09:06:30.263Z"
   },
   {
    "duration": 27,
    "start_time": "2021-07-08T09:06:30.470Z"
   },
   {
    "duration": 11,
    "start_time": "2021-07-08T09:06:30.500Z"
   },
   {
    "duration": 31,
    "start_time": "2021-07-08T09:06:30.513Z"
   },
   {
    "duration": 18,
    "start_time": "2021-07-08T09:06:30.546Z"
   },
   {
    "duration": 11,
    "start_time": "2021-07-08T09:06:30.566Z"
   },
   {
    "duration": 19,
    "start_time": "2021-07-08T09:06:30.579Z"
   },
   {
    "duration": 20,
    "start_time": "2021-07-08T09:06:49.466Z"
   },
   {
    "duration": 9,
    "start_time": "2021-07-08T09:06:51.994Z"
   },
   {
    "duration": 20,
    "start_time": "2021-07-08T09:06:52.273Z"
   },
   {
    "duration": 246,
    "start_time": "2021-07-08T09:10:21.272Z"
   },
   {
    "duration": 84,
    "start_time": "2021-07-08T09:10:21.436Z"
   },
   {
    "duration": 7,
    "start_time": "2021-07-08T09:10:37.608Z"
   },
   {
    "duration": 189,
    "start_time": "2021-07-08T09:10:38.573Z"
   },
   {
    "duration": 185,
    "start_time": "2021-07-08T09:10:53.181Z"
   },
   {
    "duration": 11,
    "start_time": "2021-07-08T09:10:59.549Z"
   },
   {
    "duration": 42,
    "start_time": "2021-07-08T09:10:59.709Z"
   },
   {
    "duration": 12,
    "start_time": "2021-07-08T09:11:02.857Z"
   },
   {
    "duration": 28,
    "start_time": "2021-07-08T09:11:10.062Z"
   },
   {
    "duration": 249,
    "start_time": "2021-07-08T09:11:37.388Z"
   },
   {
    "duration": 232,
    "start_time": "2021-07-08T09:11:49.485Z"
   },
   {
    "duration": 453,
    "start_time": "2021-07-08T09:12:01.546Z"
   },
   {
    "duration": 440,
    "start_time": "2021-07-08T09:12:12.347Z"
   },
   {
    "duration": 213,
    "start_time": "2021-07-08T09:13:32.196Z"
   },
   {
    "duration": 172,
    "start_time": "2021-07-08T09:14:07.400Z"
   },
   {
    "duration": 185,
    "start_time": "2021-07-08T09:14:14.905Z"
   },
   {
    "duration": 209,
    "start_time": "2021-07-08T09:14:40.109Z"
   },
   {
    "duration": 201,
    "start_time": "2021-07-08T09:14:54.506Z"
   },
   {
    "duration": 622,
    "start_time": "2021-07-08T09:18:14.497Z"
   },
   {
    "duration": 220,
    "start_time": "2021-07-08T09:18:15.121Z"
   },
   {
    "duration": 79,
    "start_time": "2021-07-08T09:18:15.343Z"
   },
   {
    "duration": 4,
    "start_time": "2021-07-08T09:18:15.425Z"
   },
   {
    "duration": 24,
    "start_time": "2021-07-08T09:18:15.431Z"
   },
   {
    "duration": 8,
    "start_time": "2021-07-08T09:18:15.457Z"
   },
   {
    "duration": 16,
    "start_time": "2021-07-08T09:18:15.466Z"
   },
   {
    "duration": 5,
    "start_time": "2021-07-08T09:18:15.484Z"
   },
   {
    "duration": 10,
    "start_time": "2021-07-08T09:18:15.493Z"
   },
   {
    "duration": 8,
    "start_time": "2021-07-08T09:18:15.504Z"
   },
   {
    "duration": 7,
    "start_time": "2021-07-08T09:18:15.513Z"
   },
   {
    "duration": 26,
    "start_time": "2021-07-08T09:18:15.522Z"
   },
   {
    "duration": 49,
    "start_time": "2021-07-08T09:18:15.550Z"
   },
   {
    "duration": 21,
    "start_time": "2021-07-08T09:18:15.601Z"
   },
   {
    "duration": 8,
    "start_time": "2021-07-08T09:18:15.624Z"
   },
   {
    "duration": 3,
    "start_time": "2021-07-08T09:18:15.634Z"
   },
   {
    "duration": 8,
    "start_time": "2021-07-08T09:18:15.639Z"
   },
   {
    "duration": 45,
    "start_time": "2021-07-08T09:18:15.649Z"
   },
   {
    "duration": 13,
    "start_time": "2021-07-08T09:18:15.696Z"
   },
   {
    "duration": 10,
    "start_time": "2021-07-08T09:18:15.711Z"
   },
   {
    "duration": 64,
    "start_time": "2021-07-08T09:18:15.722Z"
   },
   {
    "duration": 19,
    "start_time": "2021-07-08T09:18:15.788Z"
   },
   {
    "duration": 9,
    "start_time": "2021-07-08T09:18:15.809Z"
   },
   {
    "duration": 9,
    "start_time": "2021-07-08T09:18:15.820Z"
   },
   {
    "duration": 18,
    "start_time": "2021-07-08T09:18:15.831Z"
   },
   {
    "duration": 43,
    "start_time": "2021-07-08T09:18:15.851Z"
   },
   {
    "duration": 12,
    "start_time": "2021-07-08T09:18:15.897Z"
   },
   {
    "duration": 219,
    "start_time": "2021-07-08T09:18:15.911Z"
   },
   {
    "duration": 8,
    "start_time": "2021-07-08T09:18:16.132Z"
   },
   {
    "duration": 199,
    "start_time": "2021-07-08T09:18:16.141Z"
   },
   {
    "duration": 18,
    "start_time": "2021-07-08T09:18:16.341Z"
   },
   {
    "duration": 24,
    "start_time": "2021-07-08T09:18:16.361Z"
   },
   {
    "duration": 24,
    "start_time": "2021-07-08T09:18:16.387Z"
   },
   {
    "duration": 211,
    "start_time": "2021-07-08T09:18:16.413Z"
   },
   {
    "duration": 18,
    "start_time": "2021-07-08T09:18:16.626Z"
   },
   {
    "duration": 596,
    "start_time": "2021-07-08T10:06:33.623Z"
   },
   {
    "duration": 181,
    "start_time": "2021-07-08T10:06:34.221Z"
   },
   {
    "duration": 176,
    "start_time": "2021-07-08T10:06:34.635Z"
   },
   {
    "duration": 239,
    "start_time": "2021-07-08T10:06:55.572Z"
   },
   {
    "duration": 6,
    "start_time": "2021-07-08T10:06:57.687Z"
   },
   {
    "duration": 4,
    "start_time": "2021-07-08T10:07:03.956Z"
   },
   {
    "duration": 4,
    "start_time": "2021-07-08T10:07:10.376Z"
   },
   {
    "duration": 4,
    "start_time": "2021-07-08T10:17:19.889Z"
   },
   {
    "duration": 3,
    "start_time": "2021-07-08T10:19:19.407Z"
   },
   {
    "duration": 197,
    "start_time": "2021-07-08T10:19:19.412Z"
   },
   {
    "duration": 127,
    "start_time": "2021-07-08T10:19:19.611Z"
   },
   {
    "duration": 4,
    "start_time": "2021-07-08T10:19:19.740Z"
   },
   {
    "duration": 27,
    "start_time": "2021-07-08T10:19:19.746Z"
   },
   {
    "duration": 7,
    "start_time": "2021-07-08T10:19:19.775Z"
   },
   {
    "duration": 30,
    "start_time": "2021-07-08T10:19:19.784Z"
   },
   {
    "duration": 7,
    "start_time": "2021-07-08T10:19:19.817Z"
   },
   {
    "duration": 26,
    "start_time": "2021-07-08T10:19:19.826Z"
   },
   {
    "duration": 18,
    "start_time": "2021-07-08T10:19:19.854Z"
   },
   {
    "duration": 14,
    "start_time": "2021-07-08T10:19:19.874Z"
   },
   {
    "duration": 48,
    "start_time": "2021-07-08T10:19:19.890Z"
   },
   {
    "duration": 17,
    "start_time": "2021-07-08T10:19:19.940Z"
   },
   {
    "duration": 38,
    "start_time": "2021-07-08T10:19:19.959Z"
   },
   {
    "duration": 8,
    "start_time": "2021-07-08T10:19:19.999Z"
   },
   {
    "duration": 15,
    "start_time": "2021-07-08T10:19:20.009Z"
   },
   {
    "duration": 22,
    "start_time": "2021-07-08T10:19:20.026Z"
   },
   {
    "duration": 10,
    "start_time": "2021-07-08T10:19:20.050Z"
   },
   {
    "duration": 10,
    "start_time": "2021-07-08T10:19:20.062Z"
   },
   {
    "duration": 20,
    "start_time": "2021-07-08T10:19:20.073Z"
   },
   {
    "duration": 29,
    "start_time": "2021-07-08T10:19:20.095Z"
   },
   {
    "duration": 17,
    "start_time": "2021-07-08T10:19:20.126Z"
   },
   {
    "duration": 40,
    "start_time": "2021-07-08T10:19:20.146Z"
   },
   {
    "duration": 15,
    "start_time": "2021-07-08T10:19:20.189Z"
   },
   {
    "duration": 19,
    "start_time": "2021-07-08T10:19:20.206Z"
   },
   {
    "duration": 10,
    "start_time": "2021-07-08T10:19:20.226Z"
   },
   {
    "duration": 11,
    "start_time": "2021-07-08T10:19:20.238Z"
   },
   {
    "duration": 297,
    "start_time": "2021-07-08T10:19:20.250Z"
   },
   {
    "duration": 6,
    "start_time": "2021-07-08T10:19:20.549Z"
   },
   {
    "duration": 191,
    "start_time": "2021-07-08T10:19:20.557Z"
   },
   {
    "duration": 19,
    "start_time": "2021-07-08T10:19:20.750Z"
   },
   {
    "duration": 20,
    "start_time": "2021-07-08T10:19:20.771Z"
   },
   {
    "duration": 15,
    "start_time": "2021-07-08T10:19:20.793Z"
   },
   {
    "duration": 222,
    "start_time": "2021-07-08T10:19:20.809Z"
   },
   {
    "duration": 20,
    "start_time": "2021-07-08T10:19:21.033Z"
   },
   {
    "duration": 27,
    "start_time": "2021-07-08T10:45:04.055Z"
   },
   {
    "duration": 8,
    "start_time": "2021-07-08T10:45:08.478Z"
   },
   {
    "duration": 8,
    "start_time": "2021-07-08T10:45:31.982Z"
   },
   {
    "duration": 10,
    "start_time": "2021-07-08T10:46:01.221Z"
   },
   {
    "duration": 17,
    "start_time": "2021-07-08T10:46:40.011Z"
   },
   {
    "duration": 193,
    "start_time": "2021-07-08T10:48:19.471Z"
   },
   {
    "duration": 225,
    "start_time": "2021-07-08T10:49:26.480Z"
   },
   {
    "duration": 204,
    "start_time": "2021-07-08T10:49:59.992Z"
   },
   {
    "duration": 435,
    "start_time": "2021-07-08T10:50:06.779Z"
   },
   {
    "duration": 199,
    "start_time": "2021-07-08T10:50:14.891Z"
   },
   {
    "duration": 204,
    "start_time": "2021-07-08T10:50:18.501Z"
   },
   {
    "duration": 244,
    "start_time": "2021-07-08T10:50:23.359Z"
   },
   {
    "duration": 192,
    "start_time": "2021-07-08T10:50:29.135Z"
   },
   {
    "duration": 218,
    "start_time": "2021-07-08T10:50:33.092Z"
   },
   {
    "duration": 207,
    "start_time": "2021-07-08T10:52:45.381Z"
   },
   {
    "duration": 5,
    "start_time": "2021-07-08T10:53:34.641Z"
   },
   {
    "duration": 196,
    "start_time": "2021-07-08T10:53:41.478Z"
   },
   {
    "duration": 43,
    "start_time": "2021-07-08T10:53:50.335Z"
   },
   {
    "duration": 32,
    "start_time": "2021-07-08T10:53:55.294Z"
   },
   {
    "duration": 55,
    "start_time": "2021-07-08T10:54:09.675Z"
   },
   {
    "duration": 16,
    "start_time": "2021-07-08T10:54:12.260Z"
   },
   {
    "duration": 15,
    "start_time": "2021-07-08T10:54:49.150Z"
   },
   {
    "duration": 20,
    "start_time": "2021-07-08T10:56:07.596Z"
   },
   {
    "duration": 16,
    "start_time": "2021-07-08T10:58:26.276Z"
   },
   {
    "duration": 22,
    "start_time": "2021-07-08T10:59:00.486Z"
   },
   {
    "duration": 18,
    "start_time": "2021-07-08T11:02:09.653Z"
   },
   {
    "duration": 10,
    "start_time": "2021-07-08T11:03:44.331Z"
   },
   {
    "duration": 10,
    "start_time": "2021-07-08T11:03:54.055Z"
   },
   {
    "duration": 12,
    "start_time": "2021-07-08T11:04:41.967Z"
   },
   {
    "duration": 24,
    "start_time": "2021-07-08T11:07:30.732Z"
   },
   {
    "duration": 6,
    "start_time": "2021-07-08T11:07:37.364Z"
   },
   {
    "duration": 16,
    "start_time": "2021-07-08T11:08:01.819Z"
   },
   {
    "duration": 17,
    "start_time": "2021-07-08T11:09:47.488Z"
   },
   {
    "duration": 246,
    "start_time": "2021-07-08T11:10:00.830Z"
   },
   {
    "duration": 18,
    "start_time": "2021-07-08T11:13:55.195Z"
   },
   {
    "duration": 204,
    "start_time": "2021-07-08T11:14:04.951Z"
   },
   {
    "duration": 19,
    "start_time": "2021-07-08T11:15:10.613Z"
   },
   {
    "duration": 680,
    "start_time": "2021-07-08T11:16:25.793Z"
   },
   {
    "duration": 451,
    "start_time": "2021-07-08T11:16:40.313Z"
   },
   {
    "duration": 469,
    "start_time": "2021-07-08T11:17:21.286Z"
   },
   {
    "duration": 20,
    "start_time": "2021-07-08T11:19:12.554Z"
   },
   {
    "duration": 35,
    "start_time": "2021-07-08T11:20:05.484Z"
   },
   {
    "duration": 53,
    "start_time": "2021-07-08T11:21:40.050Z"
   },
   {
    "duration": 13,
    "start_time": "2021-07-08T11:22:26.059Z"
   },
   {
    "duration": 19,
    "start_time": "2021-07-08T11:22:47.419Z"
   },
   {
    "duration": 25,
    "start_time": "2021-07-08T11:23:19.958Z"
   },
   {
    "duration": 29,
    "start_time": "2021-07-08T11:23:25.415Z"
   },
   {
    "duration": 10,
    "start_time": "2021-07-08T11:24:45.138Z"
   },
   {
    "duration": 19,
    "start_time": "2021-07-08T11:24:54.498Z"
   },
   {
    "duration": 12,
    "start_time": "2021-07-08T11:25:32.225Z"
   },
   {
    "duration": 19,
    "start_time": "2021-07-08T11:25:37.092Z"
   },
   {
    "duration": 17,
    "start_time": "2021-07-08T11:25:58.116Z"
   },
   {
    "duration": 15,
    "start_time": "2021-07-08T11:26:02.258Z"
   },
   {
    "duration": 8,
    "start_time": "2021-07-08T11:26:59.682Z"
   },
   {
    "duration": 184,
    "start_time": "2021-07-08T11:27:21.894Z"
   },
   {
    "duration": 8,
    "start_time": "2021-07-08T11:27:23.824Z"
   },
   {
    "duration": 202,
    "start_time": "2021-07-08T11:27:23.962Z"
   },
   {
    "duration": 360,
    "start_time": "2021-07-08T11:28:33.215Z"
   },
   {
    "duration": 231,
    "start_time": "2021-07-08T11:32:05.542Z"
   },
   {
    "duration": 607,
    "start_time": "2021-07-08T11:36:27.854Z"
   },
   {
    "duration": 241,
    "start_time": "2021-07-08T11:36:28.463Z"
   },
   {
    "duration": 67,
    "start_time": "2021-07-08T11:36:28.709Z"
   },
   {
    "duration": 5,
    "start_time": "2021-07-08T11:36:28.778Z"
   },
   {
    "duration": 32,
    "start_time": "2021-07-08T11:36:28.784Z"
   },
   {
    "duration": 11,
    "start_time": "2021-07-08T11:36:28.819Z"
   },
   {
    "duration": 20,
    "start_time": "2021-07-08T11:36:28.834Z"
   },
   {
    "duration": 36,
    "start_time": "2021-07-08T11:36:28.857Z"
   },
   {
    "duration": 16,
    "start_time": "2021-07-08T11:36:28.895Z"
   },
   {
    "duration": 14,
    "start_time": "2021-07-08T11:36:28.913Z"
   },
   {
    "duration": 9,
    "start_time": "2021-07-08T11:36:28.930Z"
   },
   {
    "duration": 55,
    "start_time": "2021-07-08T11:36:28.941Z"
   },
   {
    "duration": 27,
    "start_time": "2021-07-08T11:36:28.999Z"
   },
   {
    "duration": 30,
    "start_time": "2021-07-08T11:36:29.028Z"
   },
   {
    "duration": 31,
    "start_time": "2021-07-08T11:36:29.060Z"
   },
   {
    "duration": 3,
    "start_time": "2021-07-08T11:36:29.093Z"
   },
   {
    "duration": 12,
    "start_time": "2021-07-08T11:36:29.099Z"
   },
   {
    "duration": 11,
    "start_time": "2021-07-08T11:36:29.112Z"
   },
   {
    "duration": 12,
    "start_time": "2021-07-08T11:36:29.125Z"
   },
   {
    "duration": 9,
    "start_time": "2021-07-08T11:36:29.139Z"
   },
   {
    "duration": 31,
    "start_time": "2021-07-08T11:36:29.191Z"
   },
   {
    "duration": 17,
    "start_time": "2021-07-08T11:36:29.226Z"
   },
   {
    "duration": 7,
    "start_time": "2021-07-08T11:36:29.245Z"
   },
   {
    "duration": 10,
    "start_time": "2021-07-08T11:36:29.254Z"
   },
   {
    "duration": 30,
    "start_time": "2021-07-08T11:36:29.292Z"
   },
   {
    "duration": 11,
    "start_time": "2021-07-08T11:36:29.324Z"
   },
   {
    "duration": 11,
    "start_time": "2021-07-08T11:36:29.337Z"
   },
   {
    "duration": 230,
    "start_time": "2021-07-08T11:36:29.349Z"
   },
   {
    "duration": 13,
    "start_time": "2021-07-08T11:36:29.588Z"
   },
   {
    "duration": 205,
    "start_time": "2021-07-08T11:36:29.603Z"
   },
   {
    "duration": 20,
    "start_time": "2021-07-08T11:36:29.810Z"
   },
   {
    "duration": 9,
    "start_time": "2021-07-08T11:36:29.832Z"
   },
   {
    "duration": 16,
    "start_time": "2021-07-08T11:36:29.843Z"
   },
   {
    "duration": 283,
    "start_time": "2021-07-08T11:36:29.861Z"
   },
   {
    "duration": 50,
    "start_time": "2021-07-08T11:36:30.146Z"
   },
   {
    "duration": 14,
    "start_time": "2021-07-08T11:36:30.198Z"
   },
   {
    "duration": 11,
    "start_time": "2021-07-08T11:36:30.214Z"
   },
   {
    "duration": 245,
    "start_time": "2021-07-08T11:36:30.227Z"
   },
   {
    "duration": 439,
    "start_time": "2021-07-08T11:36:30.474Z"
   },
   {
    "duration": 210,
    "start_time": "2021-07-08T11:36:30.915Z"
   },
   {
    "duration": 15,
    "start_time": "2021-07-08T11:36:31.127Z"
   },
   {
    "duration": 17,
    "start_time": "2021-07-08T11:38:20.451Z"
   },
   {
    "duration": 642,
    "start_time": "2021-07-08T11:46:17.881Z"
   },
   {
    "duration": 210,
    "start_time": "2021-07-08T11:46:18.525Z"
   },
   {
    "duration": 104,
    "start_time": "2021-07-08T11:46:18.741Z"
   },
   {
    "duration": 8,
    "start_time": "2021-07-08T11:46:18.847Z"
   },
   {
    "duration": 25,
    "start_time": "2021-07-08T11:46:18.857Z"
   },
   {
    "duration": 14,
    "start_time": "2021-07-08T11:46:18.884Z"
   },
   {
    "duration": 22,
    "start_time": "2021-07-08T11:46:18.900Z"
   },
   {
    "duration": 5,
    "start_time": "2021-07-08T11:46:18.924Z"
   },
   {
    "duration": 13,
    "start_time": "2021-07-08T11:46:18.931Z"
   },
   {
    "duration": 45,
    "start_time": "2021-07-08T11:46:18.946Z"
   },
   {
    "duration": 12,
    "start_time": "2021-07-08T11:46:18.993Z"
   },
   {
    "duration": 38,
    "start_time": "2021-07-08T11:46:19.006Z"
   },
   {
    "duration": 50,
    "start_time": "2021-07-08T11:46:19.046Z"
   },
   {
    "duration": 29,
    "start_time": "2021-07-08T11:46:19.099Z"
   },
   {
    "duration": 7,
    "start_time": "2021-07-08T11:46:19.130Z"
   },
   {
    "duration": 3,
    "start_time": "2021-07-08T11:46:19.139Z"
   },
   {
    "duration": 11,
    "start_time": "2021-07-08T11:46:19.144Z"
   },
   {
    "duration": 40,
    "start_time": "2021-07-08T11:46:19.157Z"
   },
   {
    "duration": 15,
    "start_time": "2021-07-08T11:46:19.199Z"
   },
   {
    "duration": 10,
    "start_time": "2021-07-08T11:46:19.217Z"
   },
   {
    "duration": 68,
    "start_time": "2021-07-08T11:46:19.230Z"
   },
   {
    "duration": 17,
    "start_time": "2021-07-08T11:46:19.301Z"
   },
   {
    "duration": 7,
    "start_time": "2021-07-08T11:46:19.321Z"
   },
   {
    "duration": 11,
    "start_time": "2021-07-08T11:46:19.330Z"
   },
   {
    "duration": 59,
    "start_time": "2021-07-08T11:46:19.343Z"
   },
   {
    "duration": 17,
    "start_time": "2021-07-08T11:46:19.405Z"
   },
   {
    "duration": 16,
    "start_time": "2021-07-08T11:46:19.424Z"
   },
   {
    "duration": 252,
    "start_time": "2021-07-08T11:46:19.443Z"
   },
   {
    "duration": 9,
    "start_time": "2021-07-08T11:46:19.697Z"
   },
   {
    "duration": 224,
    "start_time": "2021-07-08T11:46:19.708Z"
   },
   {
    "duration": 21,
    "start_time": "2021-07-08T11:46:19.934Z"
   },
   {
    "duration": 9,
    "start_time": "2021-07-08T11:46:19.956Z"
   },
   {
    "duration": 32,
    "start_time": "2021-07-08T11:46:19.967Z"
   },
   {
    "duration": 288,
    "start_time": "2021-07-08T11:46:20.004Z"
   },
   {
    "duration": 23,
    "start_time": "2021-07-08T11:46:20.300Z"
   },
   {
    "duration": 11,
    "start_time": "2021-07-08T11:46:20.325Z"
   },
   {
    "duration": 11,
    "start_time": "2021-07-08T11:46:20.339Z"
   },
   {
    "duration": 259,
    "start_time": "2021-07-08T11:46:20.352Z"
   },
   {
    "duration": 438,
    "start_time": "2021-07-08T11:46:20.613Z"
   },
   {
    "duration": 207,
    "start_time": "2021-07-08T11:46:21.054Z"
   },
   {
    "duration": 27,
    "start_time": "2021-07-08T11:46:21.262Z"
   },
   {
    "duration": 19,
    "start_time": "2021-07-08T11:46:21.291Z"
   },
   {
    "duration": 820,
    "start_time": "2021-07-08T11:49:01.655Z"
   },
   {
    "duration": 372,
    "start_time": "2021-07-08T11:49:02.478Z"
   },
   {
    "duration": 98,
    "start_time": "2021-07-08T11:49:02.853Z"
   },
   {
    "duration": 6,
    "start_time": "2021-07-08T11:49:02.953Z"
   },
   {
    "duration": 39,
    "start_time": "2021-07-08T11:49:02.960Z"
   },
   {
    "duration": 9,
    "start_time": "2021-07-08T11:49:03.003Z"
   },
   {
    "duration": 23,
    "start_time": "2021-07-08T11:49:03.014Z"
   },
   {
    "duration": 6,
    "start_time": "2021-07-08T11:49:03.041Z"
   },
   {
    "duration": 20,
    "start_time": "2021-07-08T11:49:03.049Z"
   },
   {
    "duration": 18,
    "start_time": "2021-07-08T11:49:03.084Z"
   },
   {
    "duration": 14,
    "start_time": "2021-07-08T11:49:03.104Z"
   },
   {
    "duration": 39,
    "start_time": "2021-07-08T11:49:03.119Z"
   },
   {
    "duration": 38,
    "start_time": "2021-07-08T11:49:03.160Z"
   },
   {
    "duration": 26,
    "start_time": "2021-07-08T11:49:03.200Z"
   },
   {
    "duration": 7,
    "start_time": "2021-07-08T11:49:03.227Z"
   },
   {
    "duration": 4,
    "start_time": "2021-07-08T11:49:03.236Z"
   },
   {
    "duration": 15,
    "start_time": "2021-07-08T11:49:03.243Z"
   },
   {
    "duration": 21,
    "start_time": "2021-07-08T11:49:03.285Z"
   },
   {
    "duration": 17,
    "start_time": "2021-07-08T11:49:03.309Z"
   },
   {
    "duration": 10,
    "start_time": "2021-07-08T11:49:03.328Z"
   },
   {
    "duration": 65,
    "start_time": "2021-07-08T11:49:03.340Z"
   },
   {
    "duration": 18,
    "start_time": "2021-07-08T11:49:03.407Z"
   },
   {
    "duration": 8,
    "start_time": "2021-07-08T11:49:03.428Z"
   },
   {
    "duration": 15,
    "start_time": "2021-07-08T11:49:03.438Z"
   },
   {
    "duration": 40,
    "start_time": "2021-07-08T11:49:03.455Z"
   },
   {
    "duration": 12,
    "start_time": "2021-07-08T11:49:03.497Z"
   },
   {
    "duration": 29,
    "start_time": "2021-07-08T11:49:03.511Z"
   },
   {
    "duration": 285,
    "start_time": "2021-07-08T11:49:03.542Z"
   },
   {
    "duration": 8,
    "start_time": "2021-07-08T11:49:03.829Z"
   },
   {
    "duration": 227,
    "start_time": "2021-07-08T11:49:03.838Z"
   },
   {
    "duration": 40,
    "start_time": "2021-07-08T11:49:04.066Z"
   },
   {
    "duration": 10,
    "start_time": "2021-07-08T11:49:04.108Z"
   },
   {
    "duration": 26,
    "start_time": "2021-07-08T11:49:04.121Z"
   },
   {
    "duration": 290,
    "start_time": "2021-07-08T11:49:04.149Z"
   },
   {
    "duration": 26,
    "start_time": "2021-07-08T11:49:04.441Z"
   },
   {
    "duration": 31,
    "start_time": "2021-07-08T11:49:04.470Z"
   },
   {
    "duration": 14,
    "start_time": "2021-07-08T11:49:04.503Z"
   },
   {
    "duration": 259,
    "start_time": "2021-07-08T11:49:04.521Z"
   },
   {
    "duration": 480,
    "start_time": "2021-07-08T11:49:04.782Z"
   },
   {
    "duration": 225,
    "start_time": "2021-07-08T11:49:05.264Z"
   },
   {
    "duration": 22,
    "start_time": "2021-07-08T11:49:05.491Z"
   },
   {
    "duration": 24,
    "start_time": "2021-07-08T11:49:05.515Z"
   },
   {
    "duration": 634,
    "start_time": "2021-07-08T11:52:24.960Z"
   },
   {
    "duration": 199,
    "start_time": "2021-07-08T11:52:25.599Z"
   },
   {
    "duration": 106,
    "start_time": "2021-07-08T11:52:25.803Z"
   },
   {
    "duration": 7,
    "start_time": "2021-07-08T11:52:25.911Z"
   },
   {
    "duration": 29,
    "start_time": "2021-07-08T11:52:25.920Z"
   },
   {
    "duration": 7,
    "start_time": "2021-07-08T11:52:25.951Z"
   },
   {
    "duration": 26,
    "start_time": "2021-07-08T11:52:25.961Z"
   },
   {
    "duration": 11,
    "start_time": "2021-07-08T11:52:25.990Z"
   },
   {
    "duration": 29,
    "start_time": "2021-07-08T11:52:26.005Z"
   },
   {
    "duration": 9,
    "start_time": "2021-07-08T11:52:26.036Z"
   },
   {
    "duration": 8,
    "start_time": "2021-07-08T11:52:26.047Z"
   },
   {
    "duration": 63,
    "start_time": "2021-07-08T11:52:26.057Z"
   },
   {
    "duration": 17,
    "start_time": "2021-07-08T11:52:26.122Z"
   },
   {
    "duration": 43,
    "start_time": "2021-07-08T11:52:26.142Z"
   },
   {
    "duration": 17,
    "start_time": "2021-07-08T11:52:26.187Z"
   },
   {
    "duration": 5,
    "start_time": "2021-07-08T11:52:26.206Z"
   },
   {
    "duration": 12,
    "start_time": "2021-07-08T11:52:26.212Z"
   },
   {
    "duration": 11,
    "start_time": "2021-07-08T11:52:26.226Z"
   },
   {
    "duration": 12,
    "start_time": "2021-07-08T11:52:26.238Z"
   },
   {
    "duration": 38,
    "start_time": "2021-07-08T11:52:26.252Z"
   },
   {
    "duration": 40,
    "start_time": "2021-07-08T11:52:26.292Z"
   },
   {
    "duration": 17,
    "start_time": "2021-07-08T11:52:26.336Z"
   },
   {
    "duration": 39,
    "start_time": "2021-07-08T11:52:26.355Z"
   },
   {
    "duration": 11,
    "start_time": "2021-07-08T11:52:26.395Z"
   },
   {
    "duration": 23,
    "start_time": "2021-07-08T11:52:26.408Z"
   },
   {
    "duration": 12,
    "start_time": "2021-07-08T11:52:26.432Z"
   },
   {
    "duration": 41,
    "start_time": "2021-07-08T11:52:26.446Z"
   },
   {
    "duration": 215,
    "start_time": "2021-07-08T11:52:26.493Z"
   },
   {
    "duration": 8,
    "start_time": "2021-07-08T11:52:26.710Z"
   },
   {
    "duration": 228,
    "start_time": "2021-07-08T11:52:26.720Z"
   },
   {
    "duration": 18,
    "start_time": "2021-07-08T11:52:26.950Z"
   },
   {
    "duration": 35,
    "start_time": "2021-07-08T11:52:26.969Z"
   },
   {
    "duration": 23,
    "start_time": "2021-07-08T11:52:27.006Z"
   },
   {
    "duration": 258,
    "start_time": "2021-07-08T11:52:27.030Z"
   },
   {
    "duration": 24,
    "start_time": "2021-07-08T11:52:27.290Z"
   },
   {
    "duration": 12,
    "start_time": "2021-07-08T11:52:27.316Z"
   },
   {
    "duration": 10,
    "start_time": "2021-07-08T11:52:27.329Z"
   },
   {
    "duration": 298,
    "start_time": "2021-07-08T11:52:27.341Z"
   },
   {
    "duration": 436,
    "start_time": "2021-07-08T11:52:27.641Z"
   },
   {
    "duration": 216,
    "start_time": "2021-07-08T11:52:28.079Z"
   },
   {
    "duration": 20,
    "start_time": "2021-07-08T11:52:28.297Z"
   },
   {
    "duration": 17,
    "start_time": "2021-07-08T11:52:28.319Z"
   },
   {
    "duration": 778,
    "start_time": "2024-03-19T17:10:39.389Z"
   },
   {
    "duration": 262,
    "start_time": "2024-03-19T17:10:43.117Z"
   },
   {
    "duration": 11,
    "start_time": "2024-03-19T17:10:44.841Z"
   },
   {
    "duration": 8,
    "start_time": "2024-03-19T17:10:47.830Z"
   },
   {
    "duration": 122,
    "start_time": "2024-03-19T17:11:02.203Z"
   },
   {
    "duration": 20,
    "start_time": "2024-03-19T17:11:04.029Z"
   },
   {
    "duration": 9,
    "start_time": "2024-03-19T17:11:07.283Z"
   },
   {
    "duration": 15,
    "start_time": "2024-03-19T17:11:29.093Z"
   },
   {
    "duration": 10,
    "start_time": "2024-03-19T17:11:32.184Z"
   },
   {
    "duration": 30,
    "start_time": "2024-03-19T17:51:13.313Z"
   },
   {
    "duration": 14,
    "start_time": "2024-03-19T17:51:26.322Z"
   },
   {
    "duration": 27,
    "start_time": "2024-03-19T17:51:30.753Z"
   },
   {
    "duration": 76,
    "start_time": "2024-03-19T17:52:31.760Z"
   },
   {
    "duration": 1138,
    "start_time": "2024-03-19T17:52:39.211Z"
   },
   {
    "duration": 283,
    "start_time": "2024-03-19T17:52:49.651Z"
   },
   {
    "duration": 9,
    "start_time": "2024-03-19T17:53:07.661Z"
   },
   {
    "duration": 4,
    "start_time": "2024-03-19T17:53:17.198Z"
   },
   {
    "duration": 10,
    "start_time": "2024-03-19T17:54:01.427Z"
   },
   {
    "duration": 13,
    "start_time": "2024-03-19T17:54:29.803Z"
   },
   {
    "duration": 85,
    "start_time": "2024-03-19T17:55:44.674Z"
   },
   {
    "duration": 8,
    "start_time": "2024-03-19T17:57:53.667Z"
   },
   {
    "duration": 83,
    "start_time": "2024-03-19T17:57:57.392Z"
   },
   {
    "duration": 766,
    "start_time": "2024-03-20T15:36:50.982Z"
   },
   {
    "duration": 269,
    "start_time": "2024-03-20T15:36:55.286Z"
   },
   {
    "duration": 32,
    "start_time": "2024-03-20T15:36:57.099Z"
   },
   {
    "duration": 15,
    "start_time": "2024-03-20T15:37:00.518Z"
   },
   {
    "duration": 4,
    "start_time": "2024-03-20T15:37:03.486Z"
   },
   {
    "duration": 81,
    "start_time": "2024-03-20T15:37:06.345Z"
   },
   {
    "duration": 8,
    "start_time": "2024-03-20T15:37:10.937Z"
   },
   {
    "duration": 82,
    "start_time": "2024-03-20T15:37:14.014Z"
   },
   {
    "duration": 19,
    "start_time": "2024-03-20T15:43:33.421Z"
   },
   {
    "duration": 11,
    "start_time": "2024-03-20T15:45:54.960Z"
   },
   {
    "duration": 124,
    "start_time": "2024-03-20T15:47:20.776Z"
   },
   {
    "duration": 25,
    "start_time": "2024-03-20T15:47:23.856Z"
   },
   {
    "duration": 13,
    "start_time": "2024-03-20T15:47:31.964Z"
   },
   {
    "duration": 94,
    "start_time": "2024-03-20T15:59:58.155Z"
   },
   {
    "duration": 12,
    "start_time": "2024-03-20T16:00:09.934Z"
   },
   {
    "duration": 11,
    "start_time": "2024-03-20T16:00:26.091Z"
   },
   {
    "duration": 11,
    "start_time": "2024-03-20T16:00:37.784Z"
   },
   {
    "duration": 13,
    "start_time": "2024-03-20T16:01:19.083Z"
   },
   {
    "duration": 16,
    "start_time": "2024-03-20T16:01:27.221Z"
   },
   {
    "duration": 11,
    "start_time": "2024-03-20T16:01:49.191Z"
   },
   {
    "duration": 598,
    "start_time": "2024-03-20T16:02:16.314Z"
   },
   {
    "duration": 127,
    "start_time": "2024-03-20T16:02:18.227Z"
   },
   {
    "duration": 29,
    "start_time": "2024-03-20T16:02:20.086Z"
   },
   {
    "duration": 19,
    "start_time": "2024-03-20T16:02:22.888Z"
   },
   {
    "duration": 1236,
    "start_time": "2024-03-20T16:02:24.949Z"
   },
   {
    "duration": 112,
    "start_time": "2024-03-20T16:02:42.447Z"
   },
   {
    "duration": 83,
    "start_time": "2024-03-20T16:02:46.893Z"
   },
   {
    "duration": 7,
    "start_time": "2024-03-20T16:02:49.031Z"
   },
   {
    "duration": 92,
    "start_time": "2024-03-20T16:02:50.565Z"
   },
   {
    "duration": 19,
    "start_time": "2024-03-20T16:02:53.281Z"
   },
   {
    "duration": 13,
    "start_time": "2024-03-20T16:03:24.156Z"
   },
   {
    "duration": 649,
    "start_time": "2024-03-20T16:04:22.484Z"
   },
   {
    "duration": 134,
    "start_time": "2024-03-20T16:04:23.890Z"
   },
   {
    "duration": 39,
    "start_time": "2024-03-20T16:04:25.650Z"
   },
   {
    "duration": 13,
    "start_time": "2024-03-20T16:04:28.529Z"
   },
   {
    "duration": 90,
    "start_time": "2024-03-20T16:04:30.527Z"
   },
   {
    "duration": 8,
    "start_time": "2024-03-20T16:04:32.626Z"
   },
   {
    "duration": 99,
    "start_time": "2024-03-20T16:04:34.140Z"
   },
   {
    "duration": 82,
    "start_time": "2024-03-20T16:04:36.696Z"
   },
   {
    "duration": 5,
    "start_time": "2024-03-20T16:07:00.159Z"
   },
   {
    "duration": 19,
    "start_time": "2024-03-20T16:07:02.149Z"
   },
   {
    "duration": 15,
    "start_time": "2024-03-20T16:07:22.168Z"
   },
   {
    "duration": 22,
    "start_time": "2024-03-20T16:07:27.655Z"
   },
   {
    "duration": 4,
    "start_time": "2024-03-20T16:07:48.808Z"
   },
   {
    "duration": 18,
    "start_time": "2024-03-20T16:07:53.711Z"
   },
   {
    "duration": 24,
    "start_time": "2024-03-20T16:08:12.446Z"
   },
   {
    "duration": 17,
    "start_time": "2024-03-20T16:10:56.456Z"
   },
   {
    "duration": 15,
    "start_time": "2024-03-20T16:13:33.567Z"
   },
   {
    "duration": 41,
    "start_time": "2024-03-20T16:14:25.693Z"
   },
   {
    "duration": 32,
    "start_time": "2024-03-20T16:14:48.498Z"
   },
   {
    "duration": 31,
    "start_time": "2024-03-20T16:18:48.916Z"
   },
   {
    "duration": 31,
    "start_time": "2024-03-20T16:18:56.484Z"
   },
   {
    "duration": 596,
    "start_time": "2024-03-20T16:19:19.094Z"
   },
   {
    "duration": 125,
    "start_time": "2024-03-20T16:19:19.692Z"
   },
   {
    "duration": 28,
    "start_time": "2024-03-20T16:19:19.819Z"
   },
   {
    "duration": 19,
    "start_time": "2024-03-20T16:19:19.849Z"
   },
   {
    "duration": 85,
    "start_time": "2024-03-20T16:19:19.871Z"
   },
   {
    "duration": 7,
    "start_time": "2024-03-20T16:19:19.965Z"
   },
   {
    "duration": 40,
    "start_time": "2024-03-20T16:19:19.974Z"
   },
   {
    "duration": 74,
    "start_time": "2024-03-20T16:19:20.016Z"
   },
   {
    "duration": 3,
    "start_time": "2024-03-20T16:19:20.091Z"
   },
   {
    "duration": 61,
    "start_time": "2024-03-20T16:19:20.096Z"
   },
   {
    "duration": 12,
    "start_time": "2024-03-20T16:19:20.158Z"
   },
   {
    "duration": 31,
    "start_time": "2024-03-20T16:20:28.811Z"
   },
   {
    "duration": 91,
    "start_time": "2024-03-20T16:20:42.212Z"
   },
   {
    "duration": 31,
    "start_time": "2024-03-20T16:20:51.348Z"
   },
   {
    "duration": 32,
    "start_time": "2024-03-20T16:21:47.144Z"
   },
   {
    "duration": 66,
    "start_time": "2024-03-20T16:21:55.338Z"
   },
   {
    "duration": 33,
    "start_time": "2024-03-20T16:22:01.028Z"
   },
   {
    "duration": 32,
    "start_time": "2024-03-20T16:23:16.345Z"
   },
   {
    "duration": 73,
    "start_time": "2024-03-20T16:24:15.146Z"
   },
   {
    "duration": 32,
    "start_time": "2024-03-20T16:24:34.599Z"
   },
   {
    "duration": 69,
    "start_time": "2024-03-20T16:24:47.088Z"
   },
   {
    "duration": 34,
    "start_time": "2024-03-20T16:24:51.651Z"
   },
   {
    "duration": 35,
    "start_time": "2024-03-20T16:26:39.566Z"
   },
   {
    "duration": 622,
    "start_time": "2024-03-20T16:26:53.120Z"
   },
   {
    "duration": 127,
    "start_time": "2024-03-20T16:26:53.744Z"
   },
   {
    "duration": 28,
    "start_time": "2024-03-20T16:26:53.873Z"
   },
   {
    "duration": 18,
    "start_time": "2024-03-20T16:26:53.902Z"
   },
   {
    "duration": 132,
    "start_time": "2024-03-20T16:26:53.923Z"
   },
   {
    "duration": 13,
    "start_time": "2024-03-20T16:26:54.056Z"
   },
   {
    "duration": 19,
    "start_time": "2024-03-20T16:26:54.071Z"
   },
   {
    "duration": 50,
    "start_time": "2024-03-20T16:26:54.092Z"
   },
   {
    "duration": 3,
    "start_time": "2024-03-20T16:26:54.144Z"
   },
   {
    "duration": 29,
    "start_time": "2024-03-20T16:26:57.432Z"
   },
   {
    "duration": 34,
    "start_time": "2024-03-20T16:27:25.046Z"
   },
   {
    "duration": 34,
    "start_time": "2024-03-20T16:27:31.100Z"
   },
   {
    "duration": 71,
    "start_time": "2024-03-20T16:28:33.412Z"
   },
   {
    "duration": 34,
    "start_time": "2024-03-20T16:28:42.001Z"
   },
   {
    "duration": 13,
    "start_time": "2024-03-20T16:28:51.737Z"
   },
   {
    "duration": 9,
    "start_time": "2024-03-20T16:28:55.153Z"
   },
   {
    "duration": 14,
    "start_time": "2024-03-20T16:29:00.008Z"
   },
   {
    "duration": 14,
    "start_time": "2024-03-20T16:29:35.382Z"
   },
   {
    "duration": 21,
    "start_time": "2024-03-20T16:33:28.585Z"
   },
   {
    "duration": 25,
    "start_time": "2024-03-20T16:35:37.711Z"
   },
   {
    "duration": 15,
    "start_time": "2024-03-20T16:38:44.764Z"
   },
   {
    "duration": 75,
    "start_time": "2024-03-20T16:39:23.576Z"
   },
   {
    "duration": 16,
    "start_time": "2024-03-20T16:39:27.369Z"
   },
   {
    "duration": 7,
    "start_time": "2024-03-20T16:41:41.796Z"
   },
   {
    "duration": 10,
    "start_time": "2024-03-20T16:42:00.907Z"
   },
   {
    "duration": 18,
    "start_time": "2024-03-20T16:44:25.512Z"
   },
   {
    "duration": 18,
    "start_time": "2024-03-20T16:44:38.324Z"
   },
   {
    "duration": 26,
    "start_time": "2024-03-20T16:44:54.872Z"
   },
   {
    "duration": 16,
    "start_time": "2024-03-20T16:45:00.742Z"
   },
   {
    "duration": 5,
    "start_time": "2024-03-20T16:49:20.714Z"
   },
   {
    "duration": 4,
    "start_time": "2024-03-20T16:49:35.472Z"
   },
   {
    "duration": 123,
    "start_time": "2024-03-20T16:49:55.601Z"
   },
   {
    "duration": 580,
    "start_time": "2024-03-20T16:50:11.020Z"
   },
   {
    "duration": 128,
    "start_time": "2024-03-20T16:50:11.602Z"
   },
   {
    "duration": 28,
    "start_time": "2024-03-20T16:50:11.731Z"
   },
   {
    "duration": 16,
    "start_time": "2024-03-20T16:50:11.761Z"
   },
   {
    "duration": 102,
    "start_time": "2024-03-20T16:50:11.778Z"
   },
   {
    "duration": 6,
    "start_time": "2024-03-20T16:50:11.882Z"
   },
   {
    "duration": 37,
    "start_time": "2024-03-20T16:50:11.889Z"
   },
   {
    "duration": 78,
    "start_time": "2024-03-20T16:50:11.928Z"
   },
   {
    "duration": 8,
    "start_time": "2024-03-20T16:50:12.008Z"
   },
   {
    "duration": 56,
    "start_time": "2024-03-20T16:50:12.018Z"
   },
   {
    "duration": 20,
    "start_time": "2024-03-20T16:50:12.076Z"
   },
   {
    "duration": 36,
    "start_time": "2024-03-20T16:50:12.098Z"
   },
   {
    "duration": 54,
    "start_time": "2024-03-20T16:50:12.136Z"
   },
   {
    "duration": 20,
    "start_time": "2024-03-20T16:50:12.191Z"
   },
   {
    "duration": 65,
    "start_time": "2024-03-20T16:52:01.493Z"
   },
   {
    "duration": 69,
    "start_time": "2024-03-20T16:52:10.075Z"
   },
   {
    "duration": 8,
    "start_time": "2024-03-20T16:52:30.362Z"
   },
   {
    "duration": 8,
    "start_time": "2024-03-20T16:53:00.015Z"
   },
   {
    "duration": 44,
    "start_time": "2024-03-20T16:55:57.667Z"
   },
   {
    "duration": 9,
    "start_time": "2024-03-20T16:58:36.315Z"
   },
   {
    "duration": 24,
    "start_time": "2024-03-20T16:58:50.893Z"
   },
   {
    "duration": 27,
    "start_time": "2024-03-20T16:59:10.778Z"
   },
   {
    "duration": 19,
    "start_time": "2024-03-20T16:59:21.580Z"
   },
   {
    "duration": 7,
    "start_time": "2024-03-20T17:01:41.727Z"
   },
   {
    "duration": 9,
    "start_time": "2024-03-20T17:02:39.925Z"
   },
   {
    "duration": 8,
    "start_time": "2024-03-20T17:02:51.197Z"
   },
   {
    "duration": 65,
    "start_time": "2024-03-20T17:02:57.931Z"
   },
   {
    "duration": 6,
    "start_time": "2024-03-20T17:03:07.161Z"
   },
   {
    "duration": 45,
    "start_time": "2024-03-20T17:03:53.002Z"
   },
   {
    "duration": 651,
    "start_time": "2024-03-20T17:03:58.847Z"
   },
   {
    "duration": 126,
    "start_time": "2024-03-20T17:03:59.500Z"
   },
   {
    "duration": 28,
    "start_time": "2024-03-20T17:03:59.627Z"
   },
   {
    "duration": 12,
    "start_time": "2024-03-20T17:03:59.657Z"
   },
   {
    "duration": 91,
    "start_time": "2024-03-20T17:03:59.671Z"
   },
   {
    "duration": 7,
    "start_time": "2024-03-20T17:03:59.763Z"
   },
   {
    "duration": 35,
    "start_time": "2024-03-20T17:03:59.771Z"
   },
   {
    "duration": 41,
    "start_time": "2024-03-20T17:03:59.808Z"
   },
   {
    "duration": 3,
    "start_time": "2024-03-20T17:03:59.850Z"
   },
   {
    "duration": 49,
    "start_time": "2024-03-20T17:03:59.855Z"
   },
   {
    "duration": 17,
    "start_time": "2024-03-20T17:03:59.906Z"
   },
   {
    "duration": 29,
    "start_time": "2024-03-20T17:03:59.924Z"
   },
   {
    "duration": 24,
    "start_time": "2024-03-20T17:03:59.955Z"
   },
   {
    "duration": 83,
    "start_time": "2024-03-20T17:03:59.980Z"
   },
   {
    "duration": 0,
    "start_time": "2024-03-20T17:04:00.065Z"
   },
   {
    "duration": 0,
    "start_time": "2024-03-20T17:04:00.066Z"
   },
   {
    "duration": 8,
    "start_time": "2024-03-20T17:04:34.894Z"
   },
   {
    "duration": 18,
    "start_time": "2024-03-20T17:04:40.793Z"
   },
   {
    "duration": 5,
    "start_time": "2024-03-20T17:08:13.549Z"
   },
   {
    "duration": 11,
    "start_time": "2024-03-20T17:08:15.343Z"
   },
   {
    "duration": 16,
    "start_time": "2024-03-20T17:08:32.928Z"
   },
   {
    "duration": 1133,
    "start_time": "2024-03-20T17:09:29.724Z"
   },
   {
    "duration": 15,
    "start_time": "2024-03-20T17:09:38.437Z"
   },
   {
    "duration": 4,
    "start_time": "2024-03-20T17:11:03.248Z"
   },
   {
    "duration": 14,
    "start_time": "2024-03-20T17:11:08.608Z"
   },
   {
    "duration": 22,
    "start_time": "2024-03-20T17:11:34.172Z"
   },
   {
    "duration": 27,
    "start_time": "2024-03-20T17:14:30.904Z"
   },
   {
    "duration": 20,
    "start_time": "2024-03-20T17:16:40.872Z"
   },
   {
    "duration": 8,
    "start_time": "2024-03-20T17:18:14.545Z"
   },
   {
    "duration": 17,
    "start_time": "2024-03-20T17:18:40.207Z"
   },
   {
    "duration": 30,
    "start_time": "2024-03-20T17:18:55.476Z"
   },
   {
    "duration": 15,
    "start_time": "2024-03-20T17:20:11.715Z"
   },
   {
    "duration": 16,
    "start_time": "2024-03-20T17:20:16.394Z"
   },
   {
    "duration": 29,
    "start_time": "2024-03-20T17:21:07.212Z"
   },
   {
    "duration": 21,
    "start_time": "2024-03-20T17:21:23.891Z"
   },
   {
    "duration": 21,
    "start_time": "2024-03-20T17:22:31.968Z"
   },
   {
    "duration": 18,
    "start_time": "2024-03-20T17:25:32.151Z"
   },
   {
    "duration": 5,
    "start_time": "2024-03-20T17:26:02.951Z"
   },
   {
    "duration": 35,
    "start_time": "2024-03-20T17:26:12.247Z"
   },
   {
    "duration": 12,
    "start_time": "2024-03-20T17:27:22.231Z"
   },
   {
    "duration": 16,
    "start_time": "2024-03-20T17:27:27.075Z"
   },
   {
    "duration": 48,
    "start_time": "2024-03-20T17:29:41.954Z"
   },
   {
    "duration": 6,
    "start_time": "2024-03-20T17:30:11.736Z"
   },
   {
    "duration": 5,
    "start_time": "2024-03-20T17:30:21.118Z"
   },
   {
    "duration": 5,
    "start_time": "2024-03-20T17:30:28.344Z"
   },
   {
    "duration": 5,
    "start_time": "2024-03-20T17:30:32.259Z"
   },
   {
    "duration": 14,
    "start_time": "2024-03-20T17:31:13.967Z"
   },
   {
    "duration": 25,
    "start_time": "2024-03-20T17:39:39.630Z"
   },
   {
    "duration": 26,
    "start_time": "2024-03-20T17:40:51.560Z"
   },
   {
    "duration": 22,
    "start_time": "2024-03-20T17:42:06.760Z"
   },
   {
    "duration": 33,
    "start_time": "2024-03-20T17:43:55.813Z"
   },
   {
    "duration": 49,
    "start_time": "2024-03-20T17:44:10.411Z"
   },
   {
    "duration": 34,
    "start_time": "2024-03-20T17:44:21.501Z"
   },
   {
    "duration": 1109,
    "start_time": "2024-03-20T17:45:14.855Z"
   },
   {
    "duration": 24,
    "start_time": "2024-03-20T17:45:22.632Z"
   },
   {
    "duration": 19,
    "start_time": "2024-03-20T17:45:45.045Z"
   },
   {
    "duration": 21,
    "start_time": "2024-03-20T17:45:47.225Z"
   },
   {
    "duration": 33,
    "start_time": "2024-03-20T17:46:14.011Z"
   },
   {
    "duration": 20,
    "start_time": "2024-03-20T17:46:15.676Z"
   },
   {
    "duration": 5,
    "start_time": "2024-03-20T17:46:48.204Z"
   },
   {
    "duration": 614,
    "start_time": "2024-03-20T17:47:10.079Z"
   },
   {
    "duration": 138,
    "start_time": "2024-03-20T17:47:10.695Z"
   },
   {
    "duration": 46,
    "start_time": "2024-03-20T17:47:10.835Z"
   },
   {
    "duration": 17,
    "start_time": "2024-03-20T17:47:10.884Z"
   },
   {
    "duration": 114,
    "start_time": "2024-03-20T17:47:10.903Z"
   },
   {
    "duration": 6,
    "start_time": "2024-03-20T17:47:11.019Z"
   },
   {
    "duration": 23,
    "start_time": "2024-03-20T17:47:11.026Z"
   },
   {
    "duration": 59,
    "start_time": "2024-03-20T17:47:11.051Z"
   },
   {
    "duration": 3,
    "start_time": "2024-03-20T17:47:11.112Z"
   },
   {
    "duration": 50,
    "start_time": "2024-03-20T17:47:11.116Z"
   },
   {
    "duration": 47,
    "start_time": "2024-03-20T17:47:11.168Z"
   },
   {
    "duration": 40,
    "start_time": "2024-03-20T17:47:11.217Z"
   },
   {
    "duration": 43,
    "start_time": "2024-03-20T17:47:11.259Z"
   },
   {
    "duration": 65,
    "start_time": "2024-03-20T17:47:11.306Z"
   },
   {
    "duration": 33,
    "start_time": "2024-03-20T17:47:11.373Z"
   },
   {
    "duration": 45,
    "start_time": "2024-03-20T17:47:11.408Z"
   },
   {
    "duration": 46,
    "start_time": "2024-03-20T17:47:11.455Z"
   },
   {
    "duration": 17,
    "start_time": "2024-03-20T17:47:11.502Z"
   },
   {
    "duration": 37,
    "start_time": "2024-03-20T17:47:11.521Z"
   },
   {
    "duration": 17,
    "start_time": "2024-03-20T17:47:11.559Z"
   },
   {
    "duration": 51,
    "start_time": "2024-03-20T17:47:11.578Z"
   },
   {
    "duration": 19,
    "start_time": "2024-03-20T17:47:11.631Z"
   },
   {
    "duration": 41,
    "start_time": "2024-03-20T17:47:11.652Z"
   },
   {
    "duration": 50,
    "start_time": "2024-03-20T17:47:11.695Z"
   },
   {
    "duration": 9,
    "start_time": "2024-03-20T17:47:11.746Z"
   },
   {
    "duration": 26,
    "start_time": "2024-03-20T17:47:11.756Z"
   },
   {
    "duration": 6,
    "start_time": "2024-03-20T17:47:25.996Z"
   },
   {
    "duration": 40,
    "start_time": "2024-03-20T17:48:05.270Z"
   },
   {
    "duration": 23,
    "start_time": "2024-03-20T17:48:51.270Z"
   },
   {
    "duration": 20,
    "start_time": "2024-03-20T17:49:07.220Z"
   },
   {
    "duration": 31,
    "start_time": "2024-03-20T17:49:11.825Z"
   },
   {
    "duration": 21,
    "start_time": "2024-03-20T17:52:08.329Z"
   },
   {
    "duration": 35,
    "start_time": "2024-03-20T17:52:12.265Z"
   },
   {
    "duration": 19,
    "start_time": "2024-03-20T17:52:50.879Z"
   },
   {
    "duration": 23,
    "start_time": "2024-03-20T17:52:54.633Z"
   },
   {
    "duration": 27,
    "start_time": "2024-03-20T17:54:01.755Z"
   },
   {
    "duration": 20,
    "start_time": "2024-03-20T17:57:03.436Z"
   },
   {
    "duration": 11,
    "start_time": "2024-03-20T17:57:07.453Z"
   },
   {
    "duration": 10,
    "start_time": "2024-03-20T17:57:12.140Z"
   },
   {
    "duration": 645,
    "start_time": "2024-03-20T17:58:07.150Z"
   },
   {
    "duration": 130,
    "start_time": "2024-03-20T17:58:07.797Z"
   },
   {
    "duration": 35,
    "start_time": "2024-03-20T17:58:07.928Z"
   },
   {
    "duration": 29,
    "start_time": "2024-03-20T17:58:07.967Z"
   },
   {
    "duration": 119,
    "start_time": "2024-03-20T17:58:07.997Z"
   },
   {
    "duration": 6,
    "start_time": "2024-03-20T17:58:08.118Z"
   },
   {
    "duration": 30,
    "start_time": "2024-03-20T17:58:08.125Z"
   },
   {
    "duration": 67,
    "start_time": "2024-03-20T17:58:08.156Z"
   },
   {
    "duration": 3,
    "start_time": "2024-03-20T17:58:08.224Z"
   },
   {
    "duration": 66,
    "start_time": "2024-03-20T17:58:08.230Z"
   },
   {
    "duration": 17,
    "start_time": "2024-03-20T17:58:08.297Z"
   },
   {
    "duration": 28,
    "start_time": "2024-03-20T17:58:08.316Z"
   },
   {
    "duration": 34,
    "start_time": "2024-03-20T17:58:08.346Z"
   },
   {
    "duration": 37,
    "start_time": "2024-03-20T17:58:08.382Z"
   },
   {
    "duration": 27,
    "start_time": "2024-03-20T17:58:08.420Z"
   },
   {
    "duration": 51,
    "start_time": "2024-03-20T17:58:08.448Z"
   },
   {
    "duration": 30,
    "start_time": "2024-03-20T17:58:08.501Z"
   },
   {
    "duration": 25,
    "start_time": "2024-03-20T17:58:08.532Z"
   },
   {
    "duration": 56,
    "start_time": "2024-03-20T17:58:08.558Z"
   },
   {
    "duration": 14,
    "start_time": "2024-03-20T17:58:08.616Z"
   },
   {
    "duration": 52,
    "start_time": "2024-03-20T17:58:08.632Z"
   },
   {
    "duration": 34,
    "start_time": "2024-03-20T17:58:08.686Z"
   },
   {
    "duration": 39,
    "start_time": "2024-03-20T17:58:08.722Z"
   },
   {
    "duration": 49,
    "start_time": "2024-03-20T17:58:08.762Z"
   },
   {
    "duration": 36,
    "start_time": "2024-03-20T17:58:08.812Z"
   },
   {
    "duration": 10,
    "start_time": "2024-03-20T17:58:13.802Z"
   },
   {
    "duration": 8,
    "start_time": "2024-03-20T18:05:09.114Z"
   },
   {
    "duration": 5,
    "start_time": "2024-03-20T18:06:50.481Z"
   },
   {
    "duration": 7,
    "start_time": "2024-03-20T18:07:37.577Z"
   },
   {
    "duration": 4,
    "start_time": "2024-03-20T18:08:08.808Z"
   },
   {
    "duration": 794,
    "start_time": "2024-03-20T18:08:32.909Z"
   },
   {
    "duration": 7,
    "start_time": "2024-03-20T18:08:37.068Z"
   },
   {
    "duration": 5,
    "start_time": "2024-03-20T18:08:46.239Z"
   },
   {
    "duration": 87,
    "start_time": "2024-03-20T18:09:07.654Z"
   },
   {
    "duration": 17,
    "start_time": "2024-03-20T18:09:15.578Z"
   },
   {
    "duration": 7,
    "start_time": "2024-03-20T18:10:17.993Z"
   },
   {
    "duration": 9,
    "start_time": "2024-03-20T18:15:58.880Z"
   },
   {
    "duration": 11,
    "start_time": "2024-03-20T18:16:15.080Z"
   },
   {
    "duration": 6,
    "start_time": "2024-03-20T18:17:07.731Z"
   },
   {
    "duration": 5,
    "start_time": "2024-03-20T18:20:08.956Z"
   },
   {
    "duration": 6,
    "start_time": "2024-03-20T18:20:17.539Z"
   },
   {
    "duration": 6,
    "start_time": "2024-03-20T18:20:19.815Z"
   },
   {
    "duration": 666,
    "start_time": "2024-03-20T18:20:39.834Z"
   },
   {
    "duration": 147,
    "start_time": "2024-03-20T18:20:40.502Z"
   },
   {
    "duration": 48,
    "start_time": "2024-03-20T18:20:40.651Z"
   },
   {
    "duration": 25,
    "start_time": "2024-03-20T18:20:40.701Z"
   },
   {
    "duration": 174,
    "start_time": "2024-03-20T18:20:40.728Z"
   },
   {
    "duration": 8,
    "start_time": "2024-03-20T18:20:40.905Z"
   },
   {
    "duration": 53,
    "start_time": "2024-03-20T18:20:40.914Z"
   },
   {
    "duration": 82,
    "start_time": "2024-03-20T18:20:40.969Z"
   },
   {
    "duration": 19,
    "start_time": "2024-03-20T18:20:41.053Z"
   },
   {
    "duration": 102,
    "start_time": "2024-03-20T18:20:41.074Z"
   },
   {
    "duration": 26,
    "start_time": "2024-03-20T18:20:41.178Z"
   },
   {
    "duration": 58,
    "start_time": "2024-03-20T18:20:41.206Z"
   },
   {
    "duration": 29,
    "start_time": "2024-03-20T18:20:41.278Z"
   },
   {
    "duration": 86,
    "start_time": "2024-03-20T18:20:41.310Z"
   },
   {
    "duration": 42,
    "start_time": "2024-03-20T18:20:41.398Z"
   },
   {
    "duration": 60,
    "start_time": "2024-03-20T18:20:41.441Z"
   },
   {
    "duration": 98,
    "start_time": "2024-03-20T18:20:41.502Z"
   },
   {
    "duration": 33,
    "start_time": "2024-03-20T18:20:41.601Z"
   },
   {
    "duration": 66,
    "start_time": "2024-03-20T18:20:41.636Z"
   },
   {
    "duration": 10,
    "start_time": "2024-03-20T18:20:41.703Z"
   },
   {
    "duration": 99,
    "start_time": "2024-03-20T18:20:41.714Z"
   },
   {
    "duration": 59,
    "start_time": "2024-03-20T18:20:41.815Z"
   },
   {
    "duration": 73,
    "start_time": "2024-03-20T18:20:41.876Z"
   },
   {
    "duration": 54,
    "start_time": "2024-03-20T18:20:41.950Z"
   },
   {
    "duration": 61,
    "start_time": "2024-03-20T18:20:42.006Z"
   },
   {
    "duration": 47,
    "start_time": "2024-03-20T18:20:42.068Z"
   },
   {
    "duration": 36,
    "start_time": "2024-03-20T18:20:42.116Z"
   },
   {
    "duration": 33,
    "start_time": "2024-03-20T18:20:42.153Z"
   },
   {
    "duration": 45,
    "start_time": "2024-03-20T18:20:42.188Z"
   },
   {
    "duration": 40,
    "start_time": "2024-03-20T18:20:42.234Z"
   },
   {
    "duration": 30,
    "start_time": "2024-03-20T18:20:42.276Z"
   },
   {
    "duration": 20,
    "start_time": "2024-03-20T18:20:42.308Z"
   },
   {
    "duration": 25,
    "start_time": "2024-03-20T18:20:42.329Z"
   },
   {
    "duration": 43,
    "start_time": "2024-03-20T18:20:42.356Z"
   },
   {
    "duration": 77,
    "start_time": "2024-03-20T18:21:21.005Z"
   },
   {
    "duration": 6,
    "start_time": "2024-03-20T18:21:43.710Z"
   },
   {
    "duration": 673,
    "start_time": "2024-03-20T18:21:54.431Z"
   },
   {
    "duration": 151,
    "start_time": "2024-03-20T18:21:55.106Z"
   },
   {
    "duration": 47,
    "start_time": "2024-03-20T18:21:55.259Z"
   },
   {
    "duration": 36,
    "start_time": "2024-03-20T18:21:55.308Z"
   },
   {
    "duration": 159,
    "start_time": "2024-03-20T18:21:55.345Z"
   },
   {
    "duration": 6,
    "start_time": "2024-03-20T18:21:55.506Z"
   },
   {
    "duration": 44,
    "start_time": "2024-03-20T18:21:55.514Z"
   },
   {
    "duration": 76,
    "start_time": "2024-03-20T18:21:55.560Z"
   },
   {
    "duration": 3,
    "start_time": "2024-03-20T18:21:55.637Z"
   },
   {
    "duration": 78,
    "start_time": "2024-03-20T18:21:55.642Z"
   },
   {
    "duration": 33,
    "start_time": "2024-03-20T18:21:55.722Z"
   },
   {
    "duration": 47,
    "start_time": "2024-03-20T18:21:55.757Z"
   },
   {
    "duration": 48,
    "start_time": "2024-03-20T18:21:55.806Z"
   },
   {
    "duration": 59,
    "start_time": "2024-03-20T18:21:55.856Z"
   },
   {
    "duration": 44,
    "start_time": "2024-03-20T18:21:55.917Z"
   },
   {
    "duration": 59,
    "start_time": "2024-03-20T18:21:55.962Z"
   },
   {
    "duration": 48,
    "start_time": "2024-03-20T18:21:56.023Z"
   },
   {
    "duration": 33,
    "start_time": "2024-03-20T18:21:56.074Z"
   },
   {
    "duration": 95,
    "start_time": "2024-03-20T18:21:56.109Z"
   },
   {
    "duration": 42,
    "start_time": "2024-03-20T18:21:56.206Z"
   },
   {
    "duration": 53,
    "start_time": "2024-03-20T18:21:56.250Z"
   },
   {
    "duration": 5,
    "start_time": "2024-03-20T18:21:56.305Z"
   },
   {
    "duration": 85,
    "start_time": "2024-03-20T18:21:56.312Z"
   },
   {
    "duration": 40,
    "start_time": "2024-03-20T18:21:56.399Z"
   },
   {
    "duration": 38,
    "start_time": "2024-03-20T18:21:56.441Z"
   },
   {
    "duration": 28,
    "start_time": "2024-03-20T18:21:56.482Z"
   },
   {
    "duration": 19,
    "start_time": "2024-03-20T18:21:56.511Z"
   },
   {
    "duration": 28,
    "start_time": "2024-03-20T18:21:56.533Z"
   },
   {
    "duration": 51,
    "start_time": "2024-03-20T18:21:56.562Z"
   },
   {
    "duration": 40,
    "start_time": "2024-03-20T18:21:56.615Z"
   },
   {
    "duration": 62,
    "start_time": "2024-03-20T18:21:56.656Z"
   },
   {
    "duration": 50,
    "start_time": "2024-03-20T18:21:56.720Z"
   },
   {
    "duration": 49,
    "start_time": "2024-03-20T18:21:56.772Z"
   },
   {
    "duration": 27,
    "start_time": "2024-03-20T18:21:56.823Z"
   },
   {
    "duration": 9,
    "start_time": "2024-03-20T18:24:05.220Z"
   },
   {
    "duration": 74,
    "start_time": "2024-03-20T18:24:25.903Z"
   },
   {
    "duration": 9,
    "start_time": "2024-03-20T18:24:29.576Z"
   },
   {
    "duration": 4,
    "start_time": "2024-03-20T18:24:41.814Z"
   },
   {
    "duration": 6,
    "start_time": "2024-03-20T18:24:49.757Z"
   },
   {
    "duration": 6,
    "start_time": "2024-03-20T18:24:51.415Z"
   },
   {
    "duration": 8,
    "start_time": "2024-03-20T18:24:52.861Z"
   },
   {
    "duration": 5,
    "start_time": "2024-03-20T18:25:06.244Z"
   },
   {
    "duration": 10,
    "start_time": "2024-03-20T18:25:07.771Z"
   },
   {
    "duration": 5,
    "start_time": "2024-03-20T18:25:09.334Z"
   },
   {
    "duration": 5,
    "start_time": "2024-03-20T18:25:26.643Z"
   },
   {
    "duration": 87,
    "start_time": "2024-03-20T18:26:50.140Z"
   },
   {
    "duration": 17,
    "start_time": "2024-03-20T18:27:00.160Z"
   },
   {
    "duration": 4,
    "start_time": "2024-03-20T18:28:12.234Z"
   },
   {
    "duration": 9,
    "start_time": "2024-03-20T18:28:17.725Z"
   },
   {
    "duration": 21,
    "start_time": "2024-03-20T18:28:26.458Z"
   },
   {
    "duration": 11,
    "start_time": "2024-03-20T18:29:29.588Z"
   },
   {
    "duration": 9,
    "start_time": "2024-03-20T18:29:38.794Z"
   },
   {
    "duration": 8,
    "start_time": "2024-03-20T18:29:40.802Z"
   },
   {
    "duration": 195,
    "start_time": "2024-03-20T18:30:16.737Z"
   },
   {
    "duration": 14960,
    "start_time": "2024-03-20T18:30:56.324Z"
   },
   {
    "duration": 285,
    "start_time": "2024-03-20T18:31:32.110Z"
   },
   {
    "duration": 1277,
    "start_time": "2024-03-20T18:33:23.886Z"
   },
   {
    "duration": 133,
    "start_time": "2024-03-20T18:33:25.164Z"
   },
   {
    "duration": 30,
    "start_time": "2024-03-20T18:33:25.299Z"
   },
   {
    "duration": 17,
    "start_time": "2024-03-20T18:33:25.331Z"
   },
   {
    "duration": 103,
    "start_time": "2024-03-20T18:33:25.351Z"
   },
   {
    "duration": 7,
    "start_time": "2024-03-20T18:33:25.455Z"
   },
   {
    "duration": 16,
    "start_time": "2024-03-20T18:33:25.464Z"
   },
   {
    "duration": 57,
    "start_time": "2024-03-20T18:33:25.482Z"
   },
   {
    "duration": 3,
    "start_time": "2024-03-20T18:33:25.541Z"
   },
   {
    "duration": 74,
    "start_time": "2024-03-20T18:33:25.545Z"
   },
   {
    "duration": 17,
    "start_time": "2024-03-20T18:33:25.620Z"
   },
   {
    "duration": 20,
    "start_time": "2024-03-20T18:33:25.639Z"
   },
   {
    "duration": 33,
    "start_time": "2024-03-20T18:33:25.661Z"
   },
   {
    "duration": 34,
    "start_time": "2024-03-20T18:33:25.697Z"
   },
   {
    "duration": 30,
    "start_time": "2024-03-20T18:33:25.733Z"
   },
   {
    "duration": 36,
    "start_time": "2024-03-20T18:33:25.765Z"
   },
   {
    "duration": 30,
    "start_time": "2024-03-20T18:33:25.803Z"
   },
   {
    "duration": 39,
    "start_time": "2024-03-20T18:33:25.835Z"
   },
   {
    "duration": 71,
    "start_time": "2024-03-20T18:33:25.879Z"
   },
   {
    "duration": 21,
    "start_time": "2024-03-20T18:33:25.953Z"
   },
   {
    "duration": 36,
    "start_time": "2024-03-20T18:33:25.976Z"
   },
   {
    "duration": 6,
    "start_time": "2024-03-20T18:33:26.014Z"
   },
   {
    "duration": 49,
    "start_time": "2024-03-20T18:33:26.021Z"
   },
   {
    "duration": 70,
    "start_time": "2024-03-20T18:33:26.072Z"
   },
   {
    "duration": 44,
    "start_time": "2024-03-20T18:33:26.143Z"
   },
   {
    "duration": 31,
    "start_time": "2024-03-20T18:33:26.189Z"
   },
   {
    "duration": 22,
    "start_time": "2024-03-20T18:33:26.222Z"
   },
   {
    "duration": 12,
    "start_time": "2024-03-20T18:33:26.246Z"
   },
   {
    "duration": 38,
    "start_time": "2024-03-20T18:33:26.260Z"
   },
   {
    "duration": 18,
    "start_time": "2024-03-20T18:33:26.299Z"
   },
   {
    "duration": 21,
    "start_time": "2024-03-20T18:33:26.319Z"
   },
   {
    "duration": 16,
    "start_time": "2024-03-20T18:33:26.342Z"
   },
   {
    "duration": 38,
    "start_time": "2024-03-20T18:33:26.360Z"
   },
   {
    "duration": 340,
    "start_time": "2024-03-20T18:33:26.400Z"
   },
   {
    "duration": 111,
    "start_time": "2024-03-20T18:33:26.742Z"
   },
   {
    "duration": 19,
    "start_time": "2024-03-20T18:33:45.236Z"
   },
   {
    "duration": 247,
    "start_time": "2024-03-20T18:35:40.208Z"
   },
   {
    "duration": 282,
    "start_time": "2024-03-20T18:35:45.234Z"
   },
   {
    "duration": 195,
    "start_time": "2024-03-20T18:35:52.563Z"
   },
   {
    "duration": 114,
    "start_time": "2024-03-20T18:36:00.590Z"
   },
   {
    "duration": 4,
    "start_time": "2024-03-20T18:36:31.534Z"
   },
   {
    "duration": 4,
    "start_time": "2024-03-20T18:36:37.436Z"
   },
   {
    "duration": 5,
    "start_time": "2024-03-20T18:36:46.486Z"
   },
   {
    "duration": 5,
    "start_time": "2024-03-20T18:36:54.180Z"
   },
   {
    "duration": 40,
    "start_time": "2024-03-20T18:37:31.878Z"
   },
   {
    "duration": 36,
    "start_time": "2024-03-20T18:38:04.973Z"
   },
   {
    "duration": 72,
    "start_time": "2024-03-20T18:38:57.567Z"
   },
   {
    "duration": 6,
    "start_time": "2024-03-20T18:39:23.435Z"
   },
   {
    "duration": 4,
    "start_time": "2024-03-20T18:39:27.816Z"
   },
   {
    "duration": 1072,
    "start_time": "2024-03-20T18:39:36.639Z"
   },
   {
    "duration": 4,
    "start_time": "2024-03-20T18:39:50.618Z"
   },
   {
    "duration": 257,
    "start_time": "2024-03-20T18:39:52.179Z"
   },
   {
    "duration": 117,
    "start_time": "2024-03-20T18:40:06.543Z"
   },
   {
    "duration": 4,
    "start_time": "2024-03-20T18:40:24.305Z"
   },
   {
    "duration": 127,
    "start_time": "2024-03-20T18:40:25.918Z"
   },
   {
    "duration": 12,
    "start_time": "2024-03-20T18:44:09.238Z"
   },
   {
    "duration": 1210,
    "start_time": "2024-03-20T18:44:52.413Z"
   },
   {
    "duration": 140,
    "start_time": "2024-03-20T18:44:53.625Z"
   },
   {
    "duration": 42,
    "start_time": "2024-03-20T18:44:53.767Z"
   },
   {
    "duration": 14,
    "start_time": "2024-03-20T18:44:53.812Z"
   },
   {
    "duration": 132,
    "start_time": "2024-03-20T18:44:53.829Z"
   },
   {
    "duration": 9,
    "start_time": "2024-03-20T18:44:53.962Z"
   },
   {
    "duration": 32,
    "start_time": "2024-03-20T18:44:53.973Z"
   },
   {
    "duration": 86,
    "start_time": "2024-03-20T18:44:54.006Z"
   },
   {
    "duration": 3,
    "start_time": "2024-03-20T18:44:54.093Z"
   },
   {
    "duration": 63,
    "start_time": "2024-03-20T18:44:54.098Z"
   },
   {
    "duration": 29,
    "start_time": "2024-03-20T18:44:54.162Z"
   },
   {
    "duration": 21,
    "start_time": "2024-03-20T18:44:54.194Z"
   },
   {
    "duration": 28,
    "start_time": "2024-03-20T18:44:54.217Z"
   },
   {
    "duration": 48,
    "start_time": "2024-03-20T18:44:54.246Z"
   },
   {
    "duration": 19,
    "start_time": "2024-03-20T18:44:54.296Z"
   },
   {
    "duration": 44,
    "start_time": "2024-03-20T18:44:54.317Z"
   },
   {
    "duration": 37,
    "start_time": "2024-03-20T18:44:54.363Z"
   },
   {
    "duration": 16,
    "start_time": "2024-03-20T18:44:54.401Z"
   },
   {
    "duration": 33,
    "start_time": "2024-03-20T18:44:54.418Z"
   },
   {
    "duration": 17,
    "start_time": "2024-03-20T18:44:54.452Z"
   },
   {
    "duration": 27,
    "start_time": "2024-03-20T18:44:54.474Z"
   },
   {
    "duration": 5,
    "start_time": "2024-03-20T18:44:54.503Z"
   },
   {
    "duration": 25,
    "start_time": "2024-03-20T18:44:54.510Z"
   },
   {
    "duration": 34,
    "start_time": "2024-03-20T18:44:54.537Z"
   },
   {
    "duration": 36,
    "start_time": "2024-03-20T18:44:54.572Z"
   },
   {
    "duration": 37,
    "start_time": "2024-03-20T18:44:54.609Z"
   },
   {
    "duration": 9,
    "start_time": "2024-03-20T18:44:54.648Z"
   },
   {
    "duration": 33,
    "start_time": "2024-03-20T18:44:54.658Z"
   },
   {
    "duration": 24,
    "start_time": "2024-03-20T18:44:54.692Z"
   },
   {
    "duration": 12,
    "start_time": "2024-03-20T18:44:54.717Z"
   },
   {
    "duration": 19,
    "start_time": "2024-03-20T18:44:54.730Z"
   },
   {
    "duration": 28,
    "start_time": "2024-03-20T18:44:54.751Z"
   },
   {
    "duration": 15,
    "start_time": "2024-03-20T18:44:54.781Z"
   },
   {
    "duration": 131,
    "start_time": "2024-03-20T18:44:54.797Z"
   },
   {
    "duration": 1121,
    "start_time": "2024-03-20T18:46:41.722Z"
   },
   {
    "duration": 1222,
    "start_time": "2024-03-20T18:47:12.010Z"
   },
   {
    "duration": 143,
    "start_time": "2024-03-20T18:47:13.234Z"
   },
   {
    "duration": 34,
    "start_time": "2024-03-20T18:47:13.379Z"
   },
   {
    "duration": 13,
    "start_time": "2024-03-20T18:47:13.415Z"
   },
   {
    "duration": 128,
    "start_time": "2024-03-20T18:47:13.429Z"
   },
   {
    "duration": 10,
    "start_time": "2024-03-20T18:47:13.559Z"
   },
   {
    "duration": 29,
    "start_time": "2024-03-20T18:47:13.571Z"
   },
   {
    "duration": 56,
    "start_time": "2024-03-20T18:47:13.602Z"
   },
   {
    "duration": 3,
    "start_time": "2024-03-20T18:47:13.660Z"
   },
   {
    "duration": 1203,
    "start_time": "2024-03-20T18:47:13.666Z"
   },
   {
    "duration": 0,
    "start_time": "2024-03-20T18:47:14.872Z"
   },
   {
    "duration": 0,
    "start_time": "2024-03-20T18:47:14.873Z"
   },
   {
    "duration": 0,
    "start_time": "2024-03-20T18:47:14.875Z"
   },
   {
    "duration": 0,
    "start_time": "2024-03-20T18:47:14.876Z"
   },
   {
    "duration": 0,
    "start_time": "2024-03-20T18:47:14.881Z"
   },
   {
    "duration": 0,
    "start_time": "2024-03-20T18:47:14.882Z"
   },
   {
    "duration": 0,
    "start_time": "2024-03-20T18:47:14.884Z"
   },
   {
    "duration": 0,
    "start_time": "2024-03-20T18:47:14.885Z"
   },
   {
    "duration": 0,
    "start_time": "2024-03-20T18:47:14.887Z"
   },
   {
    "duration": 0,
    "start_time": "2024-03-20T18:47:14.890Z"
   },
   {
    "duration": 0,
    "start_time": "2024-03-20T18:47:14.891Z"
   },
   {
    "duration": 0,
    "start_time": "2024-03-20T18:47:14.893Z"
   },
   {
    "duration": 0,
    "start_time": "2024-03-20T18:47:14.894Z"
   },
   {
    "duration": 0,
    "start_time": "2024-03-20T18:47:14.895Z"
   },
   {
    "duration": 0,
    "start_time": "2024-03-20T18:47:14.896Z"
   },
   {
    "duration": 0,
    "start_time": "2024-03-20T18:47:14.897Z"
   },
   {
    "duration": 0,
    "start_time": "2024-03-20T18:47:14.898Z"
   },
   {
    "duration": 0,
    "start_time": "2024-03-20T18:47:14.899Z"
   },
   {
    "duration": 0,
    "start_time": "2024-03-20T18:47:14.900Z"
   },
   {
    "duration": 0,
    "start_time": "2024-03-20T18:47:14.902Z"
   },
   {
    "duration": 0,
    "start_time": "2024-03-20T18:47:14.902Z"
   },
   {
    "duration": 0,
    "start_time": "2024-03-20T18:47:14.903Z"
   },
   {
    "duration": 0,
    "start_time": "2024-03-20T18:47:14.904Z"
   },
   {
    "duration": 0,
    "start_time": "2024-03-20T18:47:14.905Z"
   },
   {
    "duration": 3,
    "start_time": "2024-03-20T18:47:25.896Z"
   },
   {
    "duration": 184,
    "start_time": "2024-03-20T18:47:25.901Z"
   },
   {
    "duration": 27,
    "start_time": "2024-03-20T18:47:26.087Z"
   },
   {
    "duration": 27,
    "start_time": "2024-03-20T18:47:26.116Z"
   },
   {
    "duration": 110,
    "start_time": "2024-03-20T18:47:26.144Z"
   },
   {
    "duration": 5,
    "start_time": "2024-03-20T18:47:26.256Z"
   },
   {
    "duration": 30,
    "start_time": "2024-03-20T18:47:26.264Z"
   },
   {
    "duration": 65,
    "start_time": "2024-03-20T18:47:26.296Z"
   },
   {
    "duration": 7,
    "start_time": "2024-03-20T18:47:26.364Z"
   },
   {
    "duration": 1166,
    "start_time": "2024-03-20T18:47:26.377Z"
   },
   {
    "duration": 0,
    "start_time": "2024-03-20T18:47:27.545Z"
   },
   {
    "duration": 0,
    "start_time": "2024-03-20T18:47:27.546Z"
   },
   {
    "duration": 0,
    "start_time": "2024-03-20T18:47:27.547Z"
   },
   {
    "duration": 0,
    "start_time": "2024-03-20T18:47:27.549Z"
   },
   {
    "duration": 0,
    "start_time": "2024-03-20T18:47:27.550Z"
   },
   {
    "duration": 0,
    "start_time": "2024-03-20T18:47:27.550Z"
   },
   {
    "duration": 0,
    "start_time": "2024-03-20T18:47:27.551Z"
   },
   {
    "duration": 0,
    "start_time": "2024-03-20T18:47:27.552Z"
   },
   {
    "duration": 0,
    "start_time": "2024-03-20T18:47:27.553Z"
   },
   {
    "duration": 0,
    "start_time": "2024-03-20T18:47:27.554Z"
   },
   {
    "duration": 0,
    "start_time": "2024-03-20T18:47:27.556Z"
   },
   {
    "duration": 0,
    "start_time": "2024-03-20T18:47:27.557Z"
   },
   {
    "duration": 0,
    "start_time": "2024-03-20T18:47:27.558Z"
   },
   {
    "duration": 0,
    "start_time": "2024-03-20T18:47:27.559Z"
   },
   {
    "duration": 0,
    "start_time": "2024-03-20T18:47:27.560Z"
   },
   {
    "duration": 0,
    "start_time": "2024-03-20T18:47:27.561Z"
   },
   {
    "duration": 0,
    "start_time": "2024-03-20T18:47:27.562Z"
   },
   {
    "duration": 0,
    "start_time": "2024-03-20T18:47:27.563Z"
   },
   {
    "duration": 0,
    "start_time": "2024-03-20T18:47:27.564Z"
   },
   {
    "duration": 0,
    "start_time": "2024-03-20T18:47:27.568Z"
   },
   {
    "duration": 1,
    "start_time": "2024-03-20T18:47:27.569Z"
   },
   {
    "duration": 0,
    "start_time": "2024-03-20T18:47:27.571Z"
   },
   {
    "duration": 0,
    "start_time": "2024-03-20T18:47:27.573Z"
   },
   {
    "duration": 0,
    "start_time": "2024-03-20T18:47:27.575Z"
   },
   {
    "duration": 52,
    "start_time": "2024-03-20T18:47:40.751Z"
   },
   {
    "duration": 48,
    "start_time": "2024-03-20T18:47:51.653Z"
   },
   {
    "duration": 41,
    "start_time": "2024-03-20T18:48:03.290Z"
   },
   {
    "duration": 57,
    "start_time": "2024-03-20T18:48:03.333Z"
   },
   {
    "duration": 23,
    "start_time": "2024-03-20T18:48:03.394Z"
   },
   {
    "duration": 14,
    "start_time": "2024-03-20T18:48:03.419Z"
   },
   {
    "duration": 23,
    "start_time": "2024-03-20T18:48:03.435Z"
   },
   {
    "duration": 12,
    "start_time": "2024-03-20T18:48:03.460Z"
   },
   {
    "duration": 23,
    "start_time": "2024-03-20T18:48:03.473Z"
   },
   {
    "duration": 23,
    "start_time": "2024-03-20T18:48:03.498Z"
   },
   {
    "duration": 11,
    "start_time": "2024-03-20T18:48:03.523Z"
   },
   {
    "duration": 33,
    "start_time": "2024-03-20T18:48:03.535Z"
   },
   {
    "duration": 19,
    "start_time": "2024-03-20T18:48:03.571Z"
   },
   {
    "duration": 28,
    "start_time": "2024-03-20T18:48:03.592Z"
   },
   {
    "duration": 6,
    "start_time": "2024-03-20T18:48:03.622Z"
   },
   {
    "duration": 17,
    "start_time": "2024-03-20T18:48:03.629Z"
   },
   {
    "duration": 48,
    "start_time": "2024-03-20T18:48:03.647Z"
   },
   {
    "duration": 24,
    "start_time": "2024-03-20T18:48:03.696Z"
   },
   {
    "duration": 20,
    "start_time": "2024-03-20T18:48:03.722Z"
   },
   {
    "duration": 36,
    "start_time": "2024-03-20T18:48:03.743Z"
   },
   {
    "duration": 10,
    "start_time": "2024-03-20T18:48:03.781Z"
   },
   {
    "duration": 12,
    "start_time": "2024-03-20T18:48:03.794Z"
   },
   {
    "duration": 13,
    "start_time": "2024-03-20T18:48:03.808Z"
   },
   {
    "duration": 10,
    "start_time": "2024-03-20T18:48:03.823Z"
   },
   {
    "duration": 15,
    "start_time": "2024-03-20T18:48:03.834Z"
   },
   {
    "duration": 8,
    "start_time": "2024-03-20T18:48:03.851Z"
   },
   {
    "duration": 21,
    "start_time": "2024-03-20T18:48:03.860Z"
   },
   {
    "duration": 9,
    "start_time": "2024-03-20T18:50:09.206Z"
   },
   {
    "duration": 9,
    "start_time": "2024-03-20T18:50:50.117Z"
   },
   {
    "duration": 11,
    "start_time": "2024-03-20T18:51:29.848Z"
   },
   {
    "duration": 10,
    "start_time": "2024-03-20T18:51:35.720Z"
   },
   {
    "duration": 10,
    "start_time": "2024-03-20T18:51:39.227Z"
   },
   {
    "duration": 43,
    "start_time": "2024-03-20T18:51:45.357Z"
   },
   {
    "duration": 10,
    "start_time": "2024-03-20T18:52:21.744Z"
   },
   {
    "duration": 16,
    "start_time": "2024-03-20T18:52:44.931Z"
   },
   {
    "duration": 5,
    "start_time": "2024-03-20T18:54:55.654Z"
   },
   {
    "duration": 7,
    "start_time": "2024-03-20T18:55:03.052Z"
   },
   {
    "duration": 6,
    "start_time": "2024-03-20T18:55:08.602Z"
   },
   {
    "duration": 17,
    "start_time": "2024-03-20T18:57:30.903Z"
   },
   {
    "duration": 6,
    "start_time": "2024-03-20T18:57:44.048Z"
   },
   {
    "duration": 14,
    "start_time": "2024-03-20T18:58:11.952Z"
   },
   {
    "duration": 12,
    "start_time": "2024-03-20T19:00:09.732Z"
   },
   {
    "duration": 12,
    "start_time": "2024-03-20T19:00:27.251Z"
   },
   {
    "duration": 22,
    "start_time": "2024-03-20T19:00:31.375Z"
   },
   {
    "duration": 8,
    "start_time": "2024-03-20T19:01:41.267Z"
   },
   {
    "duration": 6,
    "start_time": "2024-03-20T19:01:49.690Z"
   },
   {
    "duration": 5,
    "start_time": "2024-03-20T19:01:55.501Z"
   },
   {
    "duration": 5,
    "start_time": "2024-03-20T19:02:01.154Z"
   },
   {
    "duration": 1247,
    "start_time": "2024-03-20T19:03:14.307Z"
   },
   {
    "duration": 130,
    "start_time": "2024-03-20T19:03:15.556Z"
   },
   {
    "duration": 30,
    "start_time": "2024-03-20T19:03:15.688Z"
   },
   {
    "duration": 14,
    "start_time": "2024-03-20T19:03:15.720Z"
   },
   {
    "duration": 128,
    "start_time": "2024-03-20T19:03:15.736Z"
   },
   {
    "duration": 15,
    "start_time": "2024-03-20T19:03:15.866Z"
   },
   {
    "duration": 44,
    "start_time": "2024-03-20T19:03:15.885Z"
   },
   {
    "duration": 59,
    "start_time": "2024-03-20T19:03:15.932Z"
   },
   {
    "duration": 13,
    "start_time": "2024-03-20T19:03:15.993Z"
   },
   {
    "duration": 80,
    "start_time": "2024-03-20T19:03:16.007Z"
   },
   {
    "duration": 37,
    "start_time": "2024-03-20T19:03:16.088Z"
   },
   {
    "duration": 21,
    "start_time": "2024-03-20T19:03:16.126Z"
   },
   {
    "duration": 36,
    "start_time": "2024-03-20T19:03:16.148Z"
   },
   {
    "duration": 98,
    "start_time": "2024-03-20T19:03:16.187Z"
   },
   {
    "duration": 39,
    "start_time": "2024-03-20T19:03:16.287Z"
   },
   {
    "duration": 70,
    "start_time": "2024-03-20T19:03:16.328Z"
   },
   {
    "duration": 189,
    "start_time": "2024-03-20T19:03:16.400Z"
   },
   {
    "duration": 21,
    "start_time": "2024-03-20T19:03:16.591Z"
   },
   {
    "duration": 69,
    "start_time": "2024-03-20T19:03:16.614Z"
   },
   {
    "duration": 17,
    "start_time": "2024-03-20T19:03:16.686Z"
   },
   {
    "duration": 59,
    "start_time": "2024-03-20T19:03:16.705Z"
   },
   {
    "duration": 39,
    "start_time": "2024-03-20T19:03:16.766Z"
   },
   {
    "duration": 83,
    "start_time": "2024-03-20T19:03:16.807Z"
   },
   {
    "duration": 33,
    "start_time": "2024-03-20T19:03:16.892Z"
   },
   {
    "duration": 61,
    "start_time": "2024-03-20T19:03:16.927Z"
   },
   {
    "duration": 27,
    "start_time": "2024-03-20T19:03:16.990Z"
   },
   {
    "duration": 33,
    "start_time": "2024-03-20T19:03:17.018Z"
   },
   {
    "duration": 4,
    "start_time": "2024-03-20T19:03:29.111Z"
   },
   {
    "duration": 81,
    "start_time": "2024-03-20T19:03:39.761Z"
   },
   {
    "duration": 5,
    "start_time": "2024-03-20T19:03:45.097Z"
   },
   {
    "duration": 104,
    "start_time": "2024-03-20T19:05:11.902Z"
   },
   {
    "duration": 1239,
    "start_time": "2024-03-20T19:05:34.380Z"
   },
   {
    "duration": 138,
    "start_time": "2024-03-20T19:05:35.621Z"
   },
   {
    "duration": 38,
    "start_time": "2024-03-20T19:05:35.761Z"
   },
   {
    "duration": 67,
    "start_time": "2024-03-20T19:05:35.800Z"
   },
   {
    "duration": 139,
    "start_time": "2024-03-20T19:05:35.871Z"
   },
   {
    "duration": 7,
    "start_time": "2024-03-20T19:05:36.011Z"
   },
   {
    "duration": 63,
    "start_time": "2024-03-20T19:05:36.020Z"
   },
   {
    "duration": 64,
    "start_time": "2024-03-20T19:05:36.085Z"
   },
   {
    "duration": 3,
    "start_time": "2024-03-20T19:05:36.151Z"
   },
   {
    "duration": 50,
    "start_time": "2024-03-20T19:05:36.155Z"
   },
   {
    "duration": 31,
    "start_time": "2024-03-20T19:05:36.206Z"
   },
   {
    "duration": 56,
    "start_time": "2024-03-20T19:05:36.239Z"
   },
   {
    "duration": 41,
    "start_time": "2024-03-20T19:05:36.296Z"
   },
   {
    "duration": 49,
    "start_time": "2024-03-20T19:05:36.340Z"
   },
   {
    "duration": 42,
    "start_time": "2024-03-20T19:05:36.391Z"
   },
   {
    "duration": 39,
    "start_time": "2024-03-20T19:05:36.435Z"
   },
   {
    "duration": 32,
    "start_time": "2024-03-20T19:05:36.478Z"
   },
   {
    "duration": 21,
    "start_time": "2024-03-20T19:05:36.512Z"
   },
   {
    "duration": 46,
    "start_time": "2024-03-20T19:05:36.534Z"
   },
   {
    "duration": 10,
    "start_time": "2024-03-20T19:05:36.582Z"
   },
   {
    "duration": 56,
    "start_time": "2024-03-20T19:05:36.594Z"
   },
   {
    "duration": 11,
    "start_time": "2024-03-20T19:05:36.652Z"
   },
   {
    "duration": 56,
    "start_time": "2024-03-20T19:05:36.665Z"
   },
   {
    "duration": 38,
    "start_time": "2024-03-20T19:05:36.723Z"
   },
   {
    "duration": 35,
    "start_time": "2024-03-20T19:05:36.763Z"
   },
   {
    "duration": 27,
    "start_time": "2024-03-20T19:05:58.841Z"
   },
   {
    "duration": 23,
    "start_time": "2024-03-20T19:06:04.394Z"
   },
   {
    "duration": 21,
    "start_time": "2024-03-20T19:06:59.510Z"
   },
   {
    "duration": 33,
    "start_time": "2024-03-20T19:07:01.151Z"
   },
   {
    "duration": 22,
    "start_time": "2024-03-20T19:07:07.842Z"
   },
   {
    "duration": 36,
    "start_time": "2024-03-20T19:07:09.169Z"
   },
   {
    "duration": 27,
    "start_time": "2024-03-20T19:10:57.061Z"
   },
   {
    "duration": 13,
    "start_time": "2024-03-20T19:10:57.090Z"
   },
   {
    "duration": 22,
    "start_time": "2024-03-20T19:10:57.105Z"
   },
   {
    "duration": 13,
    "start_time": "2024-03-20T19:10:57.130Z"
   },
   {
    "duration": 31,
    "start_time": "2024-03-20T19:10:57.144Z"
   },
   {
    "duration": 17,
    "start_time": "2024-03-20T19:10:57.177Z"
   },
   {
    "duration": 37,
    "start_time": "2024-03-20T19:10:57.196Z"
   },
   {
    "duration": 26,
    "start_time": "2024-03-20T19:10:57.235Z"
   },
   {
    "duration": 35,
    "start_time": "2024-03-20T19:10:57.263Z"
   },
   {
    "duration": 17,
    "start_time": "2024-03-20T19:10:57.300Z"
   },
   {
    "duration": 22,
    "start_time": "2024-03-20T19:10:57.318Z"
   },
   {
    "duration": 1360,
    "start_time": "2024-03-20T19:10:57.342Z"
   },
   {
    "duration": 0,
    "start_time": "2024-03-20T19:10:58.704Z"
   },
   {
    "duration": 0,
    "start_time": "2024-03-20T19:10:58.706Z"
   },
   {
    "duration": 7,
    "start_time": "2024-03-20T19:11:09.783Z"
   },
   {
    "duration": 8,
    "start_time": "2024-03-20T19:11:15.515Z"
   },
   {
    "duration": 29,
    "start_time": "2024-03-20T19:11:17.974Z"
   },
   {
    "duration": 14,
    "start_time": "2024-03-20T19:12:59.858Z"
   },
   {
    "duration": 128,
    "start_time": "2024-03-20T19:13:41.524Z"
   },
   {
    "duration": 74,
    "start_time": "2024-03-20T19:17:25.759Z"
   },
   {
    "duration": 15,
    "start_time": "2024-03-20T19:17:32.522Z"
   },
   {
    "duration": 9,
    "start_time": "2024-03-20T19:18:00.675Z"
   },
   {
    "duration": 12,
    "start_time": "2024-03-20T19:18:29.112Z"
   },
   {
    "duration": 126,
    "start_time": "2024-03-20T19:18:47.353Z"
   },
   {
    "duration": 16,
    "start_time": "2024-03-20T19:20:09.633Z"
   },
   {
    "duration": 6,
    "start_time": "2024-03-20T19:20:49.898Z"
   },
   {
    "duration": 7,
    "start_time": "2024-03-20T19:22:17.030Z"
   },
   {
    "duration": 122,
    "start_time": "2024-03-20T19:22:36.999Z"
   },
   {
    "duration": 125,
    "start_time": "2024-03-20T19:22:58.542Z"
   },
   {
    "duration": 8,
    "start_time": "2024-03-20T19:23:30.987Z"
   },
   {
    "duration": 144,
    "start_time": "2024-03-20T19:23:33.639Z"
   },
   {
    "duration": 7,
    "start_time": "2024-03-20T19:23:52.120Z"
   },
   {
    "duration": 130,
    "start_time": "2024-03-20T19:24:17.824Z"
   },
   {
    "duration": 223,
    "start_time": "2024-03-20T19:24:28.278Z"
   },
   {
    "duration": 183,
    "start_time": "2024-03-20T19:24:35.897Z"
   },
   {
    "duration": 202,
    "start_time": "2024-03-20T19:24:42.033Z"
   },
   {
    "duration": 240,
    "start_time": "2024-03-20T19:24:50.396Z"
   },
   {
    "duration": 159,
    "start_time": "2024-03-20T19:24:59.240Z"
   },
   {
    "duration": 129,
    "start_time": "2024-03-20T19:25:05.187Z"
   },
   {
    "duration": 127,
    "start_time": "2024-03-20T19:25:11.091Z"
   },
   {
    "duration": 140,
    "start_time": "2024-03-20T19:26:40.388Z"
   },
   {
    "duration": 132,
    "start_time": "2024-03-20T19:26:55.173Z"
   },
   {
    "duration": 11,
    "start_time": "2024-03-20T19:28:05.531Z"
   },
   {
    "duration": 148,
    "start_time": "2024-03-20T19:28:16.800Z"
   },
   {
    "duration": 11,
    "start_time": "2024-03-20T19:29:16.272Z"
   },
   {
    "duration": 11,
    "start_time": "2024-03-20T19:29:25.487Z"
   },
   {
    "duration": 117,
    "start_time": "2024-03-20T19:29:34.392Z"
   },
   {
    "duration": 130,
    "start_time": "2024-03-20T19:30:23.562Z"
   },
   {
    "duration": 122,
    "start_time": "2024-03-20T19:30:49.657Z"
   },
   {
    "duration": 214,
    "start_time": "2024-03-20T19:31:00.041Z"
   },
   {
    "duration": 122,
    "start_time": "2024-03-20T19:31:10.076Z"
   },
   {
    "duration": 122,
    "start_time": "2024-03-20T19:31:13.011Z"
   },
   {
    "duration": 138,
    "start_time": "2024-03-20T19:32:04.696Z"
   },
   {
    "duration": 115,
    "start_time": "2024-03-20T19:32:10.821Z"
   },
   {
    "duration": 121,
    "start_time": "2024-03-20T19:33:10.944Z"
   },
   {
    "duration": 116,
    "start_time": "2024-03-20T19:33:13.326Z"
   },
   {
    "duration": 5,
    "start_time": "2024-03-20T19:35:51.394Z"
   },
   {
    "duration": 2080,
    "start_time": "2024-03-20T19:36:55.747Z"
   },
   {
    "duration": 19,
    "start_time": "2024-03-20T19:39:28.576Z"
   },
   {
    "duration": 5,
    "start_time": "2024-03-20T19:39:46.251Z"
   },
   {
    "duration": 19,
    "start_time": "2024-03-20T19:40:05.565Z"
   },
   {
    "duration": 19,
    "start_time": "2024-03-20T19:41:47.045Z"
   },
   {
    "duration": 21,
    "start_time": "2024-03-20T19:41:56.951Z"
   },
   {
    "duration": 18,
    "start_time": "2024-03-20T19:42:12.003Z"
   },
   {
    "duration": 18,
    "start_time": "2024-03-20T19:42:47.780Z"
   },
   {
    "duration": 267,
    "start_time": "2024-03-20T19:44:36.356Z"
   },
   {
    "duration": 254,
    "start_time": "2024-03-20T19:45:23.888Z"
   },
   {
    "duration": 286,
    "start_time": "2024-03-20T19:46:35.739Z"
   },
   {
    "duration": 275,
    "start_time": "2024-03-20T19:47:06.984Z"
   },
   {
    "duration": 33,
    "start_time": "2024-03-20T19:49:28.939Z"
   },
   {
    "duration": 165,
    "start_time": "2024-03-20T19:49:44.087Z"
   },
   {
    "duration": 1195,
    "start_time": "2024-03-20T19:51:59.716Z"
   },
   {
    "duration": 38,
    "start_time": "2024-03-20T19:52:07.552Z"
   },
   {
    "duration": 10,
    "start_time": "2024-03-20T19:53:47.390Z"
   },
   {
    "duration": 11,
    "start_time": "2024-03-20T19:53:58.154Z"
   },
   {
    "duration": 32,
    "start_time": "2024-03-20T19:54:36.166Z"
   },
   {
    "duration": 8,
    "start_time": "2024-03-20T19:55:48.430Z"
   },
   {
    "duration": 1250,
    "start_time": "2024-03-20T19:55:58.354Z"
   },
   {
    "duration": 136,
    "start_time": "2024-03-20T19:56:06.331Z"
   },
   {
    "duration": 9,
    "start_time": "2024-03-20T19:57:00.503Z"
   },
   {
    "duration": 10,
    "start_time": "2024-03-20T19:57:05.607Z"
   },
   {
    "duration": 7,
    "start_time": "2024-03-20T19:57:10.560Z"
   },
   {
    "duration": 5,
    "start_time": "2024-03-20T19:57:18.073Z"
   },
   {
    "duration": 5,
    "start_time": "2024-03-20T19:57:37.042Z"
   },
   {
    "duration": 5,
    "start_time": "2024-03-20T20:08:31.541Z"
   },
   {
    "duration": 13,
    "start_time": "2024-03-20T20:08:33.301Z"
   },
   {
    "duration": 8,
    "start_time": "2024-03-20T20:09:01.041Z"
   },
   {
    "duration": 4,
    "start_time": "2024-03-20T20:09:07.864Z"
   },
   {
    "duration": 5,
    "start_time": "2024-03-20T20:09:19.651Z"
   },
   {
    "duration": 6,
    "start_time": "2024-03-20T20:09:55.440Z"
   },
   {
    "duration": 6,
    "start_time": "2024-03-20T20:10:31.695Z"
   },
   {
    "duration": 4,
    "start_time": "2024-03-20T20:10:59.520Z"
   },
   {
    "duration": 11,
    "start_time": "2024-03-20T20:11:38.611Z"
   },
   {
    "duration": 3,
    "start_time": "2024-03-20T20:12:37.014Z"
   },
   {
    "duration": 4,
    "start_time": "2024-03-20T20:12:38.678Z"
   },
   {
    "duration": 8,
    "start_time": "2024-03-20T20:12:40.096Z"
   },
   {
    "duration": 9,
    "start_time": "2024-03-20T20:13:01.902Z"
   },
   {
    "duration": 3,
    "start_time": "2024-03-20T20:13:08.292Z"
   },
   {
    "duration": 4,
    "start_time": "2024-03-20T20:13:09.812Z"
   },
   {
    "duration": 9,
    "start_time": "2024-03-20T20:13:11.609Z"
   },
   {
    "duration": 12,
    "start_time": "2024-03-20T20:13:31.831Z"
   },
   {
    "duration": 8,
    "start_time": "2024-03-20T20:13:42.483Z"
   },
   {
    "duration": 13,
    "start_time": "2024-03-20T20:15:35.218Z"
   },
   {
    "duration": 7,
    "start_time": "2024-03-20T20:15:49.506Z"
   },
   {
    "duration": 1142,
    "start_time": "2024-03-20T20:16:01.077Z"
   },
   {
    "duration": 130,
    "start_time": "2024-03-20T20:16:02.221Z"
   },
   {
    "duration": 38,
    "start_time": "2024-03-20T20:16:02.352Z"
   },
   {
    "duration": 17,
    "start_time": "2024-03-20T20:16:02.392Z"
   },
   {
    "duration": 116,
    "start_time": "2024-03-20T20:16:02.411Z"
   },
   {
    "duration": 6,
    "start_time": "2024-03-20T20:16:02.529Z"
   },
   {
    "duration": 47,
    "start_time": "2024-03-20T20:16:02.536Z"
   },
   {
    "duration": 76,
    "start_time": "2024-03-20T20:16:02.584Z"
   },
   {
    "duration": 4,
    "start_time": "2024-03-20T20:16:02.662Z"
   },
   {
    "duration": 74,
    "start_time": "2024-03-20T20:16:02.669Z"
   },
   {
    "duration": 18,
    "start_time": "2024-03-20T20:16:02.745Z"
   },
   {
    "duration": 27,
    "start_time": "2024-03-20T20:16:02.765Z"
   },
   {
    "duration": 18,
    "start_time": "2024-03-20T20:16:02.794Z"
   },
   {
    "duration": 29,
    "start_time": "2024-03-20T20:16:02.813Z"
   },
   {
    "duration": 21,
    "start_time": "2024-03-20T20:16:02.844Z"
   },
   {
    "duration": 22,
    "start_time": "2024-03-20T20:16:02.867Z"
   },
   {
    "duration": 42,
    "start_time": "2024-03-20T20:16:02.890Z"
   },
   {
    "duration": 25,
    "start_time": "2024-03-20T20:16:02.934Z"
   },
   {
    "duration": 49,
    "start_time": "2024-03-20T20:16:02.960Z"
   },
   {
    "duration": 10,
    "start_time": "2024-03-20T20:16:03.011Z"
   },
   {
    "duration": 27,
    "start_time": "2024-03-20T20:16:03.022Z"
   },
   {
    "duration": 6,
    "start_time": "2024-03-20T20:16:03.050Z"
   },
   {
    "duration": 21,
    "start_time": "2024-03-20T20:16:03.057Z"
   },
   {
    "duration": 36,
    "start_time": "2024-03-20T20:16:03.080Z"
   },
   {
    "duration": 23,
    "start_time": "2024-03-20T20:16:03.118Z"
   },
   {
    "duration": 31,
    "start_time": "2024-03-20T20:16:03.143Z"
   },
   {
    "duration": 23,
    "start_time": "2024-03-20T20:16:03.176Z"
   },
   {
    "duration": 4,
    "start_time": "2024-03-20T20:16:03.202Z"
   },
   {
    "duration": 19,
    "start_time": "2024-03-20T20:16:03.208Z"
   },
   {
    "duration": 32,
    "start_time": "2024-03-20T20:16:03.228Z"
   },
   {
    "duration": 13,
    "start_time": "2024-03-20T20:16:03.262Z"
   },
   {
    "duration": 25,
    "start_time": "2024-03-20T20:16:03.277Z"
   },
   {
    "duration": 21,
    "start_time": "2024-03-20T20:16:03.303Z"
   },
   {
    "duration": 57,
    "start_time": "2024-03-20T20:16:03.326Z"
   },
   {
    "duration": 39,
    "start_time": "2024-03-20T20:16:03.384Z"
   },
   {
    "duration": 24,
    "start_time": "2024-03-20T20:16:03.425Z"
   },
   {
    "duration": 44,
    "start_time": "2024-03-20T20:16:03.451Z"
   },
   {
    "duration": 28,
    "start_time": "2024-03-20T20:16:03.496Z"
   },
   {
    "duration": 19,
    "start_time": "2024-03-20T20:16:03.525Z"
   },
   {
    "duration": 39,
    "start_time": "2024-03-20T20:16:03.546Z"
   },
   {
    "duration": 156,
    "start_time": "2024-03-20T20:16:03.587Z"
   },
   {
    "duration": 20,
    "start_time": "2024-03-20T20:16:03.745Z"
   },
   {
    "duration": 162,
    "start_time": "2024-03-20T20:16:03.768Z"
   },
   {
    "duration": 155,
    "start_time": "2024-03-20T20:16:03.932Z"
   },
   {
    "duration": 130,
    "start_time": "2024-03-20T20:16:04.089Z"
   },
   {
    "duration": 18,
    "start_time": "2024-03-20T20:16:04.221Z"
   },
   {
    "duration": 291,
    "start_time": "2024-03-20T20:16:04.240Z"
   },
   {
    "duration": 36,
    "start_time": "2024-03-20T20:16:04.533Z"
   },
   {
    "duration": 33,
    "start_time": "2024-03-20T20:16:04.570Z"
   },
   {
    "duration": 36,
    "start_time": "2024-03-20T20:16:04.605Z"
   },
   {
    "duration": 200,
    "start_time": "2024-03-20T20:16:04.643Z"
   },
   {
    "duration": 6,
    "start_time": "2024-03-20T20:16:04.844Z"
   },
   {
    "duration": 8,
    "start_time": "2024-03-20T20:16:04.865Z"
   },
   {
    "duration": 20,
    "start_time": "2024-03-20T20:16:04.875Z"
   },
   {
    "duration": 7,
    "start_time": "2024-03-20T20:16:04.897Z"
   },
   {
    "duration": 16,
    "start_time": "2024-03-20T20:16:04.906Z"
   },
   {
    "duration": 27,
    "start_time": "2024-03-20T20:16:04.923Z"
   },
   {
    "duration": 6,
    "start_time": "2024-03-20T20:16:59.583Z"
   },
   {
    "duration": 10,
    "start_time": "2024-03-20T20:18:58.079Z"
   },
   {
    "duration": 10,
    "start_time": "2024-03-20T20:19:29.331Z"
   },
   {
    "duration": 12,
    "start_time": "2024-03-20T20:21:51.620Z"
   },
   {
    "duration": 12,
    "start_time": "2024-03-20T20:22:24.757Z"
   },
   {
    "duration": 28,
    "start_time": "2024-03-20T20:30:55.612Z"
   },
   {
    "duration": 10,
    "start_time": "2024-03-20T20:31:00.210Z"
   },
   {
    "duration": 26,
    "start_time": "2024-03-20T20:31:03.977Z"
   },
   {
    "duration": 134,
    "start_time": "2024-03-20T20:31:18.560Z"
   },
   {
    "duration": 6,
    "start_time": "2024-03-20T20:31:21.011Z"
   },
   {
    "duration": 4,
    "start_time": "2024-03-20T20:31:24.059Z"
   },
   {
    "duration": 4,
    "start_time": "2024-03-20T20:31:26.530Z"
   },
   {
    "duration": 11,
    "start_time": "2024-03-20T20:31:28.617Z"
   },
   {
    "duration": 10,
    "start_time": "2024-03-20T20:31:31.490Z"
   },
   {
    "duration": 5,
    "start_time": "2024-03-20T20:32:09.932Z"
   },
   {
    "duration": 12,
    "start_time": "2024-03-20T20:32:11.801Z"
   },
   {
    "duration": 55,
    "start_time": "2024-03-21T10:30:27.854Z"
   },
   {
    "duration": 1513,
    "start_time": "2024-03-21T10:30:40.554Z"
   },
   {
    "duration": 349,
    "start_time": "2024-03-21T10:30:42.070Z"
   },
   {
    "duration": 35,
    "start_time": "2024-03-21T10:30:42.421Z"
   },
   {
    "duration": 15,
    "start_time": "2024-03-21T10:30:42.458Z"
   },
   {
    "duration": 92,
    "start_time": "2024-03-21T10:30:42.475Z"
   },
   {
    "duration": 6,
    "start_time": "2024-03-21T10:30:42.569Z"
   },
   {
    "duration": 15,
    "start_time": "2024-03-21T10:30:42.577Z"
   },
   {
    "duration": 37,
    "start_time": "2024-03-21T10:30:42.593Z"
   },
   {
    "duration": 4,
    "start_time": "2024-03-21T10:30:42.632Z"
   },
   {
    "duration": 54,
    "start_time": "2024-03-21T10:30:42.638Z"
   },
   {
    "duration": 78,
    "start_time": "2024-03-21T10:30:42.694Z"
   },
   {
    "duration": 0,
    "start_time": "2024-03-21T10:30:42.775Z"
   },
   {
    "duration": 0,
    "start_time": "2024-03-21T10:30:42.792Z"
   },
   {
    "duration": 0,
    "start_time": "2024-03-21T10:30:42.793Z"
   },
   {
    "duration": 0,
    "start_time": "2024-03-21T10:30:42.794Z"
   },
   {
    "duration": 0,
    "start_time": "2024-03-21T10:30:42.795Z"
   },
   {
    "duration": 0,
    "start_time": "2024-03-21T10:30:42.796Z"
   },
   {
    "duration": 0,
    "start_time": "2024-03-21T10:30:42.797Z"
   },
   {
    "duration": 0,
    "start_time": "2024-03-21T10:30:42.798Z"
   },
   {
    "duration": 0,
    "start_time": "2024-03-21T10:30:42.799Z"
   },
   {
    "duration": 0,
    "start_time": "2024-03-21T10:30:42.801Z"
   },
   {
    "duration": 0,
    "start_time": "2024-03-21T10:30:42.802Z"
   },
   {
    "duration": 0,
    "start_time": "2024-03-21T10:30:42.803Z"
   },
   {
    "duration": 0,
    "start_time": "2024-03-21T10:30:42.805Z"
   },
   {
    "duration": 0,
    "start_time": "2024-03-21T10:30:42.807Z"
   },
   {
    "duration": 0,
    "start_time": "2024-03-21T10:30:42.809Z"
   },
   {
    "duration": 0,
    "start_time": "2024-03-21T10:30:42.810Z"
   },
   {
    "duration": 0,
    "start_time": "2024-03-21T10:30:42.812Z"
   },
   {
    "duration": 0,
    "start_time": "2024-03-21T10:30:42.813Z"
   },
   {
    "duration": 0,
    "start_time": "2024-03-21T10:30:42.814Z"
   },
   {
    "duration": 0,
    "start_time": "2024-03-21T10:30:42.816Z"
   },
   {
    "duration": 1,
    "start_time": "2024-03-21T10:30:42.818Z"
   },
   {
    "duration": 0,
    "start_time": "2024-03-21T10:30:42.820Z"
   },
   {
    "duration": 0,
    "start_time": "2024-03-21T10:30:42.821Z"
   },
   {
    "duration": 0,
    "start_time": "2024-03-21T10:30:42.823Z"
   },
   {
    "duration": 0,
    "start_time": "2024-03-21T10:30:42.825Z"
   },
   {
    "duration": 0,
    "start_time": "2024-03-21T10:30:42.827Z"
   },
   {
    "duration": 0,
    "start_time": "2024-03-21T10:30:42.828Z"
   },
   {
    "duration": 0,
    "start_time": "2024-03-21T10:30:42.830Z"
   },
   {
    "duration": 0,
    "start_time": "2024-03-21T10:30:42.892Z"
   },
   {
    "duration": 0,
    "start_time": "2024-03-21T10:30:42.894Z"
   },
   {
    "duration": 0,
    "start_time": "2024-03-21T10:30:42.895Z"
   },
   {
    "duration": 0,
    "start_time": "2024-03-21T10:30:42.897Z"
   },
   {
    "duration": 0,
    "start_time": "2024-03-21T10:30:42.898Z"
   },
   {
    "duration": 0,
    "start_time": "2024-03-21T10:30:42.900Z"
   },
   {
    "duration": 0,
    "start_time": "2024-03-21T10:30:42.901Z"
   },
   {
    "duration": 0,
    "start_time": "2024-03-21T10:30:42.903Z"
   },
   {
    "duration": 0,
    "start_time": "2024-03-21T10:30:42.905Z"
   },
   {
    "duration": 0,
    "start_time": "2024-03-21T10:30:42.906Z"
   },
   {
    "duration": 0,
    "start_time": "2024-03-21T10:30:42.908Z"
   },
   {
    "duration": 0,
    "start_time": "2024-03-21T10:30:42.909Z"
   },
   {
    "duration": 0,
    "start_time": "2024-03-21T10:30:42.911Z"
   },
   {
    "duration": 0,
    "start_time": "2024-03-21T10:30:42.913Z"
   },
   {
    "duration": 0,
    "start_time": "2024-03-21T10:30:42.914Z"
   },
   {
    "duration": 0,
    "start_time": "2024-03-21T10:30:42.916Z"
   },
   {
    "duration": 0,
    "start_time": "2024-03-21T10:30:42.917Z"
   },
   {
    "duration": 0,
    "start_time": "2024-03-21T10:30:42.919Z"
   },
   {
    "duration": 0,
    "start_time": "2024-03-21T10:30:42.920Z"
   },
   {
    "duration": 0,
    "start_time": "2024-03-21T10:30:42.921Z"
   },
   {
    "duration": 83,
    "start_time": "2024-03-21T10:32:42.165Z"
   },
   {
    "duration": 78,
    "start_time": "2024-03-21T10:32:45.819Z"
   },
   {
    "duration": 16,
    "start_time": "2024-03-21T10:33:58.939Z"
   },
   {
    "duration": 17,
    "start_time": "2024-03-21T10:34:04.834Z"
   },
   {
    "duration": 1235,
    "start_time": "2024-03-21T10:34:12.206Z"
   },
   {
    "duration": 143,
    "start_time": "2024-03-21T10:34:13.443Z"
   },
   {
    "duration": 35,
    "start_time": "2024-03-21T10:34:13.588Z"
   },
   {
    "duration": 15,
    "start_time": "2024-03-21T10:34:13.624Z"
   },
   {
    "duration": 107,
    "start_time": "2024-03-21T10:34:13.640Z"
   },
   {
    "duration": 6,
    "start_time": "2024-03-21T10:34:13.749Z"
   },
   {
    "duration": 12,
    "start_time": "2024-03-21T10:34:13.757Z"
   },
   {
    "duration": 51,
    "start_time": "2024-03-21T10:34:13.770Z"
   },
   {
    "duration": 4,
    "start_time": "2024-03-21T10:34:13.822Z"
   },
   {
    "duration": 37,
    "start_time": "2024-03-21T10:34:13.828Z"
   },
   {
    "duration": 112,
    "start_time": "2024-03-21T10:34:17.228Z"
   },
   {
    "duration": 395,
    "start_time": "2024-03-21T10:34:46.703Z"
   },
   {
    "duration": 13,
    "start_time": "2024-03-21T10:35:23.987Z"
   },
   {
    "duration": 12,
    "start_time": "2024-03-21T10:37:42.628Z"
   },
   {
    "duration": 5,
    "start_time": "2024-03-21T10:37:46.040Z"
   },
   {
    "duration": 18,
    "start_time": "2024-03-21T10:38:00.004Z"
   },
   {
    "duration": 24,
    "start_time": "2024-03-21T10:45:21.221Z"
   },
   {
    "duration": 4,
    "start_time": "2024-03-21T10:45:25.649Z"
   },
   {
    "duration": 145,
    "start_time": "2024-03-21T10:45:25.655Z"
   },
   {
    "duration": 29,
    "start_time": "2024-03-21T10:45:25.802Z"
   },
   {
    "duration": 15,
    "start_time": "2024-03-21T10:45:25.833Z"
   },
   {
    "duration": 114,
    "start_time": "2024-03-21T10:45:25.850Z"
   },
   {
    "duration": 7,
    "start_time": "2024-03-21T10:45:25.966Z"
   },
   {
    "duration": 18,
    "start_time": "2024-03-21T10:45:25.974Z"
   },
   {
    "duration": 59,
    "start_time": "2024-03-21T10:45:25.994Z"
   },
   {
    "duration": 5,
    "start_time": "2024-03-21T10:45:26.057Z"
   },
   {
    "duration": 85,
    "start_time": "2024-03-21T10:45:26.064Z"
   },
   {
    "duration": 9,
    "start_time": "2024-03-21T10:45:26.150Z"
   },
   {
    "duration": 22,
    "start_time": "2024-03-21T10:45:26.161Z"
   },
   {
    "duration": 19,
    "start_time": "2024-03-21T10:45:26.184Z"
   },
   {
    "duration": 23,
    "start_time": "2024-03-21T10:45:26.204Z"
   },
   {
    "duration": 24,
    "start_time": "2024-03-21T10:45:26.228Z"
   },
   {
    "duration": 25,
    "start_time": "2024-03-21T10:45:26.253Z"
   },
   {
    "duration": 29,
    "start_time": "2024-03-21T10:45:26.279Z"
   },
   {
    "duration": 8,
    "start_time": "2024-03-21T10:45:26.310Z"
   },
   {
    "duration": 39,
    "start_time": "2024-03-21T10:45:26.319Z"
   },
   {
    "duration": 41,
    "start_time": "2024-03-21T10:45:26.360Z"
   },
   {
    "duration": 8,
    "start_time": "2024-03-21T10:45:26.403Z"
   },
   {
    "duration": 36,
    "start_time": "2024-03-21T10:45:26.413Z"
   },
   {
    "duration": 12,
    "start_time": "2024-03-21T10:45:26.451Z"
   },
   {
    "duration": 35,
    "start_time": "2024-03-21T10:45:26.466Z"
   },
   {
    "duration": 6,
    "start_time": "2024-03-21T10:45:26.503Z"
   },
   {
    "duration": 34,
    "start_time": "2024-03-21T10:45:26.511Z"
   },
   {
    "duration": 26,
    "start_time": "2024-03-21T10:45:26.547Z"
   },
   {
    "duration": 27,
    "start_time": "2024-03-21T10:45:26.574Z"
   },
   {
    "duration": 24,
    "start_time": "2024-03-21T10:45:26.602Z"
   },
   {
    "duration": 26,
    "start_time": "2024-03-21T10:45:26.627Z"
   },
   {
    "duration": 8,
    "start_time": "2024-03-21T10:45:26.655Z"
   },
   {
    "duration": 27,
    "start_time": "2024-03-21T10:45:26.665Z"
   },
   {
    "duration": 34,
    "start_time": "2024-03-21T10:45:26.694Z"
   },
   {
    "duration": 24,
    "start_time": "2024-03-21T10:45:26.729Z"
   },
   {
    "duration": 16,
    "start_time": "2024-03-21T10:45:26.754Z"
   },
   {
    "duration": 16,
    "start_time": "2024-03-21T10:45:26.771Z"
   },
   {
    "duration": 6,
    "start_time": "2024-03-21T10:45:26.789Z"
   },
   {
    "duration": 11,
    "start_time": "2024-03-21T10:45:26.797Z"
   },
   {
    "duration": 23,
    "start_time": "2024-03-21T10:45:26.810Z"
   },
   {
    "duration": 27,
    "start_time": "2024-03-21T10:45:26.835Z"
   },
   {
    "duration": 14,
    "start_time": "2024-03-21T10:45:26.864Z"
   },
   {
    "duration": 7,
    "start_time": "2024-03-21T10:45:26.879Z"
   },
   {
    "duration": 16,
    "start_time": "2024-03-21T10:45:29.409Z"
   },
   {
    "duration": 183,
    "start_time": "2024-03-21T10:46:43.296Z"
   },
   {
    "duration": 143,
    "start_time": "2024-03-21T10:46:47.696Z"
   },
   {
    "duration": 9,
    "start_time": "2024-03-21T10:47:30.566Z"
   },
   {
    "duration": 156,
    "start_time": "2024-03-21T10:47:35.715Z"
   },
   {
    "duration": 159,
    "start_time": "2024-03-21T10:47:39.872Z"
   },
   {
    "duration": 171,
    "start_time": "2024-03-21T10:48:01.835Z"
   },
   {
    "duration": 150,
    "start_time": "2024-03-21T10:48:08.360Z"
   },
   {
    "duration": 226,
    "start_time": "2024-03-21T10:48:25.338Z"
   },
   {
    "duration": 140,
    "start_time": "2024-03-21T10:48:33.339Z"
   },
   {
    "duration": 130,
    "start_time": "2024-03-21T10:48:37.556Z"
   },
   {
    "duration": 158,
    "start_time": "2024-03-21T10:49:12.747Z"
   },
   {
    "duration": 163,
    "start_time": "2024-03-21T10:49:36.275Z"
   },
   {
    "duration": 24,
    "start_time": "2024-03-21T10:52:10.851Z"
   },
   {
    "duration": 291,
    "start_time": "2024-03-21T10:52:13.681Z"
   },
   {
    "duration": 294,
    "start_time": "2024-03-21T10:53:10.501Z"
   },
   {
    "duration": 250,
    "start_time": "2024-03-21T10:53:49.287Z"
   },
   {
    "duration": 261,
    "start_time": "2024-03-21T10:53:58.186Z"
   },
   {
    "duration": 271,
    "start_time": "2024-03-21T10:54:18.285Z"
   },
   {
    "duration": 388,
    "start_time": "2024-03-21T10:54:35.268Z"
   },
   {
    "duration": 262,
    "start_time": "2024-03-21T10:54:40.084Z"
   },
   {
    "duration": 297,
    "start_time": "2024-03-21T10:54:46.348Z"
   },
   {
    "duration": 258,
    "start_time": "2024-03-21T10:54:50.718Z"
   },
   {
    "duration": 259,
    "start_time": "2024-03-21T10:54:59.386Z"
   },
   {
    "duration": 274,
    "start_time": "2024-03-21T10:55:04.658Z"
   },
   {
    "duration": 251,
    "start_time": "2024-03-21T10:55:12.514Z"
   },
   {
    "duration": 278,
    "start_time": "2024-03-21T10:55:16.302Z"
   },
   {
    "duration": 266,
    "start_time": "2024-03-21T10:55:24.226Z"
   },
   {
    "duration": 1285,
    "start_time": "2024-03-21T10:57:16.506Z"
   },
   {
    "duration": 136,
    "start_time": "2024-03-21T10:57:17.793Z"
   },
   {
    "duration": 33,
    "start_time": "2024-03-21T10:57:17.931Z"
   },
   {
    "duration": 15,
    "start_time": "2024-03-21T10:57:17.966Z"
   },
   {
    "duration": 96,
    "start_time": "2024-03-21T10:57:17.984Z"
   },
   {
    "duration": 11,
    "start_time": "2024-03-21T10:57:18.081Z"
   },
   {
    "duration": 7,
    "start_time": "2024-03-21T10:57:18.094Z"
   },
   {
    "duration": 59,
    "start_time": "2024-03-21T10:57:18.103Z"
   },
   {
    "duration": 3,
    "start_time": "2024-03-21T10:57:18.164Z"
   },
   {
    "duration": 43,
    "start_time": "2024-03-21T10:57:18.169Z"
   },
   {
    "duration": 7,
    "start_time": "2024-03-21T10:57:18.214Z"
   },
   {
    "duration": 56,
    "start_time": "2024-03-21T10:57:18.223Z"
   },
   {
    "duration": 31,
    "start_time": "2024-03-21T10:57:18.281Z"
   },
   {
    "duration": 55,
    "start_time": "2024-03-21T10:57:18.314Z"
   },
   {
    "duration": 45,
    "start_time": "2024-03-21T10:57:18.371Z"
   },
   {
    "duration": 53,
    "start_time": "2024-03-21T10:57:18.418Z"
   },
   {
    "duration": 62,
    "start_time": "2024-03-21T10:57:18.473Z"
   },
   {
    "duration": 37,
    "start_time": "2024-03-21T10:57:18.537Z"
   },
   {
    "duration": 53,
    "start_time": "2024-03-21T10:57:18.576Z"
   },
   {
    "duration": 37,
    "start_time": "2024-03-21T10:57:18.631Z"
   },
   {
    "duration": 35,
    "start_time": "2024-03-21T10:57:18.669Z"
   },
   {
    "duration": 47,
    "start_time": "2024-03-21T10:57:18.706Z"
   },
   {
    "duration": 19,
    "start_time": "2024-03-21T10:57:18.755Z"
   },
   {
    "duration": 53,
    "start_time": "2024-03-21T10:57:18.776Z"
   },
   {
    "duration": 8,
    "start_time": "2024-03-21T10:57:18.831Z"
   },
   {
    "duration": 45,
    "start_time": "2024-03-21T10:57:18.841Z"
   },
   {
    "duration": 41,
    "start_time": "2024-03-21T10:57:18.888Z"
   },
   {
    "duration": 28,
    "start_time": "2024-03-21T10:57:18.930Z"
   },
   {
    "duration": 37,
    "start_time": "2024-03-21T10:57:18.959Z"
   },
   {
    "duration": 28,
    "start_time": "2024-03-21T10:57:18.998Z"
   },
   {
    "duration": 9,
    "start_time": "2024-03-21T10:57:19.027Z"
   },
   {
    "duration": 16,
    "start_time": "2024-03-21T10:57:19.037Z"
   },
   {
    "duration": 37,
    "start_time": "2024-03-21T10:57:19.055Z"
   },
   {
    "duration": 32,
    "start_time": "2024-03-21T10:57:19.094Z"
   },
   {
    "duration": 29,
    "start_time": "2024-03-21T10:57:19.127Z"
   },
   {
    "duration": 40,
    "start_time": "2024-03-21T10:57:19.158Z"
   },
   {
    "duration": 46,
    "start_time": "2024-03-21T10:57:19.200Z"
   },
   {
    "duration": 28,
    "start_time": "2024-03-21T10:57:19.248Z"
   },
   {
    "duration": 40,
    "start_time": "2024-03-21T10:57:19.278Z"
   },
   {
    "duration": 45,
    "start_time": "2024-03-21T10:57:19.320Z"
   },
   {
    "duration": 20,
    "start_time": "2024-03-21T10:57:19.370Z"
   },
   {
    "duration": 10,
    "start_time": "2024-03-21T10:57:19.392Z"
   },
   {
    "duration": 27,
    "start_time": "2024-03-21T10:57:19.403Z"
   },
   {
    "duration": 168,
    "start_time": "2024-03-21T10:57:19.431Z"
   },
   {
    "duration": 7,
    "start_time": "2024-03-21T10:57:19.600Z"
   },
   {
    "duration": 223,
    "start_time": "2024-03-21T10:57:19.609Z"
   },
   {
    "duration": 183,
    "start_time": "2024-03-21T10:57:19.834Z"
   },
   {
    "duration": 176,
    "start_time": "2024-03-21T10:57:20.019Z"
   },
   {
    "duration": 20,
    "start_time": "2024-03-21T10:57:20.197Z"
   },
   {
    "duration": 313,
    "start_time": "2024-03-21T10:57:20.219Z"
   },
   {
    "duration": 31,
    "start_time": "2024-03-21T10:57:20.534Z"
   },
   {
    "duration": 9,
    "start_time": "2024-03-21T10:57:20.567Z"
   },
   {
    "duration": 50,
    "start_time": "2024-03-21T10:57:20.578Z"
   },
   {
    "duration": 225,
    "start_time": "2024-03-21T10:57:20.630Z"
   },
   {
    "duration": 5,
    "start_time": "2024-03-21T10:57:20.857Z"
   },
   {
    "duration": 13,
    "start_time": "2024-03-21T10:57:20.864Z"
   },
   {
    "duration": 31,
    "start_time": "2024-03-21T10:57:20.878Z"
   },
   {
    "duration": 35,
    "start_time": "2024-03-21T10:57:20.911Z"
   },
   {
    "duration": 41,
    "start_time": "2024-03-21T10:57:20.947Z"
   },
   {
    "duration": 24,
    "start_time": "2024-03-21T10:57:20.990Z"
   },
   {
    "duration": 31,
    "start_time": "2024-03-21T10:57:21.016Z"
   }
  ],
  "colab": {
   "name": "DA+. Сборный проект 1. Шаблон (1).ipynb",
   "provenance": []
  },
  "kernelspec": {
   "display_name": "Python 3 (ipykernel)",
   "language": "python",
   "name": "python3"
  },
  "language_info": {
   "codemirror_mode": {
    "name": "ipython",
    "version": 3
   },
   "file_extension": ".py",
   "mimetype": "text/x-python",
   "name": "python",
   "nbconvert_exporter": "python",
   "pygments_lexer": "ipython3",
   "version": "3.11.7"
  },
  "toc": {
   "base_numbering": 1,
   "nav_menu": {},
   "number_sections": true,
   "sideBar": true,
   "skip_h1_title": true,
   "title_cell": "Table of Contents",
   "title_sidebar": "Contents",
   "toc_cell": false,
   "toc_position": {
    "height": "calc(100% - 180px)",
    "left": "10px",
    "top": "150px",
    "width": "375.391px"
   },
   "toc_section_display": true,
   "toc_window_display": false
  }
 },
 "nbformat": 4,
 "nbformat_minor": 4
}
