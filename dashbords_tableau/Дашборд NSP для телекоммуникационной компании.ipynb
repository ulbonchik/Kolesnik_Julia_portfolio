{
 "cells": [
  {
   "cell_type": "markdown",
   "id": "cea446df",
   "metadata": {},
   "source": [
    "**Задача:**\n",
    "\n",
    "Определить текущий уровень потребительской лояльности, или NPS (от англ. Net Promoter Score), среди клиентов из России. \n",
    "\n",
    "**Заказчик:**\n",
    "\n",
    "Большая телекоммуникационная компания, которая оказывает услуги на территории всего СНГ.\n",
    "\n",
    "**Описание данных**\n",
    "- Таблица `user`. Содержит основную информацию о клиентах.\n",
    "    - `user_id` —\tИдентификатор клиента, первичный ключ таблицы\n",
    "    - `lt_day` —\tКоличество дней «жизни» клиента\n",
    "    - `age`—\tВозраст клиента в годах\n",
    "    - `gender_segment` —\tПол клиента (1 – женщина, 0 – мужчина)\n",
    "    - `os_name` —\tТип операционной системы\n",
    "    - `cpe_type_name` —\tТип устройства\n",
    "    - `location_id` —\tИдентификатор домашнего региона клиента, внешний ключ, отсылающий к таблице location\n",
    "    - `age_gr_id` —\tИдентификатор возрастного сегмента клиента, внешний ключ, отсылающий к таблице age_segment\n",
    "    - `tr_gr_id` —\tИдентификатор сегмента клиента по объёму потребляемого трафика в месяц, внешний ключ, отсылающий к таблице traffic_segment\n",
    "    - `lt_gr_id` —\tИдентификатор сегмента клиента по количеству месяцев «жизни», внешний ключ, отсылающий к таблице lifetime_segment\n",
    "    - `nps_score` — Оценка клиента в NPS-опросе (от 1 до 10)\n",
    "    \n",
    "- Таблица `location`. Справочник территорий, в которых телеком-компания оказывает услуги.\n",
    "    - `location_id` —\tИдентификатор записи, первичный ключ\n",
    "    - `country` —\tСтрана\n",
    "    - `city` —\tГород\n",
    "    \n",
    "- Таблица `age_segment`. Данные о возрастных сегментах клиентов.\n",
    "    - `age_gr_id` —\tИдентификатор сегмента, первичный ключ\n",
    "    - `bucket_min` —\tМинимальная граница сегмента\n",
    "    - `bucket_max` — \tМаксимальная граница сегмента\n",
    "    - `title` —\tНазвание сегмента\n",
    "    \n",
    "- Таблица `traffic_segment`. Данные о выделяемых сегментах по объёму потребляемого трафика.\n",
    "    - `tr_gr_id` —\tИдентификатор сегмента, первичный ключ\n",
    "    - `bucket_min` —\tМинимальная граница сегмента\n",
    "    - `bucket_max` —\tМаксимальная граница сегмента\n",
    "    - `title` —\tНазвание сегмента\n",
    "    \n",
    "- Таблица `lifetime_segment`. Данные о выделяемых сегментах по количеству месяцев «жизни» клиента — лайфтайму.\n",
    "    - `lt_gr_id` —\tИдентификатор сегмента, первичный ключ\n",
    "    - `bucket_min` —\tМинимальная граница сегмента\n",
    "    - `bucket_max` —\tМаксимальная граница сегмента\n",
    "    - `title` —\tНазвание сегмента\n"
   ]
  },
  {
   "cell_type": "markdown",
   "id": "246cf0f0",
   "metadata": {},
   "source": [
    "**Этапы исследования**\n",
    "\n",
    "[Шаг 1. Подключение к базе](#connect)\n",
    "\n",
    "[Шаг 2. Выгрузка данных](#data)\n",
    "Задача: Преобразовывать данные без Python. Только с помощью SQL-запросов. \n",
    "Выгрузить поля:\n",
    "- `user_id` —\tИдентификатор клиента\n",
    "- `lt_day`\t — Количество дней «жизни» клиента\n",
    "- `is_new`\t — Поле хранит информацию о том, является ли клиент новым\n",
    "- `age`\t — Возраст\n",
    "- `gender_segment`\t — Пол (для удобства работы с полем преобразуйте значения в текстовый вид)\n",
    "- `os_name`\t — Тип операционной системы\n",
    "- `cpe_type_name`\t — Тип устройства\n",
    "- `country`\t — Страна проживания\n",
    "- `city`\t — Город проживания\n",
    "- `age_segment`\t — Возрастной сегмент\n",
    "- `traffic_segment`\t — Сегмент по объёму потребляемого трафика\n",
    "- `lifetime_segment`\t — Сегмент по количеству дней «жизни»\n",
    "- `nps_score`\t — Оценка клиента в NPS-опросе\n",
    "- `nps_group`\t — Поле хранит информацию о том, к какой группе относится оценка клиента в опросе\n",
    "\n",
    "[Шаг 3. Создание дашборда в Tableau](#dashbord)\n",
    "\n",
    "Построить дашборд, который представит информацию о текущем уровне NPS среди клиентов и покажет, как этот уровень меняется в зависимости от пользовательских признаков. \n",
    "\n",
    "Из дашборда должно быть понятно, какие группы пользователей участвовали в опросе.\n",
    "\n",
    "[Шаг 4. Создание презентации с ответами на следующие вопросы:](#presentation)\n",
    "- Как распределены участники опроса по возрасту и полу? Каких пользователей больше: новых или старых? Пользователи из каких городов активнее участвовали в опросе?\n",
    "- Какие группы пользователей наиболее лояльны к сервису? Какие менее?\n",
    "- Какой общий NPS среди всех опрошенных?\n",
    "- Как можно описать клиентов, которые относятся к группе cторонников (англ. promoters)?\n"
   ]
  },
  {
   "cell_type": "markdown",
   "id": "6fe77e0b",
   "metadata": {},
   "source": [
    "<a id=\"connect\"></a> \n",
    "<h2>Шаг. Подключение к базе</h2>"
   ]
  },
  {
   "cell_type": "code",
   "execution_count": 1,
   "id": "fc7efa54",
   "metadata": {},
   "outputs": [],
   "source": [
    "import os\n",
    "import pandas as pd\n",
    "import numpy as np\n",
    "\n",
    "from sqlalchemy import create_engine"
   ]
  },
  {
   "cell_type": "code",
   "execution_count": 2,
   "id": "0017f8e7",
   "metadata": {},
   "outputs": [],
   "source": [
    "# путь к БД на компьютере \n",
    "path_to_db_local = 'telecomm_csi.db'\n",
    "# путь к БД на платформе\n",
    "path_to_db_platform = '/datasets/telecomm_csi.db'\n",
    "# итоговый путь к БД\n",
    "path_to_db = None\n",
    "# если путь на компьютере ведёт к БД, то он становится итоговым\n",
    "if os.path.exists(path_to_db_local):\n",
    "    path_to_db = path_to_db_local\n",
    "# иначе: если путь на платформе ведёт к БД, то он становится итоговым\n",
    "elif os.path.exists(path_to_db_platform):\n",
    "    path_to_db = path_to_db_platform\n",
    "# иначе выводится сообщение о том, что файл не найден\n",
    "else:\n",
    "    raise Exception('Файл с базой данных SQLite не найден!')\n",
    "# если итоговый путь не пустой\n",
    "if path_to_db:\n",
    "        # то создаём подключение к базе\n",
    "    engine = create_engine(f'sqlite:///{path_to_db}', echo=False)"
   ]
  },
  {
   "cell_type": "markdown",
   "id": "5d00fcff",
   "metadata": {},
   "source": [
    "<a id=\"data\"></a> \n",
    "<h2>Шаг. Выгрузка данных</h2>"
   ]
  },
  {
   "cell_type": "code",
   "execution_count": 3,
   "id": "786e9324",
   "metadata": {},
   "outputs": [],
   "source": [
    "# Проверка значений nps_score на диапазон от 1 до 10\n",
    "query_nps_score = \"\"\"\n",
    "SELECT *\n",
    "FROM user\n",
    "WHERE nps_score < 1 OR nps_score > 10;\n",
    "\"\"\""
   ]
  },
  {
   "cell_type": "code",
   "execution_count": 4,
   "id": "6459b67f",
   "metadata": {},
   "outputs": [
    {
     "name": "stdout",
     "output_type": "stream",
     "text": [
      "Все значения nps_score находятся в диапазоне 1-10\n"
     ]
    }
   ],
   "source": [
    "nps_out_of_range = pd.read_sql(query_nps_score, engine)\n",
    "if not nps_out_of_range.empty:\n",
    "    print(\"Есть значения nps_score вне диапазона 1-10\")\n",
    "else:\n",
    "    print(\"Все значения nps_score находятся в диапазоне 1-10\")"
   ]
  },
  {
   "cell_type": "code",
   "execution_count": 5,
   "id": "cab2a05a",
   "metadata": {},
   "outputs": [],
   "source": [
    "# Проверка дубликатов в поле city (учитывая регистр и пробелы)\n",
    "query_duplicates_city = \"\"\"\n",
    "SELECT LOWER(TRIM(city)) AS normalized_city, COUNT(*)\n",
    "FROM location\n",
    "GROUP BY normalized_city\n",
    "HAVING COUNT(*) > 1;\n",
    "\"\"\""
   ]
  },
  {
   "cell_type": "code",
   "execution_count": 6,
   "id": "e6fcee68",
   "metadata": {},
   "outputs": [
    {
     "name": "stdout",
     "output_type": "stream",
     "text": [
      "Нет неявных дубликатов городов\n"
     ]
    }
   ],
   "source": [
    "duplicates_city = pd.read_sql(query_duplicates_city, engine)\n",
    "if not duplicates_city.empty:\n",
    "    print(\"Есть потенциальные дубликаты городов:\")\n",
    "    print(duplicates_city.head())\n",
    "else:\n",
    "    print(\"Нет неявных дубликатов городов\")"
   ]
  },
  {
   "cell_type": "code",
   "execution_count": 7,
   "id": "02caaa97",
   "metadata": {},
   "outputs": [],
   "source": [
    "# Проверка отрицательных значений в age\n",
    "query_negative_age = \"\"\"\n",
    "SELECT *\n",
    "FROM user\n",
    "WHERE age < 0;\n",
    "\"\"\""
   ]
  },
  {
   "cell_type": "code",
   "execution_count": 8,
   "id": "08be04ad",
   "metadata": {},
   "outputs": [
    {
     "name": "stdout",
     "output_type": "stream",
     "text": [
      "Нет отрицательных значений в поле age\n"
     ]
    }
   ],
   "source": [
    "negative_age = pd.read_sql(query_negative_age, engine)\n",
    "if not negative_age.empty:\n",
    "    print(\"Есть отрицательные значения в поле age\")\n",
    "else:\n",
    "    print(\"Нет отрицательных значений в поле age\")"
   ]
  },
  {
   "cell_type": "code",
   "execution_count": 9,
   "id": "84ebad43",
   "metadata": {},
   "outputs": [],
   "source": [
    "query = \"\"\"\n",
    "    SELECT u.user_id,\n",
    "       u.lt_day,\n",
    "       CASE\n",
    "           WHEN u.lt_day <= 365 THEN 'TRUE'\n",
    "           ELSE 'FALSE'\n",
    "       END AS is_new,\n",
    "       u.age,\n",
    "       CASE \n",
    "           WHEN u.gender_segment = 1 THEN 'женщина'\n",
    "           WHEN u.gender_segment = 0 THEN 'мужчина'\n",
    "           ELSE 'другой'\n",
    "       END AS gender_segment,\n",
    "       u.os_name,\n",
    "       u.cpe_type_name,\n",
    "       l.country,\n",
    "       l.city,\n",
    "       SUBSTRING (a.title, 3 )AS age_segment,\n",
    "       SUBSTRING (t.title,3) AS traffic_segment,\n",
    "       SUBSTRING (lf.title,3) AS lifetime_segment,\n",
    "       u.nps_score,\n",
    "       CASE \n",
    "           WHEN u.nps_score >= 9 THEN 'сторонники'\n",
    "           WHEN u.nps_score >= 7 THEN 'нейтралы'\n",
    "           ELSE 'критики'\n",
    "       END AS nps_group\n",
    "FROM user AS u\n",
    "JOIN location AS l ON u.location_id = l.location_id\n",
    "JOIN age_segment AS a ON u.age_gr_id = a.age_gr_id\n",
    "JOIN traffic_segment AS t ON u.tr_gr_id = t.tr_gr_id\n",
    "JOIN lifetime_segment AS lf ON u.lt_gr_id = lf.lt_gr_id;\n",
    "    \"\"\""
   ]
  },
  {
   "cell_type": "code",
   "execution_count": 10,
   "id": "3965faf2",
   "metadata": {},
   "outputs": [
    {
     "data": {
      "text/html": [
       "<div>\n",
       "<style scoped>\n",
       "    .dataframe tbody tr th:only-of-type {\n",
       "        vertical-align: middle;\n",
       "    }\n",
       "\n",
       "    .dataframe tbody tr th {\n",
       "        vertical-align: top;\n",
       "    }\n",
       "\n",
       "    .dataframe thead th {\n",
       "        text-align: right;\n",
       "    }\n",
       "</style>\n",
       "<table border=\"1\" class=\"dataframe\">\n",
       "  <thead>\n",
       "    <tr style=\"text-align: right;\">\n",
       "      <th></th>\n",
       "      <th>user_id</th>\n",
       "      <th>lt_day</th>\n",
       "      <th>is_new</th>\n",
       "      <th>age</th>\n",
       "      <th>gender_segment</th>\n",
       "      <th>os_name</th>\n",
       "      <th>cpe_type_name</th>\n",
       "      <th>country</th>\n",
       "      <th>city</th>\n",
       "      <th>age_segment</th>\n",
       "      <th>traffic_segment</th>\n",
       "      <th>lifetime_segment</th>\n",
       "      <th>nps_score</th>\n",
       "      <th>nps_group</th>\n",
       "    </tr>\n",
       "  </thead>\n",
       "  <tbody>\n",
       "    <tr>\n",
       "      <th>0</th>\n",
       "      <td>A001A2</td>\n",
       "      <td>2320</td>\n",
       "      <td>FALSE</td>\n",
       "      <td>45.0</td>\n",
       "      <td>женщина</td>\n",
       "      <td>ANDROID</td>\n",
       "      <td>SMARTPHONE</td>\n",
       "      <td>Россия</td>\n",
       "      <td>Уфа</td>\n",
       "      <td>45-54</td>\n",
       "      <td>1-5</td>\n",
       "      <td>36+</td>\n",
       "      <td>10</td>\n",
       "      <td>сторонники</td>\n",
       "    </tr>\n",
       "    <tr>\n",
       "      <th>1</th>\n",
       "      <td>A001WF</td>\n",
       "      <td>2344</td>\n",
       "      <td>FALSE</td>\n",
       "      <td>53.0</td>\n",
       "      <td>мужчина</td>\n",
       "      <td>ANDROID</td>\n",
       "      <td>SMARTPHONE</td>\n",
       "      <td>Россия</td>\n",
       "      <td>Киров</td>\n",
       "      <td>45-54</td>\n",
       "      <td>1-5</td>\n",
       "      <td>36+</td>\n",
       "      <td>10</td>\n",
       "      <td>сторонники</td>\n",
       "    </tr>\n",
       "    <tr>\n",
       "      <th>2</th>\n",
       "      <td>A003Q7</td>\n",
       "      <td>467</td>\n",
       "      <td>FALSE</td>\n",
       "      <td>57.0</td>\n",
       "      <td>мужчина</td>\n",
       "      <td>ANDROID</td>\n",
       "      <td>SMARTPHONE</td>\n",
       "      <td>Россия</td>\n",
       "      <td>Москва</td>\n",
       "      <td>55-64</td>\n",
       "      <td>20-25</td>\n",
       "      <td>13-24</td>\n",
       "      <td>10</td>\n",
       "      <td>сторонники</td>\n",
       "    </tr>\n",
       "  </tbody>\n",
       "</table>\n",
       "</div>"
      ],
      "text/plain": [
       "  user_id  lt_day is_new   age gender_segment  os_name cpe_type_name country  \\\n",
       "0  A001A2    2320  FALSE  45.0        женщина  ANDROID    SMARTPHONE  Россия   \n",
       "1  A001WF    2344  FALSE  53.0        мужчина  ANDROID    SMARTPHONE  Россия   \n",
       "2  A003Q7     467  FALSE  57.0        мужчина  ANDROID    SMARTPHONE  Россия   \n",
       "\n",
       "     city age_segment traffic_segment lifetime_segment  nps_score   nps_group  \n",
       "0     Уфа       45-54             1-5              36+         10  сторонники  \n",
       "1   Киров       45-54             1-5              36+         10  сторонники  \n",
       "2  Москва       55-64           20-25            13-24         10  сторонники  "
      ]
     },
     "execution_count": 10,
     "metadata": {},
     "output_type": "execute_result"
    }
   ],
   "source": [
    "# создаём датафрейм по данным запроса\n",
    "df = pd.read_sql(query, engine)\n",
    "df.head(3)"
   ]
  },
  {
   "cell_type": "code",
   "execution_count": 11,
   "id": "9db04858",
   "metadata": {},
   "outputs": [],
   "source": [
    "df.to_csv('telecomm_csi_tableau.csv', index=False)"
   ]
  },
  {
   "cell_type": "markdown",
   "id": "41e0be9e",
   "metadata": {},
   "source": [
    "<a id=\"dashbord\"></a> \n",
    "<h2>Шаг. Создание дешборда</h2>\n",
    "\n",
    "https://public.tableau.com/views/2_17182067598550/NPS_3?:language=en-US&publish=yes&:sid=&:display_count=n&:origin=viz_share_link"
   ]
  },
  {
   "cell_type": "markdown",
   "id": "77dbbcdc",
   "metadata": {},
   "source": [
    "<a id=\"presentation\"></a> \n",
    "<h2>Шаг. Создание презентации</h2>\n",
    "\n",
    "https://public.tableau.com/shared/MF824FQX9?:display_count=n&:origin=viz_share_link"
   ]
  }
 ],
 "metadata": {
  "ExecuteTimeLog": [
   {
    "duration": 78,
    "start_time": "2024-06-11T20:08:50.749Z"
   },
   {
    "duration": 91,
    "start_time": "2024-06-11T20:09:41.516Z"
   },
   {
    "duration": 493,
    "start_time": "2024-06-12T12:25:32.284Z"
   },
   {
    "duration": 69,
    "start_time": "2024-06-12T12:25:33.957Z"
   },
   {
    "duration": 3,
    "start_time": "2024-06-12T12:25:37.691Z"
   },
   {
    "duration": 447,
    "start_time": "2024-06-12T12:25:41.905Z"
   },
   {
    "duration": 2,
    "start_time": "2024-06-12T12:26:39.883Z"
   },
   {
    "duration": 347,
    "start_time": "2024-06-12T12:26:41.542Z"
   },
   {
    "duration": 2,
    "start_time": "2024-06-12T12:31:02.664Z"
   },
   {
    "duration": 60,
    "start_time": "2024-06-12T12:31:04.986Z"
   },
   {
    "duration": 3,
    "start_time": "2024-06-12T12:31:07.554Z"
   },
   {
    "duration": 350,
    "start_time": "2024-06-12T12:31:09.005Z"
   },
   {
    "duration": 517,
    "start_time": "2024-06-12T12:31:32.365Z"
   },
   {
    "duration": 56,
    "start_time": "2024-06-12T12:31:34.498Z"
   },
   {
    "duration": 3,
    "start_time": "2024-06-12T12:31:38.519Z"
   },
   {
    "duration": 446,
    "start_time": "2024-06-12T12:31:44.253Z"
   },
   {
    "duration": 2,
    "start_time": "2024-06-12T12:32:40.388Z"
   },
   {
    "duration": 4397,
    "start_time": "2024-06-12T12:32:42.534Z"
   },
   {
    "duration": 3502,
    "start_time": "2024-06-12T12:33:10.376Z"
   },
   {
    "duration": 541,
    "start_time": "2024-06-12T18:52:30.076Z"
   },
   {
    "duration": 11,
    "start_time": "2024-06-12T18:52:30.619Z"
   },
   {
    "duration": 16,
    "start_time": "2024-06-12T18:52:30.632Z"
   },
   {
    "duration": 6379,
    "start_time": "2024-06-12T18:52:30.650Z"
   },
   {
    "duration": 4590,
    "start_time": "2024-06-12T18:52:37.032Z"
   },
   {
    "duration": 893,
    "start_time": "2024-06-12T21:36:22.744Z"
   },
   {
    "duration": 602,
    "start_time": "2024-06-12T21:54:29.692Z"
   },
   {
    "duration": 13,
    "start_time": "2024-06-12T21:54:30.296Z"
   },
   {
    "duration": 79,
    "start_time": "2024-06-12T21:54:30.311Z"
   },
   {
    "duration": 6483,
    "start_time": "2024-06-12T21:54:30.392Z"
   },
   {
    "duration": 5199,
    "start_time": "2024-06-12T21:54:36.877Z"
   },
   {
    "duration": 466,
    "start_time": "2024-06-13T14:24:19.281Z"
   },
   {
    "duration": 75,
    "start_time": "2024-06-13T14:24:20.674Z"
   },
   {
    "duration": 3,
    "start_time": "2024-06-13T14:24:22.506Z"
   },
   {
    "duration": 4878,
    "start_time": "2024-06-13T14:24:25.677Z"
   },
   {
    "duration": 3701,
    "start_time": "2024-06-13T14:24:30.556Z"
   },
   {
    "duration": 3,
    "start_time": "2024-06-13T14:26:24.135Z"
   },
   {
    "duration": 4647,
    "start_time": "2024-06-13T14:26:31.404Z"
   },
   {
    "duration": 2,
    "start_time": "2024-06-13T14:27:06.190Z"
   },
   {
    "duration": 4609,
    "start_time": "2024-06-13T14:27:08.539Z"
   },
   {
    "duration": 7,
    "start_time": "2024-06-13T14:29:14.654Z"
   },
   {
    "duration": 4,
    "start_time": "2024-06-13T14:29:29.344Z"
   },
   {
    "duration": 375,
    "start_time": "2024-06-13T14:29:52.070Z"
   },
   {
    "duration": 620,
    "start_time": "2024-06-13T14:30:25.764Z"
   },
   {
    "duration": 337,
    "start_time": "2024-06-13T14:31:06.090Z"
   },
   {
    "duration": 383,
    "start_time": "2024-06-13T14:31:17.921Z"
   },
   {
    "duration": 290,
    "start_time": "2024-06-13T14:31:22.177Z"
   },
   {
    "duration": 352,
    "start_time": "2024-06-13T14:31:27.103Z"
   },
   {
    "duration": 375,
    "start_time": "2024-06-13T14:32:19.969Z"
   },
   {
    "duration": 51,
    "start_time": "2024-06-13T14:33:42.605Z"
   },
   {
    "duration": 2,
    "start_time": "2024-06-13T14:36:27.166Z"
   },
   {
    "duration": 619,
    "start_time": "2024-06-13T14:36:27.909Z"
   },
   {
    "duration": 3,
    "start_time": "2024-06-13T14:36:54.557Z"
   },
   {
    "duration": 562,
    "start_time": "2024-06-13T14:36:55.057Z"
   },
   {
    "duration": 2,
    "start_time": "2024-06-13T14:36:59.588Z"
   },
   {
    "duration": 602,
    "start_time": "2024-06-13T14:37:00.561Z"
   },
   {
    "duration": 491,
    "start_time": "2024-06-13T14:37:09.112Z"
   },
   {
    "duration": 60,
    "start_time": "2024-06-13T14:37:09.605Z"
   },
   {
    "duration": 2,
    "start_time": "2024-06-13T14:37:09.666Z"
   },
   {
    "duration": 599,
    "start_time": "2024-06-13T14:37:09.670Z"
   },
   {
    "duration": 3,
    "start_time": "2024-06-13T14:37:10.270Z"
   },
   {
    "duration": 593,
    "start_time": "2024-06-13T14:37:10.274Z"
   },
   {
    "duration": 2,
    "start_time": "2024-06-13T14:37:10.868Z"
   },
   {
    "duration": 593,
    "start_time": "2024-06-13T14:37:10.871Z"
   },
   {
    "duration": 3,
    "start_time": "2024-06-13T14:37:11.465Z"
   },
   {
    "duration": 4602,
    "start_time": "2024-06-13T14:37:11.470Z"
   },
   {
    "duration": 6,
    "start_time": "2024-06-13T14:37:16.073Z"
   },
   {
    "duration": 13,
    "start_time": "2024-06-13T14:37:16.081Z"
   },
   {
    "duration": 399,
    "start_time": "2024-06-13T14:37:16.095Z"
   },
   {
    "duration": 3558,
    "start_time": "2024-06-13T14:37:16.495Z"
   },
   {
    "duration": 530,
    "start_time": "2024-06-13T18:20:51.842Z"
   },
   {
    "duration": 11,
    "start_time": "2024-06-13T18:20:52.374Z"
   },
   {
    "duration": 3,
    "start_time": "2024-06-13T18:20:52.395Z"
   },
   {
    "duration": 1131,
    "start_time": "2024-06-13T18:20:52.400Z"
   },
   {
    "duration": 4,
    "start_time": "2024-06-13T18:20:53.533Z"
   },
   {
    "duration": 1049,
    "start_time": "2024-06-13T18:20:53.538Z"
   },
   {
    "duration": 2,
    "start_time": "2024-06-13T18:20:54.588Z"
   },
   {
    "duration": 1187,
    "start_time": "2024-06-13T18:20:54.592Z"
   },
   {
    "duration": 3,
    "start_time": "2024-06-13T18:20:55.781Z"
   },
   {
    "duration": 6641,
    "start_time": "2024-06-13T18:20:55.786Z"
   },
   {
    "duration": 4857,
    "start_time": "2024-06-13T18:21:02.429Z"
   },
   {
    "duration": 557,
    "start_time": "2024-06-14T16:03:14.075Z"
   },
   {
    "duration": 11,
    "start_time": "2024-06-14T16:03:14.633Z"
   },
   {
    "duration": 3,
    "start_time": "2024-06-14T16:03:14.647Z"
   },
   {
    "duration": 1649,
    "start_time": "2024-06-14T16:03:14.651Z"
   },
   {
    "duration": 8,
    "start_time": "2024-06-14T16:03:16.302Z"
   },
   {
    "duration": 1018,
    "start_time": "2024-06-14T16:03:16.313Z"
   },
   {
    "duration": 3,
    "start_time": "2024-06-14T16:03:17.333Z"
   },
   {
    "duration": 1148,
    "start_time": "2024-06-14T16:03:17.337Z"
   },
   {
    "duration": 4,
    "start_time": "2024-06-14T16:03:18.488Z"
   },
   {
    "duration": 6481,
    "start_time": "2024-06-14T16:03:18.494Z"
   },
   {
    "duration": 4989,
    "start_time": "2024-06-14T16:03:24.977Z"
   },
   {
    "duration": 563,
    "start_time": "2024-06-15T12:08:22.148Z"
   },
   {
    "duration": 11,
    "start_time": "2024-06-15T12:08:22.713Z"
   },
   {
    "duration": 3,
    "start_time": "2024-06-15T12:08:22.727Z"
   },
   {
    "duration": 1007,
    "start_time": "2024-06-15T12:08:22.732Z"
   },
   {
    "duration": 2,
    "start_time": "2024-06-15T12:08:23.741Z"
   },
   {
    "duration": 992,
    "start_time": "2024-06-15T12:08:23.745Z"
   },
   {
    "duration": 2,
    "start_time": "2024-06-15T12:08:24.739Z"
   },
   {
    "duration": 3157,
    "start_time": "2024-06-15T12:08:24.743Z"
   },
   {
    "duration": 3,
    "start_time": "2024-06-15T12:08:27.902Z"
   },
   {
    "duration": 6505,
    "start_time": "2024-06-15T12:08:27.907Z"
   },
   {
    "duration": 4572,
    "start_time": "2024-06-15T12:08:34.414Z"
   }
  ],
  "kernelspec": {
   "display_name": "Python 3 (ipykernel)",
   "language": "python",
   "name": "python3"
  },
  "language_info": {
   "codemirror_mode": {
    "name": "ipython",
    "version": 3
   },
   "file_extension": ".py",
   "mimetype": "text/x-python",
   "name": "python",
   "nbconvert_exporter": "python",
   "pygments_lexer": "ipython3",
   "version": "3.11.7"
  },
  "toc": {
   "base_numbering": 1,
   "nav_menu": {},
   "number_sections": true,
   "sideBar": true,
   "skip_h1_title": true,
   "title_cell": "Table of Contents",
   "title_sidebar": "Contents",
   "toc_cell": false,
   "toc_position": {},
   "toc_section_display": true,
   "toc_window_display": false
  }
 },
 "nbformat": 4,
 "nbformat_minor": 5
}
